{
  "nbformat": 4,
  "nbformat_minor": 0,
  "metadata": {
    "colab": {
      "name": "clustering_02_tarea_02.ipynb",
      "provenance": [],
      "collapsed_sections": [],
      "toc_visible": true,
      "include_colab_link": true
    },
    "kernelspec": {
      "name": "python3",
      "display_name": "Python 3"
    }
  },
  "cells": [
    {
      "cell_type": "markdown",
      "metadata": {
        "id": "view-in-github",
        "colab_type": "text"
      },
      "source": [
        "<a href=\"https://colab.research.google.com/github/eskutza/AnalisisPredictivo/blob/main/colab/clustering_02_tarea_02.ipynb\" target=\"_parent\"><img src=\"https://colab.research.google.com/assets/colab-badge.svg\" alt=\"Open In Colab\"/></a>"
      ]
    },
    {
      "cell_type": "markdown",
      "metadata": {
        "id": "jFuwnHW6ZvAt"
      },
      "source": [
        "<center>\n",
        "\n",
        "![Captura de Pantalla 2021-08-16 a la(s) 23.25.35.png](data:image/png;base64,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)\n",
        "\n",
        "</center>"
      ]
    },
    {
      "cell_type": "markdown",
      "metadata": {
        "id": "mYu0GIvsZu4v"
      },
      "source": [
        "<h1><b>\n",
        "Dirección de Estudios de Posgrado y Educación Continua\n",
        "<h2><b>\n",
        "Analítica Predictiva y Machine Learning con R, Python y Databricks"
      ]
    },
    {
      "cell_type": "markdown",
      "metadata": {
        "id": "EGlHocOwZuvu"
      },
      "source": [
        "[UNI-DEPEC](https://posgrado.uni.edu.ni)"
      ]
    },
    {
      "cell_type": "markdown",
      "metadata": {
        "id": "TbkA-PdNmlBL"
      },
      "source": [
        "~~~Python\n",
        "Iranzuegi López, Luis Ángel\n",
        "~~~"
      ]
    },
    {
      "cell_type": "markdown",
      "metadata": {
        "id": "foQ5wPXaaGEs"
      },
      "source": [
        "# **Tarea Modelo no Supervisado**"
      ]
    },
    {
      "cell_type": "markdown",
      "metadata": {
        "id": "pUc9G7RcmJ4M"
      },
      "source": [
        "# **Clustering:** <font color=\"#f89938\"><h10>**scikit learn** <font> \n",
        "\n"
      ]
    },
    {
      "cell_type": "markdown",
      "metadata": {
        "id": "vk-ANIn_vtyQ"
      },
      "source": [
        "# **Carga de librerías necesarias**"
      ]
    },
    {
      "cell_type": "markdown",
      "metadata": {
        "id": "fMfH_LVzvqhx"
      },
      "source": [
        "## <font color=\"#333F49\"> **Para el análisis de datos y el conjunto de datos** <font>"
      ]
    },
    {
      "cell_type": "code",
      "metadata": {
        "id": "_0DdbKVRm5IX"
      },
      "source": [
        "import pandas as pd\n",
        "import numpy as np"
      ],
      "execution_count": null,
      "outputs": []
    },
    {
      "cell_type": "markdown",
      "metadata": {
        "id": "pt7u1qExwYPi"
      },
      "source": [
        "## <font color=\"#333F49\"> **Para el preprocesado y el modelo** <font>"
      ]
    },
    {
      "cell_type": "code",
      "metadata": {
        "id": "IM9D9XPxm6Kj"
      },
      "source": [
        "from sklearn.model_selection import train_test_split\n",
        "from sklearn.cluster import KMeans\n",
        "from sklearn.metrics import silhouette_score"
      ],
      "execution_count": null,
      "outputs": []
    },
    {
      "cell_type": "markdown",
      "metadata": {
        "id": "ceaZKf9K274g"
      },
      "source": [
        "## <font color=\"#333F49\"> **Para gráficos** <font>"
      ]
    },
    {
      "cell_type": "code",
      "metadata": {
        "id": "uyrRbdD82br3"
      },
      "source": [
        "import matplotlib.pyplot as plt\n",
        "import plotly.express as px\n",
        "from plotly.subplots import make_subplots\n",
        "import plotly.graph_objects as go\n",
        "import altair as alt\n",
        "import seaborn as sns"
      ],
      "execution_count": null,
      "outputs": []
    },
    {
      "cell_type": "markdown",
      "source": [
        "## <font color=\"#333F49\">**Para serializar: grabar y recuperar los modelos entrenados** <font>"
      ],
      "metadata": {
        "id": "GH5BOB7fvBTL"
      }
    },
    {
      "cell_type": "code",
      "source": [
        "import pickle \n",
        "import os\n",
        "from google.colab import files"
      ],
      "metadata": {
        "id": "87frADYZvFA8"
      },
      "execution_count": null,
      "outputs": []
    },
    {
      "cell_type": "markdown",
      "metadata": {
        "id": "QsMNFGai3HaH"
      },
      "source": [
        "## <font color=\"#333F49\">**Para las alertas** <font>"
      ]
    },
    {
      "cell_type": "code",
      "metadata": {
        "id": "adqBfSAz3Og-"
      },
      "source": [
        "import warnings\n",
        "warnings.filterwarnings('ignore')"
      ],
      "execution_count": null,
      "outputs": []
    },
    {
      "cell_type": "markdown",
      "metadata": {
        "id": "JDoNq8FR3aH1"
      },
      "source": [
        "# **Análisis Exploratorio de los Datos y Preprocesamiento de Datos**"
      ]
    },
    {
      "cell_type": "markdown",
      "metadata": {
        "id": "m5aDxWyB3q0u"
      },
      "source": [
        "## <font color=\"#333F49\">**Descripción del set de datos** <font>"
      ]
    },
    {
      "cell_type": "markdown",
      "metadata": {
        "id": "XVAx6aRf3w51"
      },
      "source": [
        "El set de datos hace referencia a distintos indicadores de negocio de una cadena de supermercados en una serie de ciudades.\n",
        "\n",
        "El set de datos, en una primera lectura, viene delimitado, definido por **dos ejes** que no podemos obviar. \n",
        "\n",
        "Por un lado, el **eje del tiempo**. En concreto, los datos,observaciones nos situán en los tres primeros meses de 2019.\n",
        "\n",
        "Y, por otro lado, el **eje cultural** de un país como es Myanmar o Birmania, es decir, nos referimos a los usos, costumbres, valores de esa sociedad y que deben ser tenidos en cuenta en este proceso explotario de los Datos y también en los siguientes pasos y consideraciones de negocio que se extraigan.\n",
        "\n",
        "[kaggle, ventas supermercados]( https://www.kaggle.com/aungpyaeap/supermarket-sales)"
      ]
    },
    {
      "cell_type": "markdown",
      "metadata": {
        "id": "FA9NAiDZCdsM"
      },
      "source": [
        "**Objetivo:** \n",
        "\n",
        "Definir un modelo que permita detectar patrones, grupos en función de las observaciones recogidas. De este modo, contar con una segmentación de los y las clientas de nuestra cadena de supermercados que pueda ayudarnos en la implementación de campañas u otras acciones que se estimen de interés para la actividad diaria.\n",
        "\n",
        "**En este análisis nos vamos a centrar en variables que impliquen explícitamente (Calificiacion) o implícitamente (Total ticket) fidelización con nuestra marca de supermercados, más allá de disponer o no de tarjeta de fidelización**"
      ]
    },
    {
      "cell_type": "markdown",
      "metadata": {
        "id": "m38_LPTAYLqv"
      },
      "source": [
        "El dataframe original contiene 17 variables y 1000 observaciones.\n",
        "\n",
        "Tras realizar un Ánalisis Exploratorio de los Datos (EDA) del mismo, e implementar un modelo para predecir clúster con PyCaret (kmodes, variables categóricas centradas en aspectos de hábitos de consumo y sociodemográficas), resulta un dataframe con 21 variables y 1000 observaciones.\n",
        "\n",
        "\n",
        "[Análisis Explotarorio de los datos](https://github.com/eskutza/AnalisisPredictivo/blob/main/colab/eda_tarea_02.ipynb)\n",
        "\n",
        "Las variables se definen como:\n",
        "\n",
        "- **Identificación de la factura:** Número de identificación de la factura del comprobante de venta generado por computadora\n",
        "- **Ciudad:** Ubicación de los supermercados\n",
        "- **Tipo_cliente:** Tipo de clientes, clientas registradas como: miembros para clientes, clientas que usan tarjeta de miembro ;y, normal para clientes, clientas sin tarjeta de miembro\n",
        "- **Género:** Género tipo de cliente, clienta\n",
        "- **Línea_producto:** Categorías de productos generales: accesorios electrónicos, accesorios de moda, alimentos y bebidas, salud y belleza, hogar y estilo de vida, deportes y viajes\n",
        "- **Precio_unitario:** Precio de cada producto en $\n",
        "- **Cantidad:** Número de productos comprados por cliente, clienta\n",
        "- **Impuesto:** Tasa de impuesto del 5% por compra del cliente, clienta\n",
        "- **Total:** Precio total abonado por los y las clientas con impuestos incluidos\n",
        "- **Forma_pago:** Pago utilizado por el cliente para la compra (hay 3 métodos disponibles: efectivo, tarjeta de crédito y billetera electrónica)\n",
        "- **Coste:** Costo de los bienes vendidos\n",
        "- **Calificación:** Calificación de estratificación del cliente en su experiencia de compra general (en una escala del 1 al 10) \n",
        "- **Fecha2:** Fecha de compra (Registro disponible desde enero de 2019 hasta marzo de 2019)\n",
        "- **Dia:** Día de compra \n",
        "- **Jornada:** Se categorizan los días como laborales y  festivos, atendiendo a la jornada laboral de Myanmar, dia de la semana y las fiestas nacionales en estos tres primeros meses del año\n",
        "- **Horario:** Se categorizan los actos de compra según el horario donde se han realziado. De mañana (hasta las 13:59), tarde (de 14:00 a las 17:59, tomando como referencia que el horario comercial marca el cierre a las 18:00) y noche (de 18:00 a 21:00). \n",
        "- **Calificacion2:** Se categorizan los y las clientas según sea su vinculación, satisfacción con los supermercados objeto de estudio. Detractores cuando valoran su experiencia de compra conuna puntuación inferior a 6.5; Neutros cuando la valoración de dicha experiencia se mueve en un rango de 6.5 a 8.5; y, Promotores cuando su valoración de la experiencia de compra ha sido muy satisfactoria\n",
        "- **ISG:** el **Indicador de Satisfacción General** nos transforma la categorización de la experiencia de compra en un indicador, una puntuación de los supermercados. Así, otorgaremos un valor de -100 a quienes hayamos calificado como Detractores; un valor de 0 a quines manifiesten una Calificación Neutra; y, una puntuación de 100 a quienes se hallen muy satisfechos con nuestros supermercados. **El rango de este indicador se moverá de -100 (cuando todas las valoraciones sean inferiores a 6.5) a 100 (cuando todas las valoraciones sean superiores a 8.5)**\n",
        "- **Anomaly:** Si la observación es categorizada o no como outlier (según modelo iforest, 0.05, implementado con PyCaret)\n",
        "- **Anomaly_Score:** Score que devuelve el modelo implementado al categorizar cada observación como outlier o no (modelo iforest, 0.05, implementado con PyCaret)\n",
        "- **Cluster:** Si la observación es categorizada como Cluster 0, Cluster 1, Cluster 2 (según modelo kmodes, n_clusters=3, implementado con PyCaret)\n",
        "\n",
        "[Clustering PyCaret](https://github.com/eskutza/AnalisisPredictivo/blob/main/colab/clustering_01_tarea_02.ipynb)"
      ]
    },
    {
      "cell_type": "code",
      "metadata": {
        "id": "Y4aWaDf7V46G"
      },
      "source": [
        "url = 'https://raw.githubusercontent.com/eskutza/AnalisisPredictivo/main/Datasets/cluster_01.csv'"
      ],
      "execution_count": null,
      "outputs": []
    },
    {
      "cell_type": "code",
      "metadata": {
        "colab": {
          "base_uri": "https://localhost:8080/",
          "height": 617
        },
        "id": "AxFPd6_iV_dH",
        "outputId": "6848c126-0176-4472-acb3-15bf3f42b5d3"
      },
      "source": [
        "dfo = pd.read_csv(url)\n",
        "dfo.drop(columns='Unnamed: 0', inplace=True)\n",
        "dfo"
      ],
      "execution_count": null,
      "outputs": [
        {
          "output_type": "execute_result",
          "data": {
            "text/html": [
              "<div>\n",
              "<style scoped>\n",
              "    .dataframe tbody tr th:only-of-type {\n",
              "        vertical-align: middle;\n",
              "    }\n",
              "\n",
              "    .dataframe tbody tr th {\n",
              "        vertical-align: top;\n",
              "    }\n",
              "\n",
              "    .dataframe thead th {\n",
              "        text-align: right;\n",
              "    }\n",
              "</style>\n",
              "<table border=\"1\" class=\"dataframe\">\n",
              "  <thead>\n",
              "    <tr style=\"text-align: right;\">\n",
              "      <th></th>\n",
              "      <th>Factura</th>\n",
              "      <th>Ciudad</th>\n",
              "      <th>Tipo_cliente</th>\n",
              "      <th>Genero</th>\n",
              "      <th>Linea_producto</th>\n",
              "      <th>Precio_unidad</th>\n",
              "      <th>Cantidad</th>\n",
              "      <th>Impuesto</th>\n",
              "      <th>Total</th>\n",
              "      <th>Forma_pago</th>\n",
              "      <th>Coste</th>\n",
              "      <th>Calificacion</th>\n",
              "      <th>Fecha2</th>\n",
              "      <th>Dia</th>\n",
              "      <th>Jornada</th>\n",
              "      <th>Horario</th>\n",
              "      <th>Calificacion2</th>\n",
              "      <th>ISG</th>\n",
              "      <th>Anomaly</th>\n",
              "      <th>Anomaly_Score</th>\n",
              "      <th>Cluster</th>\n",
              "    </tr>\n",
              "  </thead>\n",
              "  <tbody>\n",
              "    <tr>\n",
              "      <th>0</th>\n",
              "      <td>802-70-5316</td>\n",
              "      <td>Yangon</td>\n",
              "      <td>Miembro</td>\n",
              "      <td>Mujer</td>\n",
              "      <td>Sports and travel</td>\n",
              "      <td>92.13</td>\n",
              "      <td>6</td>\n",
              "      <td>27.639</td>\n",
              "      <td>580.419</td>\n",
              "      <td>Cash</td>\n",
              "      <td>552.78</td>\n",
              "      <td>8.3</td>\n",
              "      <td>2019-03-06</td>\n",
              "      <td>Wednesday</td>\n",
              "      <td>Laboral</td>\n",
              "      <td>Noche</td>\n",
              "      <td>Neutros</td>\n",
              "      <td>0</td>\n",
              "      <td>0</td>\n",
              "      <td>-0.009627</td>\n",
              "      <td>Cluster 2</td>\n",
              "    </tr>\n",
              "    <tr>\n",
              "      <th>1</th>\n",
              "      <td>875-46-5808</td>\n",
              "      <td>Mandalay</td>\n",
              "      <td>Miembro</td>\n",
              "      <td>Hombre</td>\n",
              "      <td>Health and beauty</td>\n",
              "      <td>25.90</td>\n",
              "      <td>10</td>\n",
              "      <td>12.950</td>\n",
              "      <td>271.950</td>\n",
              "      <td>Ewallet</td>\n",
              "      <td>259.00</td>\n",
              "      <td>8.7</td>\n",
              "      <td>2019-02-06</td>\n",
              "      <td>Wednesday</td>\n",
              "      <td>Laboral</td>\n",
              "      <td>Tarde</td>\n",
              "      <td>Promotores</td>\n",
              "      <td>100</td>\n",
              "      <td>0</td>\n",
              "      <td>-0.012638</td>\n",
              "      <td>Cluster 1</td>\n",
              "    </tr>\n",
              "    <tr>\n",
              "      <th>2</th>\n",
              "      <td>326-78-5178</td>\n",
              "      <td>Naypyitaw</td>\n",
              "      <td>Miembro</td>\n",
              "      <td>Hombre</td>\n",
              "      <td>Food and beverages</td>\n",
              "      <td>91.40</td>\n",
              "      <td>7</td>\n",
              "      <td>31.990</td>\n",
              "      <td>671.790</td>\n",
              "      <td>Cash</td>\n",
              "      <td>639.80</td>\n",
              "      <td>9.5</td>\n",
              "      <td>2019-02-03</td>\n",
              "      <td>Sunday</td>\n",
              "      <td>Festivo</td>\n",
              "      <td>Mañana</td>\n",
              "      <td>Promotores</td>\n",
              "      <td>100</td>\n",
              "      <td>0</td>\n",
              "      <td>-0.015569</td>\n",
              "      <td>Cluster 0</td>\n",
              "    </tr>\n",
              "    <tr>\n",
              "      <th>3</th>\n",
              "      <td>127-47-6963</td>\n",
              "      <td>Yangon</td>\n",
              "      <td>Normal</td>\n",
              "      <td>Hombre</td>\n",
              "      <td>Health and beauty</td>\n",
              "      <td>51.71</td>\n",
              "      <td>4</td>\n",
              "      <td>10.342</td>\n",
              "      <td>217.182</td>\n",
              "      <td>Credit card</td>\n",
              "      <td>206.84</td>\n",
              "      <td>9.8</td>\n",
              "      <td>2019-03-09</td>\n",
              "      <td>Saturday</td>\n",
              "      <td>Laboral</td>\n",
              "      <td>Mañana</td>\n",
              "      <td>Promotores</td>\n",
              "      <td>100</td>\n",
              "      <td>0</td>\n",
              "      <td>-0.022262</td>\n",
              "      <td>Cluster 0</td>\n",
              "    </tr>\n",
              "    <tr>\n",
              "      <th>4</th>\n",
              "      <td>241-72-9525</td>\n",
              "      <td>Mandalay</td>\n",
              "      <td>Normal</td>\n",
              "      <td>Hombre</td>\n",
              "      <td>Sports and travel</td>\n",
              "      <td>51.91</td>\n",
              "      <td>10</td>\n",
              "      <td>25.955</td>\n",
              "      <td>545.055</td>\n",
              "      <td>Cash</td>\n",
              "      <td>519.10</td>\n",
              "      <td>8.2</td>\n",
              "      <td>2019-02-16</td>\n",
              "      <td>Saturday</td>\n",
              "      <td>Laboral</td>\n",
              "      <td>Mañana</td>\n",
              "      <td>Neutros</td>\n",
              "      <td>0</td>\n",
              "      <td>0</td>\n",
              "      <td>-0.008961</td>\n",
              "      <td>Cluster 0</td>\n",
              "    </tr>\n",
              "    <tr>\n",
              "      <th>...</th>\n",
              "      <td>...</td>\n",
              "      <td>...</td>\n",
              "      <td>...</td>\n",
              "      <td>...</td>\n",
              "      <td>...</td>\n",
              "      <td>...</td>\n",
              "      <td>...</td>\n",
              "      <td>...</td>\n",
              "      <td>...</td>\n",
              "      <td>...</td>\n",
              "      <td>...</td>\n",
              "      <td>...</td>\n",
              "      <td>...</td>\n",
              "      <td>...</td>\n",
              "      <td>...</td>\n",
              "      <td>...</td>\n",
              "      <td>...</td>\n",
              "      <td>...</td>\n",
              "      <td>...</td>\n",
              "      <td>...</td>\n",
              "      <td>...</td>\n",
              "    </tr>\n",
              "    <tr>\n",
              "      <th>995</th>\n",
              "      <td>430-02-3888</td>\n",
              "      <td>Mandalay</td>\n",
              "      <td>Normal</td>\n",
              "      <td>Hombre</td>\n",
              "      <td>Electronic accessories</td>\n",
              "      <td>46.02</td>\n",
              "      <td>6</td>\n",
              "      <td>13.806</td>\n",
              "      <td>289.926</td>\n",
              "      <td>Cash</td>\n",
              "      <td>276.12</td>\n",
              "      <td>7.1</td>\n",
              "      <td>2019-02-07</td>\n",
              "      <td>Thursday</td>\n",
              "      <td>Laboral</td>\n",
              "      <td>Tarde</td>\n",
              "      <td>Neutros</td>\n",
              "      <td>0</td>\n",
              "      <td>0</td>\n",
              "      <td>-0.037143</td>\n",
              "      <td>Cluster 1</td>\n",
              "    </tr>\n",
              "    <tr>\n",
              "      <th>996</th>\n",
              "      <td>267-62-7380</td>\n",
              "      <td>Naypyitaw</td>\n",
              "      <td>Miembro</td>\n",
              "      <td>Hombre</td>\n",
              "      <td>Electronic accessories</td>\n",
              "      <td>82.34</td>\n",
              "      <td>10</td>\n",
              "      <td>41.170</td>\n",
              "      <td>864.570</td>\n",
              "      <td>Ewallet</td>\n",
              "      <td>823.40</td>\n",
              "      <td>4.3</td>\n",
              "      <td>2019-03-29</td>\n",
              "      <td>Friday</td>\n",
              "      <td>Laboral</td>\n",
              "      <td>Noche</td>\n",
              "      <td>Detractores</td>\n",
              "      <td>-100</td>\n",
              "      <td>0</td>\n",
              "      <td>-0.003680</td>\n",
              "      <td>Cluster 2</td>\n",
              "    </tr>\n",
              "    <tr>\n",
              "      <th>997</th>\n",
              "      <td>886-18-2897</td>\n",
              "      <td>Yangon</td>\n",
              "      <td>Normal</td>\n",
              "      <td>Mujer</td>\n",
              "      <td>Food and beverages</td>\n",
              "      <td>56.56</td>\n",
              "      <td>5</td>\n",
              "      <td>14.140</td>\n",
              "      <td>296.940</td>\n",
              "      <td>Credit card</td>\n",
              "      <td>282.80</td>\n",
              "      <td>4.5</td>\n",
              "      <td>2019-03-22</td>\n",
              "      <td>Friday</td>\n",
              "      <td>Laboral</td>\n",
              "      <td>Noche</td>\n",
              "      <td>Detractores</td>\n",
              "      <td>-100</td>\n",
              "      <td>0</td>\n",
              "      <td>-0.034201</td>\n",
              "      <td>Cluster 2</td>\n",
              "    </tr>\n",
              "    <tr>\n",
              "      <th>998</th>\n",
              "      <td>303-96-2227</td>\n",
              "      <td>Mandalay</td>\n",
              "      <td>Normal</td>\n",
              "      <td>Mujer</td>\n",
              "      <td>Home and lifestyle</td>\n",
              "      <td>97.38</td>\n",
              "      <td>10</td>\n",
              "      <td>48.690</td>\n",
              "      <td>1022.490</td>\n",
              "      <td>Ewallet</td>\n",
              "      <td>973.80</td>\n",
              "      <td>4.4</td>\n",
              "      <td>2019-03-02</td>\n",
              "      <td>Saturday</td>\n",
              "      <td>Festivo</td>\n",
              "      <td>Tarde</td>\n",
              "      <td>Detractores</td>\n",
              "      <td>-100</td>\n",
              "      <td>1</td>\n",
              "      <td>0.014024</td>\n",
              "      <td>Cluster 1</td>\n",
              "    </tr>\n",
              "    <tr>\n",
              "      <th>999</th>\n",
              "      <td>347-56-2442</td>\n",
              "      <td>Yangon</td>\n",
              "      <td>Normal</td>\n",
              "      <td>Hombre</td>\n",
              "      <td>Home and lifestyle</td>\n",
              "      <td>65.82</td>\n",
              "      <td>1</td>\n",
              "      <td>3.291</td>\n",
              "      <td>69.111</td>\n",
              "      <td>Cash</td>\n",
              "      <td>65.82</td>\n",
              "      <td>4.1</td>\n",
              "      <td>2019-02-22</td>\n",
              "      <td>Friday</td>\n",
              "      <td>Laboral</td>\n",
              "      <td>Tarde</td>\n",
              "      <td>Detractores</td>\n",
              "      <td>-100</td>\n",
              "      <td>0</td>\n",
              "      <td>-0.006976</td>\n",
              "      <td>Cluster 1</td>\n",
              "    </tr>\n",
              "  </tbody>\n",
              "</table>\n",
              "<p>1000 rows × 21 columns</p>\n",
              "</div>"
            ],
            "text/plain": [
              "         Factura     Ciudad Tipo_cliente  ... Anomaly Anomaly_Score    Cluster\n",
              "0    802-70-5316     Yangon      Miembro  ...       0     -0.009627  Cluster 2\n",
              "1    875-46-5808   Mandalay      Miembro  ...       0     -0.012638  Cluster 1\n",
              "2    326-78-5178  Naypyitaw      Miembro  ...       0     -0.015569  Cluster 0\n",
              "3    127-47-6963     Yangon       Normal  ...       0     -0.022262  Cluster 0\n",
              "4    241-72-9525   Mandalay       Normal  ...       0     -0.008961  Cluster 0\n",
              "..           ...        ...          ...  ...     ...           ...        ...\n",
              "995  430-02-3888   Mandalay       Normal  ...       0     -0.037143  Cluster 1\n",
              "996  267-62-7380  Naypyitaw      Miembro  ...       0     -0.003680  Cluster 2\n",
              "997  886-18-2897     Yangon       Normal  ...       0     -0.034201  Cluster 2\n",
              "998  303-96-2227   Mandalay       Normal  ...       1      0.014024  Cluster 1\n",
              "999  347-56-2442     Yangon       Normal  ...       0     -0.006976  Cluster 1\n",
              "\n",
              "[1000 rows x 21 columns]"
            ]
          },
          "metadata": {},
          "execution_count": 7
        }
      ]
    },
    {
      "cell_type": "code",
      "metadata": {
        "colab": {
          "base_uri": "https://localhost:8080/"
        },
        "id": "fkxUZCaNexr8",
        "outputId": "9379daeb-6223-4dcd-c3dd-44f6d21c4781"
      },
      "source": [
        "dfo.index"
      ],
      "execution_count": null,
      "outputs": [
        {
          "output_type": "execute_result",
          "data": {
            "text/plain": [
              "RangeIndex(start=0, stop=1000, step=1)"
            ]
          },
          "metadata": {},
          "execution_count": 8
        }
      ]
    },
    {
      "cell_type": "code",
      "metadata": {
        "colab": {
          "base_uri": "https://localhost:8080/"
        },
        "id": "VBjyOlUIexog",
        "outputId": "897c5564-4497-4f89-82ea-5e9bbb38b300"
      },
      "source": [
        "dfo.shape"
      ],
      "execution_count": null,
      "outputs": [
        {
          "output_type": "execute_result",
          "data": {
            "text/plain": [
              "(1000, 21)"
            ]
          },
          "metadata": {},
          "execution_count": 9
        }
      ]
    },
    {
      "cell_type": "code",
      "metadata": {
        "colab": {
          "base_uri": "https://localhost:8080/"
        },
        "id": "ooIqQZnUexku",
        "outputId": "53c56671-65ff-4926-a7e6-75bbee6f7884"
      },
      "source": [
        "dfo.size"
      ],
      "execution_count": null,
      "outputs": [
        {
          "output_type": "execute_result",
          "data": {
            "text/plain": [
              "21000"
            ]
          },
          "metadata": {},
          "execution_count": 10
        }
      ]
    },
    {
      "cell_type": "markdown",
      "source": [
        "## <font color=\"#333F49\"> **Selección de las variables** <font>"
      ],
      "metadata": {
        "id": "VCpGwd2VvISC"
      }
    },
    {
      "cell_type": "code",
      "source": [
        "df = pd.read_csv(url, usecols=['Factura', 'Total', 'Calificacion'])"
      ],
      "metadata": {
        "id": "RJa5fq6EJkN1"
      },
      "execution_count": null,
      "outputs": []
    },
    {
      "cell_type": "code",
      "source": [
        "df.head()"
      ],
      "metadata": {
        "colab": {
          "base_uri": "https://localhost:8080/",
          "height": 206
        },
        "id": "VArpaAthKP3e",
        "outputId": "9f41666a-4e71-4822-d319-fcff2d59ea9d"
      },
      "execution_count": null,
      "outputs": [
        {
          "output_type": "execute_result",
          "data": {
            "text/html": [
              "<div>\n",
              "<style scoped>\n",
              "    .dataframe tbody tr th:only-of-type {\n",
              "        vertical-align: middle;\n",
              "    }\n",
              "\n",
              "    .dataframe tbody tr th {\n",
              "        vertical-align: top;\n",
              "    }\n",
              "\n",
              "    .dataframe thead th {\n",
              "        text-align: right;\n",
              "    }\n",
              "</style>\n",
              "<table border=\"1\" class=\"dataframe\">\n",
              "  <thead>\n",
              "    <tr style=\"text-align: right;\">\n",
              "      <th></th>\n",
              "      <th>Factura</th>\n",
              "      <th>Total</th>\n",
              "      <th>Calificacion</th>\n",
              "    </tr>\n",
              "  </thead>\n",
              "  <tbody>\n",
              "    <tr>\n",
              "      <th>0</th>\n",
              "      <td>802-70-5316</td>\n",
              "      <td>580.419</td>\n",
              "      <td>8.3</td>\n",
              "    </tr>\n",
              "    <tr>\n",
              "      <th>1</th>\n",
              "      <td>875-46-5808</td>\n",
              "      <td>271.950</td>\n",
              "      <td>8.7</td>\n",
              "    </tr>\n",
              "    <tr>\n",
              "      <th>2</th>\n",
              "      <td>326-78-5178</td>\n",
              "      <td>671.790</td>\n",
              "      <td>9.5</td>\n",
              "    </tr>\n",
              "    <tr>\n",
              "      <th>3</th>\n",
              "      <td>127-47-6963</td>\n",
              "      <td>217.182</td>\n",
              "      <td>9.8</td>\n",
              "    </tr>\n",
              "    <tr>\n",
              "      <th>4</th>\n",
              "      <td>241-72-9525</td>\n",
              "      <td>545.055</td>\n",
              "      <td>8.2</td>\n",
              "    </tr>\n",
              "  </tbody>\n",
              "</table>\n",
              "</div>"
            ],
            "text/plain": [
              "       Factura    Total  Calificacion\n",
              "0  802-70-5316  580.419           8.3\n",
              "1  875-46-5808  271.950           8.7\n",
              "2  326-78-5178  671.790           9.5\n",
              "3  127-47-6963  217.182           9.8\n",
              "4  241-72-9525  545.055           8.2"
            ]
          },
          "metadata": {},
          "execution_count": 12
        }
      ]
    },
    {
      "cell_type": "code",
      "source": [
        "fig = px.scatter(df,'Calificacion',\n",
        "                 'Total',\n",
        "                 template = \"gridon\")\n",
        "fig.show()"
      ],
      "metadata": {
        "colab": {
          "base_uri": "https://localhost:8080/",
          "height": 542
        },
        "id": "LU6hwcfwRfDC",
        "outputId": "1253b482-b81d-46ee-9bbc-ce5e843ed81f"
      },
      "execution_count": null,
      "outputs": [
        {
          "output_type": "display_data",
          "data": {
            "text/html": [
              "<html>\n",
              "<head><meta charset=\"utf-8\" /></head>\n",
              "<body>\n",
              "    <div>\n",
              "            <script src=\"https://cdnjs.cloudflare.com/ajax/libs/mathjax/2.7.5/MathJax.js?config=TeX-AMS-MML_SVG\"></script><script type=\"text/javascript\">if (window.MathJax) {MathJax.Hub.Config({SVG: {font: \"STIX-Web\"}});}</script>\n",
              "                <script type=\"text/javascript\">window.PlotlyConfig = {MathJaxConfig: 'local'};</script>\n",
              "        <script src=\"https://cdn.plot.ly/plotly-latest.min.js\"></script>    \n",
              "            <div id=\"9bddc90c-05cd-4481-baac-96f854684a4a\" class=\"plotly-graph-div\" style=\"height:525px; width:100%;\"></div>\n",
              "            <script type=\"text/javascript\">\n",
              "                \n",
              "                    window.PLOTLYENV=window.PLOTLYENV || {};\n",
              "                    \n",
              "                if (document.getElementById(\"9bddc90c-05cd-4481-baac-96f854684a4a\")) {\n",
              "                    Plotly.newPlot(\n",
              "                        '9bddc90c-05cd-4481-baac-96f854684a4a',\n",
              "                        [{\"hoverlabel\": {\"namelength\": 0}, \"hovertemplate\": \"Calificacion=%{x}<br>Total=%{y}\", \"legendgroup\": \"\", \"marker\": {\"color\": \"#1F77B4\", \"symbol\": \"circle\"}, \"mode\": \"markers\", \"name\": \"\", \"showlegend\": false, \"type\": \"scatter\", \"x\": [8.3, 8.7, 9.5, 9.8, 8.2, 7.0, 4.0, 8.7, 6.5, 6.7, 5.0, 5.4, 6.5, 9.4, 6.1, 8.6, 4.2, 5.5, 7.9, 9.2, 5.2, 7.7, 7.4, 5.0, 5.3, 6.1, 8.1, 4.0, 9.9, 8.0, 7.9, 7.6, 9.4, 4.9, 5.9, 9.5, 4.8, 9.5, 7.3, 4.3, 8.0, 7.5, 4.7, 5.5, 9.5, 5.2, 9.5, 5.1, 8.1, 8.5, 6.0, 5.0, 5.5, 6.8, 10.0, 4.9, 6.3, 8.7, 5.3, 7.2, 8.0, 5.0, 6.3, 7.6, 8.0, 5.0, 4.1, 9.0, 5.8, 9.4, 7.6, 5.9, 6.1, 5.6, 4.2, 6.0, 6.7, 9.8, 6.7, 6.4, 7.7, 6.9, 8.6, 6.5, 6.0, 9.5, 8.0, 8.5, 8.9, 4.1, 6.4, 4.3, 5.1, 6.3, 5.3, 4.2, 5.0, 5.9, 4.2, 5.6, 6.3, 7.6, 7.8, 4.3, 4.9, 7.6, 4.8, 6.6, 5.9, 8.1, 5.2, 6.9, 7.3, 8.9, 5.0, 8.7, 8.6, 7.0, 9.9, 7.1, 8.1, 9.3, 6.8, 9.3, 9.3, 4.9, 9.2, 6.5, 6.8, 5.3, 7.6, 5.5, 8.5, 4.2, 5.4, 9.6, 7.4, 4.1, 9.3, 5.5, 4.5, 6.3, 5.6, 6.6, 5.9, 5.6, 6.9, 8.2, 7.2, 9.6, 6.6, 9.9, 4.1, 6.1, 7.0, 9.8, 4.7, 6.5, 5.2, 8.8, 5.4, 5.3, 4.7, 6.2, 4.5, 6.6, 5.0, 7.0, 7.0, 5.0, 9.0, 5.9, 5.8, 5.2, 5.6, 9.9, 9.0, 4.1, 7.5, 4.0, 4.5, 5.8, 4.8, 9.5, 8.9, 6.0, 9.5, 8.0, 9.1, 5.0, 9.5, 6.6, 7.7, 8.6, 6.2, 6.0, 4.8, 7.9, 5.9, 4.2, 9.3, 6.4, 7.7, 6.8, 9.6, 5.6, 8.2, 5.5, 7.0, 7.1, 5.4, 5.8, 9.0, 5.4, 9.4, 9.3, 7.1, 4.1, 8.8, 8.8, 9.5, 7.5, 6.3, 9.1, 6.0, 6.2, 5.7, 7.4, 9.3, 9.6, 8.2, 5.3, 4.3, 6.2, 9.4, 4.9, 6.2, 9.8, 4.9, 9.3, 5.1, 5.4, 9.3, 7.3, 4.2, 5.1, 6.8, 7.2, 7.3, 9.7, 8.9, 6.6, 7.6, 6.1, 9.9, 7.2, 9.8, 7.8, 4.5, 6.0, 5.1, 5.1, 5.1, 9.7, 6.4, 7.0, 9.3, 6.9, 7.8, 7.2, 7.4, 5.9, 9.4, 9.8, 5.1, 4.6, 6.1, 5.9, 6.2, 9.5, 5.5, 5.5, 7.8, 6.0, 9.8, 7.0, 8.6, 6.0, 6.1, 8.1, 5.8, 9.5, 5.3, 7.4, 5.6, 9.5, 9.2, 7.6, 9.2, 4.4, 8.9, 4.2, 4.4, 9.8, 6.7, 7.1, 6.5, 9.6, 4.8, 9.2, 7.4, 4.2, 5.4, 8.0, 4.8, 8.4, 7.4, 5.9, 8.9, 8.7, 4.0, 8.4, 6.6, 7.6, 6.3, 7.8, 6.1, 9.6, 4.1, 6.3, 9.6, 7.7, 9.7, 4.6, 6.3, 9.8, 6.5, 8.3, 6.5, 7.2, 5.5, 6.7, 4.4, 8.7, 8.1, 5.1, 8.0, 7.9, 9.1, 5.5, 4.1, 5.0, 6.7, 9.7, 6.4, 7.3, 8.2, 7.6, 4.8, 9.0, 6.4, 8.5, 9.1, 8.7, 8.0, 7.5, 8.8, 7.8, 5.6, 6.5, 10.0, 9.5, 5.7, 8.6, 6.2, 7.7, 5.1, 6.0, 4.2, 8.5, 9.6, 9.0, 5.1, 4.4, 8.3, 7.0, 5.2, 6.6, 5.9, 7.2, 8.4, 5.5, 6.0, 8.7, 8.0, 5.8, 6.2, 9.2, 4.4, 7.7, 7.3, 8.8, 8.9, 4.2, 8.2, 9.3, 7.4, 4.2, 7.0, 4.9, 6.7, 7.3, 9.1, 7.2, 6.6, 6.0, 7.3, 6.0, 9.0, 9.1, 7.5, 9.3, 7.9, 4.2, 7.2, 5.3, 6.5, 4.4, 8.1, 6.2, 8.4, 4.9, 6.6, 6.9, 6.6, 5.7, 4.5, 6.3, 5.7, 5.5, 6.2, 5.5, 5.3, 7.9, 4.2, 7.7, 9.1, 6.1, 9.6, 7.4, 4.9, 4.7, 4.8, 9.5, 6.7, 9.3, 7.8, 6.0, 5.0, 7.3, 9.5, 7.1, 6.7, 8.0, 4.4, 8.6, 6.6, 8.6, 5.4, 5.1, 8.9, 9.2, 4.4, 6.0, 4.5, 4.9, 5.6, 9.4, 4.4, 8.0, 8.7, 6.1, 4.0, 9.4, 6.9, 6.4, 8.6, 4.2, 9.7, 8.3, 6.9, 4.5, 7.2, 9.9, 5.3, 6.4, 5.5, 7.2, 8.4, 9.5, 7.6, 4.0, 8.6, 9.9, 7.1, 4.8, 6.6, 9.1, 4.0, 8.8, 4.9, 4.7, 9.0, 7.1, 7.6, 7.1, 7.0, 5.1, 9.6, 7.3, 7.6, 6.0, 4.4, 5.5, 7.9, 8.7, 8.2, 9.0, 6.5, 7.9, 7.9, 4.2, 6.0, 7.5, 4.9, 4.6, 7.3, 5.9, 6.5, 4.7, 6.6, 9.8, 5.4, 7.7, 5.1, 7.8, 7.9, 6.0, 4.4, 9.9, 6.6, 6.0, 5.5, 8.7, 6.7, 6.2, 4.3, 7.9, 8.4, 6.4, 5.8, 6.7, 7.7, 4.5, 9.5, 8.9, 4.0, 4.8, 6.6, 8.0, 6.4, 6.2, 9.7, 8.3, 6.0, 8.8, 7.8, 6.1, 4.9, 4.6, 6.8, 7.7, 5.9, 6.6, 8.9, 6.8, 7.7, 8.2, 8.5, 8.8, 5.9, 8.6, 9.7, 9.6, 6.2, 8.4, 4.9, 4.3, 7.6, 7.9, 6.7, 9.2, 5.2, 4.1, 4.3, 5.6, 8.2, 4.7, 8.5, 8.5, 9.0, 6.3, 5.2, 7.9, 8.0, 8.0, 8.5, 10.0, 5.0, 5.1, 5.8, 4.0, 5.8, 5.8, 9.6, 4.1, 7.3, 5.9, 9.9, 7.0, 9.0, 9.5, 10.0, 4.7, 9.2, 9.1, 8.9, 5.6, 4.0, 8.9, 6.8, 6.5, 5.6, 9.4, 8.6, 6.9, 7.1, 5.2, 4.3, 6.5, 6.9, 8.0, 6.6, 4.8, 6.6, 8.0, 5.9, 4.4, 9.2, 6.6, 8.5, 4.4, 6.4, 9.1, 8.8, 9.6, 8.8, 4.4, 7.4, 8.5, 9.1, 6.7, 9.5, 6.6, 8.3, 5.5, 6.8, 6.1, 6.6, 9.8, 9.6, 4.3, 7.6, 5.0, 4.1, 7.2, 7.7, 6.9, 9.2, 6.7, 9.8, 4.9, 9.8, 8.7, 9.8, 7.1, 7.5, 9.1, 8.4, 9.0, 7.4, 4.3, 9.8, 8.2, 7.4, 6.0, 6.8, 8.1, 4.2, 4.2, 5.2, 7.0, 4.5, 7.2, 4.5, 8.0, 5.5, 6.7, 9.4, 5.6, 6.5, 9.8, 8.7, 6.1, 9.4, 9.7, 4.7, 4.3, 8.6, 5.0, 8.1, 7.8, 5.7, 8.8, 5.2, 4.2, 7.5, 6.8, 6.8, 9.2, 8.8, 7.1, 4.2, 7.3, 4.8, 8.5, 4.5, 7.4, 9.1, 8.4, 7.8, 6.2, 6.0, 4.3, 9.3, 9.9, 7.1, 8.3, 4.3, 8.4, 6.4, 7.2, 4.4, 6.4, 9.0, 8.9, 7.2, 6.7, 6.7, 7.7, 4.9, 4.3, 7.9, 4.1, 7.0, 6.5, 5.0, 9.7, 7.9, 5.1, 5.1, 9.9, 4.8, 8.6, 8.4, 6.3, 8.0, 6.3, 6.0, 4.5, 5.9, 7.5, 8.6, 5.7, 8.9, 6.1, 8.3, 4.1, 6.0, 8.8, 4.2, 6.2, 6.3, 9.7, 8.1, 6.6, 7.0, 8.0, 8.7, 7.6, 6.9, 7.8, 5.4, 6.2, 5.0, 8.2, 7.6, 4.5, 8.6, 9.7, 4.5, 7.6, 5.8, 6.3, 9.7, 7.2, 5.7, 6.5, 5.4, 9.9, 5.5, 5.0, 8.7, 8.4, 8.5, 5.4, 6.4, 8.4, 7.1, 7.8, 8.1, 5.7, 5.6, 6.0, 6.5, 6.7, 9.8, 8.4, 10.0, 7.3, 5.6, 5.8, 8.2, 7.9, 9.6, 4.7, 8.5, 6.4, 5.2, 7.2, 8.4, 9.9, 9.2, 7.4, 8.7, 4.6, 8.4, 5.0, 5.7, 5.7, 7.5, 4.9, 5.0, 6.2, 8.5, 5.1, 7.0, 5.4, 8.2, 4.5, 5.7, 7.3, 8.7, 5.7, 9.4, 6.2, 6.9, 8.4, 8.4, 9.8, 4.2, 4.6, 7.9, 9.2, 9.9, 8.5, 7.7, 5.8, 8.6, 8.6, 7.4, 6.9, 7.7, 4.1, 8.5, 6.4, 8.7, 5.1, 9.3, 7.4, 7.9, 7.8, 4.3, 4.6, 7.2, 6.2, 9.2, 9.3, 6.0, 9.6, 5.7, 7.5, 5.1, 4.4, 6.5, 6.2, 8.3, 5.2, 9.0, 9.7, 7.0, 4.3, 9.8, 8.9, 7.8, 5.2, 6.5, 5.6, 9.1, 4.9, 7.5, 9.9, 8.1, 7.3, 5.4, 6.9, 8.3, 7.5, 6.8, 7.6, 7.1, 7.0, 9.5, 6.2, 7.6, 7.0, 6.9, 9.2, 7.7, 8.2, 4.1, 5.8, 8.0, 5.3, 8.7, 9.5, 5.2, 6.7, 8.5, 6.5, 6.6, 8.1, 7.1, 9.0, 8.8, 4.7, 8.3, 4.1, 4.0, 9.6, 8.7, 4.5, 7.7, 5.1, 8.9, 9.7, 7.0, 4.3, 7.3, 9.9, 5.0, 4.6, 5.7, 7.3, 4.7, 7.1, 4.3, 4.5, 4.4, 4.1], \"xaxis\": \"x\", \"y\": [580.419, 271.95, 671.79, 217.18200000000002, 545.055, 175.917, 214.74599999999998, 767.025, 221.886, 40.53, 78.0045, 456.288, 942.4485, 407.316, 75.7785, 395.892, 757.365, 216.6885, 628.173, 85.5855, 441.69300000000004, 93.0405, 532.7280000000002, 446.439, 304.92, 734.706, 596.82, 610.491, 335.895, 772.38, 138.97799999999998, 829.08, 517.965, 392.6475, 97.818, 79.149, 255.15, 291.438, 75.5475, 293.139, 631.1445, 721.98, 314.055, 503.559, 539.3430000000002, 404.54400000000004, 150.0975, 193.074, 218.0745, 402.2655, 66.8745, 84.756, 603.876, 397.61400000000003, 339.36, 91.77, 32.529, 1039.29, 440.93699999999995, 80.661, 462.67199999999997, 77.658, 175.14, 88.704, 162.75, 207.585, 53.34, 84.9765, 80.367, 420.2625, 736.4385, 10.6785, 41.7375, 277.788, 270.585, 116.90700000000001, 271.2885, 397.845, 90.699, 209.118, 214.137, 148.974, 18.6375, 144.08100000000005, 130.8825, 763.4655, 104.6745, 334.4775, 390.7995, 627.6165, 311.1885, 30.996, 781.62, 117.831, 512.19, 290.0835, 408.408, 63.9975, 325.374, 262.45799999999997, 548.184, 470.98800000000006, 26.796, 76.5765, 1022.385, 833.9625, 256.41, 233.1, 360.92699999999996, 119.259, 681.975, 457.38, 66.402, 290.43, 146.9475, 190.59599999999998, 280.035, 103.131, 367.038, 79.67399999999998, 486.444, 135.3555, 71.52600000000002, 271.278, 44.9925, 218.0115, 287.91, 75.054, 120.645, 634.3785, 88.368, 26.25, 829.08, 174.615, 527.751, 147.672, 442.32300000000004, 195.59400000000002, 680.61, 640.038, 252.042, 177.408, 69.09, 752.64, 418.95, 197.925, 113.568, 722.232, 314.685, 463.89, 611.0790000000002, 77.7735, 85.302, 153.048, 507.675, 97.419, 83.412, 33.936, 53.928000000000004, 510.615, 93.2925, 629.16, 214.998, 709.317, 737.7615, 207.858, 450.1035, 328.755, 336.5565, 194.985, 210.96599999999998, 295.407, 54.998999999999995, 26.733, 266.028, 214.935, 597.0405, 51.1455, 211.365, 655.5465, 731.43, 128.4255, 477.54, 783.3, 265.10400000000004, 308.574, 175.035, 56.952, 149.3625, 422.73, 510.9615, 822.255, 72.009, 143.22, 140.6475, 106.995, 165.4485, 277.6725, 247.8735, 55.881, 398.958, 103.11, 33.431999999999995, 374.409, 334.341, 190.4805, 471.03, 367.5525, 198.639, 198.99599999999998, 437.325, 55.2825, 181.0725, 150.78, 148.995, 926.9505, 182.42700000000002, 78.435, 297.801, 203.553, 85.512, 579.8415, 354.0075, 131.208, 633.99, 30.408, 90.867, 267.3405, 383.523, 462.21, 453.495, 266.6475, 406.875, 90.3, 705.6315, 94.1745, 352.5795, 203.112, 91.4025, 192.843, 338.2155, 77.6685, 255.1815, 254.016, 536.991, 352.67400000000015, 107.14200000000001, 30.219, 523.971, 155.65200000000004, 317.835, 943.299, 350.07, 310.59, 193.011, 102.01799999999999, 96.1905, 100.9155, 525.231, 204.6975, 25.263, 270.018, 253.68, 140.385, 587.664, 373.17, 509.4075, 495.3165, 72.3975, 461.286, 391.41900000000004, 235.872, 455.1225, 887.922, 191.247, 284.9175, 80.955, 190.155, 42.3675, 49.77, 196.14, 379.9215, 165.9, 276.948, 264.7575, 182.91, 232.155, 652.89, 132.5625, 84.7455, 313.74, 771.435, 176.925, 270.2595, 235.683, 151.284, 193.4625, 488.985, 164.87099999999995, 465.444, 103.0365, 263.13, 820.365, 451.3635, 209.622, 310.716, 170.877, 295.6905, 1003.59, 225.792, 98.02799999999999, 233.52, 523.845, 794.6505, 384.468, 103.78200000000001, 146.328, 172.74599999999995, 494.76, 263.97, 99.33, 326.256, 161.7, 318.108, 86.24700000000001, 203.175, 570.78, 41.076, 112.22399999999999, 55.041000000000004, 98.04899999999999, 207.48, 72.933, 34.629, 835.2855, 96.579, 71.1585, 317.226, 419.832, 733.6035, 118.251, 360.885, 874.125, 212.688, 618.975, 362.81699999999995, 181.81799999999998, 91.056, 507.906, 298.116, 745.836, 132.02700000000002, 222.138, 263.97, 439.8975, 474.348, 180.873, 152.71200000000005, 141.75, 548.163, 23.750999999999998, 510.972, 352.2225, 217.2555, 514.773, 417.564, 503.7375, 172.011, 810.6, 160.44, 588.357, 224.4375, 288.204, 133.35, 833.595, 621.243, 277.137, 860.475, 480.0285, 628.929, 59.325, 888.615, 856.4535, 936.6, 362.712, 383.7645, 836.304, 133.917, 299.8485, 206.43, 384.72, 624.8969999999998, 137.865, 206.7975, 714.3255, 586.635, 603.624, 829.71, 69.72, 323.14799999999997, 951.825, 319.788, 557.7180000000002, 944.622, 118.902, 125.7165, 921.186, 624.33, 375.3645, 484.89, 70.28699999999999, 85.743, 200.21400000000003, 242.676, 256.7775, 195.72, 764.19, 575.9775, 484.5225, 103.635, 216.84599999999998, 394.275, 163.611, 145.5825, 742.2975, 571.41, 16.107, 588.42, 257.145, 520.8, 932.337, 163.002, 94.2375, 145.06799999999996, 250.7085, 745.395, 608.076, 852.705, 399.756, 404.355, 148.68, 586.971, 28.4235, 188.0025, 697.368, 269.934, 720.3, 225.2775, 432.76800000000003, 469.77, 145.404, 65.604, 333.9525, 394.63199999999995, 125.706, 57.6975, 657.5310000000002, 99.9075, 184.08599999999998, 203.93099999999998, 262.79400000000004, 629.496, 35.196, 209.55900000000003, 297.108, 166.005, 183.645, 139.923, 252.252, 202.81799999999998, 308.91, 77.805, 461.5275, 115.08, 590.436, 306.81, 435.45599999999996, 252.75599999999997, 93.744, 65.7405, 166.236, 110.124, 609.168, 178.16400000000004, 155.19, 56.40600000000001, 608.202, 514.605, 145.593, 156.03, 142.002, 401.26800000000003, 728.112, 103.824, 115.185, 75.47399999999998, 237.426, 22.659000000000002, 633.1080000000002, 13.419, 497.07, 688.716, 172.2105, 181.44, 229.11, 494.1825, 239.4, 548.9715, 152.838, 369.684, 300.216, 743.82, 937.818, 479.9025, 431.256, 85.113, 321.7725, 703.752, 507.444, 470.98800000000006, 461.32800000000003, 279.1845, 300.573, 374.7975, 217.6335, 127.82700000000001, 240.975, 57.87600000000001, 135.45, 329.19599999999997, 57.1725, 708.225, 804.3, 272.58, 58.2225, 175.917, 931.035, 652.26, 545.37, 749.7, 45.108000000000004, 14.679, 299.3655, 143.9865, 100.485, 343.413, 867.615, 294.651, 51.0405, 273.42, 241.458, 769.1039999999997, 63.2625, 33.3585, 470.673, 167.03400000000005, 57.078, 144.963, 403.87199999999996, 87.234, 493.79400000000004, 663.2955, 226.065, 688.6215, 20.685, 513.2295, 54.9675, 451.71, 92.44200000000001, 116.1405, 400.764, 133.434, 69.6675, 258.678, 708.3195, 881.307, 397.215, 485.037, 718.7565, 154.392, 95.9175, 181.88099999999997, 22.386, 338.31, 222.012, 408.49199999999996, 184.107, 13.167, 130.0425, 326.4240000000001, 293.202, 485.5725, 398.475, 939.54, 225.015, 154.1295, 167.58, 667.38, 180.6, 180.62099999999998, 310.0440000000001, 427.81199999999995, 356.5485, 99.54, 101.80799999999999, 484.974, 429.1665, 56.468999999999994, 273.798, 130.032, 208.425, 48.51, 394.3275, 49.308, 1023.75, 223.0725, 575.736, 554.295, 469.413, 26.7225, 125.51700000000001, 231.2415, 433.69199999999995, 49.4235, 208.6875, 100.12799999999999, 416.17800000000005, 370.125, 914.55, 351.099, 164.68200000000004, 20.1075, 520.4115, 575.316, 95.865, 165.648, 527.5095, 357.588, 620.739, 732.27, 102.396, 180.4005, 830.3715, 248.40900000000002, 101.64, 814.38, 246.4875, 92.7255, 261.198, 343.224, 78.60300000000002, 491.085, 187.32, 236.88, 81.396, 151.515, 175.0455, 353.094, 760.4415, 97.881, 441.756, 76.755, 304.5420000000001, 793.548, 550.935, 80.22, 89.0715, 84.63, 235.2105, 77.175, 33.495, 304.983, 75.936, 1042.65, 337.51199999999994, 637.7280000000002, 208.08900000000003, 16.2015, 649.299, 333.207, 348.306, 24.108, 430.71, 390.9465, 223.58700000000002, 439.215, 273.0525, 279.384, 206.808, 213.528, 250.278, 272.664, 288.015, 796.908, 43.869, 209.769, 165.123, 269.535, 31.9305, 169.3125, 786.618, 69.405, 47.858999999999995, 12.6945, 122.5245, 348.705, 94.185, 152.019, 321.111, 314.538, 365.085, 104.83200000000001, 381.3915, 32.277, 68.2395, 282.492, 63.9135, 152.775, 135.576, 807.66, 323.064, 216.84599999999998, 1020.705, 285.705, 305.55, 183.03599999999997, 87.234, 377.58, 23.499000000000002, 867.09, 145.971, 374.38800000000003, 499.7265, 138.1275, 684.915, 345.0195, 423.73800000000006, 782.2080000000003, 312.8895, 333.9840000000001, 888.405, 76.35600000000002, 74.08800000000002, 91.8225, 176.4, 408.7335, 60.816, 16.275, 96.64200000000001, 369.495, 299.565, 548.73, 212.7825, 19.2465, 282.57599999999996, 171.7275, 259.77, 74.4555, 779.31, 535.374, 410.50800000000004, 293.643, 74.7075, 147.798, 145.74, 411.3795, 142.947, 935.2665, 92.295, 529.515, 695.2365, 742.812, 38.85, 288.582, 195.174, 843.0345, 251.7165, 432.9885, 37.6845, 161.553, 359.205, 351.603, 72.429, 451.0275, 244.23, 195.951, 136.143, 205.317, 122.47200000000001, 1034.46, 146.6325, 291.207, 235.74599999999998, 356.32800000000015, 121.569, 26.5545, 19.194000000000006, 93.744, 63.315, 121.863, 832.944, 344.4, 597.6285, 168.21, 91.56, 435.12, 36.5505, 232.638, 163.233, 56.1225, 353.1675, 397.99199999999996, 477.1305, 568.512, 697.935, 72.87, 204.24599999999998, 212.73, 463.42800000000005, 550.368, 756.168, 175.014, 166.635, 82.719, 629.8425, 76.146, 189.0945, 760.452, 759.675, 536.592, 452.865, 17.094, 701.8515, 554.148, 132.762, 246.6765, 69.993, 185.09400000000002, 173.208, 110.0925, 950.25, 44.5935, 35.3115, 247.59, 341.0925, 324.2925, 239.58900000000003, 41.39100000000001, 77.931, 431.445, 202.335, 79.611, 185.36700000000002, 401.68800000000016, 702.2189999999997, 40.9605, 313.572, 121.12799999999999, 208.67700000000002, 53.151, 535.7205, 401.73, 860.685, 680.064, 182.952, 506.6355, 127.26, 446.964, 107.31, 415.233, 167.895, 131.922, 82.887, 194.12400000000002, 195.678, 551.124, 71.568, 942.9, 174.3, 233.226, 749.49, 362.94300000000004, 723.24, 160.86, 62.0025, 817.2360000000001, 276.948, 489.048, 31.752, 734.076, 365.904, 609.5880000000002, 125.979, 609.0, 614.943, 54.0435, 565.215, 93.11399999999999, 125.664, 40.341, 340.5255, 457.44300000000004, 253.00799999999998, 189.0945, 234.0975, 827.085, 478.233, 922.635, 166.1625, 521.01, 172.49400000000003, 309.3615, 548.7615, 536.844, 853.1460000000003, 284.193, 316.47, 680.148, 918.7289999999999, 186.22799999999998, 472.311, 793.716, 95.6655, 146.22299999999996, 217.6335, 90.825, 788.508, 99.75, 137.004, 44.352, 423.15, 530.67, 96.13799999999999, 404.649, 151.4835, 1002.12, 86.625, 78.7185, 343.056, 128.016, 345.786, 523.3725, 253.512, 83.727, 125.055, 45.927, 120.162, 121.59, 49.812, 138.66299999999998, 572.775, 388.29, 92.8725, 666.939, 731.6925, 160.209, 102.837, 74.76, 118.06200000000001, 228.123, 543.753, 253.26, 195.25799999999998, 625.905, 46.683, 164.43, 32.1405, 673.995, 92.5575, 41.45399999999999, 458.6925, 37.611, 187.86599999999999, 616.98, 150.423, 801.8639999999997, 183.12, 32.150999999999996, 48.7305, 284.592, 216.4365, 441.588, 681.4395, 281.16900000000004, 31.226999999999997, 76.923, 90.5835, 106.596, 106.5015, 561.078, 335.0130000000001, 331.1280000000001, 479.64, 690.018, 68.985, 289.926, 864.57, 296.94, 1022.49, 69.111], \"yaxis\": \"y\"}],\n",
              "                        {\"legend\": {\"tracegroupgap\": 0}, \"margin\": {\"t\": 60}, \"template\": {\"data\": {\"pie\": [{\"automargin\": true, \"type\": \"pie\"}]}, \"layout\": {\"xaxis\": {\"showgrid\": true, \"title\": {\"standoff\": 15}}, \"yaxis\": {\"showgrid\": true, \"title\": {\"standoff\": 15}}}}, \"xaxis\": {\"anchor\": \"y\", \"domain\": [0.0, 1.0], \"title\": {\"text\": \"Calificacion\"}}, \"yaxis\": {\"anchor\": \"x\", \"domain\": [0.0, 1.0], \"title\": {\"text\": \"Total\"}}},\n",
              "                        {\"responsive\": true}\n",
              "                    ).then(function(){\n",
              "                            \n",
              "var gd = document.getElementById('9bddc90c-05cd-4481-baac-96f854684a4a');\n",
              "var x = new MutationObserver(function (mutations, observer) {{\n",
              "        var display = window.getComputedStyle(gd).display;\n",
              "        if (!display || display === 'none') {{\n",
              "            console.log([gd, 'removed!']);\n",
              "            Plotly.purge(gd);\n",
              "            observer.disconnect();\n",
              "        }}\n",
              "}});\n",
              "\n",
              "// Listen for the removal of the full notebook cells\n",
              "var notebookContainer = gd.closest('#notebook-container');\n",
              "if (notebookContainer) {{\n",
              "    x.observe(notebookContainer, {childList: true});\n",
              "}}\n",
              "\n",
              "// Listen for the clearing of the current output cell\n",
              "var outputEl = gd.closest('.output');\n",
              "if (outputEl) {{\n",
              "    x.observe(outputEl, {childList: true});\n",
              "}}\n",
              "\n",
              "                        })\n",
              "                };\n",
              "                \n",
              "            </script>\n",
              "        </div>\n",
              "</body>\n",
              "</html>"
            ]
          },
          "metadata": {}
        }
      ]
    },
    {
      "cell_type": "markdown",
      "source": [
        "**Dividimos el set de datos** en un dataframe con datos para definir el modelo y otro dataframe con datos que el modelo no ha visto, para trabajar con ellos posteriormente, una vez definido el modelo."
      ],
      "metadata": {
        "id": "3S0ua1XQwn72"
      }
    },
    {
      "cell_type": "code",
      "source": [
        "datos = df.sample(frac=0.90, random_state=123)\n",
        "datos_no_vistos = df.drop(datos.index)"
      ],
      "metadata": {
        "id": "J3V01rH4wy28"
      },
      "execution_count": null,
      "outputs": []
    },
    {
      "cell_type": "code",
      "source": [
        "datos.reset_index(inplace=True, drop=True)\n",
        "datos_no_vistos.reset_index(inplace=True, drop=True)"
      ],
      "metadata": {
        "id": "iPGJENktxGIq"
      },
      "execution_count": null,
      "outputs": []
    },
    {
      "cell_type": "code",
      "source": [
        "print(\"Datos para Modelar: \" + str(datos.shape))\n",
        "print(\"Datos no vistos para Predicciones: \" + str(datos_no_vistos.shape))"
      ],
      "metadata": {
        "colab": {
          "base_uri": "https://localhost:8080/"
        },
        "id": "hcWfF2iAx2-8",
        "outputId": "3d8079c4-477d-4c25-a9a5-2d4c7bd51709"
      },
      "execution_count": null,
      "outputs": [
        {
          "output_type": "stream",
          "name": "stdout",
          "text": [
            "Datos para Modelar: (900, 3)\n",
            "Datos no vistos para Predicciones: (100, 3)\n"
          ]
        }
      ]
    },
    {
      "cell_type": "code",
      "source": [
        "datos.head()"
      ],
      "metadata": {
        "colab": {
          "base_uri": "https://localhost:8080/",
          "height": 206
        },
        "id": "f-DU1gnnyAJK",
        "outputId": "d63a69b9-f8dd-483e-922f-7343d2d84f65"
      },
      "execution_count": null,
      "outputs": [
        {
          "output_type": "execute_result",
          "data": {
            "text/html": [
              "<div>\n",
              "<style scoped>\n",
              "    .dataframe tbody tr th:only-of-type {\n",
              "        vertical-align: middle;\n",
              "    }\n",
              "\n",
              "    .dataframe tbody tr th {\n",
              "        vertical-align: top;\n",
              "    }\n",
              "\n",
              "    .dataframe thead th {\n",
              "        text-align: right;\n",
              "    }\n",
              "</style>\n",
              "<table border=\"1\" class=\"dataframe\">\n",
              "  <thead>\n",
              "    <tr style=\"text-align: right;\">\n",
              "      <th></th>\n",
              "      <th>Factura</th>\n",
              "      <th>Total</th>\n",
              "      <th>Calificacion</th>\n",
              "    </tr>\n",
              "  </thead>\n",
              "  <tbody>\n",
              "    <tr>\n",
              "      <th>0</th>\n",
              "      <td>568-88-3448</td>\n",
              "      <td>26.2500</td>\n",
              "      <td>5.5</td>\n",
              "    </tr>\n",
              "    <tr>\n",
              "      <th>1</th>\n",
              "      <td>397-25-8725</td>\n",
              "      <td>374.4090</td>\n",
              "      <td>6.8</td>\n",
              "    </tr>\n",
              "    <tr>\n",
              "      <th>2</th>\n",
              "      <td>275-28-0149</td>\n",
              "      <td>66.8745</td>\n",
              "      <td>6.0</td>\n",
              "    </tr>\n",
              "    <tr>\n",
              "      <th>3</th>\n",
              "      <td>210-74-9613</td>\n",
              "      <td>408.4920</td>\n",
              "      <td>6.8</td>\n",
              "    </tr>\n",
              "    <tr>\n",
              "      <th>4</th>\n",
              "      <td>263-12-5321</td>\n",
              "      <td>680.6100</td>\n",
              "      <td>9.3</td>\n",
              "    </tr>\n",
              "  </tbody>\n",
              "</table>\n",
              "</div>"
            ],
            "text/plain": [
              "       Factura     Total  Calificacion\n",
              "0  568-88-3448   26.2500           5.5\n",
              "1  397-25-8725  374.4090           6.8\n",
              "2  275-28-0149   66.8745           6.0\n",
              "3  210-74-9613  408.4920           6.8\n",
              "4  263-12-5321  680.6100           9.3"
            ]
          },
          "metadata": {},
          "execution_count": 17
        }
      ]
    },
    {
      "cell_type": "markdown",
      "source": [
        "## <font color=\"#333F49\">**Escala de las variables del Dataframe** <font>"
      ],
      "metadata": {
        "id": "wYI0jogFL7I0"
      }
    },
    {
      "cell_type": "code",
      "source": [
        "df.info()"
      ],
      "metadata": {
        "colab": {
          "base_uri": "https://localhost:8080/"
        },
        "id": "PLY8TlCqMHQ8",
        "outputId": "c0c7e4ff-2893-4096-ab57-892db10aadef"
      },
      "execution_count": null,
      "outputs": [
        {
          "output_type": "stream",
          "name": "stdout",
          "text": [
            "<class 'pandas.core.frame.DataFrame'>\n",
            "RangeIndex: 1000 entries, 0 to 999\n",
            "Data columns (total 3 columns):\n",
            " #   Column        Non-Null Count  Dtype  \n",
            "---  ------        --------------  -----  \n",
            " 0   Factura       1000 non-null   object \n",
            " 1   Total         1000 non-null   float64\n",
            " 2   Calificacion  1000 non-null   float64\n",
            "dtypes: float64(2), object(1)\n",
            "memory usage: 23.6+ KB\n"
          ]
        }
      ]
    },
    {
      "cell_type": "code",
      "source": [
        "X=datos[['Total', 'Calificacion']]"
      ],
      "metadata": {
        "id": "BHVb7pTGSiWK"
      },
      "execution_count": null,
      "outputs": []
    },
    {
      "cell_type": "code",
      "source": [
        "from sklearn.preprocessing import StandardScaler"
      ],
      "metadata": {
        "id": "ylstbMWIL6lV"
      },
      "execution_count": null,
      "outputs": []
    },
    {
      "cell_type": "code",
      "source": [
        "normalizacion = StandardScaler()"
      ],
      "metadata": {
        "id": "mdbOoYqSMP5G"
      },
      "execution_count": null,
      "outputs": []
    },
    {
      "cell_type": "code",
      "source": [
        "X = normalizacion.fit_transform(X)"
      ],
      "metadata": {
        "id": "TraT_-SuNyJU"
      },
      "execution_count": null,
      "outputs": []
    },
    {
      "cell_type": "code",
      "source": [
        "X = pd.DataFrame(X, columns=['Total', 'Calificacion'])"
      ],
      "metadata": {
        "id": "mVIjji3oUNGI"
      },
      "execution_count": null,
      "outputs": []
    },
    {
      "cell_type": "code",
      "source": [
        "X"
      ],
      "metadata": {
        "colab": {
          "base_uri": "https://localhost:8080/",
          "height": 424
        },
        "id": "jRCTe1kDUmS3",
        "outputId": "f0150dcc-e99c-4386-8fc4-76594ddc9a77"
      },
      "execution_count": null,
      "outputs": [
        {
          "output_type": "execute_result",
          "data": {
            "text/html": [
              "<div>\n",
              "<style scoped>\n",
              "    .dataframe tbody tr th:only-of-type {\n",
              "        vertical-align: middle;\n",
              "    }\n",
              "\n",
              "    .dataframe tbody tr th {\n",
              "        vertical-align: top;\n",
              "    }\n",
              "\n",
              "    .dataframe thead th {\n",
              "        text-align: right;\n",
              "    }\n",
              "</style>\n",
              "<table border=\"1\" class=\"dataframe\">\n",
              "  <thead>\n",
              "    <tr style=\"text-align: right;\">\n",
              "      <th></th>\n",
              "      <th>Total</th>\n",
              "      <th>Calificacion</th>\n",
              "    </tr>\n",
              "  </thead>\n",
              "  <tbody>\n",
              "    <tr>\n",
              "      <th>0</th>\n",
              "      <td>-1.203378</td>\n",
              "      <td>-0.868263</td>\n",
              "    </tr>\n",
              "    <tr>\n",
              "      <th>1</th>\n",
              "      <td>0.203105</td>\n",
              "      <td>-0.112859</td>\n",
              "    </tr>\n",
              "    <tr>\n",
              "      <th>2</th>\n",
              "      <td>-1.039265</td>\n",
              "      <td>-0.577723</td>\n",
              "    </tr>\n",
              "    <tr>\n",
              "      <th>3</th>\n",
              "      <td>0.340793</td>\n",
              "      <td>-0.112859</td>\n",
              "    </tr>\n",
              "    <tr>\n",
              "      <th>4</th>\n",
              "      <td>1.440088</td>\n",
              "      <td>1.339842</td>\n",
              "    </tr>\n",
              "    <tr>\n",
              "      <th>...</th>\n",
              "      <td>...</td>\n",
              "      <td>...</td>\n",
              "    </tr>\n",
              "    <tr>\n",
              "      <th>895</th>\n",
              "      <td>-0.965585</td>\n",
              "      <td>0.061465</td>\n",
              "    </tr>\n",
              "    <tr>\n",
              "      <th>896</th>\n",
              "      <td>2.221844</td>\n",
              "      <td>-1.507451</td>\n",
              "    </tr>\n",
              "    <tr>\n",
              "      <th>897</th>\n",
              "      <td>-1.178013</td>\n",
              "      <td>-0.403399</td>\n",
              "    </tr>\n",
              "    <tr>\n",
              "      <th>898</th>\n",
              "      <td>-0.462597</td>\n",
              "      <td>-0.170967</td>\n",
              "    </tr>\n",
              "    <tr>\n",
              "      <th>899</th>\n",
              "      <td>0.341768</td>\n",
              "      <td>0.874977</td>\n",
              "    </tr>\n",
              "  </tbody>\n",
              "</table>\n",
              "<p>900 rows × 2 columns</p>\n",
              "</div>"
            ],
            "text/plain": [
              "        Total  Calificacion\n",
              "0   -1.203378     -0.868263\n",
              "1    0.203105     -0.112859\n",
              "2   -1.039265     -0.577723\n",
              "3    0.340793     -0.112859\n",
              "4    1.440088      1.339842\n",
              "..        ...           ...\n",
              "895 -0.965585      0.061465\n",
              "896  2.221844     -1.507451\n",
              "897 -1.178013     -0.403399\n",
              "898 -0.462597     -0.170967\n",
              "899  0.341768      0.874977\n",
              "\n",
              "[900 rows x 2 columns]"
            ]
          },
          "metadata": {},
          "execution_count": 24
        }
      ]
    },
    {
      "cell_type": "markdown",
      "source": [
        "# **Definición del modelo de clustering:** <font color=\"#0A66C2\"><h10>**buscando un perfil en relación con la vinculación con los supermercados** <font> "
      ],
      "metadata": {
        "id": "zFvJlWFzyRPJ"
      }
    },
    {
      "cell_type": "markdown",
      "source": [
        "Buscamos la alternativa que nos reporte un valor\n",
        "**inertia** a partir del cual la inertia no disminuya drásticamente y no agregue ningún valor en función de un rango de clústers"
      ],
      "metadata": {
        "id": "iwrI2CCDrAll"
      }
    },
    {
      "cell_type": "markdown",
      "source": [
        "## **Primera alternativa:** <font color=\"#0A66C2\"><h10>**K = ?** <font> "
      ],
      "metadata": {
        "id": "zGjdbLaB3MdZ"
      }
    },
    {
      "cell_type": "code",
      "source": [
        "clusters = pd.DataFrame()\n",
        "inertia = []"
      ],
      "metadata": {
        "id": "PK3oaIwAYbv3"
      },
      "execution_count": null,
      "outputs": []
    },
    {
      "cell_type": "code",
      "source": [
        "clusters['cluster_range'] = range (1,11)"
      ],
      "metadata": {
        "id": "stBVyssKVny9"
      },
      "execution_count": null,
      "outputs": []
    },
    {
      "cell_type": "code",
      "source": [
        "clusters"
      ],
      "metadata": {
        "colab": {
          "base_uri": "https://localhost:8080/",
          "height": 363
        },
        "id": "_KEQG-a1Y4YG",
        "outputId": "a98e80da-bfaa-4bcf-c807-31015d821795"
      },
      "execution_count": null,
      "outputs": [
        {
          "output_type": "execute_result",
          "data": {
            "text/html": [
              "<div>\n",
              "<style scoped>\n",
              "    .dataframe tbody tr th:only-of-type {\n",
              "        vertical-align: middle;\n",
              "    }\n",
              "\n",
              "    .dataframe tbody tr th {\n",
              "        vertical-align: top;\n",
              "    }\n",
              "\n",
              "    .dataframe thead th {\n",
              "        text-align: right;\n",
              "    }\n",
              "</style>\n",
              "<table border=\"1\" class=\"dataframe\">\n",
              "  <thead>\n",
              "    <tr style=\"text-align: right;\">\n",
              "      <th></th>\n",
              "      <th>cluster_range</th>\n",
              "    </tr>\n",
              "  </thead>\n",
              "  <tbody>\n",
              "    <tr>\n",
              "      <th>0</th>\n",
              "      <td>1</td>\n",
              "    </tr>\n",
              "    <tr>\n",
              "      <th>1</th>\n",
              "      <td>2</td>\n",
              "    </tr>\n",
              "    <tr>\n",
              "      <th>2</th>\n",
              "      <td>3</td>\n",
              "    </tr>\n",
              "    <tr>\n",
              "      <th>3</th>\n",
              "      <td>4</td>\n",
              "    </tr>\n",
              "    <tr>\n",
              "      <th>4</th>\n",
              "      <td>5</td>\n",
              "    </tr>\n",
              "    <tr>\n",
              "      <th>5</th>\n",
              "      <td>6</td>\n",
              "    </tr>\n",
              "    <tr>\n",
              "      <th>6</th>\n",
              "      <td>7</td>\n",
              "    </tr>\n",
              "    <tr>\n",
              "      <th>7</th>\n",
              "      <td>8</td>\n",
              "    </tr>\n",
              "    <tr>\n",
              "      <th>8</th>\n",
              "      <td>9</td>\n",
              "    </tr>\n",
              "    <tr>\n",
              "      <th>9</th>\n",
              "      <td>10</td>\n",
              "    </tr>\n",
              "  </tbody>\n",
              "</table>\n",
              "</div>"
            ],
            "text/plain": [
              "   cluster_range\n",
              "0              1\n",
              "1              2\n",
              "2              3\n",
              "3              4\n",
              "4              5\n",
              "5              6\n",
              "6              7\n",
              "7              8\n",
              "8              9\n",
              "9             10"
            ]
          },
          "metadata": {},
          "execution_count": 27
        }
      ]
    },
    {
      "cell_type": "code",
      "source": [
        "for n_clusters in clusters['cluster_range']:\n",
        "  kmeans = KMeans(n_clusters=n_clusters, random_state=123)\n",
        "  cluster_labels = kmeans.fit(X)\n",
        "  inertia.append(cluster_labels.inertia_)"
      ],
      "metadata": {
        "id": "LHiioEq2VnwL"
      },
      "execution_count": null,
      "outputs": []
    },
    {
      "cell_type": "code",
      "source": [
        "clusters['inertia'] = inertia\n",
        "clusters"
      ],
      "metadata": {
        "colab": {
          "base_uri": "https://localhost:8080/",
          "height": 363
        },
        "id": "ZAxcy3KAVnrq",
        "outputId": "17f5ab88-8a75-47a1-c700-5b44a57ad965"
      },
      "execution_count": null,
      "outputs": [
        {
          "output_type": "execute_result",
          "data": {
            "text/html": [
              "<div>\n",
              "<style scoped>\n",
              "    .dataframe tbody tr th:only-of-type {\n",
              "        vertical-align: middle;\n",
              "    }\n",
              "\n",
              "    .dataframe tbody tr th {\n",
              "        vertical-align: top;\n",
              "    }\n",
              "\n",
              "    .dataframe thead th {\n",
              "        text-align: right;\n",
              "    }\n",
              "</style>\n",
              "<table border=\"1\" class=\"dataframe\">\n",
              "  <thead>\n",
              "    <tr style=\"text-align: right;\">\n",
              "      <th></th>\n",
              "      <th>cluster_range</th>\n",
              "      <th>inertia</th>\n",
              "    </tr>\n",
              "  </thead>\n",
              "  <tbody>\n",
              "    <tr>\n",
              "      <th>0</th>\n",
              "      <td>1</td>\n",
              "      <td>1800.000000</td>\n",
              "    </tr>\n",
              "    <tr>\n",
              "      <th>1</th>\n",
              "      <td>2</td>\n",
              "      <td>1133.110668</td>\n",
              "    </tr>\n",
              "    <tr>\n",
              "      <th>2</th>\n",
              "      <td>3</td>\n",
              "      <td>649.439590</td>\n",
              "    </tr>\n",
              "    <tr>\n",
              "      <th>3</th>\n",
              "      <td>4</td>\n",
              "      <td>473.925164</td>\n",
              "    </tr>\n",
              "    <tr>\n",
              "      <th>4</th>\n",
              "      <td>5</td>\n",
              "      <td>382.811665</td>\n",
              "    </tr>\n",
              "    <tr>\n",
              "      <th>5</th>\n",
              "      <td>6</td>\n",
              "      <td>318.648336</td>\n",
              "    </tr>\n",
              "    <tr>\n",
              "      <th>6</th>\n",
              "      <td>7</td>\n",
              "      <td>265.366683</td>\n",
              "    </tr>\n",
              "    <tr>\n",
              "      <th>7</th>\n",
              "      <td>8</td>\n",
              "      <td>228.607970</td>\n",
              "    </tr>\n",
              "    <tr>\n",
              "      <th>8</th>\n",
              "      <td>9</td>\n",
              "      <td>199.894499</td>\n",
              "    </tr>\n",
              "    <tr>\n",
              "      <th>9</th>\n",
              "      <td>10</td>\n",
              "      <td>179.930411</td>\n",
              "    </tr>\n",
              "  </tbody>\n",
              "</table>\n",
              "</div>"
            ],
            "text/plain": [
              "   cluster_range      inertia\n",
              "0              1  1800.000000\n",
              "1              2  1133.110668\n",
              "2              3   649.439590\n",
              "3              4   473.925164\n",
              "4              5   382.811665\n",
              "5              6   318.648336\n",
              "6              7   265.366683\n",
              "7              8   228.607970\n",
              "8              9   199.894499\n",
              "9             10   179.930411"
            ]
          },
          "metadata": {},
          "execution_count": 29
        }
      ]
    },
    {
      "cell_type": "code",
      "source": [
        "fig = px.line(clusters, 'cluster_range',\n",
        "                 'inertia',          \n",
        "                 template = \"gridon\")\n",
        "fig.show()"
      ],
      "metadata": {
        "colab": {
          "base_uri": "https://localhost:8080/",
          "height": 542
        },
        "id": "8rlfwTvYVnoO",
        "outputId": "3bd96cca-7609-4b77-bf21-9129dae97c6c"
      },
      "execution_count": null,
      "outputs": [
        {
          "output_type": "display_data",
          "data": {
            "text/html": [
              "<html>\n",
              "<head><meta charset=\"utf-8\" /></head>\n",
              "<body>\n",
              "    <div>\n",
              "            <script src=\"https://cdnjs.cloudflare.com/ajax/libs/mathjax/2.7.5/MathJax.js?config=TeX-AMS-MML_SVG\"></script><script type=\"text/javascript\">if (window.MathJax) {MathJax.Hub.Config({SVG: {font: \"STIX-Web\"}});}</script>\n",
              "                <script type=\"text/javascript\">window.PlotlyConfig = {MathJaxConfig: 'local'};</script>\n",
              "        <script src=\"https://cdn.plot.ly/plotly-latest.min.js\"></script>    \n",
              "            <div id=\"ac93c4a5-0018-426f-8641-fc8a578215fc\" class=\"plotly-graph-div\" style=\"height:525px; width:100%;\"></div>\n",
              "            <script type=\"text/javascript\">\n",
              "                \n",
              "                    window.PLOTLYENV=window.PLOTLYENV || {};\n",
              "                    \n",
              "                if (document.getElementById(\"ac93c4a5-0018-426f-8641-fc8a578215fc\")) {\n",
              "                    Plotly.newPlot(\n",
              "                        'ac93c4a5-0018-426f-8641-fc8a578215fc',\n",
              "                        [{\"hoverlabel\": {\"namelength\": 0}, \"hovertemplate\": \"cluster_range=%{x}<br>inertia=%{y}\", \"legendgroup\": \"\", \"line\": {\"color\": \"#1F77B4\", \"dash\": \"solid\"}, \"mode\": \"lines\", \"name\": \"\", \"showlegend\": false, \"type\": \"scatter\", \"x\": [1, 2, 3, 4, 5, 6, 7, 8, 9, 10], \"xaxis\": \"x\", \"y\": [1800.0000000000005, 1133.1106684727738, 649.4395901797648, 473.92516449507156, 382.81166452777995, 318.6483363603745, 265.3666827663318, 228.60796995177537, 199.89449851964497, 179.93041113306535], \"yaxis\": \"y\"}],\n",
              "                        {\"legend\": {\"tracegroupgap\": 0}, \"margin\": {\"t\": 60}, \"template\": {\"data\": {\"pie\": [{\"automargin\": true, \"type\": \"pie\"}]}, \"layout\": {\"xaxis\": {\"showgrid\": true, \"title\": {\"standoff\": 15}}, \"yaxis\": {\"showgrid\": true, \"title\": {\"standoff\": 15}}}}, \"xaxis\": {\"anchor\": \"y\", \"domain\": [0.0, 1.0], \"title\": {\"text\": \"cluster_range\"}}, \"yaxis\": {\"anchor\": \"x\", \"domain\": [0.0, 1.0], \"title\": {\"text\": \"inertia\"}}},\n",
              "                        {\"responsive\": true}\n",
              "                    ).then(function(){\n",
              "                            \n",
              "var gd = document.getElementById('ac93c4a5-0018-426f-8641-fc8a578215fc');\n",
              "var x = new MutationObserver(function (mutations, observer) {{\n",
              "        var display = window.getComputedStyle(gd).display;\n",
              "        if (!display || display === 'none') {{\n",
              "            console.log([gd, 'removed!']);\n",
              "            Plotly.purge(gd);\n",
              "            observer.disconnect();\n",
              "        }}\n",
              "}});\n",
              "\n",
              "// Listen for the removal of the full notebook cells\n",
              "var notebookContainer = gd.closest('#notebook-container');\n",
              "if (notebookContainer) {{\n",
              "    x.observe(notebookContainer, {childList: true});\n",
              "}}\n",
              "\n",
              "// Listen for the clearing of the current output cell\n",
              "var outputEl = gd.closest('.output');\n",
              "if (outputEl) {{\n",
              "    x.observe(outputEl, {childList: true});\n",
              "}}\n",
              "\n",
              "                        })\n",
              "                };\n",
              "                \n",
              "            </script>\n",
              "        </div>\n",
              "</body>\n",
              "</html>"
            ]
          },
          "metadata": {}
        }
      ]
    },
    {
      "cell_type": "code",
      "source": [
        "kmeans = KMeans(n_clusters=3, random_state=123,\n",
        "                init='k-means++', n_init=5)\n",
        "kmeans.fit(X)\n",
        "print(kmeans)"
      ],
      "metadata": {
        "colab": {
          "base_uri": "https://localhost:8080/"
        },
        "id": "4RF88q3pzwRC",
        "outputId": "10c3ec88-be11-429b-d1c0-b38eb73ece38"
      },
      "execution_count": null,
      "outputs": [
        {
          "output_type": "stream",
          "name": "stdout",
          "text": [
            "KMeans(n_clusters=3, n_init=5, random_state=123)\n"
          ]
        }
      ]
    },
    {
      "cell_type": "code",
      "source": [
        "datos['Cluster_21']=kmeans.predict(X)\n",
        "datos"
      ],
      "metadata": {
        "colab": {
          "base_uri": "https://localhost:8080/",
          "height": 424
        },
        "id": "Fphi111p1V5p",
        "outputId": "4a91a3c0-a288-4328-bdc2-09a322d3f6a1"
      },
      "execution_count": null,
      "outputs": [
        {
          "output_type": "execute_result",
          "data": {
            "text/html": [
              "<div>\n",
              "<style scoped>\n",
              "    .dataframe tbody tr th:only-of-type {\n",
              "        vertical-align: middle;\n",
              "    }\n",
              "\n",
              "    .dataframe tbody tr th {\n",
              "        vertical-align: top;\n",
              "    }\n",
              "\n",
              "    .dataframe thead th {\n",
              "        text-align: right;\n",
              "    }\n",
              "</style>\n",
              "<table border=\"1\" class=\"dataframe\">\n",
              "  <thead>\n",
              "    <tr style=\"text-align: right;\">\n",
              "      <th></th>\n",
              "      <th>Factura</th>\n",
              "      <th>Total</th>\n",
              "      <th>Calificacion</th>\n",
              "      <th>Cluster_21</th>\n",
              "    </tr>\n",
              "  </thead>\n",
              "  <tbody>\n",
              "    <tr>\n",
              "      <th>0</th>\n",
              "      <td>568-88-3448</td>\n",
              "      <td>26.2500</td>\n",
              "      <td>5.5</td>\n",
              "      <td>0</td>\n",
              "    </tr>\n",
              "    <tr>\n",
              "      <th>1</th>\n",
              "      <td>397-25-8725</td>\n",
              "      <td>374.4090</td>\n",
              "      <td>6.8</td>\n",
              "      <td>0</td>\n",
              "    </tr>\n",
              "    <tr>\n",
              "      <th>2</th>\n",
              "      <td>275-28-0149</td>\n",
              "      <td>66.8745</td>\n",
              "      <td>6.0</td>\n",
              "      <td>0</td>\n",
              "    </tr>\n",
              "    <tr>\n",
              "      <th>3</th>\n",
              "      <td>210-74-9613</td>\n",
              "      <td>408.4920</td>\n",
              "      <td>6.8</td>\n",
              "      <td>0</td>\n",
              "    </tr>\n",
              "    <tr>\n",
              "      <th>4</th>\n",
              "      <td>263-12-5321</td>\n",
              "      <td>680.6100</td>\n",
              "      <td>9.3</td>\n",
              "      <td>1</td>\n",
              "    </tr>\n",
              "    <tr>\n",
              "      <th>...</th>\n",
              "      <td>...</td>\n",
              "      <td>...</td>\n",
              "      <td>...</td>\n",
              "      <td>...</td>\n",
              "    </tr>\n",
              "    <tr>\n",
              "      <th>895</th>\n",
              "      <td>225-98-1496</td>\n",
              "      <td>85.1130</td>\n",
              "      <td>7.1</td>\n",
              "      <td>0</td>\n",
              "    </tr>\n",
              "    <tr>\n",
              "      <th>896</th>\n",
              "      <td>852-62-7105</td>\n",
              "      <td>874.1250</td>\n",
              "      <td>4.4</td>\n",
              "      <td>1</td>\n",
              "    </tr>\n",
              "    <tr>\n",
              "      <th>897</th>\n",
              "      <td>859-71-0933</td>\n",
              "      <td>32.5290</td>\n",
              "      <td>6.3</td>\n",
              "      <td>0</td>\n",
              "    </tr>\n",
              "    <tr>\n",
              "      <th>898</th>\n",
              "      <td>446-47-6729</td>\n",
              "      <td>209.6220</td>\n",
              "      <td>6.7</td>\n",
              "      <td>0</td>\n",
              "    </tr>\n",
              "    <tr>\n",
              "      <th>899</th>\n",
              "      <td>733-29-1227</td>\n",
              "      <td>408.7335</td>\n",
              "      <td>8.5</td>\n",
              "      <td>2</td>\n",
              "    </tr>\n",
              "  </tbody>\n",
              "</table>\n",
              "<p>900 rows × 4 columns</p>\n",
              "</div>"
            ],
            "text/plain": [
              "         Factura     Total  Calificacion  Cluster_21\n",
              "0    568-88-3448   26.2500           5.5           0\n",
              "1    397-25-8725  374.4090           6.8           0\n",
              "2    275-28-0149   66.8745           6.0           0\n",
              "3    210-74-9613  408.4920           6.8           0\n",
              "4    263-12-5321  680.6100           9.3           1\n",
              "..           ...       ...           ...         ...\n",
              "895  225-98-1496   85.1130           7.1           0\n",
              "896  852-62-7105  874.1250           4.4           1\n",
              "897  859-71-0933   32.5290           6.3           0\n",
              "898  446-47-6729  209.6220           6.7           0\n",
              "899  733-29-1227  408.7335           8.5           2\n",
              "\n",
              "[900 rows x 4 columns]"
            ]
          },
          "metadata": {},
          "execution_count": 32
        }
      ]
    },
    {
      "cell_type": "code",
      "source": [
        "fig = px.scatter(datos,'Calificacion',\n",
        "                 'Total',\n",
        "                 color = 'Cluster_21',\n",
        "                 color_continuous_scale=['#E9E5DF', '#DB324D', '#576069'],\n",
        "                 template = 'gridon')\n",
        "fig.show()"
      ],
      "metadata": {
        "colab": {
          "base_uri": "https://localhost:8080/",
          "height": 542
        },
        "id": "stIElHOP17UA",
        "outputId": "c3acd809-14e4-44eb-bf58-546ac77a8cf3"
      },
      "execution_count": null,
      "outputs": [
        {
          "output_type": "display_data",
          "data": {
            "text/html": [
              "<html>\n",
              "<head><meta charset=\"utf-8\" /></head>\n",
              "<body>\n",
              "    <div>\n",
              "            <script src=\"https://cdnjs.cloudflare.com/ajax/libs/mathjax/2.7.5/MathJax.js?config=TeX-AMS-MML_SVG\"></script><script type=\"text/javascript\">if (window.MathJax) {MathJax.Hub.Config({SVG: {font: \"STIX-Web\"}});}</script>\n",
              "                <script type=\"text/javascript\">window.PlotlyConfig = {MathJaxConfig: 'local'};</script>\n",
              "        <script src=\"https://cdn.plot.ly/plotly-latest.min.js\"></script>    \n",
              "            <div id=\"8046d986-d294-43a0-9844-7c35b3273b30\" class=\"plotly-graph-div\" style=\"height:525px; width:100%;\"></div>\n",
              "            <script type=\"text/javascript\">\n",
              "                \n",
              "                    window.PLOTLYENV=window.PLOTLYENV || {};\n",
              "                    \n",
              "                if (document.getElementById(\"8046d986-d294-43a0-9844-7c35b3273b30\")) {\n",
              "                    Plotly.newPlot(\n",
              "                        '8046d986-d294-43a0-9844-7c35b3273b30',\n",
              "                        [{\"hoverlabel\": {\"namelength\": 0}, \"hovertemplate\": \"Calificacion=%{x}<br>Total=%{y}<br>Cluster_21=%{marker.color}\", \"legendgroup\": \"\", \"marker\": {\"color\": [0, 0, 0, 0, 1, 2, 0, 1, 0, 2, 0, 1, 0, 0, 0, 2, 2, 0, 0, 1, 0, 0, 2, 1, 0, 0, 2, 1, 1, 1, 1, 1, 0, 0, 2, 2, 2, 0, 2, 0, 1, 0, 1, 2, 1, 0, 0, 1, 2, 0, 1, 0, 2, 1, 0, 0, 0, 0, 1, 0, 2, 1, 0, 0, 0, 2, 2, 2, 2, 0, 0, 0, 1, 1, 0, 1, 2, 2, 2, 0, 1, 2, 2, 0, 0, 0, 0, 2, 0, 0, 0, 0, 2, 1, 1, 2, 1, 0, 1, 2, 1, 2, 2, 0, 2, 2, 0, 2, 0, 2, 1, 1, 2, 1, 1, 1, 0, 1, 0, 2, 1, 2, 2, 0, 2, 2, 2, 1, 2, 1, 1, 2, 0, 0, 2, 2, 0, 0, 0, 0, 2, 2, 0, 1, 1, 1, 2, 0, 0, 2, 0, 2, 2, 2, 1, 0, 1, 2, 0, 2, 2, 2, 2, 0, 1, 0, 0, 0, 0, 1, 2, 0, 0, 0, 0, 2, 2, 1, 0, 0, 1, 1, 2, 1, 2, 0, 1, 0, 2, 2, 0, 0, 1, 1, 1, 0, 0, 0, 0, 1, 1, 1, 0, 0, 0, 0, 0, 2, 2, 0, 0, 2, 0, 1, 2, 2, 2, 0, 0, 2, 2, 0, 2, 0, 2, 2, 0, 2, 1, 2, 2, 2, 1, 0, 0, 2, 0, 0, 0, 0, 1, 1, 1, 2, 2, 0, 0, 2, 0, 2, 2, 2, 0, 0, 2, 0, 0, 0, 0, 1, 1, 1, 0, 1, 0, 1, 2, 1, 1, 2, 0, 0, 2, 2, 2, 1, 0, 0, 0, 2, 0, 0, 2, 2, 2, 0, 2, 2, 2, 0, 1, 2, 2, 0, 0, 0, 2, 0, 2, 2, 1, 2, 0, 2, 2, 2, 2, 0, 0, 0, 2, 2, 1, 0, 1, 0, 1, 0, 2, 2, 1, 2, 2, 2, 1, 0, 0, 1, 0, 0, 2, 2, 2, 1, 2, 1, 2, 0, 2, 0, 2, 0, 0, 1, 1, 0, 2, 1, 0, 0, 2, 0, 1, 0, 2, 2, 2, 0, 0, 0, 2, 0, 1, 1, 2, 0, 1, 2, 0, 1, 2, 1, 1, 1, 0, 0, 2, 0, 0, 0, 0, 1, 2, 1, 0, 1, 2, 2, 0, 0, 0, 2, 0, 1, 2, 0, 2, 2, 1, 0, 1, 2, 2, 0, 0, 1, 1, 2, 1, 2, 0, 0, 2, 2, 0, 2, 0, 0, 2, 2, 0, 2, 1, 2, 1, 2, 2, 2, 0, 0, 2, 2, 1, 1, 2, 0, 2, 2, 0, 2, 0, 0, 2, 0, 2, 1, 0, 1, 2, 0, 0, 0, 0, 0, 2, 0, 2, 1, 2, 1, 0, 1, 1, 2, 2, 2, 1, 2, 1, 0, 1, 0, 2, 2, 2, 1, 0, 0, 2, 1, 0, 1, 2, 2, 2, 1, 0, 1, 0, 0, 1, 1, 1, 0, 2, 0, 0, 0, 2, 2, 2, 2, 1, 0, 0, 2, 2, 1, 0, 2, 0, 0, 1, 2, 1, 2, 0, 2, 1, 0, 2, 0, 2, 0, 0, 2, 1, 0, 1, 1, 1, 1, 0, 2, 0, 1, 1, 0, 1, 2, 0, 2, 2, 2, 2, 0, 2, 1, 1, 1, 0, 0, 2, 0, 0, 2, 0, 1, 2, 0, 1, 2, 2, 0, 1, 1, 0, 0, 0, 2, 0, 1, 2, 0, 2, 0, 0, 1, 2, 1, 2, 2, 0, 1, 2, 2, 1, 2, 0, 1, 0, 2, 1, 1, 0, 2, 0, 0, 0, 2, 0, 0, 0, 1, 0, 2, 2, 2, 0, 1, 2, 0, 2, 0, 2, 1, 0, 2, 1, 0, 0, 2, 0, 2, 1, 2, 2, 0, 1, 0, 2, 2, 0, 2, 1, 0, 0, 0, 0, 0, 2, 0, 0, 1, 0, 0, 1, 1, 2, 0, 2, 0, 2, 1, 2, 1, 0, 2, 2, 2, 1, 2, 0, 2, 0, 2, 0, 2, 1, 1, 1, 1, 0, 1, 0, 0, 2, 0, 0, 0, 1, 2, 0, 2, 0, 0, 0, 2, 0, 0, 2, 2, 0, 2, 0, 0, 1, 0, 1, 2, 0, 0, 2, 0, 0, 1, 0, 2, 0, 1, 2, 1, 0, 2, 2, 2, 2, 0, 0, 1, 0, 0, 2, 2, 2, 0, 0, 1, 2, 0, 0, 1, 2, 2, 0, 0, 2, 1, 0, 2, 2, 2, 0, 2, 2, 1, 0, 2, 0, 1, 0, 2, 2, 2, 1, 0, 0, 2, 2, 2, 2, 0, 1, 0, 2, 0, 2, 0, 0, 2, 0, 1, 0, 1, 2, 0, 2, 1, 2, 1, 0, 2, 2, 1, 0, 2, 2, 0, 2, 2, 1, 2, 2, 2, 2, 2, 1, 2, 0, 1, 2, 0, 1, 2, 0, 1, 0, 2, 2, 0, 2, 2, 0, 0, 2, 0, 2, 2, 0, 0, 2, 2, 0, 2, 2, 0, 2, 2, 0, 0, 0, 1, 1, 2, 0, 2, 2, 2, 1, 2, 0, 2, 0, 2, 1, 2, 0, 2, 2, 1, 0, 0, 2, 0, 0, 0, 2, 2, 2, 2, 2, 2, 2, 0, 1, 1, 2, 2, 2, 1, 1, 0, 0, 2, 0, 1, 0, 0, 0, 2, 0, 2, 0, 0, 0, 2, 0, 2, 1, 2, 2, 0, 0, 1, 2, 0, 1, 0, 0, 2], \"coloraxis\": \"coloraxis\", \"symbol\": \"circle\"}, \"mode\": \"markers\", \"name\": \"\", \"showlegend\": false, \"type\": \"scatter\", \"x\": [5.5, 6.8, 6.0, 6.8, 9.3, 10.0, 4.1, 7.1, 6.5, 8.0, 6.0, 7.5, 7.1, 4.2, 4.7, 9.6, 7.2, 4.0, 5.1, 6.0, 5.7, 4.4, 9.6, 7.7, 6.2, 5.1, 7.5, 9.5, 8.7, 8.7, 8.7, 5.5, 4.0, 5.9, 8.5, 7.3, 9.7, 5.6, 8.0, 5.9, 4.3, 6.5, 4.7, 7.4, 8.7, 4.9, 6.5, 6.9, 8.9, 6.7, 5.3, 5.4, 8.0, 9.3, 6.6, 4.8, 4.3, 7.0, 4.3, 6.0, 9.7, 7.3, 5.8, 5.5, 4.8, 9.8, 8.4, 7.9, 9.5, 5.9, 5.1, 5.8, 5.4, 8.2, 4.4, 5.6, 8.1, 7.8, 8.9, 4.7, 6.3, 9.3, 8.7, 6.1, 7.2, 5.0, 5.9, 9.7, 6.5, 7.0, 6.8, 7.0, 9.8, 7.5, 5.4, 9.1, 5.0, 4.7, 6.6, 8.4, 5.1, 8.9, 9.9, 5.7, 8.6, 9.0, 6.8, 9.0, 4.9, 8.1, 5.4, 8.5, 7.4, 9.1, 8.0, 7.3, 6.2, 7.5, 4.3, 9.8, 4.6, 8.5, 9.5, 5.7, 9.2, 7.8, 7.5, 5.5, 9.3, 8.2, 6.2, 9.5, 4.5, 5.6, 8.9, 7.9, 7.1, 4.9, 5.7, 7.1, 9.2, 8.5, 5.1, 8.7, 4.5, 4.3, 7.5, 4.9, 5.2, 9.9, 4.4, 9.1, 8.5, 9.2, 7.7, 6.0, 4.8, 10.0, 7.0, 9.8, 9.6, 8.6, 9.8, 5.1, 7.6, 6.4, 7.2, 4.8, 4.7, 4.0, 8.0, 6.7, 5.4, 5.1, 4.8, 8.3, 8.4, 6.3, 6.7, 5.7, 7.8, 9.2, 8.3, 6.9, 8.6, 6.1, 4.3, 6.0, 9.8, 7.8, 5.9, 6.7, 7.7, 6.2, 8.1, 6.4, 4.1, 4.4, 5.4, 9.0, 9.0, 7.2, 4.5, 5.2, 5.1, 6.0, 4.3, 9.0, 8.9, 6.4, 6.0, 7.4, 6.5, 5.6, 9.2, 7.9, 7.5, 5.9, 5.8, 9.4, 7.3, 6.5, 7.4, 4.2, 9.4, 9.0, 4.9, 9.3, 5.0, 9.5, 9.4, 7.3, 5.8, 6.9, 4.2, 9.3, 4.6, 4.8, 6.2, 7.2, 5.7, 7.6, 6.7, 9.9, 9.7, 4.8, 5.4, 7.6, 6.0, 7.4, 9.9, 9.9, 7.0, 6.7, 10.0, 4.2, 4.0, 6.0, 5.5, 9.5, 9.8, 5.2, 6.2, 4.2, 5.5, 7.2, 8.7, 6.3, 7.4, 8.7, 6.6, 4.4, 8.8, 9.2, 9.1, 6.2, 4.2, 5.6, 7.1, 8.5, 6.7, 5.0, 7.7, 7.8, 9.3, 6.0, 9.8, 7.6, 7.9, 4.1, 7.2, 8.4, 8.3, 6.1, 5.1, 4.3, 7.6, 5.0, 7.7, 7.5, 8.4, 7.3, 4.8, 7.7, 8.9, 7.6, 8.2, 6.5, 5.0, 5.8, 9.4, 9.7, 6.1, 4.3, 6.6, 5.1, 8.5, 6.7, 9.9, 9.5, 8.5, 7.7, 8.6, 8.0, 6.7, 6.5, 6.5, 7.4, 7.1, 4.1, 9.7, 8.8, 9.6, 5.2, 7.4, 4.1, 9.6, 7.0, 9.3, 4.5, 7.7, 4.4, 5.8, 7.2, 6.6, 5.2, 7.7, 8.0, 5.2, 4.1, 9.6, 5.5, 4.5, 6.5, 8.9, 9.3, 8.8, 6.3, 5.5, 6.3, 8.0, 5.0, 6.2, 6.0, 7.9, 5.9, 9.6, 9.2, 6.4, 6.2, 8.8, 6.0, 9.5, 5.6, 6.0, 4.8, 7.7, 4.2, 5.0, 6.0, 4.9, 6.6, 9.8, 6.7, 5.4, 5.3, 8.1, 7.2, 6.5, 4.5, 4.3, 7.7, 7.0, 5.1, 8.1, 7.1, 7.2, 7.7, 7.4, 5.8, 6.2, 9.9, 8.8, 6.8, 6.4, 7.1, 7.7, 7.3, 7.4, 9.0, 4.1, 6.8, 9.8, 9.5, 6.0, 9.3, 6.6, 6.0, 9.8, 7.7, 5.7, 8.2, 8.1, 7.7, 7.6, 9.3, 7.8, 9.1, 4.1, 4.3, 8.2, 7.8, 5.3, 8.4, 8.7, 6.2, 8.3, 8.9, 5.1, 9.7, 4.9, 6.6, 9.6, 6.8, 8.1, 4.9, 5.6, 4.7, 9.5, 5.6, 4.1, 5.3, 4.8, 5.2, 9.0, 6.3, 8.4, 6.2, 7.8, 5.8, 5.0, 7.0, 8.1, 9.1, 7.8, 7.6, 7.3, 8.7, 9.0, 4.9, 7.9, 5.6, 10.0, 9.9, 8.6, 6.5, 4.7, 6.6, 8.1, 4.4, 5.6, 5.6, 9.4, 8.6, 9.3, 5.2, 6.3, 7.4, 4.2, 4.2, 6.7, 4.9, 4.2, 6.1, 8.6, 4.4, 7.0, 5.4, 9.9, 7.9, 9.8, 10.0, 7.9, 5.0, 6.1, 7.9, 9.7, 8.3, 6.1, 8.6, 7.1, 6.5, 5.7, 8.7, 4.6, 8.7, 4.0, 9.4, 7.4, 6.8, 7.3, 5.3, 7.4, 4.2, 5.6, 7.3, 6.0, 6.2, 4.5, 6.4, 6.4, 8.0, 4.6, 9.5, 6.6, 5.5, 7.6, 5.9, 9.4, 7.9, 5.0, 8.9, 8.5, 7.6, 8.8, 4.1, 8.5, 5.2, 4.4, 4.0, 6.4, 6.8, 8.6, 5.3, 4.9, 9.3, 6.1, 4.2, 8.6, 6.7, 7.6, 9.8, 8.2, 4.9, 5.7, 6.0, 7.0, 5.2, 7.2, 9.1, 5.9, 6.1, 9.8, 4.4, 8.9, 5.8, 6.9, 4.1, 8.2, 6.6, 9.6, 8.8, 6.5, 4.5, 7.6, 8.6, 4.0, 9.1, 7.1, 7.3, 5.0, 7.9, 5.5, 7.6, 5.0, 7.5, 4.1, 6.9, 6.8, 8.8, 6.2, 6.6, 6.1, 8.7, 4.3, 8.8, 7.6, 7.5, 5.1, 6.5, 9.5, 5.6, 8.2, 4.6, 9.0, 4.9, 6.8, 7.9, 4.5, 4.0, 5.4, 9.5, 4.0, 8.0, 4.2, 7.6, 9.9, 6.4, 9.1, 5.0, 8.2, 7.7, 6.3, 9.5, 8.4, 4.1, 6.0, 6.6, 5.0, 4.3, 8.4, 6.6, 5.1, 7.3, 4.5, 5.2, 6.5, 8.3, 9.1, 5.5, 8.6, 5.9, 8.0, 9.6, 7.2, 6.5, 4.7, 9.4, 8.2, 8.9, 6.1, 8.8, 6.9, 8.5, 4.2, 8.7, 7.1, 9.2, 8.0, 6.3, 4.0, 5.3, 6.6, 4.1, 6.5, 6.4, 9.6, 6.8, 4.1, 5.2, 4.5, 9.7, 6.4, 8.2, 6.2, 4.2, 6.6, 7.5, 5.8, 4.2, 8.7, 9.6, 7.0, 8.8, 5.8, 5.3, 8.9, 4.4, 6.6, 9.2, 4.1, 4.9, 9.7, 7.0, 4.6, 5.7, 7.2, 8.3, 5.9, 4.4, 8.3, 4.7, 4.3, 9.5, 9.2, 9.3, 8.3, 6.6, 6.3, 9.8, 7.0, 4.1, 7.9, 9.5, 9.8, 6.2, 6.7, 7.3, 8.4, 5.9, 4.6, 7.3, 7.9, 7.4, 4.5, 4.7, 7.4, 4.3, 7.0, 7.6, 8.7, 7.4, 5.4, 7.9, 7.8, 8.8, 5.0, 8.0, 6.6, 6.6, 5.5, 8.7, 8.9, 9.4, 6.6, 6.2, 6.5, 9.7, 9.9, 7.3, 7.8, 5.2, 5.4, 6.6, 8.6, 6.7, 9.4, 6.3, 6.9, 9.1, 5.8, 5.5, 5.5, 4.2, 8.0, 5.3, 9.2, 4.5, 7.3, 5.1, 6.7, 8.0, 8.1, 6.0, 4.5, 9.9, 7.7, 4.9, 8.5, 7.9, 9.2, 7.6, 7.8, 7.7, 8.5, 7.9, 9.3, 7.8, 5.7, 5.7, 8.5, 6.1, 8.8, 9.2, 6.2, 5.1, 4.3, 8.4, 7.8, 6.4, 8.1, 9.9, 6.9, 7.2, 9.1, 6.9, 9.6, 9.5, 6.7, 5.5, 8.2, 9.4, 5.0, 9.6, 8.2, 6.5, 9.8, 8.4, 5.3, 4.4, 4.4, 7.2, 6.0, 8.7, 5.5, 9.5, 8.7, 8.7, 8.0, 9.1, 6.3, 8.9, 5.2, 9.7, 5.4, 7.6, 7.2, 8.4, 8.0, 8.6, 6.4, 7.0, 9.1, 6.7, 6.9, 4.2, 8.3, 9.2, 8.4, 9.7, 9.5, 8.0, 8.1, 6.4, 6.9, 4.2, 9.9, 8.2, 8.6, 7.6, 9.9, 5.0, 5.6, 8.8, 7.0, 4.7, 5.7, 4.5, 5.9, 8.6, 6.1, 8.5, 7.0, 5.1, 6.3, 9.9, 6.0, 9.8, 6.4, 8.3, 8.0, 6.0, 4.4, 5.5, 9.0, 7.1, 4.4, 6.3, 6.7, 8.5], \"xaxis\": \"x\", \"y\": [26.25, 374.409, 66.8745, 408.49199999999996, 680.61, 520.4115, 112.22399999999999, 629.496, 217.6335, 65.7405, 106.995, 579.8415, 198.99599999999998, 480.0285, 83.412, 41.076, 293.643, 99.33, 191.247, 575.9775, 288.204, 465.444, 462.21, 565.215, 225.015, 281.16900000000004, 423.73800000000006, 763.4655, 723.24, 767.025, 1020.705, 503.559, 54.9675, 172.74599999999995, 195.678, 91.8225, 263.97, 197.925, 181.81799999999998, 293.202, 742.812, 71.1585, 575.316, 98.02799999999999, 796.908, 272.664, 419.832, 457.44300000000004, 494.76, 222.138, 629.16, 299.3655, 136.143, 680.148, 133.917, 165.4485, 261.198, 328.755, 667.38, 137.865, 168.21, 931.035, 54.998999999999995, 452.865, 477.54, 47.858999999999995, 244.23, 49.308, 164.43, 295.407, 362.81699999999995, 166.635, 942.9, 722.232, 51.0405, 830.3715, 37.611, 151.4835, 265.10400000000004, 56.468999999999994, 852.705, 509.4075, 163.233, 225.2775, 32.277, 146.9475, 175.0455, 76.923, 16.107, 175.917, 102.396, 90.5835, 96.13799999999999, 721.98, 527.751, 343.056, 697.935, 68.985, 435.12, 403.87199999999996, 551.124, 404.649, 401.73, 107.31, 235.74599999999998, 137.004, 107.14200000000001, 145.74, 128.016, 218.0745, 759.675, 575.736, 146.328, 720.3, 794.6505, 764.19, 133.434, 793.716, 76.5765, 14.679, 609.5880000000002, 441.756, 79.149, 415.233, 316.47, 26.796, 291.207, 603.876, 398.958, 545.055, 666.939, 394.63199999999995, 68.2395, 435.45599999999996, 308.91, 180.62099999999998, 246.4875, 94.1745, 356.32800000000015, 187.86599999999999, 164.87099999999995, 313.572, 270.018, 1039.29, 737.7615, 779.31, 165.123, 91.77, 32.1405, 335.895, 146.22299999999996, 149.3625, 77.175, 206.808, 621.243, 63.315, 1003.59, 339.36, 103.131, 288.015, 334.341, 125.664, 451.3635, 25.263, 829.08, 56.40600000000001, 53.151, 255.15, 214.998, 609.168, 232.638, 324.2925, 246.6765, 95.6655, 176.4, 362.712, 369.495, 548.184, 213.528, 90.867, 657.5310000000002, 829.71, 337.51199999999994, 495.3165, 133.35, 16.2015, 530.67, 308.574, 96.579, 397.99199999999996, 299.8485, 90.699, 529.515, 548.73, 618.975, 209.118, 51.1455, 353.094, 437.325, 888.615, 937.818, 439.215, 296.94, 99.75, 277.137, 122.47200000000001, 30.996, 210.96599999999998, 222.012, 311.1885, 116.90700000000001, 16.275, 41.45399999999999, 810.6, 609.0, 329.19599999999997, 167.895, 63.9975, 93.11399999999999, 455.1225, 362.94300000000004, 86.625, 391.41900000000004, 321.111, 178.16400000000004, 208.425, 163.002, 282.57599999999996, 867.09, 49.77, 407.316, 83.727, 586.635, 353.1675, 270.585, 192.843, 284.9175, 494.1825, 352.5795, 80.661, 472.311, 497.07, 673.995, 77.7735, 155.65200000000004, 236.88, 456.288, 350.07, 279.1845, 267.3405, 614.943, 523.3725, 182.91, 35.196, 588.357, 290.0835, 231.2415, 195.72, 63.9135, 771.435, 887.922, 1002.12, 344.4, 697.368, 196.14, 461.286, 212.688, 597.6285, 921.186, 217.2555, 233.1, 300.573, 121.863, 333.9840000000001, 507.906, 603.624, 314.538, 235.683, 289.926, 92.5575, 304.983, 132.02700000000002, 118.06200000000001, 172.011, 394.275, 212.7825, 203.112, 56.1225, 37.6845, 189.0945, 853.1460000000003, 489.048, 120.162, 285.705, 338.2155, 57.078, 180.6, 184.08599999999998, 184.107, 211.365, 633.1080000000002, 254.016, 384.468, 33.431999999999995, 103.0365, 430.71, 453.495, 170.877, 450.1035, 125.51700000000001, 305.55, 140.385, 570.78, 406.875, 611.0790000000002, 202.81799999999998, 829.08, 40.53, 193.011, 92.8725, 628.929, 181.88099999999997, 18.6375, 162.75, 935.2665, 160.44, 135.45, 469.77, 79.67399999999998, 288.582, 432.9885, 550.935, 507.444, 681.975, 122.5245, 543.753, 284.592, 104.83200000000001, 135.3555, 381.3915, 143.9865, 93.744, 49.4235, 728.112, 649.299, 208.67700000000002, 323.14799999999997, 631.1445, 365.085, 78.435, 295.6905, 374.7975, 756.168, 33.936, 317.835, 44.9925, 150.423, 55.041000000000004, 298.116, 195.951, 209.55900000000003, 194.985, 833.595, 918.7289999999999, 217.6335, 97.818, 702.2189999999997, 225.792, 410.50800000000004, 709.317, 510.615, 652.89, 783.3, 484.974, 99.9075, 451.71, 93.0405, 345.0195, 251.7165, 276.948, 131.922, 458.6925, 216.84599999999998, 663.2955, 93.2925, 571.41, 486.444, 206.43, 75.054, 401.26800000000003, 19.2465, 214.137, 195.174, 703.752, 91.56, 173.208, 314.685, 72.009, 532.7280000000002, 128.4255, 520.8, 214.935, 138.1275, 71.52600000000002, 121.12799999999999, 572.775, 681.4395, 431.445, 680.064, 181.0725, 53.34, 95.9175, 264.7575, 510.9615, 130.8825, 255.1815, 187.32, 294.651, 97.419, 207.48, 160.86, 180.873, 950.25, 253.00799999999998, 470.98800000000006, 383.523, 165.9, 33.495, 93.744, 106.596, 228.123, 343.413, 512.19, 932.337, 182.952, 42.3675, 74.4555, 513.2295, 352.67400000000015, 72.933, 58.2225, 92.44200000000001, 432.76800000000003, 49.812, 84.7455, 718.7565, 69.09, 743.82, 13.419, 78.7185, 223.58700000000002, 176.925, 333.9525, 404.54400000000004, 57.87600000000001, 205.317, 31.9305, 568.512, 110.0925, 493.79400000000004, 17.094, 423.15, 596.82, 352.2225, 72.3975, 88.704, 690.018, 33.3585, 616.98, 392.6475, 867.615, 202.335, 554.295, 367.038, 395.892, 545.37, 314.055, 81.396, 145.971, 588.42, 266.028, 807.66, 248.40900000000002, 485.5725, 57.6975, 684.915, 117.831, 521.01, 233.52, 514.605, 470.673, 695.2365, 708.225, 153.048, 280.035, 84.63, 375.3645, 252.252, 561.078, 188.0025, 43.869, 77.931, 628.173, 446.439, 80.955, 138.97799999999998, 183.03599999999997, 580.419, 41.7375, 451.0275, 259.77, 180.4005, 745.395, 127.82700000000001, 536.844, 190.59599999999998, 152.838, 517.965, 786.618, 208.08900000000003, 75.5475, 304.92, 235.2105, 55.881, 190.4805, 416.17800000000005, 804.3, 90.825, 525.231, 827.085, 587.664, 1023.75, 331.1280000000001, 151.284, 97.881, 637.7280000000002, 833.9625, 10.6785, 705.6315, 91.056, 390.9465, 557.7180000000002, 132.762, 461.32800000000003, 369.684, 99.54, 402.2655, 836.304, 820.365, 655.5465, 103.11, 312.8895, 101.64, 266.6475, 145.404, 166.1625, 26.5545, 832.944, 463.42800000000005, 310.0440000000001, 488.985, 250.278, 13.167, 218.0115, 499.7265, 769.1039999999997, 71.568, 441.69300000000004, 76.146, 96.64200000000001, 190.155, 485.037, 96.1905, 69.72, 31.226999999999997, 55.2825, 78.60300000000002, 627.6165, 118.902, 822.255, 208.6875, 89.0715, 341.0925, 590.436, 138.66299999999998, 23.499000000000002, 610.491, 131.208, 182.42700000000002, 523.971, 422.73, 125.979, 624.8969999999998, 736.4385, 82.887, 272.58, 32.150999999999996, 279.384, 94.185, 203.553, 90.3, 256.7775, 132.5625, 701.8515, 69.405, 503.7375, 431.256, 121.59, 26.7225, 760.452, 20.685, 357.588, 429.1665, 34.629, 169.3125, 1022.385, 120.645, 401.68800000000016, 688.6215, 48.7305, 77.6685, 75.936, 214.74599999999998, 151.515, 944.622, 175.014, 273.42, 304.5420000000001, 793.548, 77.658, 240.975, 269.934, 175.14, 291.438, 554.148, 100.12799999999999, 348.705, 207.858, 469.413, 377.58, 31.752, 241.458, 161.553, 951.825, 233.226, 356.5485, 942.4485, 788.508, 269.535, 404.355, 232.155, 418.95, 282.492, 939.54, 242.676, 843.0345, 87.234, 252.75599999999997, 12.6945, 121.569, 734.706, 326.4240000000001, 148.974, 510.972, 174.615, 271.95, 76.35600000000002, 85.5855, 772.38, 835.2855, 688.716, 625.905, 338.31, 745.836, 144.08100000000005, 75.47399999999998, 98.04899999999999, 397.61400000000003, 69.111, 26.733, 608.076, 145.593, 400.764, 185.36700000000002, 284.193, 365.904, 183.645, 345.786, 79.611, 145.5825, 216.4365, 463.89, 321.7725, 297.801, 253.26, 115.185, 732.27, 297.108, 752.64, 287.91, 85.302, 91.4025, 398.475, 351.099, 175.917, 749.49, 30.219, 258.678, 360.92699999999996, 936.6, 317.226, 801.8639999999997, 101.80799999999999, 539.3430000000002, 427.81199999999995, 125.7165, 19.194000000000006, 239.4, 86.24700000000001, 734.076, 336.5565, 195.59400000000002, 163.611, 85.512, 333.207, 30.408, 125.706, 470.98800000000006, 41.39100000000001, 370.125, 154.392, 474.348, 38.85, 442.32300000000004, 60.816, 40.9605, 340.5255, 548.7615, 160.209, 204.24599999999998, 478.233, 270.2595, 125.055, 172.49400000000003, 374.38800000000003, 888.405, 78.0045, 195.25799999999998, 45.108000000000004, 943.299, 367.5525, 206.7975, 527.5095, 420.2625, 1042.65, 140.6475, 343.224, 69.6675, 536.592, 66.402, 203.175, 394.3275, 523.845, 94.2375, 172.2105, 360.885, 135.576, 48.51, 276.948, 548.9715, 433.69199999999995, 586.971, 379.9215, 624.33, 56.952, 28.4235, 95.865, 1034.46, 203.93099999999998, 781.62, 70.28699999999999, 491.085, 152.019, 708.3195, 441.588, 181.44, 273.0525, 306.81, 234.0975, 144.963, 760.4415, 88.368, 309.3615, 226.065, 130.032, 277.6725, 926.9505, 299.565, 44.5935, 479.64, 54.0435, 110.124, 881.307, 77.805, 148.68, 922.635, 24.108, 535.374, 100.9155, 147.798, 257.145, 351.603, 102.837, 22.659000000000002, 165.648, 142.002, 80.22, 262.79400000000004, 271.2885, 63.2625, 174.3, 62.0025, 207.585, 186.22799999999998, 471.03, 221.886, 397.845, 127.26, 440.93699999999995, 74.7075, 461.5275, 742.2975, 860.475, 166.236, 237.426, 20.1075, 46.683, 263.97, 514.773, 200.21400000000003, 177.408, 390.7995, 92.7255, 550.368, 477.1305, 318.108, 142.947, 326.256, 462.67199999999997, 608.202, 69.993, 383.7645, 103.635, 92.295, 145.06799999999996, 263.13, 183.12, 193.4625, 103.78200000000001, 44.352, 150.0975, 104.6745, 119.259, 23.750999999999998, 814.38, 757.365, 103.824, 72.87, 143.22, 731.6925, 914.55, 446.964, 35.3115, 319.788, 36.5505, 749.7, 399.756, 252.042, 247.8735, 139.923, 75.7785, 334.4775, 373.17, 253.68, 354.0075, 171.7275, 204.6975, 217.18200000000002, 439.8975, 156.03, 223.0725, 115.08, 76.755, 640.038, 84.9765, 85.113, 874.125, 32.529, 209.622, 408.7335], \"yaxis\": \"y\"}],\n",
              "                        {\"coloraxis\": {\"colorbar\": {\"title\": {\"text\": \"Cluster_21\"}}, \"colorscale\": [[0.0, \"#E9E5DF\"], [0.5, \"#DB324D\"], [1.0, \"#576069\"]]}, \"legend\": {\"tracegroupgap\": 0}, \"margin\": {\"t\": 60}, \"template\": {\"data\": {\"pie\": [{\"automargin\": true, \"type\": \"pie\"}]}, \"layout\": {\"xaxis\": {\"showgrid\": true, \"title\": {\"standoff\": 15}}, \"yaxis\": {\"showgrid\": true, \"title\": {\"standoff\": 15}}}}, \"xaxis\": {\"anchor\": \"y\", \"domain\": [0.0, 1.0], \"title\": {\"text\": \"Calificacion\"}}, \"yaxis\": {\"anchor\": \"x\", \"domain\": [0.0, 1.0], \"title\": {\"text\": \"Total\"}}},\n",
              "                        {\"responsive\": true}\n",
              "                    ).then(function(){\n",
              "                            \n",
              "var gd = document.getElementById('8046d986-d294-43a0-9844-7c35b3273b30');\n",
              "var x = new MutationObserver(function (mutations, observer) {{\n",
              "        var display = window.getComputedStyle(gd).display;\n",
              "        if (!display || display === 'none') {{\n",
              "            console.log([gd, 'removed!']);\n",
              "            Plotly.purge(gd);\n",
              "            observer.disconnect();\n",
              "        }}\n",
              "}});\n",
              "\n",
              "// Listen for the removal of the full notebook cells\n",
              "var notebookContainer = gd.closest('#notebook-container');\n",
              "if (notebookContainer) {{\n",
              "    x.observe(notebookContainer, {childList: true});\n",
              "}}\n",
              "\n",
              "// Listen for the clearing of the current output cell\n",
              "var outputEl = gd.closest('.output');\n",
              "if (outputEl) {{\n",
              "    x.observe(outputEl, {childList: true});\n",
              "}}\n",
              "\n",
              "                        })\n",
              "                };\n",
              "                \n",
              "            </script>\n",
              "        </div>\n",
              "</body>\n",
              "</html>"
            ]
          },
          "metadata": {}
        }
      ]
    },
    {
      "cell_type": "markdown",
      "source": [
        "## Segunda alternativa: <font color=\"#0A66C2\"><h10>**K = 4** <font> "
      ],
      "metadata": {
        "id": "CosmZIi931db"
      }
    },
    {
      "cell_type": "code",
      "source": [
        "kmeans = KMeans(n_clusters=4, random_state=123,\n",
        "                init='k-means++', n_init=5)\n",
        "kmeans.fit(X)\n",
        "print(kmeans)"
      ],
      "metadata": {
        "colab": {
          "base_uri": "https://localhost:8080/"
        },
        "id": "cCGdPb0G4WsA",
        "outputId": "bcad80fa-bb44-4abd-c780-57958da65f1a"
      },
      "execution_count": null,
      "outputs": [
        {
          "output_type": "stream",
          "name": "stdout",
          "text": [
            "KMeans(n_clusters=4, n_init=5, random_state=123)\n"
          ]
        }
      ]
    },
    {
      "cell_type": "code",
      "source": [
        "datos['Cluster_22']=kmeans.predict(X)\n",
        "datos"
      ],
      "metadata": {
        "colab": {
          "base_uri": "https://localhost:8080/",
          "height": 424
        },
        "id": "YKosAF0K4cFv",
        "outputId": "b5686309-a0ab-4073-98e4-4fd0b5a9b13f"
      },
      "execution_count": null,
      "outputs": [
        {
          "output_type": "execute_result",
          "data": {
            "text/html": [
              "<div>\n",
              "<style scoped>\n",
              "    .dataframe tbody tr th:only-of-type {\n",
              "        vertical-align: middle;\n",
              "    }\n",
              "\n",
              "    .dataframe tbody tr th {\n",
              "        vertical-align: top;\n",
              "    }\n",
              "\n",
              "    .dataframe thead th {\n",
              "        text-align: right;\n",
              "    }\n",
              "</style>\n",
              "<table border=\"1\" class=\"dataframe\">\n",
              "  <thead>\n",
              "    <tr style=\"text-align: right;\">\n",
              "      <th></th>\n",
              "      <th>Factura</th>\n",
              "      <th>Total</th>\n",
              "      <th>Calificacion</th>\n",
              "      <th>Cluster_21</th>\n",
              "      <th>Cluster_22</th>\n",
              "    </tr>\n",
              "  </thead>\n",
              "  <tbody>\n",
              "    <tr>\n",
              "      <th>0</th>\n",
              "      <td>568-88-3448</td>\n",
              "      <td>26.2500</td>\n",
              "      <td>5.5</td>\n",
              "      <td>0</td>\n",
              "      <td>0</td>\n",
              "    </tr>\n",
              "    <tr>\n",
              "      <th>1</th>\n",
              "      <td>397-25-8725</td>\n",
              "      <td>374.4090</td>\n",
              "      <td>6.8</td>\n",
              "      <td>0</td>\n",
              "      <td>0</td>\n",
              "    </tr>\n",
              "    <tr>\n",
              "      <th>2</th>\n",
              "      <td>275-28-0149</td>\n",
              "      <td>66.8745</td>\n",
              "      <td>6.0</td>\n",
              "      <td>0</td>\n",
              "      <td>0</td>\n",
              "    </tr>\n",
              "    <tr>\n",
              "      <th>3</th>\n",
              "      <td>210-74-9613</td>\n",
              "      <td>408.4920</td>\n",
              "      <td>6.8</td>\n",
              "      <td>0</td>\n",
              "      <td>0</td>\n",
              "    </tr>\n",
              "    <tr>\n",
              "      <th>4</th>\n",
              "      <td>263-12-5321</td>\n",
              "      <td>680.6100</td>\n",
              "      <td>9.3</td>\n",
              "      <td>1</td>\n",
              "      <td>3</td>\n",
              "    </tr>\n",
              "    <tr>\n",
              "      <th>...</th>\n",
              "      <td>...</td>\n",
              "      <td>...</td>\n",
              "      <td>...</td>\n",
              "      <td>...</td>\n",
              "      <td>...</td>\n",
              "    </tr>\n",
              "    <tr>\n",
              "      <th>895</th>\n",
              "      <td>225-98-1496</td>\n",
              "      <td>85.1130</td>\n",
              "      <td>7.1</td>\n",
              "      <td>0</td>\n",
              "      <td>0</td>\n",
              "    </tr>\n",
              "    <tr>\n",
              "      <th>896</th>\n",
              "      <td>852-62-7105</td>\n",
              "      <td>874.1250</td>\n",
              "      <td>4.4</td>\n",
              "      <td>1</td>\n",
              "      <td>1</td>\n",
              "    </tr>\n",
              "    <tr>\n",
              "      <th>897</th>\n",
              "      <td>859-71-0933</td>\n",
              "      <td>32.5290</td>\n",
              "      <td>6.3</td>\n",
              "      <td>0</td>\n",
              "      <td>0</td>\n",
              "    </tr>\n",
              "    <tr>\n",
              "      <th>898</th>\n",
              "      <td>446-47-6729</td>\n",
              "      <td>209.6220</td>\n",
              "      <td>6.7</td>\n",
              "      <td>0</td>\n",
              "      <td>0</td>\n",
              "    </tr>\n",
              "    <tr>\n",
              "      <th>899</th>\n",
              "      <td>733-29-1227</td>\n",
              "      <td>408.7335</td>\n",
              "      <td>8.5</td>\n",
              "      <td>2</td>\n",
              "      <td>3</td>\n",
              "    </tr>\n",
              "  </tbody>\n",
              "</table>\n",
              "<p>900 rows × 5 columns</p>\n",
              "</div>"
            ],
            "text/plain": [
              "         Factura     Total  Calificacion  Cluster_21  Cluster_22\n",
              "0    568-88-3448   26.2500           5.5           0           0\n",
              "1    397-25-8725  374.4090           6.8           0           0\n",
              "2    275-28-0149   66.8745           6.0           0           0\n",
              "3    210-74-9613  408.4920           6.8           0           0\n",
              "4    263-12-5321  680.6100           9.3           1           3\n",
              "..           ...       ...           ...         ...         ...\n",
              "895  225-98-1496   85.1130           7.1           0           0\n",
              "896  852-62-7105  874.1250           4.4           1           1\n",
              "897  859-71-0933   32.5290           6.3           0           0\n",
              "898  446-47-6729  209.6220           6.7           0           0\n",
              "899  733-29-1227  408.7335           8.5           2           3\n",
              "\n",
              "[900 rows x 5 columns]"
            ]
          },
          "metadata": {},
          "execution_count": 35
        }
      ]
    },
    {
      "cell_type": "markdown",
      "source": [
        "**Decimos quedarnos con esta alternativa de 4 clusters**."
      ],
      "metadata": {
        "id": "f3NFOTzgs8ZQ"
      }
    },
    {
      "cell_type": "code",
      "source": [
        "datos.to_csv('cluster_02_modelo_tarea_02.csv') \n",
        "files.download('cluster_02_modelo_tarea_02.csv')"
      ],
      "metadata": {
        "colab": {
          "base_uri": "https://localhost:8080/",
          "height": 17
        },
        "id": "IW-AER6TkV0F",
        "outputId": "8aaf233f-e07c-4651-edbd-f1bec54e76ef"
      },
      "execution_count": null,
      "outputs": [
        {
          "output_type": "display_data",
          "data": {
            "application/javascript": [
              "\n",
              "    async function download(id, filename, size) {\n",
              "      if (!google.colab.kernel.accessAllowed) {\n",
              "        return;\n",
              "      }\n",
              "      const div = document.createElement('div');\n",
              "      const label = document.createElement('label');\n",
              "      label.textContent = `Downloading \"${filename}\": `;\n",
              "      div.appendChild(label);\n",
              "      const progress = document.createElement('progress');\n",
              "      progress.max = size;\n",
              "      div.appendChild(progress);\n",
              "      document.body.appendChild(div);\n",
              "\n",
              "      const buffers = [];\n",
              "      let downloaded = 0;\n",
              "\n",
              "      const channel = await google.colab.kernel.comms.open(id);\n",
              "      // Send a message to notify the kernel that we're ready.\n",
              "      channel.send({})\n",
              "\n",
              "      for await (const message of channel.messages) {\n",
              "        // Send a message to notify the kernel that we're ready.\n",
              "        channel.send({})\n",
              "        if (message.buffers) {\n",
              "          for (const buffer of message.buffers) {\n",
              "            buffers.push(buffer);\n",
              "            downloaded += buffer.byteLength;\n",
              "            progress.value = downloaded;\n",
              "          }\n",
              "        }\n",
              "      }\n",
              "      const blob = new Blob(buffers, {type: 'application/binary'});\n",
              "      const a = document.createElement('a');\n",
              "      a.href = window.URL.createObjectURL(blob);\n",
              "      a.download = filename;\n",
              "      div.appendChild(a);\n",
              "      a.click();\n",
              "      div.remove();\n",
              "    }\n",
              "  "
            ],
            "text/plain": [
              "<IPython.core.display.Javascript object>"
            ]
          },
          "metadata": {}
        },
        {
          "output_type": "display_data",
          "data": {
            "application/javascript": [
              "download(\"download_af0ea1b0-0a03-478b-a703-e4497f730489\", \"cluster_02_modelo_tarea_02.csv\", 30139)"
            ],
            "text/plain": [
              "<IPython.core.display.Javascript object>"
            ]
          },
          "metadata": {}
        }
      ]
    },
    {
      "cell_type": "code",
      "source": [
        "fig = px.scatter(datos,'Calificacion',\n",
        "                 'Total',\n",
        "                 color = 'Cluster_22',\n",
        "                 color_continuous_scale=['#E9E5DF', '#DB324D', '#576069', '#193C75'],\n",
        "                 template = 'gridon')\n",
        "fig.show()"
      ],
      "metadata": {
        "colab": {
          "base_uri": "https://localhost:8080/",
          "height": 542
        },
        "id": "zsTga_pJ4ijH",
        "outputId": "23271c5b-b371-4ecf-9866-e0e6e8bcf611"
      },
      "execution_count": null,
      "outputs": [
        {
          "output_type": "display_data",
          "data": {
            "text/html": [
              "<html>\n",
              "<head><meta charset=\"utf-8\" /></head>\n",
              "<body>\n",
              "    <div>\n",
              "            <script src=\"https://cdnjs.cloudflare.com/ajax/libs/mathjax/2.7.5/MathJax.js?config=TeX-AMS-MML_SVG\"></script><script type=\"text/javascript\">if (window.MathJax) {MathJax.Hub.Config({SVG: {font: \"STIX-Web\"}});}</script>\n",
              "                <script type=\"text/javascript\">window.PlotlyConfig = {MathJaxConfig: 'local'};</script>\n",
              "        <script src=\"https://cdn.plot.ly/plotly-latest.min.js\"></script>    \n",
              "            <div id=\"4a92090d-6bbf-4055-b6c7-567256ffaa77\" class=\"plotly-graph-div\" style=\"height:525px; width:100%;\"></div>\n",
              "            <script type=\"text/javascript\">\n",
              "                \n",
              "                    window.PLOTLYENV=window.PLOTLYENV || {};\n",
              "                    \n",
              "                if (document.getElementById(\"4a92090d-6bbf-4055-b6c7-567256ffaa77\")) {\n",
              "                    Plotly.newPlot(\n",
              "                        '4a92090d-6bbf-4055-b6c7-567256ffaa77',\n",
              "                        [{\"hoverlabel\": {\"namelength\": 0}, \"hovertemplate\": \"Calificacion=%{x}<br>Total=%{y}<br>Cluster_22=%{marker.color}\", \"legendgroup\": \"\", \"marker\": {\"color\": [0, 0, 0, 0, 3, 3, 0, 3, 0, 2, 0, 3, 0, 1, 0, 2, 2, 0, 0, 1, 0, 1, 3, 3, 0, 0, 3, 3, 3, 3, 3, 1, 0, 0, 2, 2, 2, 0, 2, 0, 1, 0, 1, 2, 3, 0, 0, 3, 3, 0, 1, 0, 2, 3, 0, 0, 0, 0, 1, 0, 2, 3, 0, 1, 1, 2, 2, 2, 2, 0, 0, 0, 1, 3, 0, 1, 2, 2, 2, 0, 1, 3, 2, 0, 2, 0, 0, 2, 0, 0, 0, 0, 2, 3, 1, 2, 1, 0, 0, 3, 1, 3, 2, 0, 2, 2, 0, 2, 0, 2, 1, 3, 2, 3, 3, 3, 0, 3, 0, 2, 1, 3, 2, 0, 2, 2, 2, 1, 2, 3, 1, 2, 0, 1, 2, 2, 0, 0, 0, 0, 2, 2, 0, 3, 1, 1, 2, 0, 0, 2, 0, 2, 2, 2, 3, 0, 1, 2, 0, 2, 2, 2, 3, 0, 3, 0, 2, 0, 0, 1, 2, 0, 0, 0, 0, 2, 2, 1, 0, 0, 3, 3, 2, 3, 2, 0, 1, 0, 2, 3, 0, 0, 3, 1, 3, 0, 0, 0, 1, 3, 3, 3, 0, 0, 0, 0, 0, 2, 2, 0, 0, 2, 0, 1, 3, 2, 2, 0, 0, 3, 2, 0, 2, 0, 2, 2, 0, 2, 1, 2, 2, 2, 1, 0, 0, 2, 0, 1, 0, 2, 1, 3, 1, 2, 2, 0, 1, 2, 0, 2, 3, 3, 0, 0, 3, 0, 0, 0, 0, 3, 3, 1, 0, 1, 0, 3, 2, 1, 3, 2, 0, 0, 2, 2, 3, 1, 0, 0, 0, 2, 0, 0, 2, 2, 2, 0, 2, 2, 2, 0, 3, 3, 2, 0, 0, 0, 2, 0, 2, 2, 3, 2, 0, 2, 2, 3, 3, 0, 1, 0, 2, 2, 1, 1, 1, 0, 3, 0, 2, 2, 3, 2, 2, 2, 1, 0, 0, 3, 0, 0, 3, 3, 3, 1, 2, 1, 2, 0, 2, 0, 2, 0, 0, 3, 1, 0, 2, 3, 0, 0, 2, 0, 1, 0, 2, 2, 2, 0, 0, 0, 2, 0, 1, 1, 2, 0, 3, 2, 0, 1, 3, 1, 3, 1, 0, 1, 2, 0, 0, 0, 0, 1, 2, 1, 0, 1, 3, 2, 0, 0, 0, 2, 0, 1, 2, 0, 2, 2, 3, 0, 1, 2, 2, 0, 0, 3, 3, 3, 3, 2, 0, 0, 2, 3, 0, 2, 0, 0, 2, 2, 0, 2, 3, 2, 3, 2, 2, 2, 0, 0, 2, 2, 1, 3, 2, 0, 2, 3, 0, 2, 0, 0, 3, 0, 2, 1, 0, 1, 2, 0, 0, 0, 0, 0, 2, 0, 2, 1, 2, 1, 0, 3, 3, 2, 2, 2, 3, 2, 3, 0, 3, 0, 3, 2, 2, 1, 0, 0, 2, 1, 0, 1, 2, 3, 2, 1, 0, 3, 0, 1, 1, 1, 1, 0, 2, 0, 0, 0, 3, 2, 2, 2, 3, 1, 0, 2, 2, 3, 0, 3, 0, 0, 1, 2, 1, 2, 0, 3, 3, 0, 2, 0, 2, 0, 0, 3, 1, 0, 1, 1, 1, 3, 0, 2, 0, 1, 3, 0, 3, 2, 0, 3, 2, 3, 2, 0, 3, 1, 1, 1, 0, 0, 2, 0, 0, 2, 0, 1, 3, 0, 3, 2, 2, 0, 1, 1, 0, 1, 2, 2, 0, 1, 2, 0, 2, 0, 0, 1, 2, 1, 2, 2, 0, 1, 2, 2, 1, 2, 0, 3, 1, 2, 1, 3, 0, 2, 0, 0, 0, 2, 0, 0, 0, 3, 0, 3, 3, 2, 0, 1, 2, 0, 3, 0, 2, 1, 0, 3, 1, 0, 0, 2, 0, 2, 1, 2, 2, 0, 3, 0, 2, 2, 0, 2, 3, 0, 0, 0, 1, 0, 2, 0, 0, 3, 0, 0, 1, 3, 2, 0, 2, 0, 2, 3, 2, 1, 0, 2, 2, 2, 1, 2, 0, 3, 0, 2, 0, 2, 3, 1, 1, 1, 0, 1, 0, 0, 2, 0, 0, 0, 1, 2, 0, 2, 0, 0, 0, 2, 0, 0, 2, 3, 0, 2, 0, 0, 3, 0, 1, 2, 0, 0, 2, 0, 0, 1, 2, 2, 0, 1, 2, 1, 0, 3, 3, 2, 2, 0, 0, 3, 0, 0, 2, 2, 2, 0, 0, 3, 2, 0, 0, 3, 2, 3, 0, 0, 2, 1, 0, 2, 3, 2, 0, 2, 2, 3, 0, 2, 0, 1, 0, 2, 3, 3, 1, 0, 0, 2, 3, 2, 2, 0, 1, 0, 2, 0, 2, 0, 0, 3, 1, 1, 0, 1, 2, 0, 2, 1, 2, 1, 0, 3, 2, 1, 1, 2, 2, 0, 2, 2, 3, 2, 2, 2, 2, 2, 3, 2, 0, 1, 2, 0, 3, 2, 0, 1, 0, 3, 2, 0, 2, 2, 0, 2, 2, 0, 2, 2, 0, 0, 2, 2, 0, 2, 3, 0, 2, 2, 1, 0, 1, 3, 1, 2, 0, 2, 2, 2, 3, 2, 0, 2, 0, 3, 1, 2, 2, 2, 3, 3, 0, 0, 2, 0, 0, 0, 2, 2, 2, 2, 2, 2, 2, 0, 1, 1, 2, 2, 2, 3, 3, 1, 0, 2, 0, 1, 0, 0, 0, 2, 0, 2, 0, 0, 0, 2, 0, 2, 1, 2, 2, 0, 0, 1, 2, 0, 1, 0, 0, 3], \"coloraxis\": \"coloraxis\", \"symbol\": \"circle\"}, \"mode\": \"markers\", \"name\": \"\", \"showlegend\": false, \"type\": \"scatter\", \"x\": [5.5, 6.8, 6.0, 6.8, 9.3, 10.0, 4.1, 7.1, 6.5, 8.0, 6.0, 7.5, 7.1, 4.2, 4.7, 9.6, 7.2, 4.0, 5.1, 6.0, 5.7, 4.4, 9.6, 7.7, 6.2, 5.1, 7.5, 9.5, 8.7, 8.7, 8.7, 5.5, 4.0, 5.9, 8.5, 7.3, 9.7, 5.6, 8.0, 5.9, 4.3, 6.5, 4.7, 7.4, 8.7, 4.9, 6.5, 6.9, 8.9, 6.7, 5.3, 5.4, 8.0, 9.3, 6.6, 4.8, 4.3, 7.0, 4.3, 6.0, 9.7, 7.3, 5.8, 5.5, 4.8, 9.8, 8.4, 7.9, 9.5, 5.9, 5.1, 5.8, 5.4, 8.2, 4.4, 5.6, 8.1, 7.8, 8.9, 4.7, 6.3, 9.3, 8.7, 6.1, 7.2, 5.0, 5.9, 9.7, 6.5, 7.0, 6.8, 7.0, 9.8, 7.5, 5.4, 9.1, 5.0, 4.7, 6.6, 8.4, 5.1, 8.9, 9.9, 5.7, 8.6, 9.0, 6.8, 9.0, 4.9, 8.1, 5.4, 8.5, 7.4, 9.1, 8.0, 7.3, 6.2, 7.5, 4.3, 9.8, 4.6, 8.5, 9.5, 5.7, 9.2, 7.8, 7.5, 5.5, 9.3, 8.2, 6.2, 9.5, 4.5, 5.6, 8.9, 7.9, 7.1, 4.9, 5.7, 7.1, 9.2, 8.5, 5.1, 8.7, 4.5, 4.3, 7.5, 4.9, 5.2, 9.9, 4.4, 9.1, 8.5, 9.2, 7.7, 6.0, 4.8, 10.0, 7.0, 9.8, 9.6, 8.6, 9.8, 5.1, 7.6, 6.4, 7.2, 4.8, 4.7, 4.0, 8.0, 6.7, 5.4, 5.1, 4.8, 8.3, 8.4, 6.3, 6.7, 5.7, 7.8, 9.2, 8.3, 6.9, 8.6, 6.1, 4.3, 6.0, 9.8, 7.8, 5.9, 6.7, 7.7, 6.2, 8.1, 6.4, 4.1, 4.4, 5.4, 9.0, 9.0, 7.2, 4.5, 5.2, 5.1, 6.0, 4.3, 9.0, 8.9, 6.4, 6.0, 7.4, 6.5, 5.6, 9.2, 7.9, 7.5, 5.9, 5.8, 9.4, 7.3, 6.5, 7.4, 4.2, 9.4, 9.0, 4.9, 9.3, 5.0, 9.5, 9.4, 7.3, 5.8, 6.9, 4.2, 9.3, 4.6, 4.8, 6.2, 7.2, 5.7, 7.6, 6.7, 9.9, 9.7, 4.8, 5.4, 7.6, 6.0, 7.4, 9.9, 9.9, 7.0, 6.7, 10.0, 4.2, 4.0, 6.0, 5.5, 9.5, 9.8, 5.2, 6.2, 4.2, 5.5, 7.2, 8.7, 6.3, 7.4, 8.7, 6.6, 4.4, 8.8, 9.2, 9.1, 6.2, 4.2, 5.6, 7.1, 8.5, 6.7, 5.0, 7.7, 7.8, 9.3, 6.0, 9.8, 7.6, 7.9, 4.1, 7.2, 8.4, 8.3, 6.1, 5.1, 4.3, 7.6, 5.0, 7.7, 7.5, 8.4, 7.3, 4.8, 7.7, 8.9, 7.6, 8.2, 6.5, 5.0, 5.8, 9.4, 9.7, 6.1, 4.3, 6.6, 5.1, 8.5, 6.7, 9.9, 9.5, 8.5, 7.7, 8.6, 8.0, 6.7, 6.5, 6.5, 7.4, 7.1, 4.1, 9.7, 8.8, 9.6, 5.2, 7.4, 4.1, 9.6, 7.0, 9.3, 4.5, 7.7, 4.4, 5.8, 7.2, 6.6, 5.2, 7.7, 8.0, 5.2, 4.1, 9.6, 5.5, 4.5, 6.5, 8.9, 9.3, 8.8, 6.3, 5.5, 6.3, 8.0, 5.0, 6.2, 6.0, 7.9, 5.9, 9.6, 9.2, 6.4, 6.2, 8.8, 6.0, 9.5, 5.6, 6.0, 4.8, 7.7, 4.2, 5.0, 6.0, 4.9, 6.6, 9.8, 6.7, 5.4, 5.3, 8.1, 7.2, 6.5, 4.5, 4.3, 7.7, 7.0, 5.1, 8.1, 7.1, 7.2, 7.7, 7.4, 5.8, 6.2, 9.9, 8.8, 6.8, 6.4, 7.1, 7.7, 7.3, 7.4, 9.0, 4.1, 6.8, 9.8, 9.5, 6.0, 9.3, 6.6, 6.0, 9.8, 7.7, 5.7, 8.2, 8.1, 7.7, 7.6, 9.3, 7.8, 9.1, 4.1, 4.3, 8.2, 7.8, 5.3, 8.4, 8.7, 6.2, 8.3, 8.9, 5.1, 9.7, 4.9, 6.6, 9.6, 6.8, 8.1, 4.9, 5.6, 4.7, 9.5, 5.6, 4.1, 5.3, 4.8, 5.2, 9.0, 6.3, 8.4, 6.2, 7.8, 5.8, 5.0, 7.0, 8.1, 9.1, 7.8, 7.6, 7.3, 8.7, 9.0, 4.9, 7.9, 5.6, 10.0, 9.9, 8.6, 6.5, 4.7, 6.6, 8.1, 4.4, 5.6, 5.6, 9.4, 8.6, 9.3, 5.2, 6.3, 7.4, 4.2, 4.2, 6.7, 4.9, 4.2, 6.1, 8.6, 4.4, 7.0, 5.4, 9.9, 7.9, 9.8, 10.0, 7.9, 5.0, 6.1, 7.9, 9.7, 8.3, 6.1, 8.6, 7.1, 6.5, 5.7, 8.7, 4.6, 8.7, 4.0, 9.4, 7.4, 6.8, 7.3, 5.3, 7.4, 4.2, 5.6, 7.3, 6.0, 6.2, 4.5, 6.4, 6.4, 8.0, 4.6, 9.5, 6.6, 5.5, 7.6, 5.9, 9.4, 7.9, 5.0, 8.9, 8.5, 7.6, 8.8, 4.1, 8.5, 5.2, 4.4, 4.0, 6.4, 6.8, 8.6, 5.3, 4.9, 9.3, 6.1, 4.2, 8.6, 6.7, 7.6, 9.8, 8.2, 4.9, 5.7, 6.0, 7.0, 5.2, 7.2, 9.1, 5.9, 6.1, 9.8, 4.4, 8.9, 5.8, 6.9, 4.1, 8.2, 6.6, 9.6, 8.8, 6.5, 4.5, 7.6, 8.6, 4.0, 9.1, 7.1, 7.3, 5.0, 7.9, 5.5, 7.6, 5.0, 7.5, 4.1, 6.9, 6.8, 8.8, 6.2, 6.6, 6.1, 8.7, 4.3, 8.8, 7.6, 7.5, 5.1, 6.5, 9.5, 5.6, 8.2, 4.6, 9.0, 4.9, 6.8, 7.9, 4.5, 4.0, 5.4, 9.5, 4.0, 8.0, 4.2, 7.6, 9.9, 6.4, 9.1, 5.0, 8.2, 7.7, 6.3, 9.5, 8.4, 4.1, 6.0, 6.6, 5.0, 4.3, 8.4, 6.6, 5.1, 7.3, 4.5, 5.2, 6.5, 8.3, 9.1, 5.5, 8.6, 5.9, 8.0, 9.6, 7.2, 6.5, 4.7, 9.4, 8.2, 8.9, 6.1, 8.8, 6.9, 8.5, 4.2, 8.7, 7.1, 9.2, 8.0, 6.3, 4.0, 5.3, 6.6, 4.1, 6.5, 6.4, 9.6, 6.8, 4.1, 5.2, 4.5, 9.7, 6.4, 8.2, 6.2, 4.2, 6.6, 7.5, 5.8, 4.2, 8.7, 9.6, 7.0, 8.8, 5.8, 5.3, 8.9, 4.4, 6.6, 9.2, 4.1, 4.9, 9.7, 7.0, 4.6, 5.7, 7.2, 8.3, 5.9, 4.4, 8.3, 4.7, 4.3, 9.5, 9.2, 9.3, 8.3, 6.6, 6.3, 9.8, 7.0, 4.1, 7.9, 9.5, 9.8, 6.2, 6.7, 7.3, 8.4, 5.9, 4.6, 7.3, 7.9, 7.4, 4.5, 4.7, 7.4, 4.3, 7.0, 7.6, 8.7, 7.4, 5.4, 7.9, 7.8, 8.8, 5.0, 8.0, 6.6, 6.6, 5.5, 8.7, 8.9, 9.4, 6.6, 6.2, 6.5, 9.7, 9.9, 7.3, 7.8, 5.2, 5.4, 6.6, 8.6, 6.7, 9.4, 6.3, 6.9, 9.1, 5.8, 5.5, 5.5, 4.2, 8.0, 5.3, 9.2, 4.5, 7.3, 5.1, 6.7, 8.0, 8.1, 6.0, 4.5, 9.9, 7.7, 4.9, 8.5, 7.9, 9.2, 7.6, 7.8, 7.7, 8.5, 7.9, 9.3, 7.8, 5.7, 5.7, 8.5, 6.1, 8.8, 9.2, 6.2, 5.1, 4.3, 8.4, 7.8, 6.4, 8.1, 9.9, 6.9, 7.2, 9.1, 6.9, 9.6, 9.5, 6.7, 5.5, 8.2, 9.4, 5.0, 9.6, 8.2, 6.5, 9.8, 8.4, 5.3, 4.4, 4.4, 7.2, 6.0, 8.7, 5.5, 9.5, 8.7, 8.7, 8.0, 9.1, 6.3, 8.9, 5.2, 9.7, 5.4, 7.6, 7.2, 8.4, 8.0, 8.6, 6.4, 7.0, 9.1, 6.7, 6.9, 4.2, 8.3, 9.2, 8.4, 9.7, 9.5, 8.0, 8.1, 6.4, 6.9, 4.2, 9.9, 8.2, 8.6, 7.6, 9.9, 5.0, 5.6, 8.8, 7.0, 4.7, 5.7, 4.5, 5.9, 8.6, 6.1, 8.5, 7.0, 5.1, 6.3, 9.9, 6.0, 9.8, 6.4, 8.3, 8.0, 6.0, 4.4, 5.5, 9.0, 7.1, 4.4, 6.3, 6.7, 8.5], \"xaxis\": \"x\", \"y\": [26.25, 374.409, 66.8745, 408.49199999999996, 680.61, 520.4115, 112.22399999999999, 629.496, 217.6335, 65.7405, 106.995, 579.8415, 198.99599999999998, 480.0285, 83.412, 41.076, 293.643, 99.33, 191.247, 575.9775, 288.204, 465.444, 462.21, 565.215, 225.015, 281.16900000000004, 423.73800000000006, 763.4655, 723.24, 767.025, 1020.705, 503.559, 54.9675, 172.74599999999995, 195.678, 91.8225, 263.97, 197.925, 181.81799999999998, 293.202, 742.812, 71.1585, 575.316, 98.02799999999999, 796.908, 272.664, 419.832, 457.44300000000004, 494.76, 222.138, 629.16, 299.3655, 136.143, 680.148, 133.917, 165.4485, 261.198, 328.755, 667.38, 137.865, 168.21, 931.035, 54.998999999999995, 452.865, 477.54, 47.858999999999995, 244.23, 49.308, 164.43, 295.407, 362.81699999999995, 166.635, 942.9, 722.232, 51.0405, 830.3715, 37.611, 151.4835, 265.10400000000004, 56.468999999999994, 852.705, 509.4075, 163.233, 225.2775, 32.277, 146.9475, 175.0455, 76.923, 16.107, 175.917, 102.396, 90.5835, 96.13799999999999, 721.98, 527.751, 343.056, 697.935, 68.985, 435.12, 403.87199999999996, 551.124, 404.649, 401.73, 107.31, 235.74599999999998, 137.004, 107.14200000000001, 145.74, 128.016, 218.0745, 759.675, 575.736, 146.328, 720.3, 794.6505, 764.19, 133.434, 793.716, 76.5765, 14.679, 609.5880000000002, 441.756, 79.149, 415.233, 316.47, 26.796, 291.207, 603.876, 398.958, 545.055, 666.939, 394.63199999999995, 68.2395, 435.45599999999996, 308.91, 180.62099999999998, 246.4875, 94.1745, 356.32800000000015, 187.86599999999999, 164.87099999999995, 313.572, 270.018, 1039.29, 737.7615, 779.31, 165.123, 91.77, 32.1405, 335.895, 146.22299999999996, 149.3625, 77.175, 206.808, 621.243, 63.315, 1003.59, 339.36, 103.131, 288.015, 334.341, 125.664, 451.3635, 25.263, 829.08, 56.40600000000001, 53.151, 255.15, 214.998, 609.168, 232.638, 324.2925, 246.6765, 95.6655, 176.4, 362.712, 369.495, 548.184, 213.528, 90.867, 657.5310000000002, 829.71, 337.51199999999994, 495.3165, 133.35, 16.2015, 530.67, 308.574, 96.579, 397.99199999999996, 299.8485, 90.699, 529.515, 548.73, 618.975, 209.118, 51.1455, 353.094, 437.325, 888.615, 937.818, 439.215, 296.94, 99.75, 277.137, 122.47200000000001, 30.996, 210.96599999999998, 222.012, 311.1885, 116.90700000000001, 16.275, 41.45399999999999, 810.6, 609.0, 329.19599999999997, 167.895, 63.9975, 93.11399999999999, 455.1225, 362.94300000000004, 86.625, 391.41900000000004, 321.111, 178.16400000000004, 208.425, 163.002, 282.57599999999996, 867.09, 49.77, 407.316, 83.727, 586.635, 353.1675, 270.585, 192.843, 284.9175, 494.1825, 352.5795, 80.661, 472.311, 497.07, 673.995, 77.7735, 155.65200000000004, 236.88, 456.288, 350.07, 279.1845, 267.3405, 614.943, 523.3725, 182.91, 35.196, 588.357, 290.0835, 231.2415, 195.72, 63.9135, 771.435, 887.922, 1002.12, 344.4, 697.368, 196.14, 461.286, 212.688, 597.6285, 921.186, 217.2555, 233.1, 300.573, 121.863, 333.9840000000001, 507.906, 603.624, 314.538, 235.683, 289.926, 92.5575, 304.983, 132.02700000000002, 118.06200000000001, 172.011, 394.275, 212.7825, 203.112, 56.1225, 37.6845, 189.0945, 853.1460000000003, 489.048, 120.162, 285.705, 338.2155, 57.078, 180.6, 184.08599999999998, 184.107, 211.365, 633.1080000000002, 254.016, 384.468, 33.431999999999995, 103.0365, 430.71, 453.495, 170.877, 450.1035, 125.51700000000001, 305.55, 140.385, 570.78, 406.875, 611.0790000000002, 202.81799999999998, 829.08, 40.53, 193.011, 92.8725, 628.929, 181.88099999999997, 18.6375, 162.75, 935.2665, 160.44, 135.45, 469.77, 79.67399999999998, 288.582, 432.9885, 550.935, 507.444, 681.975, 122.5245, 543.753, 284.592, 104.83200000000001, 135.3555, 381.3915, 143.9865, 93.744, 49.4235, 728.112, 649.299, 208.67700000000002, 323.14799999999997, 631.1445, 365.085, 78.435, 295.6905, 374.7975, 756.168, 33.936, 317.835, 44.9925, 150.423, 55.041000000000004, 298.116, 195.951, 209.55900000000003, 194.985, 833.595, 918.7289999999999, 217.6335, 97.818, 702.2189999999997, 225.792, 410.50800000000004, 709.317, 510.615, 652.89, 783.3, 484.974, 99.9075, 451.71, 93.0405, 345.0195, 251.7165, 276.948, 131.922, 458.6925, 216.84599999999998, 663.2955, 93.2925, 571.41, 486.444, 206.43, 75.054, 401.26800000000003, 19.2465, 214.137, 195.174, 703.752, 91.56, 173.208, 314.685, 72.009, 532.7280000000002, 128.4255, 520.8, 214.935, 138.1275, 71.52600000000002, 121.12799999999999, 572.775, 681.4395, 431.445, 680.064, 181.0725, 53.34, 95.9175, 264.7575, 510.9615, 130.8825, 255.1815, 187.32, 294.651, 97.419, 207.48, 160.86, 180.873, 950.25, 253.00799999999998, 470.98800000000006, 383.523, 165.9, 33.495, 93.744, 106.596, 228.123, 343.413, 512.19, 932.337, 182.952, 42.3675, 74.4555, 513.2295, 352.67400000000015, 72.933, 58.2225, 92.44200000000001, 432.76800000000003, 49.812, 84.7455, 718.7565, 69.09, 743.82, 13.419, 78.7185, 223.58700000000002, 176.925, 333.9525, 404.54400000000004, 57.87600000000001, 205.317, 31.9305, 568.512, 110.0925, 493.79400000000004, 17.094, 423.15, 596.82, 352.2225, 72.3975, 88.704, 690.018, 33.3585, 616.98, 392.6475, 867.615, 202.335, 554.295, 367.038, 395.892, 545.37, 314.055, 81.396, 145.971, 588.42, 266.028, 807.66, 248.40900000000002, 485.5725, 57.6975, 684.915, 117.831, 521.01, 233.52, 514.605, 470.673, 695.2365, 708.225, 153.048, 280.035, 84.63, 375.3645, 252.252, 561.078, 188.0025, 43.869, 77.931, 628.173, 446.439, 80.955, 138.97799999999998, 183.03599999999997, 580.419, 41.7375, 451.0275, 259.77, 180.4005, 745.395, 127.82700000000001, 536.844, 190.59599999999998, 152.838, 517.965, 786.618, 208.08900000000003, 75.5475, 304.92, 235.2105, 55.881, 190.4805, 416.17800000000005, 804.3, 90.825, 525.231, 827.085, 587.664, 1023.75, 331.1280000000001, 151.284, 97.881, 637.7280000000002, 833.9625, 10.6785, 705.6315, 91.056, 390.9465, 557.7180000000002, 132.762, 461.32800000000003, 369.684, 99.54, 402.2655, 836.304, 820.365, 655.5465, 103.11, 312.8895, 101.64, 266.6475, 145.404, 166.1625, 26.5545, 832.944, 463.42800000000005, 310.0440000000001, 488.985, 250.278, 13.167, 218.0115, 499.7265, 769.1039999999997, 71.568, 441.69300000000004, 76.146, 96.64200000000001, 190.155, 485.037, 96.1905, 69.72, 31.226999999999997, 55.2825, 78.60300000000002, 627.6165, 118.902, 822.255, 208.6875, 89.0715, 341.0925, 590.436, 138.66299999999998, 23.499000000000002, 610.491, 131.208, 182.42700000000002, 523.971, 422.73, 125.979, 624.8969999999998, 736.4385, 82.887, 272.58, 32.150999999999996, 279.384, 94.185, 203.553, 90.3, 256.7775, 132.5625, 701.8515, 69.405, 503.7375, 431.256, 121.59, 26.7225, 760.452, 20.685, 357.588, 429.1665, 34.629, 169.3125, 1022.385, 120.645, 401.68800000000016, 688.6215, 48.7305, 77.6685, 75.936, 214.74599999999998, 151.515, 944.622, 175.014, 273.42, 304.5420000000001, 793.548, 77.658, 240.975, 269.934, 175.14, 291.438, 554.148, 100.12799999999999, 348.705, 207.858, 469.413, 377.58, 31.752, 241.458, 161.553, 951.825, 233.226, 356.5485, 942.4485, 788.508, 269.535, 404.355, 232.155, 418.95, 282.492, 939.54, 242.676, 843.0345, 87.234, 252.75599999999997, 12.6945, 121.569, 734.706, 326.4240000000001, 148.974, 510.972, 174.615, 271.95, 76.35600000000002, 85.5855, 772.38, 835.2855, 688.716, 625.905, 338.31, 745.836, 144.08100000000005, 75.47399999999998, 98.04899999999999, 397.61400000000003, 69.111, 26.733, 608.076, 145.593, 400.764, 185.36700000000002, 284.193, 365.904, 183.645, 345.786, 79.611, 145.5825, 216.4365, 463.89, 321.7725, 297.801, 253.26, 115.185, 732.27, 297.108, 752.64, 287.91, 85.302, 91.4025, 398.475, 351.099, 175.917, 749.49, 30.219, 258.678, 360.92699999999996, 936.6, 317.226, 801.8639999999997, 101.80799999999999, 539.3430000000002, 427.81199999999995, 125.7165, 19.194000000000006, 239.4, 86.24700000000001, 734.076, 336.5565, 195.59400000000002, 163.611, 85.512, 333.207, 30.408, 125.706, 470.98800000000006, 41.39100000000001, 370.125, 154.392, 474.348, 38.85, 442.32300000000004, 60.816, 40.9605, 340.5255, 548.7615, 160.209, 204.24599999999998, 478.233, 270.2595, 125.055, 172.49400000000003, 374.38800000000003, 888.405, 78.0045, 195.25799999999998, 45.108000000000004, 943.299, 367.5525, 206.7975, 527.5095, 420.2625, 1042.65, 140.6475, 343.224, 69.6675, 536.592, 66.402, 203.175, 394.3275, 523.845, 94.2375, 172.2105, 360.885, 135.576, 48.51, 276.948, 548.9715, 433.69199999999995, 586.971, 379.9215, 624.33, 56.952, 28.4235, 95.865, 1034.46, 203.93099999999998, 781.62, 70.28699999999999, 491.085, 152.019, 708.3195, 441.588, 181.44, 273.0525, 306.81, 234.0975, 144.963, 760.4415, 88.368, 309.3615, 226.065, 130.032, 277.6725, 926.9505, 299.565, 44.5935, 479.64, 54.0435, 110.124, 881.307, 77.805, 148.68, 922.635, 24.108, 535.374, 100.9155, 147.798, 257.145, 351.603, 102.837, 22.659000000000002, 165.648, 142.002, 80.22, 262.79400000000004, 271.2885, 63.2625, 174.3, 62.0025, 207.585, 186.22799999999998, 471.03, 221.886, 397.845, 127.26, 440.93699999999995, 74.7075, 461.5275, 742.2975, 860.475, 166.236, 237.426, 20.1075, 46.683, 263.97, 514.773, 200.21400000000003, 177.408, 390.7995, 92.7255, 550.368, 477.1305, 318.108, 142.947, 326.256, 462.67199999999997, 608.202, 69.993, 383.7645, 103.635, 92.295, 145.06799999999996, 263.13, 183.12, 193.4625, 103.78200000000001, 44.352, 150.0975, 104.6745, 119.259, 23.750999999999998, 814.38, 757.365, 103.824, 72.87, 143.22, 731.6925, 914.55, 446.964, 35.3115, 319.788, 36.5505, 749.7, 399.756, 252.042, 247.8735, 139.923, 75.7785, 334.4775, 373.17, 253.68, 354.0075, 171.7275, 204.6975, 217.18200000000002, 439.8975, 156.03, 223.0725, 115.08, 76.755, 640.038, 84.9765, 85.113, 874.125, 32.529, 209.622, 408.7335], \"yaxis\": \"y\"}],\n",
              "                        {\"coloraxis\": {\"colorbar\": {\"title\": {\"text\": \"Cluster_22\"}}, \"colorscale\": [[0.0, \"#E9E5DF\"], [0.3333333333333333, \"#DB324D\"], [0.6666666666666666, \"#576069\"], [1.0, \"#193C75\"]]}, \"legend\": {\"tracegroupgap\": 0}, \"margin\": {\"t\": 60}, \"template\": {\"data\": {\"pie\": [{\"automargin\": true, \"type\": \"pie\"}]}, \"layout\": {\"xaxis\": {\"showgrid\": true, \"title\": {\"standoff\": 15}}, \"yaxis\": {\"showgrid\": true, \"title\": {\"standoff\": 15}}}}, \"xaxis\": {\"anchor\": \"y\", \"domain\": [0.0, 1.0], \"title\": {\"text\": \"Calificacion\"}}, \"yaxis\": {\"anchor\": \"x\", \"domain\": [0.0, 1.0], \"title\": {\"text\": \"Total\"}}},\n",
              "                        {\"responsive\": true}\n",
              "                    ).then(function(){\n",
              "                            \n",
              "var gd = document.getElementById('4a92090d-6bbf-4055-b6c7-567256ffaa77');\n",
              "var x = new MutationObserver(function (mutations, observer) {{\n",
              "        var display = window.getComputedStyle(gd).display;\n",
              "        if (!display || display === 'none') {{\n",
              "            console.log([gd, 'removed!']);\n",
              "            Plotly.purge(gd);\n",
              "            observer.disconnect();\n",
              "        }}\n",
              "}});\n",
              "\n",
              "// Listen for the removal of the full notebook cells\n",
              "var notebookContainer = gd.closest('#notebook-container');\n",
              "if (notebookContainer) {{\n",
              "    x.observe(notebookContainer, {childList: true});\n",
              "}}\n",
              "\n",
              "// Listen for the clearing of the current output cell\n",
              "var outputEl = gd.closest('.output');\n",
              "if (outputEl) {{\n",
              "    x.observe(outputEl, {childList: true});\n",
              "}}\n",
              "\n",
              "                        })\n",
              "                };\n",
              "                \n",
              "            </script>\n",
              "        </div>\n",
              "</body>\n",
              "</html>"
            ]
          },
          "metadata": {}
        }
      ]
    },
    {
      "cell_type": "markdown",
      "source": [
        "## **Guardando el modelo** <font color=\"#0A66C2\"><h10>**KMeans definido(K = 4)** <font> "
      ],
      "metadata": {
        "id": "K-Z-wiCMiM7Q"
      }
    },
    {
      "cell_type": "code",
      "source": [
        "path = '/content/cluster_02_modelo_tarea_02_pred.pkl'"
      ],
      "metadata": {
        "id": "4-89LJuCeB4C"
      },
      "execution_count": null,
      "outputs": []
    },
    {
      "cell_type": "code",
      "source": [
        "file = open(path, \"wb\")\n",
        "pickle.dump(kmeans, file)"
      ],
      "metadata": {
        "id": "u1UXmttYeSYa"
      },
      "execution_count": null,
      "outputs": []
    },
    {
      "cell_type": "code",
      "source": [
        "files.download('cluster_02_modelo_tarea_02_pred.pkl')"
      ],
      "metadata": {
        "colab": {
          "base_uri": "https://localhost:8080/",
          "height": 17
        },
        "id": "ArSHeXU5k49R",
        "outputId": "336fd5f4-3828-4624-927a-154ffa300828"
      },
      "execution_count": null,
      "outputs": [
        {
          "output_type": "display_data",
          "data": {
            "application/javascript": [
              "\n",
              "    async function download(id, filename, size) {\n",
              "      if (!google.colab.kernel.accessAllowed) {\n",
              "        return;\n",
              "      }\n",
              "      const div = document.createElement('div');\n",
              "      const label = document.createElement('label');\n",
              "      label.textContent = `Downloading \"${filename}\": `;\n",
              "      div.appendChild(label);\n",
              "      const progress = document.createElement('progress');\n",
              "      progress.max = size;\n",
              "      div.appendChild(progress);\n",
              "      document.body.appendChild(div);\n",
              "\n",
              "      const buffers = [];\n",
              "      let downloaded = 0;\n",
              "\n",
              "      const channel = await google.colab.kernel.comms.open(id);\n",
              "      // Send a message to notify the kernel that we're ready.\n",
              "      channel.send({})\n",
              "\n",
              "      for await (const message of channel.messages) {\n",
              "        // Send a message to notify the kernel that we're ready.\n",
              "        channel.send({})\n",
              "        if (message.buffers) {\n",
              "          for (const buffer of message.buffers) {\n",
              "            buffers.push(buffer);\n",
              "            downloaded += buffer.byteLength;\n",
              "            progress.value = downloaded;\n",
              "          }\n",
              "        }\n",
              "      }\n",
              "      const blob = new Blob(buffers, {type: 'application/binary'});\n",
              "      const a = document.createElement('a');\n",
              "      a.href = window.URL.createObjectURL(blob);\n",
              "      a.download = filename;\n",
              "      div.appendChild(a);\n",
              "      a.click();\n",
              "      div.remove();\n",
              "    }\n",
              "  "
            ],
            "text/plain": [
              "<IPython.core.display.Javascript object>"
            ]
          },
          "metadata": {}
        },
        {
          "output_type": "display_data",
          "data": {
            "application/javascript": [
              "download(\"download_5dded058-5321-40fd-9de6-cd7b302194b2\", \"cluster_02_modelo_tarea_02_pred.pkl\", 4521)"
            ],
            "text/plain": [
              "<IPython.core.display.Javascript object>"
            ]
          },
          "metadata": {}
        }
      ]
    },
    {
      "cell_type": "markdown",
      "source": [
        "## **Leyendo el modelo** <font color=\"#0A66C2\"><h10>**KMeans definido(K = 4)**<font> "
      ],
      "metadata": {
        "id": "-VfcEN83ikHx"
      }
    },
    {
      "cell_type": "code",
      "source": [
        "file = open(path, \"rb\")\n",
        "modelo_kmeans = pickle.load(file)"
      ],
      "metadata": {
        "id": "BPqrybJZgQk9"
      },
      "execution_count": null,
      "outputs": []
    },
    {
      "cell_type": "markdown",
      "source": [
        "## **Predicción con datos no vistos** <font color=\"#0A66C2\"><h10>**KMeans definido(K = 4)**<font> "
      ],
      "metadata": {
        "id": "XqVdmC7rjAba"
      }
    },
    {
      "cell_type": "markdown",
      "source": [
        "**En los datos no vistos por el modelo, repetimos el ejercicio de normalización realizado con los datos de entrenamiento e implementamos el modelo definido**"
      ],
      "metadata": {
        "id": "z3Zm391jtdcB"
      }
    },
    {
      "cell_type": "code",
      "source": [
        "Z = datos_no_vistos[['Total', 'Calificacion']]"
      ],
      "metadata": {
        "id": "2X4FDuvLgpPa"
      },
      "execution_count": null,
      "outputs": []
    },
    {
      "cell_type": "code",
      "source": [
        "Z = normalizacion.fit_transform(Z)"
      ],
      "metadata": {
        "id": "m4r5rxm2hELo"
      },
      "execution_count": null,
      "outputs": []
    },
    {
      "cell_type": "code",
      "source": [
        "Z = pd.DataFrame(Z, columns=['Total', 'Calificacion'])"
      ],
      "metadata": {
        "id": "r4sDIDuZhUcR"
      },
      "execution_count": null,
      "outputs": []
    },
    {
      "cell_type": "code",
      "source": [
        "nueva_prediccion = modelo_kmeans.predict(Z)\n",
        "nueva_prediccion"
      ],
      "metadata": {
        "colab": {
          "base_uri": "https://localhost:8080/"
        },
        "id": "A0UGZZ8Zgcx3",
        "outputId": "19149b5a-0079-460a-bc51-3f61ead34297"
      },
      "execution_count": null,
      "outputs": [
        {
          "output_type": "execute_result",
          "data": {
            "text/plain": [
              "array([3, 0, 0, 0, 0, 0, 0, 1, 0, 0, 0, 3, 2, 2, 1, 2, 0, 3, 0, 3, 1, 2,\n",
              "       2, 0, 2, 1, 1, 0, 2, 0, 0, 2, 0, 3, 0, 2, 0, 3, 3, 2, 2, 1, 3, 3,\n",
              "       1, 2, 3, 2, 0, 0, 2, 0, 2, 0, 3, 2, 1, 0, 0, 0, 2, 3, 0, 2, 2, 0,\n",
              "       2, 2, 1, 2, 2, 0, 0, 3, 0, 3, 0, 0, 0, 0, 0, 3, 0, 2, 0, 2, 3, 3,\n",
              "       1, 0, 1, 2, 2, 0, 3, 2, 2, 0, 1, 1], dtype=int32)"
            ]
          },
          "metadata": {},
          "execution_count": 45
        }
      ]
    },
    {
      "cell_type": "code",
      "source": [
        "datos_no_vistos['Cluster_22']=modelo_kmeans.predict(Z)\n",
        "datos_no_vistos"
      ],
      "metadata": {
        "colab": {
          "base_uri": "https://localhost:8080/",
          "height": 424
        },
        "id": "0Jml665LhtUl",
        "outputId": "cf34f303-d6e9-4258-847f-f79636df1085"
      },
      "execution_count": null,
      "outputs": [
        {
          "output_type": "execute_result",
          "data": {
            "text/html": [
              "<div>\n",
              "<style scoped>\n",
              "    .dataframe tbody tr th:only-of-type {\n",
              "        vertical-align: middle;\n",
              "    }\n",
              "\n",
              "    .dataframe tbody tr th {\n",
              "        vertical-align: top;\n",
              "    }\n",
              "\n",
              "    .dataframe thead th {\n",
              "        text-align: right;\n",
              "    }\n",
              "</style>\n",
              "<table border=\"1\" class=\"dataframe\">\n",
              "  <thead>\n",
              "    <tr style=\"text-align: right;\">\n",
              "      <th></th>\n",
              "      <th>Factura</th>\n",
              "      <th>Total</th>\n",
              "      <th>Calificacion</th>\n",
              "      <th>Cluster_22</th>\n",
              "    </tr>\n",
              "  </thead>\n",
              "  <tbody>\n",
              "    <tr>\n",
              "      <th>0</th>\n",
              "      <td>326-78-5178</td>\n",
              "      <td>671.7900</td>\n",
              "      <td>9.5</td>\n",
              "      <td>3</td>\n",
              "    </tr>\n",
              "    <tr>\n",
              "      <th>1</th>\n",
              "      <td>649-11-3678</td>\n",
              "      <td>216.6885</td>\n",
              "      <td>5.5</td>\n",
              "      <td>0</td>\n",
              "    </tr>\n",
              "    <tr>\n",
              "      <th>2</th>\n",
              "      <td>302-15-2162</td>\n",
              "      <td>293.1390</td>\n",
              "      <td>4.3</td>\n",
              "      <td>0</td>\n",
              "    </tr>\n",
              "    <tr>\n",
              "      <th>3</th>\n",
              "      <td>509-10-0516</td>\n",
              "      <td>193.0740</td>\n",
              "      <td>5.1</td>\n",
              "      <td>0</td>\n",
              "    </tr>\n",
              "    <tr>\n",
              "      <th>4</th>\n",
              "      <td>173-50-1108</td>\n",
              "      <td>84.7560</td>\n",
              "      <td>5.0</td>\n",
              "      <td>0</td>\n",
              "    </tr>\n",
              "    <tr>\n",
              "      <th>...</th>\n",
              "      <td>...</td>\n",
              "      <td>...</td>\n",
              "      <td>...</td>\n",
              "      <td>...</td>\n",
              "    </tr>\n",
              "    <tr>\n",
              "      <th>95</th>\n",
              "      <td>841-18-8232</td>\n",
              "      <td>74.7600</td>\n",
              "      <td>9.2</td>\n",
              "      <td>2</td>\n",
              "    </tr>\n",
              "    <tr>\n",
              "      <th>96</th>\n",
              "      <td>176-78-1170</td>\n",
              "      <td>106.5015</td>\n",
              "      <td>7.3</td>\n",
              "      <td>2</td>\n",
              "    </tr>\n",
              "    <tr>\n",
              "      <th>97</th>\n",
              "      <td>460-93-5834</td>\n",
              "      <td>335.0130</td>\n",
              "      <td>5.0</td>\n",
              "      <td>0</td>\n",
              "    </tr>\n",
              "    <tr>\n",
              "      <th>98</th>\n",
              "      <td>267-62-7380</td>\n",
              "      <td>864.5700</td>\n",
              "      <td>4.3</td>\n",
              "      <td>1</td>\n",
              "    </tr>\n",
              "    <tr>\n",
              "      <th>99</th>\n",
              "      <td>303-96-2227</td>\n",
              "      <td>1022.4900</td>\n",
              "      <td>4.4</td>\n",
              "      <td>1</td>\n",
              "    </tr>\n",
              "  </tbody>\n",
              "</table>\n",
              "<p>100 rows × 4 columns</p>\n",
              "</div>"
            ],
            "text/plain": [
              "        Factura      Total  Calificacion  Cluster_22\n",
              "0   326-78-5178   671.7900           9.5           3\n",
              "1   649-11-3678   216.6885           5.5           0\n",
              "2   302-15-2162   293.1390           4.3           0\n",
              "3   509-10-0516   193.0740           5.1           0\n",
              "4   173-50-1108    84.7560           5.0           0\n",
              "..          ...        ...           ...         ...\n",
              "95  841-18-8232    74.7600           9.2           2\n",
              "96  176-78-1170   106.5015           7.3           2\n",
              "97  460-93-5834   335.0130           5.0           0\n",
              "98  267-62-7380   864.5700           4.3           1\n",
              "99  303-96-2227  1022.4900           4.4           1\n",
              "\n",
              "[100 rows x 4 columns]"
            ]
          },
          "metadata": {},
          "execution_count": 46
        }
      ]
    },
    {
      "cell_type": "code",
      "source": [
        "datos_no_vistos.to_csv('cluster_02_modelo_prediccion_tarea_02.csv') \n",
        "files.download('cluster_02_modelo_prediccion_tarea_02.csv')"
      ],
      "metadata": {
        "colab": {
          "base_uri": "https://localhost:8080/",
          "height": 17
        },
        "id": "NExhdNUyjuhQ",
        "outputId": "a2507366-57f8-4409-97cb-55c92830a682"
      },
      "execution_count": null,
      "outputs": [
        {
          "output_type": "display_data",
          "data": {
            "application/javascript": [
              "\n",
              "    async function download(id, filename, size) {\n",
              "      if (!google.colab.kernel.accessAllowed) {\n",
              "        return;\n",
              "      }\n",
              "      const div = document.createElement('div');\n",
              "      const label = document.createElement('label');\n",
              "      label.textContent = `Downloading \"${filename}\": `;\n",
              "      div.appendChild(label);\n",
              "      const progress = document.createElement('progress');\n",
              "      progress.max = size;\n",
              "      div.appendChild(progress);\n",
              "      document.body.appendChild(div);\n",
              "\n",
              "      const buffers = [];\n",
              "      let downloaded = 0;\n",
              "\n",
              "      const channel = await google.colab.kernel.comms.open(id);\n",
              "      // Send a message to notify the kernel that we're ready.\n",
              "      channel.send({})\n",
              "\n",
              "      for await (const message of channel.messages) {\n",
              "        // Send a message to notify the kernel that we're ready.\n",
              "        channel.send({})\n",
              "        if (message.buffers) {\n",
              "          for (const buffer of message.buffers) {\n",
              "            buffers.push(buffer);\n",
              "            downloaded += buffer.byteLength;\n",
              "            progress.value = downloaded;\n",
              "          }\n",
              "        }\n",
              "      }\n",
              "      const blob = new Blob(buffers, {type: 'application/binary'});\n",
              "      const a = document.createElement('a');\n",
              "      a.href = window.URL.createObjectURL(blob);\n",
              "      a.download = filename;\n",
              "      div.appendChild(a);\n",
              "      a.click();\n",
              "      div.remove();\n",
              "    }\n",
              "  "
            ],
            "text/plain": [
              "<IPython.core.display.Javascript object>"
            ]
          },
          "metadata": {}
        },
        {
          "output_type": "display_data",
          "data": {
            "application/javascript": [
              "download(\"download_90a2cf50-9ff4-4058-8925-9a2ca12de2c9\", \"cluster_02_modelo_prediccion_tarea_02.csv\", 3064)"
            ],
            "text/plain": [
              "<IPython.core.display.Javascript object>"
            ]
          },
          "metadata": {}
        }
      ]
    },
    {
      "cell_type": "markdown",
      "source": [
        "**Fusionamos ambos dataframes con el Cluster_22 (Altenativa k = 4) que es la alternativa elegida**"
      ],
      "metadata": {
        "id": "EQPnaIQ_tz7o"
      }
    },
    {
      "cell_type": "code",
      "source": [
        "df_final = pd.concat([datos, datos_no_vistos], axis=0)\n",
        "df_final"
      ],
      "metadata": {
        "colab": {
          "base_uri": "https://localhost:8080/",
          "height": 424
        },
        "id": "bUEydfCGlSPa",
        "outputId": "272b8774-b7e5-47ad-a736-ea9f6aeed4af"
      },
      "execution_count": null,
      "outputs": [
        {
          "output_type": "execute_result",
          "data": {
            "text/html": [
              "<div>\n",
              "<style scoped>\n",
              "    .dataframe tbody tr th:only-of-type {\n",
              "        vertical-align: middle;\n",
              "    }\n",
              "\n",
              "    .dataframe tbody tr th {\n",
              "        vertical-align: top;\n",
              "    }\n",
              "\n",
              "    .dataframe thead th {\n",
              "        text-align: right;\n",
              "    }\n",
              "</style>\n",
              "<table border=\"1\" class=\"dataframe\">\n",
              "  <thead>\n",
              "    <tr style=\"text-align: right;\">\n",
              "      <th></th>\n",
              "      <th>Factura</th>\n",
              "      <th>Total</th>\n",
              "      <th>Calificacion</th>\n",
              "      <th>Cluster_21</th>\n",
              "      <th>Cluster_22</th>\n",
              "    </tr>\n",
              "  </thead>\n",
              "  <tbody>\n",
              "    <tr>\n",
              "      <th>0</th>\n",
              "      <td>568-88-3448</td>\n",
              "      <td>26.2500</td>\n",
              "      <td>5.5</td>\n",
              "      <td>0.0</td>\n",
              "      <td>0</td>\n",
              "    </tr>\n",
              "    <tr>\n",
              "      <th>1</th>\n",
              "      <td>397-25-8725</td>\n",
              "      <td>374.4090</td>\n",
              "      <td>6.8</td>\n",
              "      <td>0.0</td>\n",
              "      <td>0</td>\n",
              "    </tr>\n",
              "    <tr>\n",
              "      <th>2</th>\n",
              "      <td>275-28-0149</td>\n",
              "      <td>66.8745</td>\n",
              "      <td>6.0</td>\n",
              "      <td>0.0</td>\n",
              "      <td>0</td>\n",
              "    </tr>\n",
              "    <tr>\n",
              "      <th>3</th>\n",
              "      <td>210-74-9613</td>\n",
              "      <td>408.4920</td>\n",
              "      <td>6.8</td>\n",
              "      <td>0.0</td>\n",
              "      <td>0</td>\n",
              "    </tr>\n",
              "    <tr>\n",
              "      <th>4</th>\n",
              "      <td>263-12-5321</td>\n",
              "      <td>680.6100</td>\n",
              "      <td>9.3</td>\n",
              "      <td>1.0</td>\n",
              "      <td>3</td>\n",
              "    </tr>\n",
              "    <tr>\n",
              "      <th>...</th>\n",
              "      <td>...</td>\n",
              "      <td>...</td>\n",
              "      <td>...</td>\n",
              "      <td>...</td>\n",
              "      <td>...</td>\n",
              "    </tr>\n",
              "    <tr>\n",
              "      <th>95</th>\n",
              "      <td>841-18-8232</td>\n",
              "      <td>74.7600</td>\n",
              "      <td>9.2</td>\n",
              "      <td>NaN</td>\n",
              "      <td>2</td>\n",
              "    </tr>\n",
              "    <tr>\n",
              "      <th>96</th>\n",
              "      <td>176-78-1170</td>\n",
              "      <td>106.5015</td>\n",
              "      <td>7.3</td>\n",
              "      <td>NaN</td>\n",
              "      <td>2</td>\n",
              "    </tr>\n",
              "    <tr>\n",
              "      <th>97</th>\n",
              "      <td>460-93-5834</td>\n",
              "      <td>335.0130</td>\n",
              "      <td>5.0</td>\n",
              "      <td>NaN</td>\n",
              "      <td>0</td>\n",
              "    </tr>\n",
              "    <tr>\n",
              "      <th>98</th>\n",
              "      <td>267-62-7380</td>\n",
              "      <td>864.5700</td>\n",
              "      <td>4.3</td>\n",
              "      <td>NaN</td>\n",
              "      <td>1</td>\n",
              "    </tr>\n",
              "    <tr>\n",
              "      <th>99</th>\n",
              "      <td>303-96-2227</td>\n",
              "      <td>1022.4900</td>\n",
              "      <td>4.4</td>\n",
              "      <td>NaN</td>\n",
              "      <td>1</td>\n",
              "    </tr>\n",
              "  </tbody>\n",
              "</table>\n",
              "<p>1000 rows × 5 columns</p>\n",
              "</div>"
            ],
            "text/plain": [
              "        Factura      Total  Calificacion  Cluster_21  Cluster_22\n",
              "0   568-88-3448    26.2500           5.5         0.0           0\n",
              "1   397-25-8725   374.4090           6.8         0.0           0\n",
              "2   275-28-0149    66.8745           6.0         0.0           0\n",
              "3   210-74-9613   408.4920           6.8         0.0           0\n",
              "4   263-12-5321   680.6100           9.3         1.0           3\n",
              "..          ...        ...           ...         ...         ...\n",
              "95  841-18-8232    74.7600           9.2         NaN           2\n",
              "96  176-78-1170   106.5015           7.3         NaN           2\n",
              "97  460-93-5834   335.0130           5.0         NaN           0\n",
              "98  267-62-7380   864.5700           4.3         NaN           1\n",
              "99  303-96-2227  1022.4900           4.4         NaN           1\n",
              "\n",
              "[1000 rows x 5 columns]"
            ]
          },
          "metadata": {},
          "execution_count": 48
        }
      ]
    },
    {
      "cell_type": "code",
      "source": [
        "df_final.reset_index(drop=True, inplace=True)\n",
        "df_final"
      ],
      "metadata": {
        "colab": {
          "base_uri": "https://localhost:8080/",
          "height": 424
        },
        "id": "NEcQFCeE_4jc",
        "outputId": "637326a3-1031-4cfe-a827-c48e4fc042bf"
      },
      "execution_count": null,
      "outputs": [
        {
          "output_type": "execute_result",
          "data": {
            "text/html": [
              "<div>\n",
              "<style scoped>\n",
              "    .dataframe tbody tr th:only-of-type {\n",
              "        vertical-align: middle;\n",
              "    }\n",
              "\n",
              "    .dataframe tbody tr th {\n",
              "        vertical-align: top;\n",
              "    }\n",
              "\n",
              "    .dataframe thead th {\n",
              "        text-align: right;\n",
              "    }\n",
              "</style>\n",
              "<table border=\"1\" class=\"dataframe\">\n",
              "  <thead>\n",
              "    <tr style=\"text-align: right;\">\n",
              "      <th></th>\n",
              "      <th>Factura</th>\n",
              "      <th>Total</th>\n",
              "      <th>Calificacion</th>\n",
              "      <th>Cluster_21</th>\n",
              "      <th>Cluster_22</th>\n",
              "    </tr>\n",
              "  </thead>\n",
              "  <tbody>\n",
              "    <tr>\n",
              "      <th>0</th>\n",
              "      <td>568-88-3448</td>\n",
              "      <td>26.2500</td>\n",
              "      <td>5.5</td>\n",
              "      <td>0.0</td>\n",
              "      <td>0</td>\n",
              "    </tr>\n",
              "    <tr>\n",
              "      <th>1</th>\n",
              "      <td>397-25-8725</td>\n",
              "      <td>374.4090</td>\n",
              "      <td>6.8</td>\n",
              "      <td>0.0</td>\n",
              "      <td>0</td>\n",
              "    </tr>\n",
              "    <tr>\n",
              "      <th>2</th>\n",
              "      <td>275-28-0149</td>\n",
              "      <td>66.8745</td>\n",
              "      <td>6.0</td>\n",
              "      <td>0.0</td>\n",
              "      <td>0</td>\n",
              "    </tr>\n",
              "    <tr>\n",
              "      <th>3</th>\n",
              "      <td>210-74-9613</td>\n",
              "      <td>408.4920</td>\n",
              "      <td>6.8</td>\n",
              "      <td>0.0</td>\n",
              "      <td>0</td>\n",
              "    </tr>\n",
              "    <tr>\n",
              "      <th>4</th>\n",
              "      <td>263-12-5321</td>\n",
              "      <td>680.6100</td>\n",
              "      <td>9.3</td>\n",
              "      <td>1.0</td>\n",
              "      <td>3</td>\n",
              "    </tr>\n",
              "    <tr>\n",
              "      <th>...</th>\n",
              "      <td>...</td>\n",
              "      <td>...</td>\n",
              "      <td>...</td>\n",
              "      <td>...</td>\n",
              "      <td>...</td>\n",
              "    </tr>\n",
              "    <tr>\n",
              "      <th>995</th>\n",
              "      <td>841-18-8232</td>\n",
              "      <td>74.7600</td>\n",
              "      <td>9.2</td>\n",
              "      <td>NaN</td>\n",
              "      <td>2</td>\n",
              "    </tr>\n",
              "    <tr>\n",
              "      <th>996</th>\n",
              "      <td>176-78-1170</td>\n",
              "      <td>106.5015</td>\n",
              "      <td>7.3</td>\n",
              "      <td>NaN</td>\n",
              "      <td>2</td>\n",
              "    </tr>\n",
              "    <tr>\n",
              "      <th>997</th>\n",
              "      <td>460-93-5834</td>\n",
              "      <td>335.0130</td>\n",
              "      <td>5.0</td>\n",
              "      <td>NaN</td>\n",
              "      <td>0</td>\n",
              "    </tr>\n",
              "    <tr>\n",
              "      <th>998</th>\n",
              "      <td>267-62-7380</td>\n",
              "      <td>864.5700</td>\n",
              "      <td>4.3</td>\n",
              "      <td>NaN</td>\n",
              "      <td>1</td>\n",
              "    </tr>\n",
              "    <tr>\n",
              "      <th>999</th>\n",
              "      <td>303-96-2227</td>\n",
              "      <td>1022.4900</td>\n",
              "      <td>4.4</td>\n",
              "      <td>NaN</td>\n",
              "      <td>1</td>\n",
              "    </tr>\n",
              "  </tbody>\n",
              "</table>\n",
              "<p>1000 rows × 5 columns</p>\n",
              "</div>"
            ],
            "text/plain": [
              "         Factura      Total  Calificacion  Cluster_21  Cluster_22\n",
              "0    568-88-3448    26.2500           5.5         0.0           0\n",
              "1    397-25-8725   374.4090           6.8         0.0           0\n",
              "2    275-28-0149    66.8745           6.0         0.0           0\n",
              "3    210-74-9613   408.4920           6.8         0.0           0\n",
              "4    263-12-5321   680.6100           9.3         1.0           3\n",
              "..           ...        ...           ...         ...         ...\n",
              "995  841-18-8232    74.7600           9.2         NaN           2\n",
              "996  176-78-1170   106.5015           7.3         NaN           2\n",
              "997  460-93-5834   335.0130           5.0         NaN           0\n",
              "998  267-62-7380   864.5700           4.3         NaN           1\n",
              "999  303-96-2227  1022.4900           4.4         NaN           1\n",
              "\n",
              "[1000 rows x 5 columns]"
            ]
          },
          "metadata": {},
          "execution_count": 49
        }
      ]
    },
    {
      "cell_type": "code",
      "source": [
        "df_final.drop(['Cluster_21', 'Total', 'Calificacion'], axis=1, inplace=True)\n",
        "df_final"
      ],
      "metadata": {
        "colab": {
          "base_uri": "https://localhost:8080/",
          "height": 424
        },
        "id": "LXwQ_RRHlmXJ",
        "outputId": "a4be5175-4b15-403a-92c4-c640ad78f094"
      },
      "execution_count": null,
      "outputs": [
        {
          "output_type": "execute_result",
          "data": {
            "text/html": [
              "<div>\n",
              "<style scoped>\n",
              "    .dataframe tbody tr th:only-of-type {\n",
              "        vertical-align: middle;\n",
              "    }\n",
              "\n",
              "    .dataframe tbody tr th {\n",
              "        vertical-align: top;\n",
              "    }\n",
              "\n",
              "    .dataframe thead th {\n",
              "        text-align: right;\n",
              "    }\n",
              "</style>\n",
              "<table border=\"1\" class=\"dataframe\">\n",
              "  <thead>\n",
              "    <tr style=\"text-align: right;\">\n",
              "      <th></th>\n",
              "      <th>Factura</th>\n",
              "      <th>Cluster_22</th>\n",
              "    </tr>\n",
              "  </thead>\n",
              "  <tbody>\n",
              "    <tr>\n",
              "      <th>0</th>\n",
              "      <td>568-88-3448</td>\n",
              "      <td>0</td>\n",
              "    </tr>\n",
              "    <tr>\n",
              "      <th>1</th>\n",
              "      <td>397-25-8725</td>\n",
              "      <td>0</td>\n",
              "    </tr>\n",
              "    <tr>\n",
              "      <th>2</th>\n",
              "      <td>275-28-0149</td>\n",
              "      <td>0</td>\n",
              "    </tr>\n",
              "    <tr>\n",
              "      <th>3</th>\n",
              "      <td>210-74-9613</td>\n",
              "      <td>0</td>\n",
              "    </tr>\n",
              "    <tr>\n",
              "      <th>4</th>\n",
              "      <td>263-12-5321</td>\n",
              "      <td>3</td>\n",
              "    </tr>\n",
              "    <tr>\n",
              "      <th>...</th>\n",
              "      <td>...</td>\n",
              "      <td>...</td>\n",
              "    </tr>\n",
              "    <tr>\n",
              "      <th>995</th>\n",
              "      <td>841-18-8232</td>\n",
              "      <td>2</td>\n",
              "    </tr>\n",
              "    <tr>\n",
              "      <th>996</th>\n",
              "      <td>176-78-1170</td>\n",
              "      <td>2</td>\n",
              "    </tr>\n",
              "    <tr>\n",
              "      <th>997</th>\n",
              "      <td>460-93-5834</td>\n",
              "      <td>0</td>\n",
              "    </tr>\n",
              "    <tr>\n",
              "      <th>998</th>\n",
              "      <td>267-62-7380</td>\n",
              "      <td>1</td>\n",
              "    </tr>\n",
              "    <tr>\n",
              "      <th>999</th>\n",
              "      <td>303-96-2227</td>\n",
              "      <td>1</td>\n",
              "    </tr>\n",
              "  </tbody>\n",
              "</table>\n",
              "<p>1000 rows × 2 columns</p>\n",
              "</div>"
            ],
            "text/plain": [
              "         Factura  Cluster_22\n",
              "0    568-88-3448           0\n",
              "1    397-25-8725           0\n",
              "2    275-28-0149           0\n",
              "3    210-74-9613           0\n",
              "4    263-12-5321           3\n",
              "..           ...         ...\n",
              "995  841-18-8232           2\n",
              "996  176-78-1170           2\n",
              "997  460-93-5834           0\n",
              "998  267-62-7380           1\n",
              "999  303-96-2227           1\n",
              "\n",
              "[1000 rows x 2 columns]"
            ]
          },
          "metadata": {},
          "execution_count": 50
        }
      ]
    },
    {
      "cell_type": "markdown",
      "source": [
        "**Fusionamos al dataframe original las observaciones identificadas con la variable 'Factura' (todas los valores de esta serie son únicos), de modo que podamos describir los distintos clusters con más información**"
      ],
      "metadata": {
        "id": "PQduRZEyuI8_"
      }
    },
    {
      "cell_type": "code",
      "source": [
        "cluster_02=pd.merge(dfo, df_final, on='Factura')"
      ],
      "metadata": {
        "id": "Wo4tntsAggHM"
      },
      "execution_count": null,
      "outputs": []
    },
    {
      "cell_type": "code",
      "source": [
        "cluster_02"
      ],
      "metadata": {
        "colab": {
          "base_uri": "https://localhost:8080/",
          "height": 617
        },
        "id": "lSvsZ8uLibAM",
        "outputId": "ba8eee79-2d31-41fa-ffa6-58a0117d8643"
      },
      "execution_count": null,
      "outputs": [
        {
          "output_type": "execute_result",
          "data": {
            "text/html": [
              "<div>\n",
              "<style scoped>\n",
              "    .dataframe tbody tr th:only-of-type {\n",
              "        vertical-align: middle;\n",
              "    }\n",
              "\n",
              "    .dataframe tbody tr th {\n",
              "        vertical-align: top;\n",
              "    }\n",
              "\n",
              "    .dataframe thead th {\n",
              "        text-align: right;\n",
              "    }\n",
              "</style>\n",
              "<table border=\"1\" class=\"dataframe\">\n",
              "  <thead>\n",
              "    <tr style=\"text-align: right;\">\n",
              "      <th></th>\n",
              "      <th>Factura</th>\n",
              "      <th>Ciudad</th>\n",
              "      <th>Tipo_cliente</th>\n",
              "      <th>Genero</th>\n",
              "      <th>Linea_producto</th>\n",
              "      <th>Precio_unidad</th>\n",
              "      <th>Cantidad</th>\n",
              "      <th>Impuesto</th>\n",
              "      <th>Total</th>\n",
              "      <th>Forma_pago</th>\n",
              "      <th>Coste</th>\n",
              "      <th>Calificacion</th>\n",
              "      <th>Fecha2</th>\n",
              "      <th>Dia</th>\n",
              "      <th>Jornada</th>\n",
              "      <th>Horario</th>\n",
              "      <th>Calificacion2</th>\n",
              "      <th>ISG</th>\n",
              "      <th>Anomaly</th>\n",
              "      <th>Anomaly_Score</th>\n",
              "      <th>Cluster</th>\n",
              "      <th>Cluster_22</th>\n",
              "    </tr>\n",
              "  </thead>\n",
              "  <tbody>\n",
              "    <tr>\n",
              "      <th>0</th>\n",
              "      <td>802-70-5316</td>\n",
              "      <td>Yangon</td>\n",
              "      <td>Miembro</td>\n",
              "      <td>Mujer</td>\n",
              "      <td>Sports and travel</td>\n",
              "      <td>92.13</td>\n",
              "      <td>6</td>\n",
              "      <td>27.639</td>\n",
              "      <td>580.419</td>\n",
              "      <td>Cash</td>\n",
              "      <td>552.78</td>\n",
              "      <td>8.3</td>\n",
              "      <td>2019-03-06</td>\n",
              "      <td>Wednesday</td>\n",
              "      <td>Laboral</td>\n",
              "      <td>Noche</td>\n",
              "      <td>Neutros</td>\n",
              "      <td>0</td>\n",
              "      <td>0</td>\n",
              "      <td>-0.009627</td>\n",
              "      <td>Cluster 2</td>\n",
              "      <td>3</td>\n",
              "    </tr>\n",
              "    <tr>\n",
              "      <th>1</th>\n",
              "      <td>875-46-5808</td>\n",
              "      <td>Mandalay</td>\n",
              "      <td>Miembro</td>\n",
              "      <td>Hombre</td>\n",
              "      <td>Health and beauty</td>\n",
              "      <td>25.90</td>\n",
              "      <td>10</td>\n",
              "      <td>12.950</td>\n",
              "      <td>271.950</td>\n",
              "      <td>Ewallet</td>\n",
              "      <td>259.00</td>\n",
              "      <td>8.7</td>\n",
              "      <td>2019-02-06</td>\n",
              "      <td>Wednesday</td>\n",
              "      <td>Laboral</td>\n",
              "      <td>Tarde</td>\n",
              "      <td>Promotores</td>\n",
              "      <td>100</td>\n",
              "      <td>0</td>\n",
              "      <td>-0.012638</td>\n",
              "      <td>Cluster 1</td>\n",
              "      <td>2</td>\n",
              "    </tr>\n",
              "    <tr>\n",
              "      <th>2</th>\n",
              "      <td>326-78-5178</td>\n",
              "      <td>Naypyitaw</td>\n",
              "      <td>Miembro</td>\n",
              "      <td>Hombre</td>\n",
              "      <td>Food and beverages</td>\n",
              "      <td>91.40</td>\n",
              "      <td>7</td>\n",
              "      <td>31.990</td>\n",
              "      <td>671.790</td>\n",
              "      <td>Cash</td>\n",
              "      <td>639.80</td>\n",
              "      <td>9.5</td>\n",
              "      <td>2019-02-03</td>\n",
              "      <td>Sunday</td>\n",
              "      <td>Festivo</td>\n",
              "      <td>Mañana</td>\n",
              "      <td>Promotores</td>\n",
              "      <td>100</td>\n",
              "      <td>0</td>\n",
              "      <td>-0.015569</td>\n",
              "      <td>Cluster 0</td>\n",
              "      <td>3</td>\n",
              "    </tr>\n",
              "    <tr>\n",
              "      <th>3</th>\n",
              "      <td>127-47-6963</td>\n",
              "      <td>Yangon</td>\n",
              "      <td>Normal</td>\n",
              "      <td>Hombre</td>\n",
              "      <td>Health and beauty</td>\n",
              "      <td>51.71</td>\n",
              "      <td>4</td>\n",
              "      <td>10.342</td>\n",
              "      <td>217.182</td>\n",
              "      <td>Credit card</td>\n",
              "      <td>206.84</td>\n",
              "      <td>9.8</td>\n",
              "      <td>2019-03-09</td>\n",
              "      <td>Saturday</td>\n",
              "      <td>Laboral</td>\n",
              "      <td>Mañana</td>\n",
              "      <td>Promotores</td>\n",
              "      <td>100</td>\n",
              "      <td>0</td>\n",
              "      <td>-0.022262</td>\n",
              "      <td>Cluster 0</td>\n",
              "      <td>2</td>\n",
              "    </tr>\n",
              "    <tr>\n",
              "      <th>4</th>\n",
              "      <td>241-72-9525</td>\n",
              "      <td>Mandalay</td>\n",
              "      <td>Normal</td>\n",
              "      <td>Hombre</td>\n",
              "      <td>Sports and travel</td>\n",
              "      <td>51.91</td>\n",
              "      <td>10</td>\n",
              "      <td>25.955</td>\n",
              "      <td>545.055</td>\n",
              "      <td>Cash</td>\n",
              "      <td>519.10</td>\n",
              "      <td>8.2</td>\n",
              "      <td>2019-02-16</td>\n",
              "      <td>Saturday</td>\n",
              "      <td>Laboral</td>\n",
              "      <td>Mañana</td>\n",
              "      <td>Neutros</td>\n",
              "      <td>0</td>\n",
              "      <td>0</td>\n",
              "      <td>-0.008961</td>\n",
              "      <td>Cluster 0</td>\n",
              "      <td>3</td>\n",
              "    </tr>\n",
              "    <tr>\n",
              "      <th>...</th>\n",
              "      <td>...</td>\n",
              "      <td>...</td>\n",
              "      <td>...</td>\n",
              "      <td>...</td>\n",
              "      <td>...</td>\n",
              "      <td>...</td>\n",
              "      <td>...</td>\n",
              "      <td>...</td>\n",
              "      <td>...</td>\n",
              "      <td>...</td>\n",
              "      <td>...</td>\n",
              "      <td>...</td>\n",
              "      <td>...</td>\n",
              "      <td>...</td>\n",
              "      <td>...</td>\n",
              "      <td>...</td>\n",
              "      <td>...</td>\n",
              "      <td>...</td>\n",
              "      <td>...</td>\n",
              "      <td>...</td>\n",
              "      <td>...</td>\n",
              "      <td>...</td>\n",
              "    </tr>\n",
              "    <tr>\n",
              "      <th>995</th>\n",
              "      <td>430-02-3888</td>\n",
              "      <td>Mandalay</td>\n",
              "      <td>Normal</td>\n",
              "      <td>Hombre</td>\n",
              "      <td>Electronic accessories</td>\n",
              "      <td>46.02</td>\n",
              "      <td>6</td>\n",
              "      <td>13.806</td>\n",
              "      <td>289.926</td>\n",
              "      <td>Cash</td>\n",
              "      <td>276.12</td>\n",
              "      <td>7.1</td>\n",
              "      <td>2019-02-07</td>\n",
              "      <td>Thursday</td>\n",
              "      <td>Laboral</td>\n",
              "      <td>Tarde</td>\n",
              "      <td>Neutros</td>\n",
              "      <td>0</td>\n",
              "      <td>0</td>\n",
              "      <td>-0.037143</td>\n",
              "      <td>Cluster 1</td>\n",
              "      <td>0</td>\n",
              "    </tr>\n",
              "    <tr>\n",
              "      <th>996</th>\n",
              "      <td>267-62-7380</td>\n",
              "      <td>Naypyitaw</td>\n",
              "      <td>Miembro</td>\n",
              "      <td>Hombre</td>\n",
              "      <td>Electronic accessories</td>\n",
              "      <td>82.34</td>\n",
              "      <td>10</td>\n",
              "      <td>41.170</td>\n",
              "      <td>864.570</td>\n",
              "      <td>Ewallet</td>\n",
              "      <td>823.40</td>\n",
              "      <td>4.3</td>\n",
              "      <td>2019-03-29</td>\n",
              "      <td>Friday</td>\n",
              "      <td>Laboral</td>\n",
              "      <td>Noche</td>\n",
              "      <td>Detractores</td>\n",
              "      <td>-100</td>\n",
              "      <td>0</td>\n",
              "      <td>-0.003680</td>\n",
              "      <td>Cluster 2</td>\n",
              "      <td>1</td>\n",
              "    </tr>\n",
              "    <tr>\n",
              "      <th>997</th>\n",
              "      <td>886-18-2897</td>\n",
              "      <td>Yangon</td>\n",
              "      <td>Normal</td>\n",
              "      <td>Mujer</td>\n",
              "      <td>Food and beverages</td>\n",
              "      <td>56.56</td>\n",
              "      <td>5</td>\n",
              "      <td>14.140</td>\n",
              "      <td>296.940</td>\n",
              "      <td>Credit card</td>\n",
              "      <td>282.80</td>\n",
              "      <td>4.5</td>\n",
              "      <td>2019-03-22</td>\n",
              "      <td>Friday</td>\n",
              "      <td>Laboral</td>\n",
              "      <td>Noche</td>\n",
              "      <td>Detractores</td>\n",
              "      <td>-100</td>\n",
              "      <td>0</td>\n",
              "      <td>-0.034201</td>\n",
              "      <td>Cluster 2</td>\n",
              "      <td>0</td>\n",
              "    </tr>\n",
              "    <tr>\n",
              "      <th>998</th>\n",
              "      <td>303-96-2227</td>\n",
              "      <td>Mandalay</td>\n",
              "      <td>Normal</td>\n",
              "      <td>Mujer</td>\n",
              "      <td>Home and lifestyle</td>\n",
              "      <td>97.38</td>\n",
              "      <td>10</td>\n",
              "      <td>48.690</td>\n",
              "      <td>1022.490</td>\n",
              "      <td>Ewallet</td>\n",
              "      <td>973.80</td>\n",
              "      <td>4.4</td>\n",
              "      <td>2019-03-02</td>\n",
              "      <td>Saturday</td>\n",
              "      <td>Festivo</td>\n",
              "      <td>Tarde</td>\n",
              "      <td>Detractores</td>\n",
              "      <td>-100</td>\n",
              "      <td>1</td>\n",
              "      <td>0.014024</td>\n",
              "      <td>Cluster 1</td>\n",
              "      <td>1</td>\n",
              "    </tr>\n",
              "    <tr>\n",
              "      <th>999</th>\n",
              "      <td>347-56-2442</td>\n",
              "      <td>Yangon</td>\n",
              "      <td>Normal</td>\n",
              "      <td>Hombre</td>\n",
              "      <td>Home and lifestyle</td>\n",
              "      <td>65.82</td>\n",
              "      <td>1</td>\n",
              "      <td>3.291</td>\n",
              "      <td>69.111</td>\n",
              "      <td>Cash</td>\n",
              "      <td>65.82</td>\n",
              "      <td>4.1</td>\n",
              "      <td>2019-02-22</td>\n",
              "      <td>Friday</td>\n",
              "      <td>Laboral</td>\n",
              "      <td>Tarde</td>\n",
              "      <td>Detractores</td>\n",
              "      <td>-100</td>\n",
              "      <td>0</td>\n",
              "      <td>-0.006976</td>\n",
              "      <td>Cluster 1</td>\n",
              "      <td>0</td>\n",
              "    </tr>\n",
              "  </tbody>\n",
              "</table>\n",
              "<p>1000 rows × 22 columns</p>\n",
              "</div>"
            ],
            "text/plain": [
              "         Factura     Ciudad Tipo_cliente  ... Anomaly_Score    Cluster  Cluster_22\n",
              "0    802-70-5316     Yangon      Miembro  ...     -0.009627  Cluster 2           3\n",
              "1    875-46-5808   Mandalay      Miembro  ...     -0.012638  Cluster 1           2\n",
              "2    326-78-5178  Naypyitaw      Miembro  ...     -0.015569  Cluster 0           3\n",
              "3    127-47-6963     Yangon       Normal  ...     -0.022262  Cluster 0           2\n",
              "4    241-72-9525   Mandalay       Normal  ...     -0.008961  Cluster 0           3\n",
              "..           ...        ...          ...  ...           ...        ...         ...\n",
              "995  430-02-3888   Mandalay       Normal  ...     -0.037143  Cluster 1           0\n",
              "996  267-62-7380  Naypyitaw      Miembro  ...     -0.003680  Cluster 2           1\n",
              "997  886-18-2897     Yangon       Normal  ...     -0.034201  Cluster 2           0\n",
              "998  303-96-2227   Mandalay       Normal  ...      0.014024  Cluster 1           1\n",
              "999  347-56-2442     Yangon       Normal  ...     -0.006976  Cluster 1           0\n",
              "\n",
              "[1000 rows x 22 columns]"
            ]
          },
          "metadata": {},
          "execution_count": 52
        }
      ]
    },
    {
      "cell_type": "code",
      "source": [
        "cluster_02.to_csv('cluster_02.csv') \n",
        "files.download('cluster_02.csv')"
      ],
      "metadata": {
        "colab": {
          "base_uri": "https://localhost:8080/",
          "height": 17
        },
        "id": "FjbDTYzllYzr",
        "outputId": "06467eeb-5c21-436f-ee1e-bdb5b41d0a1e"
      },
      "execution_count": null,
      "outputs": [
        {
          "output_type": "display_data",
          "data": {
            "application/javascript": [
              "\n",
              "    async function download(id, filename, size) {\n",
              "      if (!google.colab.kernel.accessAllowed) {\n",
              "        return;\n",
              "      }\n",
              "      const div = document.createElement('div');\n",
              "      const label = document.createElement('label');\n",
              "      label.textContent = `Downloading \"${filename}\": `;\n",
              "      div.appendChild(label);\n",
              "      const progress = document.createElement('progress');\n",
              "      progress.max = size;\n",
              "      div.appendChild(progress);\n",
              "      document.body.appendChild(div);\n",
              "\n",
              "      const buffers = [];\n",
              "      let downloaded = 0;\n",
              "\n",
              "      const channel = await google.colab.kernel.comms.open(id);\n",
              "      // Send a message to notify the kernel that we're ready.\n",
              "      channel.send({})\n",
              "\n",
              "      for await (const message of channel.messages) {\n",
              "        // Send a message to notify the kernel that we're ready.\n",
              "        channel.send({})\n",
              "        if (message.buffers) {\n",
              "          for (const buffer of message.buffers) {\n",
              "            buffers.push(buffer);\n",
              "            downloaded += buffer.byteLength;\n",
              "            progress.value = downloaded;\n",
              "          }\n",
              "        }\n",
              "      }\n",
              "      const blob = new Blob(buffers, {type: 'application/binary'});\n",
              "      const a = document.createElement('a');\n",
              "      a.href = window.URL.createObjectURL(blob);\n",
              "      a.download = filename;\n",
              "      div.appendChild(a);\n",
              "      a.click();\n",
              "      div.remove();\n",
              "    }\n",
              "  "
            ],
            "text/plain": [
              "<IPython.core.display.Javascript object>"
            ]
          },
          "metadata": {}
        },
        {
          "output_type": "display_data",
          "data": {
            "application/javascript": [
              "download(\"download_3321d9f2-4e84-4a52-a2a2-e26f11b7c345\", \"cluster_02.csv\", 186600)"
            ],
            "text/plain": [
              "<IPython.core.display.Javascript object>"
            ]
          },
          "metadata": {}
        }
      ]
    },
    {
      "cell_type": "markdown",
      "metadata": {
        "id": "fcXOnevW6fI2"
      },
      "source": [
        "# **Conclusiones**: <font color=\"#0A66C2\"><h10>**perfil de un cliente, clienta que consume mucho, pero no está satisfecha** <font> "
      ]
    },
    {
      "cell_type": "markdown",
      "source": [
        "El modelo de cluster definido en función de variables numéricas que, explicita o implicitamente marcan fidelización con nuestros supermercados, nos pone ante la texitura de cómo abordamos a los clientes del cluster 1 (**clientes, clientas que gastan mucho , pero que manifiestan baja conexión con la experiencia de compra en nuestros supermercados**)\n",
        "\n",
        "<font color=\"#0A66C2\"><h10>**¿Quienes son estos, estas clientas? (Cluster_22 valor de 1)** <font>:\n",
        "- **Gasto Medio:** 659.30\n",
        "- **Calificación de la experiencia en nuestros supermercados :** 5,29 (Valoración más baja de los cuatro clusters)\n",
        "- **Cantidad Media de productos comprados:** 8.23, la cantidad más alta.  \n",
        "- **Ligera mayor presencia de mujeres que de hombres**  \n",
        "- **Ligera mayor presencia de clientas con tarjeta de fidelización que sin tarjeta** \n",
        "- **Compradoras de mañana o de noche en mayor medida que por la tarde** \n",
        "- **El sábado y el jueves son los días donde se detecta en mayor media la presencia de este segmento de clientes, clientas** \n",
        "- **Línea de producto más comprado:** por lo tanto secciones que más visitan: Electronic, Home & lifestyle y Sports & Travel\n",
        "\n",
        "<font color=\"#0A66C2\"><h10>Analizar la información que podemos volcar desde el programa de fidelización para profundizar más en este perfil de cliente<font>\n",
        "\n",
        "\n",
        "<font color=\"#0A66C2\"><h10>Proponemos realizar **campañas de comunicación personalizadas**, son clientes, clientas con tarjeta de fidelización con lo que disponemos de esa información, para mantener el vínculo más allá del acto de compra<font>\n",
        "\n",
        "\n",
        "<font color=\"#0A66C2\"><h10>Analizar punto de venta de secciones donde más consumo para realizar promociones en horario de mañana y noche. Promociones que supongan o proporcionen **experiencias** relacionadas con la informática, la moda y el deporte **más allá de nuestros establecimientos** (Que guarden algún recuerdo satisfactorio por comprar en nuestros establecimientos)<font>\n",
        "\n",
        "\n",
        "<font color=\"#0A66C2\"><h10>Realización de **dinámicas de grupo** con este perfil de comprador, compradora para entender qué le motiva a seguir comprando, pero al mismo tiempo por qué es tan crítico o tan poco entusiasta. Es decir, al igual que **escuchamos a los datos a través de los modelos, escuchar a  los y las clientas**<font>"
      ],
      "metadata": {
        "id": "76ADgSAb4269"
      }
    }
  ]
}