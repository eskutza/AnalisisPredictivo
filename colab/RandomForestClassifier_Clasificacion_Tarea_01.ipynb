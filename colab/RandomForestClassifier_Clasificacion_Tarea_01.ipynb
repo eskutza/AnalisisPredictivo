{
  "nbformat": 4,
  "nbformat_minor": 0,
  "metadata": {
    "colab": {
      "name": "RandomForestClassifier_Clasificacion_Tarea_01.ipynb",
      "provenance": [],
      "collapsed_sections": [],
      "toc_visible": true,
      "authorship_tag": "ABX9TyNn6qMMsOxoouvIS0KT3yjl",
      "include_colab_link": true
    },
    "kernelspec": {
      "name": "python3",
      "display_name": "Python 3"
    },
    "language_info": {
      "name": "python"
    }
  },
  "cells": [
    {
      "cell_type": "markdown",
      "metadata": {
        "id": "view-in-github",
        "colab_type": "text"
      },
      "source": [
        "<a href=\"https://colab.research.google.com/github/eskutza/AnalisisPredictivo/blob/main/colab/RandomForestClassifier_Clasificacion_Tarea_01.ipynb\" target=\"_parent\"><img src=\"https://colab.research.google.com/assets/colab-badge.svg\" alt=\"Open In Colab\"/></a>"
      ]
    },
    {
      "cell_type": "markdown",
      "metadata": {
        "id": "R-mVeCgiWKNv"
      },
      "source": [
        "<center>\n",
        "\n",
        "![Captura de Pantalla 2021-08-16 a la(s) 23.25.35.png](data:image/png;base64,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)\n",
        "\n",
        "</center>"
      ]
    },
    {
      "cell_type": "markdown",
      "metadata": {
        "id": "m6WKn_1aWa8w"
      },
      "source": [
        "<h1><b>\n",
        "Dirección de Estudios de Posgrado y Educación Continua\n",
        "<h2><b>\n",
        "Analítica Predictiva y Machine Learning con R, Python y Databricks"
      ]
    },
    {
      "cell_type": "markdown",
      "metadata": {
        "id": "5d1du5rvWhAz"
      },
      "source": [
        "[UNI-DEPEC](https://posgrado.uni.edu.ni)"
      ]
    },
    {
      "cell_type": "markdown",
      "metadata": {
        "id": "KxvnY5xdWl96"
      },
      "source": [
        "~~~Python\n",
        "Iranzuegi López, Luis Ángel\n",
        "~~~"
      ]
    },
    {
      "cell_type": "markdown",
      "metadata": {
        "id": "NjRjLkeTXQ9Q"
      },
      "source": [
        "# **Tarea Modelos Supervisados**"
      ]
    },
    {
      "cell_type": "markdown",
      "metadata": {
        "id": "0cplu0LOXV3n"
      },
      "source": [
        "# **Modelo de Clasificación**: <font color=\"#f89938\"><h10>**scikit learn** <font> "
      ]
    },
    {
      "cell_type": "markdown",
      "metadata": {
        "id": "ntq0dQ764jMk"
      },
      "source": [
        "# **Carga de librerías necesarias**"
      ]
    },
    {
      "cell_type": "markdown",
      "metadata": {
        "id": "JZaLmS2S5ner"
      },
      "source": [
        "## <font color=\"#333F49\"> **Para el análisis de datos y el conjunto de datos** <font>"
      ]
    },
    {
      "cell_type": "code",
      "metadata": {
        "id": "Hn3aJshe3wYm",
        "colab": {
          "base_uri": "https://localhost:8080/"
        },
        "outputId": "abbee75a-95ca-4dbe-807f-f8ce1e8ef9ed"
      },
      "source": [
        "import pandas as pd\n",
        "import numpy as np\n",
        "import statsmodels.api as sm"
      ],
      "execution_count": null,
      "outputs": [
        {
          "output_type": "stream",
          "name": "stderr",
          "text": [
            "/usr/local/lib/python3.7/dist-packages/statsmodels/tools/_testing.py:19: FutureWarning: pandas.util.testing is deprecated. Use the functions in the public API at pandas.testing instead.\n",
            "  import pandas.util.testing as tm\n"
          ]
        }
      ]
    },
    {
      "cell_type": "code",
      "metadata": {
        "colab": {
          "base_uri": "https://localhost:8080/"
        },
        "id": "IjJhJFUJ3Ni6",
        "outputId": "df00ce77-9a52-4280-c495-4042675c29ae"
      },
      "source": [
        "!pip install pycaret"
      ],
      "execution_count": null,
      "outputs": [
        {
          "output_type": "stream",
          "name": "stdout",
          "text": [
            "Requirement already satisfied: pycaret in /usr/local/lib/python3.7/dist-packages (2.3.5)\n",
            "Requirement already satisfied: umap-learn in /usr/local/lib/python3.7/dist-packages (from pycaret) (0.5.2)\n",
            "Requirement already satisfied: pandas in /usr/local/lib/python3.7/dist-packages (from pycaret) (1.1.5)\n",
            "Requirement already satisfied: scikit-learn==0.23.2 in /usr/local/lib/python3.7/dist-packages (from pycaret) (0.23.2)\n",
            "Requirement already satisfied: gensim<4.0.0 in /usr/local/lib/python3.7/dist-packages (from pycaret) (3.6.0)\n",
            "Requirement already satisfied: wordcloud in /usr/local/lib/python3.7/dist-packages (from pycaret) (1.5.0)\n",
            "Requirement already satisfied: joblib in /usr/local/lib/python3.7/dist-packages (from pycaret) (1.0.1)\n",
            "Requirement already satisfied: Boruta in /usr/local/lib/python3.7/dist-packages (from pycaret) (0.3)\n",
            "Requirement already satisfied: seaborn in /usr/local/lib/python3.7/dist-packages (from pycaret) (0.11.2)\n",
            "Requirement already satisfied: nltk in /usr/local/lib/python3.7/dist-packages (from pycaret) (3.2.5)\n",
            "Requirement already satisfied: ipywidgets in /usr/local/lib/python3.7/dist-packages (from pycaret) (7.6.5)\n",
            "Requirement already satisfied: spacy<2.4.0 in /usr/local/lib/python3.7/dist-packages (from pycaret) (2.2.4)\n",
            "Requirement already satisfied: pyLDAvis in /usr/local/lib/python3.7/dist-packages (from pycaret) (3.2.2)\n",
            "Requirement already satisfied: textblob in /usr/local/lib/python3.7/dist-packages (from pycaret) (0.15.3)\n",
            "Requirement already satisfied: numpy==1.19.5 in /usr/local/lib/python3.7/dist-packages (from pycaret) (1.19.5)\n",
            "Requirement already satisfied: pyod in /usr/local/lib/python3.7/dist-packages (from pycaret) (0.9.5)\n",
            "Requirement already satisfied: matplotlib in /usr/local/lib/python3.7/dist-packages (from pycaret) (3.2.2)\n",
            "Requirement already satisfied: lightgbm>=2.3.1 in /usr/local/lib/python3.7/dist-packages (from pycaret) (3.3.1)\n",
            "Requirement already satisfied: IPython in /usr/local/lib/python3.7/dist-packages (from pycaret) (5.5.0)\n",
            "Requirement already satisfied: mlxtend>=0.17.0 in /usr/local/lib/python3.7/dist-packages (from pycaret) (0.19.0)\n",
            "Requirement already satisfied: plotly>=4.4.1 in /usr/local/lib/python3.7/dist-packages (from pycaret) (4.4.1)\n",
            "Requirement already satisfied: mlflow in /usr/local/lib/python3.7/dist-packages (from pycaret) (1.22.0)\n",
            "Requirement already satisfied: scikit-plot in /usr/local/lib/python3.7/dist-packages (from pycaret) (0.3.7)\n",
            "Requirement already satisfied: scipy<=1.5.4 in /usr/local/lib/python3.7/dist-packages (from pycaret) (1.5.4)\n",
            "Requirement already satisfied: yellowbrick>=1.0.1 in /usr/local/lib/python3.7/dist-packages (from pycaret) (1.3.post1)\n",
            "Requirement already satisfied: imbalanced-learn==0.7.0 in /usr/local/lib/python3.7/dist-packages (from pycaret) (0.7.0)\n",
            "Requirement already satisfied: kmodes>=0.10.1 in /usr/local/lib/python3.7/dist-packages (from pycaret) (0.11.1)\n",
            "Requirement already satisfied: cufflinks>=0.17.0 in /usr/local/lib/python3.7/dist-packages (from pycaret) (0.17.3)\n",
            "Requirement already satisfied: pandas-profiling>=2.8.0 in /usr/local/lib/python3.7/dist-packages (from pycaret) (3.1.0)\n",
            "Requirement already satisfied: threadpoolctl>=2.0.0 in /usr/local/lib/python3.7/dist-packages (from scikit-learn==0.23.2->pycaret) (3.0.0)\n",
            "Requirement already satisfied: colorlover>=0.2.1 in /usr/local/lib/python3.7/dist-packages (from cufflinks>=0.17.0->pycaret) (0.3.0)\n",
            "Requirement already satisfied: setuptools>=34.4.1 in /usr/local/lib/python3.7/dist-packages (from cufflinks>=0.17.0->pycaret) (57.4.0)\n",
            "Requirement already satisfied: six>=1.9.0 in /usr/local/lib/python3.7/dist-packages (from cufflinks>=0.17.0->pycaret) (1.15.0)\n",
            "Requirement already satisfied: smart-open>=1.2.1 in /usr/local/lib/python3.7/dist-packages (from gensim<4.0.0->pycaret) (5.2.1)\n",
            "Requirement already satisfied: simplegeneric>0.8 in /usr/local/lib/python3.7/dist-packages (from IPython->pycaret) (0.8.1)\n",
            "Requirement already satisfied: prompt-toolkit<2.0.0,>=1.0.4 in /usr/local/lib/python3.7/dist-packages (from IPython->pycaret) (1.0.18)\n",
            "Requirement already satisfied: pickleshare in /usr/local/lib/python3.7/dist-packages (from IPython->pycaret) (0.7.5)\n",
            "Requirement already satisfied: decorator in /usr/local/lib/python3.7/dist-packages (from IPython->pycaret) (4.4.2)\n",
            "Requirement already satisfied: traitlets>=4.2 in /usr/local/lib/python3.7/dist-packages (from IPython->pycaret) (5.1.1)\n",
            "Requirement already satisfied: pygments in /usr/local/lib/python3.7/dist-packages (from IPython->pycaret) (2.6.1)\n",
            "Requirement already satisfied: pexpect in /usr/local/lib/python3.7/dist-packages (from IPython->pycaret) (4.8.0)\n",
            "Requirement already satisfied: nbformat>=4.2.0 in /usr/local/lib/python3.7/dist-packages (from ipywidgets->pycaret) (5.1.3)\n",
            "Requirement already satisfied: widgetsnbextension~=3.5.0 in /usr/local/lib/python3.7/dist-packages (from ipywidgets->pycaret) (3.5.2)\n",
            "Requirement already satisfied: jupyterlab-widgets>=1.0.0 in /usr/local/lib/python3.7/dist-packages (from ipywidgets->pycaret) (1.0.2)\n",
            "Requirement already satisfied: ipykernel>=4.5.1 in /usr/local/lib/python3.7/dist-packages (from ipywidgets->pycaret) (4.10.1)\n",
            "Requirement already satisfied: ipython-genutils~=0.2.0 in /usr/local/lib/python3.7/dist-packages (from ipywidgets->pycaret) (0.2.0)\n",
            "Requirement already satisfied: jupyter-client in /usr/local/lib/python3.7/dist-packages (from ipykernel>=4.5.1->ipywidgets->pycaret) (5.3.5)\n",
            "Requirement already satisfied: tornado>=4.0 in /usr/local/lib/python3.7/dist-packages (from ipykernel>=4.5.1->ipywidgets->pycaret) (5.1.1)\n",
            "Requirement already satisfied: wheel in /usr/local/lib/python3.7/dist-packages (from lightgbm>=2.3.1->pycaret) (0.37.0)\n",
            "Requirement already satisfied: pyparsing!=2.0.4,!=2.1.2,!=2.1.6,>=2.0.1 in /usr/local/lib/python3.7/dist-packages (from matplotlib->pycaret) (3.0.6)\n",
            "Requirement already satisfied: python-dateutil>=2.1 in /usr/local/lib/python3.7/dist-packages (from matplotlib->pycaret) (2.8.2)\n",
            "Requirement already satisfied: kiwisolver>=1.0.1 in /usr/local/lib/python3.7/dist-packages (from matplotlib->pycaret) (1.3.2)\n",
            "Requirement already satisfied: cycler>=0.10 in /usr/local/lib/python3.7/dist-packages (from matplotlib->pycaret) (0.11.0)\n",
            "Requirement already satisfied: jsonschema!=2.5.0,>=2.4 in /usr/local/lib/python3.7/dist-packages (from nbformat>=4.2.0->ipywidgets->pycaret) (2.6.0)\n",
            "Requirement already satisfied: jupyter-core in /usr/local/lib/python3.7/dist-packages (from nbformat>=4.2.0->ipywidgets->pycaret) (4.9.1)\n",
            "Requirement already satisfied: pytz>=2017.2 in /usr/local/lib/python3.7/dist-packages (from pandas->pycaret) (2018.9)\n",
            "Requirement already satisfied: pydantic>=1.8.1 in /usr/local/lib/python3.7/dist-packages (from pandas-profiling>=2.8.0->pycaret) (1.8.2)\n",
            "Requirement already satisfied: requests>=2.24.0 in /usr/local/lib/python3.7/dist-packages (from pandas-profiling>=2.8.0->pycaret) (2.26.0)\n",
            "Requirement already satisfied: missingno>=0.4.2 in /usr/local/lib/python3.7/dist-packages (from pandas-profiling>=2.8.0->pycaret) (0.5.0)\n",
            "Requirement already satisfied: visions[type_image_path]==0.7.4 in /usr/local/lib/python3.7/dist-packages (from pandas-profiling>=2.8.0->pycaret) (0.7.4)\n",
            "Requirement already satisfied: jinja2>=2.11.1 in /usr/local/lib/python3.7/dist-packages (from pandas-profiling>=2.8.0->pycaret) (2.11.3)\n",
            "Requirement already satisfied: PyYAML>=5.0.0 in /usr/local/lib/python3.7/dist-packages (from pandas-profiling>=2.8.0->pycaret) (6.0)\n",
            "Requirement already satisfied: phik>=0.11.1 in /usr/local/lib/python3.7/dist-packages (from pandas-profiling>=2.8.0->pycaret) (0.12.0)\n",
            "Requirement already satisfied: tqdm>=4.48.2 in /usr/local/lib/python3.7/dist-packages (from pandas-profiling>=2.8.0->pycaret) (4.62.3)\n",
            "Requirement already satisfied: tangled-up-in-unicode==0.1.0 in /usr/local/lib/python3.7/dist-packages (from pandas-profiling>=2.8.0->pycaret) (0.1.0)\n",
            "Requirement already satisfied: markupsafe~=2.0.1 in /usr/local/lib/python3.7/dist-packages (from pandas-profiling>=2.8.0->pycaret) (2.0.1)\n",
            "Requirement already satisfied: htmlmin>=0.1.12 in /usr/local/lib/python3.7/dist-packages (from pandas-profiling>=2.8.0->pycaret) (0.1.12)\n",
            "Requirement already satisfied: multimethod>=1.4 in /usr/local/lib/python3.7/dist-packages (from pandas-profiling>=2.8.0->pycaret) (1.6)\n",
            "Requirement already satisfied: networkx>=2.4 in /usr/local/lib/python3.7/dist-packages (from visions[type_image_path]==0.7.4->pandas-profiling>=2.8.0->pycaret) (2.6.3)\n",
            "Requirement already satisfied: attrs>=19.3.0 in /usr/local/lib/python3.7/dist-packages (from visions[type_image_path]==0.7.4->pandas-profiling>=2.8.0->pycaret) (21.2.0)\n",
            "Requirement already satisfied: Pillow in /usr/local/lib/python3.7/dist-packages (from visions[type_image_path]==0.7.4->pandas-profiling>=2.8.0->pycaret) (7.1.2)\n",
            "Requirement already satisfied: imagehash in /usr/local/lib/python3.7/dist-packages (from visions[type_image_path]==0.7.4->pandas-profiling>=2.8.0->pycaret) (4.2.1)\n",
            "Requirement already satisfied: retrying>=1.3.3 in /usr/local/lib/python3.7/dist-packages (from plotly>=4.4.1->pycaret) (1.3.3)\n",
            "Requirement already satisfied: wcwidth in /usr/local/lib/python3.7/dist-packages (from prompt-toolkit<2.0.0,>=1.0.4->IPython->pycaret) (0.2.5)\n",
            "Requirement already satisfied: typing-extensions>=3.7.4.3 in /usr/local/lib/python3.7/dist-packages (from pydantic>=1.8.1->pandas-profiling>=2.8.0->pycaret) (3.10.0.2)\n",
            "Requirement already satisfied: charset-normalizer~=2.0.0 in /usr/local/lib/python3.7/dist-packages (from requests>=2.24.0->pandas-profiling>=2.8.0->pycaret) (2.0.8)\n",
            "Requirement already satisfied: idna<4,>=2.5 in /usr/local/lib/python3.7/dist-packages (from requests>=2.24.0->pandas-profiling>=2.8.0->pycaret) (2.10)\n",
            "Requirement already satisfied: certifi>=2017.4.17 in /usr/local/lib/python3.7/dist-packages (from requests>=2.24.0->pandas-profiling>=2.8.0->pycaret) (2021.10.8)\n",
            "Requirement already satisfied: urllib3<1.27,>=1.21.1 in /usr/local/lib/python3.7/dist-packages (from requests>=2.24.0->pandas-profiling>=2.8.0->pycaret) (1.24.3)\n",
            "Requirement already satisfied: thinc==7.4.0 in /usr/local/lib/python3.7/dist-packages (from spacy<2.4.0->pycaret) (7.4.0)\n",
            "Requirement already satisfied: plac<1.2.0,>=0.9.6 in /usr/local/lib/python3.7/dist-packages (from spacy<2.4.0->pycaret) (1.1.3)\n",
            "Requirement already satisfied: blis<0.5.0,>=0.4.0 in /usr/local/lib/python3.7/dist-packages (from spacy<2.4.0->pycaret) (0.4.1)\n",
            "Requirement already satisfied: preshed<3.1.0,>=3.0.2 in /usr/local/lib/python3.7/dist-packages (from spacy<2.4.0->pycaret) (3.0.6)\n",
            "Requirement already satisfied: cymem<2.1.0,>=2.0.2 in /usr/local/lib/python3.7/dist-packages (from spacy<2.4.0->pycaret) (2.0.6)\n",
            "Requirement already satisfied: srsly<1.1.0,>=1.0.2 in /usr/local/lib/python3.7/dist-packages (from spacy<2.4.0->pycaret) (1.0.5)\n",
            "Requirement already satisfied: catalogue<1.1.0,>=0.0.7 in /usr/local/lib/python3.7/dist-packages (from spacy<2.4.0->pycaret) (1.0.0)\n",
            "Requirement already satisfied: wasabi<1.1.0,>=0.4.0 in /usr/local/lib/python3.7/dist-packages (from spacy<2.4.0->pycaret) (0.8.2)\n",
            "Requirement already satisfied: murmurhash<1.1.0,>=0.28.0 in /usr/local/lib/python3.7/dist-packages (from spacy<2.4.0->pycaret) (1.0.6)\n",
            "Requirement already satisfied: importlib-metadata>=0.20 in /usr/local/lib/python3.7/dist-packages (from catalogue<1.1.0,>=0.0.7->spacy<2.4.0->pycaret) (4.8.2)\n",
            "Requirement already satisfied: zipp>=0.5 in /usr/local/lib/python3.7/dist-packages (from importlib-metadata>=0.20->catalogue<1.1.0,>=0.0.7->spacy<2.4.0->pycaret) (3.6.0)\n",
            "Requirement already satisfied: notebook>=4.4.1 in /usr/local/lib/python3.7/dist-packages (from widgetsnbextension~=3.5.0->ipywidgets->pycaret) (5.3.1)\n",
            "Requirement already satisfied: Send2Trash in /usr/local/lib/python3.7/dist-packages (from notebook>=4.4.1->widgetsnbextension~=3.5.0->ipywidgets->pycaret) (1.8.0)\n",
            "Requirement already satisfied: terminado>=0.8.1 in /usr/local/lib/python3.7/dist-packages (from notebook>=4.4.1->widgetsnbextension~=3.5.0->ipywidgets->pycaret) (0.12.1)\n",
            "Requirement already satisfied: nbconvert in /usr/local/lib/python3.7/dist-packages (from notebook>=4.4.1->widgetsnbextension~=3.5.0->ipywidgets->pycaret) (5.6.1)\n",
            "Requirement already satisfied: pyzmq>=13 in /usr/local/lib/python3.7/dist-packages (from jupyter-client->ipykernel>=4.5.1->ipywidgets->pycaret) (22.3.0)\n",
            "Requirement already satisfied: ptyprocess in /usr/local/lib/python3.7/dist-packages (from terminado>=0.8.1->notebook>=4.4.1->widgetsnbextension~=3.5.0->ipywidgets->pycaret) (0.7.0)\n",
            "Requirement already satisfied: PyWavelets in /usr/local/lib/python3.7/dist-packages (from imagehash->visions[type_image_path]==0.7.4->pandas-profiling>=2.8.0->pycaret) (1.2.0)\n",
            "Requirement already satisfied: docker>=4.0.0 in /usr/local/lib/python3.7/dist-packages (from mlflow->pycaret) (5.0.3)\n",
            "Requirement already satisfied: querystring-parser in /usr/local/lib/python3.7/dist-packages (from mlflow->pycaret) (1.2.4)\n",
            "Requirement already satisfied: sqlalchemy in /usr/local/lib/python3.7/dist-packages (from mlflow->pycaret) (1.4.27)\n",
            "Requirement already satisfied: sqlparse>=0.3.1 in /usr/local/lib/python3.7/dist-packages (from mlflow->pycaret) (0.4.2)\n",
            "Requirement already satisfied: alembic<=1.4.1 in /usr/local/lib/python3.7/dist-packages (from mlflow->pycaret) (1.4.1)\n",
            "Requirement already satisfied: prometheus-flask-exporter in /usr/local/lib/python3.7/dist-packages (from mlflow->pycaret) (0.18.6)\n",
            "Requirement already satisfied: click>=7.0 in /usr/local/lib/python3.7/dist-packages (from mlflow->pycaret) (7.1.2)\n",
            "Requirement already satisfied: entrypoints in /usr/local/lib/python3.7/dist-packages (from mlflow->pycaret) (0.3)\n",
            "Requirement already satisfied: packaging in /usr/local/lib/python3.7/dist-packages (from mlflow->pycaret) (21.3)\n",
            "Requirement already satisfied: gunicorn in /usr/local/lib/python3.7/dist-packages (from mlflow->pycaret) (20.1.0)\n",
            "Requirement already satisfied: cloudpickle in /usr/local/lib/python3.7/dist-packages (from mlflow->pycaret) (1.3.0)\n",
            "Requirement already satisfied: Flask in /usr/local/lib/python3.7/dist-packages (from mlflow->pycaret) (1.1.4)\n",
            "Requirement already satisfied: protobuf>=3.7.0 in /usr/local/lib/python3.7/dist-packages (from mlflow->pycaret) (3.17.3)\n",
            "Requirement already satisfied: gitpython>=2.1.0 in /usr/local/lib/python3.7/dist-packages (from mlflow->pycaret) (3.1.24)\n",
            "Requirement already satisfied: databricks-cli>=0.8.7 in /usr/local/lib/python3.7/dist-packages (from mlflow->pycaret) (0.16.2)\n",
            "Requirement already satisfied: Mako in /usr/local/lib/python3.7/dist-packages (from alembic<=1.4.1->mlflow->pycaret) (1.1.6)\n",
            "Requirement already satisfied: python-editor>=0.3 in /usr/local/lib/python3.7/dist-packages (from alembic<=1.4.1->mlflow->pycaret) (1.0.4)\n",
            "Requirement already satisfied: tabulate>=0.7.7 in /usr/local/lib/python3.7/dist-packages (from databricks-cli>=0.8.7->mlflow->pycaret) (0.8.9)\n",
            "Requirement already satisfied: websocket-client>=0.32.0 in /usr/local/lib/python3.7/dist-packages (from docker>=4.0.0->mlflow->pycaret) (1.2.1)\n",
            "Requirement already satisfied: gitdb<5,>=4.0.1 in /usr/local/lib/python3.7/dist-packages (from gitpython>=2.1.0->mlflow->pycaret) (4.0.9)\n",
            "Requirement already satisfied: smmap<6,>=3.0.1 in /usr/local/lib/python3.7/dist-packages (from gitdb<5,>=4.0.1->gitpython>=2.1.0->mlflow->pycaret) (5.0.0)\n",
            "Requirement already satisfied: greenlet!=0.4.17 in /usr/local/lib/python3.7/dist-packages (from sqlalchemy->mlflow->pycaret) (1.1.2)\n",
            "Requirement already satisfied: itsdangerous<2.0,>=0.24 in /usr/local/lib/python3.7/dist-packages (from Flask->mlflow->pycaret) (1.1.0)\n",
            "Requirement already satisfied: Werkzeug<2.0,>=0.15 in /usr/local/lib/python3.7/dist-packages (from Flask->mlflow->pycaret) (1.0.1)\n",
            "Requirement already satisfied: pandocfilters>=1.4.1 in /usr/local/lib/python3.7/dist-packages (from nbconvert->notebook>=4.4.1->widgetsnbextension~=3.5.0->ipywidgets->pycaret) (1.5.0)\n",
            "Requirement already satisfied: mistune<2,>=0.8.1 in /usr/local/lib/python3.7/dist-packages (from nbconvert->notebook>=4.4.1->widgetsnbextension~=3.5.0->ipywidgets->pycaret) (0.8.4)\n",
            "Requirement already satisfied: defusedxml in /usr/local/lib/python3.7/dist-packages (from nbconvert->notebook>=4.4.1->widgetsnbextension~=3.5.0->ipywidgets->pycaret) (0.7.1)\n",
            "Requirement already satisfied: testpath in /usr/local/lib/python3.7/dist-packages (from nbconvert->notebook>=4.4.1->widgetsnbextension~=3.5.0->ipywidgets->pycaret) (0.5.0)\n",
            "Requirement already satisfied: bleach in /usr/local/lib/python3.7/dist-packages (from nbconvert->notebook>=4.4.1->widgetsnbextension~=3.5.0->ipywidgets->pycaret) (4.1.0)\n",
            "Requirement already satisfied: webencodings in /usr/local/lib/python3.7/dist-packages (from bleach->nbconvert->notebook>=4.4.1->widgetsnbextension~=3.5.0->ipywidgets->pycaret) (0.5.1)\n",
            "Requirement already satisfied: prometheus-client in /usr/local/lib/python3.7/dist-packages (from prometheus-flask-exporter->mlflow->pycaret) (0.12.0)\n",
            "Requirement already satisfied: funcy in /usr/local/lib/python3.7/dist-packages (from pyLDAvis->pycaret) (1.16)\n",
            "Requirement already satisfied: future in /usr/local/lib/python3.7/dist-packages (from pyLDAvis->pycaret) (0.16.0)\n",
            "Requirement already satisfied: numexpr in /usr/local/lib/python3.7/dist-packages (from pyLDAvis->pycaret) (2.7.3)\n",
            "Requirement already satisfied: statsmodels in /usr/local/lib/python3.7/dist-packages (from pyod->pycaret) (0.10.2)\n",
            "Requirement already satisfied: numba>=0.35 in /usr/local/lib/python3.7/dist-packages (from pyod->pycaret) (0.51.2)\n",
            "Requirement already satisfied: llvmlite<0.35,>=0.34.0.dev0 in /usr/local/lib/python3.7/dist-packages (from numba>=0.35->pyod->pycaret) (0.34.0)\n",
            "Requirement already satisfied: patsy>=0.4.0 in /usr/local/lib/python3.7/dist-packages (from statsmodels->pyod->pycaret) (0.5.2)\n",
            "Requirement already satisfied: pynndescent>=0.5 in /usr/local/lib/python3.7/dist-packages (from umap-learn->pycaret) (0.5.5)\n"
          ]
        }
      ]
    },
    {
      "cell_type": "markdown",
      "metadata": {
        "id": "0lP3u52T5yfC"
      },
      "source": [
        "## <font color=\"#333F49\">**Para el preprocesado y modelado** <font>\n"
      ]
    },
    {
      "cell_type": "code",
      "metadata": {
        "id": "mzBkrehs8PZg"
      },
      "source": [
        "from sklearn.model_selection import train_test_split\n",
        "from sklearn.tree import DecisionTreeClassifier\n",
        "from sklearn.ensemble import RandomForestClassifier\n",
        "from sklearn.datasets import make_classification\n",
        "from sklearn.neighbors import KNeighborsClassifier\n",
        "from sklearn.tree import plot_tree\n",
        "from sklearn.tree import export_graphviz\n",
        "from sklearn.tree import export_text\n",
        "from sklearn.model_selection import GridSearchCV\n",
        "from sklearn.compose import ColumnTransformer\n",
        "from sklearn.preprocessing import OneHotEncoder\n",
        "import sklearn.metrics as metrics\n",
        "from sklearn.metrics import accuracy_score\n",
        "from sklearn.metrics import confusion_matrix\n",
        "import seaborn as sns"
      ],
      "execution_count": null,
      "outputs": []
    },
    {
      "cell_type": "markdown",
      "metadata": {
        "id": "1OV25To-5-EG"
      },
      "source": [
        "## <font color=\"#333F49\">**Para los gráficos** <font>"
      ]
    },
    {
      "cell_type": "code",
      "metadata": {
        "id": "Pqmw1eVs6D25"
      },
      "source": [
        "import matplotlib.pyplot as plt\n",
        "import plotly.express as px"
      ],
      "execution_count": null,
      "outputs": []
    },
    {
      "cell_type": "markdown",
      "metadata": {
        "id": "MfU4IYZR6G1J"
      },
      "source": [
        "## <font color=\"#333F49\">**Para serializar: grabar y recuperar los modelos entrenados** <font>"
      ]
    },
    {
      "cell_type": "code",
      "metadata": {
        "id": "UytKIO-d6GF5"
      },
      "source": [
        "import pickle \n",
        "import os"
      ],
      "execution_count": null,
      "outputs": []
    },
    {
      "cell_type": "markdown",
      "metadata": {
        "id": "c26CtdDL7AuR"
      },
      "source": [
        "## <font color=\"#333F49\">**Para las alertas** <font>"
      ]
    },
    {
      "cell_type": "code",
      "metadata": {
        "id": "hHECz7ck7DlB"
      },
      "source": [
        "import warnings\n",
        "warnings.filterwarnings('ignore')"
      ],
      "execution_count": null,
      "outputs": []
    },
    {
      "cell_type": "markdown",
      "metadata": {
        "id": "Z6EfZgK5wXba"
      },
      "source": [
        "#**Análisis Exploratorio de los Datos y Preprocesamiento de Datos**"
      ]
    },
    {
      "cell_type": "markdown",
      "metadata": {
        "id": "yKFphO9b9km3"
      },
      "source": [
        "## <font color=\"#333F49\">**Descripción del set de datos** <font>"
      ]
    },
    {
      "cell_type": "markdown",
      "metadata": {
        "id": "S486t55S_BJW"
      },
      "source": [
        "Los $datos^1$ están relacionados con campañas de marketing directo de una institución bancaria portuguesa.\n",
        "\n",
        "Las campañas de marketing se han basado en llamadas telefónicas. A menudo, ha sido necesario más de un contacto con el mismo cliente, clienta para poder detectar si estaba (o no) interesado en la contratación  de un producto (depósito a plazo bancario).\n",
        "\n",
        "<font color=\"#666666\">\n",
        "<h10>\n",
        " (1) Fuente: S. Moro, R. Laureano y P. Cortez. Uso de la minería de datos para el marketing directo bancario: una aplicación de la metodología CRISP-DM\n",
        "</font>\n",
        "\n",
        "[Uso de la minería de datos para el marketing directo bancario]( http://repositorium.sdum.uminho.pt/handle/1822/14838)\n",
        "\n"
      ]
    },
    {
      "cell_type": "markdown",
      "metadata": {
        "id": "cXgyY6bSV__4"
      },
      "source": [
        "**Objetivo:** \n",
        "\n",
        "Definir un modelo que pueda explicar el éxito de un contacto, es decir, si el o la clienta suscribe el depósito. \n",
        "\n",
        "Aumentar la eficacia de la campaña al identificar las principales características que afectan al éxito, ayudando a una mejor gestión de los recursos disponibles (por ejemplo, el esfuerzo humano en llamadas telefónicas, tiempo) y la selección de un conjunto de clientes, clientas potenciales\n",
        "compradoras.\n",
        "\n"
      ]
    },
    {
      "cell_type": "markdown",
      "metadata": {
        "id": "Bw3N3CyvTtVy"
      },
      "source": [
        "El dataframe contiene 17 variables y 45211 observaciones.\n",
        "\n",
        "Las variables se definen como:\n",
        "- **age:** Edad de los y las clientas; variable numérica\n",
        "- **job:** Corresponde al tipo de trabajo de los y las clientas; variable categórica\n",
        "- **marital:** Estado civil de los y las clientas; variable categórica. A tener en cuenta, divorciado, divorciada recoge también las opciones de viudo o viuda\n",
        "- **education:** Nivel de estudios que han alcanzado los y las clientas; variable categórica. A tener en cuenta que uno de los valores de esta variable es <font color=\"#0A66C2\"><h10>\"desconocido\"<font> \n",
        "\n",
        "\n",
        "- **default:** Si el o la clienta tiene algún no o está al corriente de sus comprosimos creditíceos con la entidad; variable dicotómica\n",
        "- **balance:** saldo anual medio en euros: variable numérica\n",
        "- **housing:** Si el o la clienta tiene algún crédito hipotecario con la entidad; variable dicotómica\n",
        "- **loan:** Si el o la clienta tiene algún crédito consumo con la entidad; variable dicotómica\n",
        "- **contact:** Tipo de contacto; variable categórica. A tener en cuenta que uno de los valores de esta variable es <font color=\"#0A66C2\"><h10>\"desconocido\"<font> \n",
        "\n",
        "\n",
        "- **day:** Último día de contacto del mes; varible numérica\n",
        "- **month:** Último mes de contacto del año; varible categórica\n",
        "- **duration:** Duración del último contacto en segundos; variable numérica\n",
        "- **campaign:** Número de contactos realizados durante la campaña para cada cliente, clienta; variable numérica\n",
        "- **pdays:** Número de días que pasaron después de que el o la clienta fue contactado por última vez desde una campaña anterior; variable numérica. A tener en cuenta, un valor de -1 significa que el cliente fue no contactado previamente\n",
        "- **previous:** Número de contactos realizados antes de esta campaña y para este cliente, clienta; variable numérica\n",
        "- **poutcome:** Resultado de la campaña de marketing anterior; variable categórica. A tener en cuenta que uno de los valores de esta variable es <font color=\"#0A66C2\"><h10>\"desconocido\"<font> \n",
        "\n",
        "\n",
        "- **y:** ¿El o la clienta ha suscrito un depósito a plazo? <font color=\"#0A66C2\"><h10>\"**nuestra variable objetivo o variable respuesta**\"<font> "
      ]
    },
    {
      "cell_type": "code",
      "metadata": {
        "id": "1nZGSLqFYkeH"
      },
      "source": [
        "url = \"https://raw.githubusercontent.com/eskutza/AnalisisPredictivo/main/Datasets/bank-full.csv\""
      ],
      "execution_count": null,
      "outputs": []
    },
    {
      "cell_type": "code",
      "metadata": {
        "colab": {
          "base_uri": "https://localhost:8080/",
          "height": 444
        },
        "id": "SR_JSZSDaMA2",
        "outputId": "fca09a79-d04d-4ff2-9c9c-634e2e304f11"
      },
      "source": [
        "df = pd.read_csv(url, sep =';')\n",
        "df\n"
      ],
      "execution_count": null,
      "outputs": [
        {
          "output_type": "execute_result",
          "data": {
            "text/html": [
              "<div>\n",
              "<style scoped>\n",
              "    .dataframe tbody tr th:only-of-type {\n",
              "        vertical-align: middle;\n",
              "    }\n",
              "\n",
              "    .dataframe tbody tr th {\n",
              "        vertical-align: top;\n",
              "    }\n",
              "\n",
              "    .dataframe thead th {\n",
              "        text-align: right;\n",
              "    }\n",
              "</style>\n",
              "<table border=\"1\" class=\"dataframe\">\n",
              "  <thead>\n",
              "    <tr style=\"text-align: right;\">\n",
              "      <th></th>\n",
              "      <th>age</th>\n",
              "      <th>job</th>\n",
              "      <th>marital</th>\n",
              "      <th>education</th>\n",
              "      <th>default</th>\n",
              "      <th>balance</th>\n",
              "      <th>housing</th>\n",
              "      <th>loan</th>\n",
              "      <th>contact</th>\n",
              "      <th>day</th>\n",
              "      <th>month</th>\n",
              "      <th>duration</th>\n",
              "      <th>campaign</th>\n",
              "      <th>pdays</th>\n",
              "      <th>previous</th>\n",
              "      <th>poutcome</th>\n",
              "      <th>y</th>\n",
              "    </tr>\n",
              "  </thead>\n",
              "  <tbody>\n",
              "    <tr>\n",
              "      <th>0</th>\n",
              "      <td>58</td>\n",
              "      <td>management</td>\n",
              "      <td>married</td>\n",
              "      <td>tertiary</td>\n",
              "      <td>no</td>\n",
              "      <td>2143</td>\n",
              "      <td>yes</td>\n",
              "      <td>no</td>\n",
              "      <td>unknown</td>\n",
              "      <td>5</td>\n",
              "      <td>may</td>\n",
              "      <td>261</td>\n",
              "      <td>1</td>\n",
              "      <td>-1</td>\n",
              "      <td>0</td>\n",
              "      <td>unknown</td>\n",
              "      <td>no</td>\n",
              "    </tr>\n",
              "    <tr>\n",
              "      <th>1</th>\n",
              "      <td>44</td>\n",
              "      <td>technician</td>\n",
              "      <td>single</td>\n",
              "      <td>secondary</td>\n",
              "      <td>no</td>\n",
              "      <td>29</td>\n",
              "      <td>yes</td>\n",
              "      <td>no</td>\n",
              "      <td>unknown</td>\n",
              "      <td>5</td>\n",
              "      <td>may</td>\n",
              "      <td>151</td>\n",
              "      <td>1</td>\n",
              "      <td>-1</td>\n",
              "      <td>0</td>\n",
              "      <td>unknown</td>\n",
              "      <td>no</td>\n",
              "    </tr>\n",
              "    <tr>\n",
              "      <th>2</th>\n",
              "      <td>33</td>\n",
              "      <td>entrepreneur</td>\n",
              "      <td>married</td>\n",
              "      <td>secondary</td>\n",
              "      <td>no</td>\n",
              "      <td>2</td>\n",
              "      <td>yes</td>\n",
              "      <td>yes</td>\n",
              "      <td>unknown</td>\n",
              "      <td>5</td>\n",
              "      <td>may</td>\n",
              "      <td>76</td>\n",
              "      <td>1</td>\n",
              "      <td>-1</td>\n",
              "      <td>0</td>\n",
              "      <td>unknown</td>\n",
              "      <td>no</td>\n",
              "    </tr>\n",
              "    <tr>\n",
              "      <th>3</th>\n",
              "      <td>47</td>\n",
              "      <td>blue-collar</td>\n",
              "      <td>married</td>\n",
              "      <td>unknown</td>\n",
              "      <td>no</td>\n",
              "      <td>1506</td>\n",
              "      <td>yes</td>\n",
              "      <td>no</td>\n",
              "      <td>unknown</td>\n",
              "      <td>5</td>\n",
              "      <td>may</td>\n",
              "      <td>92</td>\n",
              "      <td>1</td>\n",
              "      <td>-1</td>\n",
              "      <td>0</td>\n",
              "      <td>unknown</td>\n",
              "      <td>no</td>\n",
              "    </tr>\n",
              "    <tr>\n",
              "      <th>4</th>\n",
              "      <td>33</td>\n",
              "      <td>unknown</td>\n",
              "      <td>single</td>\n",
              "      <td>unknown</td>\n",
              "      <td>no</td>\n",
              "      <td>1</td>\n",
              "      <td>no</td>\n",
              "      <td>no</td>\n",
              "      <td>unknown</td>\n",
              "      <td>5</td>\n",
              "      <td>may</td>\n",
              "      <td>198</td>\n",
              "      <td>1</td>\n",
              "      <td>-1</td>\n",
              "      <td>0</td>\n",
              "      <td>unknown</td>\n",
              "      <td>no</td>\n",
              "    </tr>\n",
              "    <tr>\n",
              "      <th>...</th>\n",
              "      <td>...</td>\n",
              "      <td>...</td>\n",
              "      <td>...</td>\n",
              "      <td>...</td>\n",
              "      <td>...</td>\n",
              "      <td>...</td>\n",
              "      <td>...</td>\n",
              "      <td>...</td>\n",
              "      <td>...</td>\n",
              "      <td>...</td>\n",
              "      <td>...</td>\n",
              "      <td>...</td>\n",
              "      <td>...</td>\n",
              "      <td>...</td>\n",
              "      <td>...</td>\n",
              "      <td>...</td>\n",
              "      <td>...</td>\n",
              "    </tr>\n",
              "    <tr>\n",
              "      <th>45206</th>\n",
              "      <td>51</td>\n",
              "      <td>technician</td>\n",
              "      <td>married</td>\n",
              "      <td>tertiary</td>\n",
              "      <td>no</td>\n",
              "      <td>825</td>\n",
              "      <td>no</td>\n",
              "      <td>no</td>\n",
              "      <td>cellular</td>\n",
              "      <td>17</td>\n",
              "      <td>nov</td>\n",
              "      <td>977</td>\n",
              "      <td>3</td>\n",
              "      <td>-1</td>\n",
              "      <td>0</td>\n",
              "      <td>unknown</td>\n",
              "      <td>yes</td>\n",
              "    </tr>\n",
              "    <tr>\n",
              "      <th>45207</th>\n",
              "      <td>71</td>\n",
              "      <td>retired</td>\n",
              "      <td>divorced</td>\n",
              "      <td>primary</td>\n",
              "      <td>no</td>\n",
              "      <td>1729</td>\n",
              "      <td>no</td>\n",
              "      <td>no</td>\n",
              "      <td>cellular</td>\n",
              "      <td>17</td>\n",
              "      <td>nov</td>\n",
              "      <td>456</td>\n",
              "      <td>2</td>\n",
              "      <td>-1</td>\n",
              "      <td>0</td>\n",
              "      <td>unknown</td>\n",
              "      <td>yes</td>\n",
              "    </tr>\n",
              "    <tr>\n",
              "      <th>45208</th>\n",
              "      <td>72</td>\n",
              "      <td>retired</td>\n",
              "      <td>married</td>\n",
              "      <td>secondary</td>\n",
              "      <td>no</td>\n",
              "      <td>5715</td>\n",
              "      <td>no</td>\n",
              "      <td>no</td>\n",
              "      <td>cellular</td>\n",
              "      <td>17</td>\n",
              "      <td>nov</td>\n",
              "      <td>1127</td>\n",
              "      <td>5</td>\n",
              "      <td>184</td>\n",
              "      <td>3</td>\n",
              "      <td>success</td>\n",
              "      <td>yes</td>\n",
              "    </tr>\n",
              "    <tr>\n",
              "      <th>45209</th>\n",
              "      <td>57</td>\n",
              "      <td>blue-collar</td>\n",
              "      <td>married</td>\n",
              "      <td>secondary</td>\n",
              "      <td>no</td>\n",
              "      <td>668</td>\n",
              "      <td>no</td>\n",
              "      <td>no</td>\n",
              "      <td>telephone</td>\n",
              "      <td>17</td>\n",
              "      <td>nov</td>\n",
              "      <td>508</td>\n",
              "      <td>4</td>\n",
              "      <td>-1</td>\n",
              "      <td>0</td>\n",
              "      <td>unknown</td>\n",
              "      <td>no</td>\n",
              "    </tr>\n",
              "    <tr>\n",
              "      <th>45210</th>\n",
              "      <td>37</td>\n",
              "      <td>entrepreneur</td>\n",
              "      <td>married</td>\n",
              "      <td>secondary</td>\n",
              "      <td>no</td>\n",
              "      <td>2971</td>\n",
              "      <td>no</td>\n",
              "      <td>no</td>\n",
              "      <td>cellular</td>\n",
              "      <td>17</td>\n",
              "      <td>nov</td>\n",
              "      <td>361</td>\n",
              "      <td>2</td>\n",
              "      <td>188</td>\n",
              "      <td>11</td>\n",
              "      <td>other</td>\n",
              "      <td>no</td>\n",
              "    </tr>\n",
              "  </tbody>\n",
              "</table>\n",
              "<p>45211 rows × 17 columns</p>\n",
              "</div>"
            ],
            "text/plain": [
              "       age           job   marital  education  ... pdays  previous poutcome    y\n",
              "0       58    management   married   tertiary  ...    -1         0  unknown   no\n",
              "1       44    technician    single  secondary  ...    -1         0  unknown   no\n",
              "2       33  entrepreneur   married  secondary  ...    -1         0  unknown   no\n",
              "3       47   blue-collar   married    unknown  ...    -1         0  unknown   no\n",
              "4       33       unknown    single    unknown  ...    -1         0  unknown   no\n",
              "...    ...           ...       ...        ...  ...   ...       ...      ...  ...\n",
              "45206   51    technician   married   tertiary  ...    -1         0  unknown  yes\n",
              "45207   71       retired  divorced    primary  ...    -1         0  unknown  yes\n",
              "45208   72       retired   married  secondary  ...   184         3  success  yes\n",
              "45209   57   blue-collar   married  secondary  ...    -1         0  unknown   no\n",
              "45210   37  entrepreneur   married  secondary  ...   188        11    other   no\n",
              "\n",
              "[45211 rows x 17 columns]"
            ]
          },
          "metadata": {},
          "execution_count": 8
        }
      ]
    },
    {
      "cell_type": "code",
      "metadata": {
        "colab": {
          "base_uri": "https://localhost:8080/"
        },
        "id": "5s3vfxQzXM-H",
        "outputId": "4cb7993d-f8e1-4a07-baaa-a265746bfd44"
      },
      "source": [
        "df.index"
      ],
      "execution_count": null,
      "outputs": [
        {
          "output_type": "execute_result",
          "data": {
            "text/plain": [
              "RangeIndex(start=0, stop=45211, step=1)"
            ]
          },
          "metadata": {},
          "execution_count": 9
        }
      ]
    },
    {
      "cell_type": "code",
      "metadata": {
        "colab": {
          "base_uri": "https://localhost:8080/"
        },
        "id": "PgwDwXirXS_W",
        "outputId": "40fce28e-98f8-42cc-9ea9-858fac5210e6"
      },
      "source": [
        "df.columns"
      ],
      "execution_count": null,
      "outputs": [
        {
          "output_type": "execute_result",
          "data": {
            "text/plain": [
              "Index(['age', 'job', 'marital', 'education', 'default', 'balance', 'housing',\n",
              "       'loan', 'contact', 'day', 'month', 'duration', 'campaign', 'pdays',\n",
              "       'previous', 'poutcome', 'y'],\n",
              "      dtype='object')"
            ]
          },
          "metadata": {},
          "execution_count": 10
        }
      ]
    },
    {
      "cell_type": "code",
      "metadata": {
        "colab": {
          "base_uri": "https://localhost:8080/"
        },
        "id": "Uf8ikEEDdg7Q",
        "outputId": "276af676-e938-4d8d-f7f1-11b6607c6110"
      },
      "source": [
        "df.shape"
      ],
      "execution_count": null,
      "outputs": [
        {
          "output_type": "execute_result",
          "data": {
            "text/plain": [
              "(45211, 17)"
            ]
          },
          "metadata": {},
          "execution_count": 11
        }
      ]
    },
    {
      "cell_type": "code",
      "metadata": {
        "colab": {
          "base_uri": "https://localhost:8080/"
        },
        "id": "iYrpSebZdm1O",
        "outputId": "3cdb3c87-864d-4e1b-aedc-18e59cd7c3b9"
      },
      "source": [
        "df.size"
      ],
      "execution_count": null,
      "outputs": [
        {
          "output_type": "execute_result",
          "data": {
            "text/plain": [
              "768587"
            ]
          },
          "metadata": {},
          "execution_count": 12
        }
      ]
    },
    {
      "cell_type": "markdown",
      "metadata": {
        "id": "qlkQQnFgxH16"
      },
      "source": [
        "## <font color=\"#333F49\">**Valores únicos por variable** <font>"
      ]
    },
    {
      "cell_type": "code",
      "metadata": {
        "colab": {
          "base_uri": "https://localhost:8080/"
        },
        "id": "eAMYXBEFXaSV",
        "outputId": "2596533e-c2d3-4840-eb4d-138a19083af7"
      },
      "source": [
        "df.nunique() "
      ],
      "execution_count": null,
      "outputs": [
        {
          "output_type": "execute_result",
          "data": {
            "text/plain": [
              "age            77\n",
              "job            12\n",
              "marital         3\n",
              "education       4\n",
              "default         2\n",
              "balance      7168\n",
              "housing         2\n",
              "loan            2\n",
              "contact         3\n",
              "day            31\n",
              "month          12\n",
              "duration     1573\n",
              "campaign       48\n",
              "pdays         559\n",
              "previous       41\n",
              "poutcome        4\n",
              "y               2\n",
              "dtype: int64"
            ]
          },
          "metadata": {},
          "execution_count": 13
        }
      ]
    },
    {
      "cell_type": "code",
      "metadata": {
        "colab": {
          "base_uri": "https://localhost:8080/"
        },
        "id": "rAUf8MLRFVUz",
        "outputId": "8e4ba5be-f17d-46e6-f96c-5f5be50e30a1"
      },
      "source": [
        "df.info()"
      ],
      "execution_count": null,
      "outputs": [
        {
          "output_type": "stream",
          "name": "stdout",
          "text": [
            "<class 'pandas.core.frame.DataFrame'>\n",
            "RangeIndex: 45211 entries, 0 to 45210\n",
            "Data columns (total 17 columns):\n",
            " #   Column     Non-Null Count  Dtype \n",
            "---  ------     --------------  ----- \n",
            " 0   age        45211 non-null  int64 \n",
            " 1   job        45211 non-null  object\n",
            " 2   marital    45211 non-null  object\n",
            " 3   education  45211 non-null  object\n",
            " 4   default    45211 non-null  object\n",
            " 5   balance    45211 non-null  int64 \n",
            " 6   housing    45211 non-null  object\n",
            " 7   loan       45211 non-null  object\n",
            " 8   contact    45211 non-null  object\n",
            " 9   day        45211 non-null  int64 \n",
            " 10  month      45211 non-null  object\n",
            " 11  duration   45211 non-null  int64 \n",
            " 12  campaign   45211 non-null  int64 \n",
            " 13  pdays      45211 non-null  int64 \n",
            " 14  previous   45211 non-null  int64 \n",
            " 15  poutcome   45211 non-null  object\n",
            " 16  y          45211 non-null  object\n",
            "dtypes: int64(7), object(10)\n",
            "memory usage: 5.9+ MB\n"
          ]
        }
      ]
    },
    {
      "cell_type": "code",
      "metadata": {
        "colab": {
          "base_uri": "https://localhost:8080/"
        },
        "id": "bUrIxO7aHZ5x",
        "outputId": "cb5cd72b-d608-4136-9b3d-221fb47c169d"
      },
      "source": [
        "df.age.unique()"
      ],
      "execution_count": null,
      "outputs": [
        {
          "output_type": "execute_result",
          "data": {
            "text/plain": [
              "array([58, 44, 33, 47, 35, 28, 42, 43, 41, 29, 53, 57, 51, 45, 60, 56, 32,\n",
              "       25, 40, 39, 52, 46, 36, 49, 59, 37, 50, 54, 55, 48, 24, 38, 31, 30,\n",
              "       27, 34, 23, 26, 61, 22, 21, 20, 66, 62, 83, 75, 67, 70, 65, 68, 64,\n",
              "       69, 72, 71, 19, 76, 85, 63, 90, 82, 73, 74, 78, 80, 94, 79, 77, 86,\n",
              "       95, 81, 18, 89, 84, 87, 92, 93, 88])"
            ]
          },
          "metadata": {},
          "execution_count": 15
        }
      ]
    },
    {
      "cell_type": "code",
      "metadata": {
        "colab": {
          "base_uri": "https://localhost:8080/"
        },
        "id": "uIVjVg5AH733",
        "outputId": "6e2098de-a69b-4dcb-eb2f-8fdb26492be6"
      },
      "source": [
        "df.age.value_counts()"
      ],
      "execution_count": null,
      "outputs": [
        {
          "output_type": "execute_result",
          "data": {
            "text/plain": [
              "32    2085\n",
              "31    1996\n",
              "33    1972\n",
              "34    1930\n",
              "35    1894\n",
              "      ... \n",
              "90       2\n",
              "92       2\n",
              "93       2\n",
              "95       2\n",
              "94       1\n",
              "Name: age, Length: 77, dtype: int64"
            ]
          },
          "metadata": {},
          "execution_count": 16
        }
      ]
    },
    {
      "cell_type": "code",
      "metadata": {
        "colab": {
          "base_uri": "https://localhost:8080/"
        },
        "id": "IVeT3ZagHgBg",
        "outputId": "cbe27db8-a45d-4bb9-c06a-baaaa55357a0"
      },
      "source": [
        "df.job.unique()"
      ],
      "execution_count": null,
      "outputs": [
        {
          "output_type": "execute_result",
          "data": {
            "text/plain": [
              "array(['management', 'technician', 'entrepreneur', 'blue-collar',\n",
              "       'unknown', 'retired', 'admin.', 'services', 'self-employed',\n",
              "       'unemployed', 'housemaid', 'student'], dtype=object)"
            ]
          },
          "metadata": {},
          "execution_count": 17
        }
      ]
    },
    {
      "cell_type": "code",
      "metadata": {
        "colab": {
          "base_uri": "https://localhost:8080/"
        },
        "id": "LLBtEkxaX-v-",
        "outputId": "52355b77-be9c-4d61-cfab-071b98e5897d"
      },
      "source": [
        "df.job.value_counts() # 288 observaciones con una valor de \"unknown\""
      ],
      "execution_count": null,
      "outputs": [
        {
          "output_type": "execute_result",
          "data": {
            "text/plain": [
              "blue-collar      9732\n",
              "management       9458\n",
              "technician       7597\n",
              "admin.           5171\n",
              "services         4154\n",
              "retired          2264\n",
              "self-employed    1579\n",
              "entrepreneur     1487\n",
              "unemployed       1303\n",
              "housemaid        1240\n",
              "student           938\n",
              "unknown           288\n",
              "Name: job, dtype: int64"
            ]
          },
          "metadata": {},
          "execution_count": 18
        }
      ]
    },
    {
      "cell_type": "code",
      "metadata": {
        "colab": {
          "base_uri": "https://localhost:8080/"
        },
        "id": "f0mfDivEHn8Y",
        "outputId": "02a300a5-937e-4156-9dab-28d467e97a97"
      },
      "source": [
        "df.marital.unique()"
      ],
      "execution_count": null,
      "outputs": [
        {
          "output_type": "execute_result",
          "data": {
            "text/plain": [
              "array(['married', 'single', 'divorced'], dtype=object)"
            ]
          },
          "metadata": {},
          "execution_count": 19
        }
      ]
    },
    {
      "cell_type": "code",
      "metadata": {
        "colab": {
          "base_uri": "https://localhost:8080/"
        },
        "id": "V-3QSL6gYwTF",
        "outputId": "4d7d00ad-6741-4c15-8ece-09d38d4d96ff"
      },
      "source": [
        "df.marital.value_counts()"
      ],
      "execution_count": null,
      "outputs": [
        {
          "output_type": "execute_result",
          "data": {
            "text/plain": [
              "married     27214\n",
              "single      12790\n",
              "divorced     5207\n",
              "Name: marital, dtype: int64"
            ]
          },
          "metadata": {},
          "execution_count": 20
        }
      ]
    },
    {
      "cell_type": "code",
      "metadata": {
        "colab": {
          "base_uri": "https://localhost:8080/"
        },
        "id": "8JUb0iDpHsBA",
        "outputId": "2ba6f2e1-798b-4777-cfb8-8b94f4a7dd85"
      },
      "source": [
        "df.education.unique()"
      ],
      "execution_count": null,
      "outputs": [
        {
          "output_type": "execute_result",
          "data": {
            "text/plain": [
              "array(['tertiary', 'secondary', 'unknown', 'primary'], dtype=object)"
            ]
          },
          "metadata": {},
          "execution_count": 21
        }
      ]
    },
    {
      "cell_type": "code",
      "metadata": {
        "colab": {
          "base_uri": "https://localhost:8080/"
        },
        "id": "dokc_wOdY2C2",
        "outputId": "6b2567a0-9414-4f4f-a14f-c045ac927624"
      },
      "source": [
        "df.education.value_counts() # 1857 observaciones con una valor de \"unknown\""
      ],
      "execution_count": null,
      "outputs": [
        {
          "output_type": "execute_result",
          "data": {
            "text/plain": [
              "secondary    23202\n",
              "tertiary     13301\n",
              "primary       6851\n",
              "unknown       1857\n",
              "Name: education, dtype: int64"
            ]
          },
          "metadata": {},
          "execution_count": 22
        }
      ]
    },
    {
      "cell_type": "code",
      "metadata": {
        "colab": {
          "base_uri": "https://localhost:8080/"
        },
        "id": "DrHTpiTvZCZ9",
        "outputId": "300fc287-b8d6-4a1b-d507-1fd7744fc1b2"
      },
      "source": [
        "df.default.unique()"
      ],
      "execution_count": null,
      "outputs": [
        {
          "output_type": "execute_result",
          "data": {
            "text/plain": [
              "array(['no', 'yes'], dtype=object)"
            ]
          },
          "metadata": {},
          "execution_count": 23
        }
      ]
    },
    {
      "cell_type": "code",
      "metadata": {
        "colab": {
          "base_uri": "https://localhost:8080/"
        },
        "id": "2ygoMC0ZZGkt",
        "outputId": "a9bd35f8-e429-42bf-e0f7-5606ebf7099e"
      },
      "source": [
        "df.default.value_counts() # Un 2% de las observaciones en esta variable arroja un valor de si"
      ],
      "execution_count": null,
      "outputs": [
        {
          "output_type": "execute_result",
          "data": {
            "text/plain": [
              "no     44396\n",
              "yes      815\n",
              "Name: default, dtype: int64"
            ]
          },
          "metadata": {},
          "execution_count": 24
        }
      ]
    },
    {
      "cell_type": "code",
      "metadata": {
        "colab": {
          "base_uri": "https://localhost:8080/"
        },
        "id": "lXNwvY5sZpmd",
        "outputId": "4ca988d0-cfe7-43c9-b81f-a9e09e5bea09"
      },
      "source": [
        "df.balance.unique()"
      ],
      "execution_count": null,
      "outputs": [
        {
          "output_type": "execute_result",
          "data": {
            "text/plain": [
              "array([ 2143,    29,     2, ...,  8205, 14204, 16353])"
            ]
          },
          "metadata": {},
          "execution_count": 25
        }
      ]
    },
    {
      "cell_type": "code",
      "metadata": {
        "colab": {
          "base_uri": "https://localhost:8080/"
        },
        "id": "lGwR2GUPZpc9",
        "outputId": "d1c5ba06-606c-4a0a-fc25-287d7a2acae7"
      },
      "source": [
        "df.balance.value_counts()"
      ],
      "execution_count": null,
      "outputs": [
        {
          "output_type": "execute_result",
          "data": {
            "text/plain": [
              "0        3514\n",
              "1         195\n",
              "2         156\n",
              "4         139\n",
              "3         134\n",
              "         ... \n",
              "4305        1\n",
              "6352        1\n",
              "18881       1\n",
              "14889       1\n",
              "7218        1\n",
              "Name: balance, Length: 7168, dtype: int64"
            ]
          },
          "metadata": {},
          "execution_count": 26
        }
      ]
    },
    {
      "cell_type": "code",
      "metadata": {
        "colab": {
          "base_uri": "https://localhost:8080/"
        },
        "id": "ezVD-9BZZaq4",
        "outputId": "3fc97936-dd67-4ca4-b6aa-2b1ea976b437"
      },
      "source": [
        "df.housing.unique()"
      ],
      "execution_count": null,
      "outputs": [
        {
          "output_type": "execute_result",
          "data": {
            "text/plain": [
              "array(['yes', 'no'], dtype=object)"
            ]
          },
          "metadata": {},
          "execution_count": 27
        }
      ]
    },
    {
      "cell_type": "code",
      "metadata": {
        "colab": {
          "base_uri": "https://localhost:8080/"
        },
        "id": "8LJpZZ_OZel9",
        "outputId": "eacb8168-7026-4b37-ab26-e803be65f708"
      },
      "source": [
        "df.housing.value_counts()"
      ],
      "execution_count": null,
      "outputs": [
        {
          "output_type": "execute_result",
          "data": {
            "text/plain": [
              "yes    25130\n",
              "no     20081\n",
              "Name: housing, dtype: int64"
            ]
          },
          "metadata": {},
          "execution_count": 28
        }
      ]
    },
    {
      "cell_type": "code",
      "metadata": {
        "colab": {
          "base_uri": "https://localhost:8080/"
        },
        "id": "3ekZtVYAZ37G",
        "outputId": "c52b4be4-72a2-49de-837e-1d834ef872c1"
      },
      "source": [
        "df.loan.unique()"
      ],
      "execution_count": null,
      "outputs": [
        {
          "output_type": "execute_result",
          "data": {
            "text/plain": [
              "array(['no', 'yes'], dtype=object)"
            ]
          },
          "metadata": {},
          "execution_count": 29
        }
      ]
    },
    {
      "cell_type": "code",
      "metadata": {
        "colab": {
          "base_uri": "https://localhost:8080/"
        },
        "id": "cpJByZeEZ3um",
        "outputId": "967486e9-d461-4169-fc82-e9c5fd5781e1"
      },
      "source": [
        "df.loan.value_counts()"
      ],
      "execution_count": null,
      "outputs": [
        {
          "output_type": "execute_result",
          "data": {
            "text/plain": [
              "no     37967\n",
              "yes     7244\n",
              "Name: loan, dtype: int64"
            ]
          },
          "metadata": {},
          "execution_count": 30
        }
      ]
    },
    {
      "cell_type": "code",
      "metadata": {
        "colab": {
          "base_uri": "https://localhost:8080/"
        },
        "id": "sTN0essJZ_1l",
        "outputId": "3e65f6c1-ad2e-4f03-c839-5dfbbc45145b"
      },
      "source": [
        "df.contact.unique()"
      ],
      "execution_count": null,
      "outputs": [
        {
          "output_type": "execute_result",
          "data": {
            "text/plain": [
              "array(['unknown', 'cellular', 'telephone'], dtype=object)"
            ]
          },
          "metadata": {},
          "execution_count": 31
        }
      ]
    },
    {
      "cell_type": "code",
      "metadata": {
        "colab": {
          "base_uri": "https://localhost:8080/"
        },
        "id": "bLis6HFBZ_iG",
        "outputId": "1d9227a9-c5fa-472a-9188-43557235e331"
      },
      "source": [
        "df.contact.value_counts() # 13020 observaciones con una valor de \"unknown\""
      ],
      "execution_count": null,
      "outputs": [
        {
          "output_type": "execute_result",
          "data": {
            "text/plain": [
              "cellular     29285\n",
              "unknown      13020\n",
              "telephone     2906\n",
              "Name: contact, dtype: int64"
            ]
          },
          "metadata": {},
          "execution_count": 32
        }
      ]
    },
    {
      "cell_type": "code",
      "metadata": {
        "colab": {
          "base_uri": "https://localhost:8080/"
        },
        "id": "KRwjAc5-ay7s",
        "outputId": "498fe002-d7f3-4925-c501-15526e88c2dc"
      },
      "source": [
        "df.day.unique()"
      ],
      "execution_count": null,
      "outputs": [
        {
          "output_type": "execute_result",
          "data": {
            "text/plain": [
              "array([ 5,  6,  7,  8,  9, 12, 13, 14, 15, 16, 19, 20, 21, 23, 26, 27, 28,\n",
              "       29, 30,  2,  3,  4, 11, 17, 18, 24, 25,  1, 10, 22, 31])"
            ]
          },
          "metadata": {},
          "execution_count": 33
        }
      ]
    },
    {
      "cell_type": "code",
      "metadata": {
        "colab": {
          "base_uri": "https://localhost:8080/"
        },
        "id": "xsb0Ue6fay3V",
        "outputId": "01806cef-6520-49f1-bd64-dc058f33dfdc"
      },
      "source": [
        "df.day.value_counts()"
      ],
      "execution_count": null,
      "outputs": [
        {
          "output_type": "execute_result",
          "data": {
            "text/plain": [
              "20    2752\n",
              "18    2308\n",
              "21    2026\n",
              "17    1939\n",
              "6     1932\n",
              "5     1910\n",
              "14    1848\n",
              "8     1842\n",
              "28    1830\n",
              "7     1817\n",
              "19    1757\n",
              "29    1745\n",
              "15    1703\n",
              "12    1603\n",
              "13    1585\n",
              "30    1566\n",
              "9     1561\n",
              "11    1479\n",
              "4     1445\n",
              "16    1415\n",
              "2     1293\n",
              "27    1121\n",
              "3     1079\n",
              "26    1035\n",
              "23     939\n",
              "22     905\n",
              "25     840\n",
              "31     643\n",
              "10     524\n",
              "24     447\n",
              "1      322\n",
              "Name: day, dtype: int64"
            ]
          },
          "metadata": {},
          "execution_count": 34
        }
      ]
    },
    {
      "cell_type": "code",
      "metadata": {
        "colab": {
          "base_uri": "https://localhost:8080/"
        },
        "id": "tdwGyT8uayzb",
        "outputId": "e1c0a92b-b95e-4bc4-c2dc-517280b6fb4c"
      },
      "source": [
        "df.month.unique()"
      ],
      "execution_count": null,
      "outputs": [
        {
          "output_type": "execute_result",
          "data": {
            "text/plain": [
              "array(['may', 'jun', 'jul', 'aug', 'oct', 'nov', 'dec', 'jan', 'feb',\n",
              "       'mar', 'apr', 'sep'], dtype=object)"
            ]
          },
          "metadata": {},
          "execution_count": 35
        }
      ]
    },
    {
      "cell_type": "code",
      "metadata": {
        "colab": {
          "base_uri": "https://localhost:8080/"
        },
        "id": "kqBa4ocvayvD",
        "outputId": "18989702-1526-4817-be04-156e8a424427"
      },
      "source": [
        "df.month.value_counts()"
      ],
      "execution_count": null,
      "outputs": [
        {
          "output_type": "execute_result",
          "data": {
            "text/plain": [
              "may    13766\n",
              "jul     6895\n",
              "aug     6247\n",
              "jun     5341\n",
              "nov     3970\n",
              "apr     2932\n",
              "feb     2649\n",
              "jan     1403\n",
              "oct      738\n",
              "sep      579\n",
              "mar      477\n",
              "dec      214\n",
              "Name: month, dtype: int64"
            ]
          },
          "metadata": {},
          "execution_count": 36
        }
      ]
    },
    {
      "cell_type": "code",
      "metadata": {
        "id": "aLwMRpTLayrE",
        "colab": {
          "base_uri": "https://localhost:8080/"
        },
        "outputId": "bff0d025-85fc-491d-ee69-850918b9eb7f"
      },
      "source": [
        "df.duration.unique()"
      ],
      "execution_count": null,
      "outputs": [
        {
          "output_type": "execute_result",
          "data": {
            "text/plain": [
              "array([ 261,  151,   76, ..., 1298, 1246, 1556])"
            ]
          },
          "metadata": {},
          "execution_count": 37
        }
      ]
    },
    {
      "cell_type": "code",
      "metadata": {
        "colab": {
          "base_uri": "https://localhost:8080/"
        },
        "id": "qUFFvD7ob-UZ",
        "outputId": "6a930766-47bf-4fda-888b-d7bdd31d1d95"
      },
      "source": [
        "df.duration.value_counts()"
      ],
      "execution_count": null,
      "outputs": [
        {
          "output_type": "execute_result",
          "data": {
            "text/plain": [
              "124     188\n",
              "90      184\n",
              "89      177\n",
              "122     175\n",
              "104     175\n",
              "       ... \n",
              "2150      1\n",
              "1970      1\n",
              "1906      1\n",
              "1842      1\n",
              "2015      1\n",
              "Name: duration, Length: 1573, dtype: int64"
            ]
          },
          "metadata": {},
          "execution_count": 38
        }
      ]
    },
    {
      "cell_type": "code",
      "metadata": {
        "colab": {
          "base_uri": "https://localhost:8080/"
        },
        "id": "uvF5sliqcFdw",
        "outputId": "b056049e-fd51-4923-a801-fe7c42488449"
      },
      "source": [
        "df.campaign.unique()"
      ],
      "execution_count": null,
      "outputs": [
        {
          "output_type": "execute_result",
          "data": {
            "text/plain": [
              "array([ 1,  2,  3,  5,  4,  6,  7,  8,  9, 10, 11, 12, 13, 19, 14, 24, 16,\n",
              "       32, 18, 22, 15, 17, 25, 21, 43, 51, 63, 41, 26, 28, 55, 50, 38, 23,\n",
              "       20, 29, 31, 37, 30, 46, 27, 58, 33, 35, 34, 36, 39, 44])"
            ]
          },
          "metadata": {},
          "execution_count": 39
        }
      ]
    },
    {
      "cell_type": "code",
      "metadata": {
        "colab": {
          "base_uri": "https://localhost:8080/"
        },
        "id": "PW_iHM2DcJAI",
        "outputId": "fb67c5c1-1219-4169-fd12-cdbe903a280e"
      },
      "source": [
        "df.campaign.value_counts()"
      ],
      "execution_count": null,
      "outputs": [
        {
          "output_type": "execute_result",
          "data": {
            "text/plain": [
              "1     17544\n",
              "2     12505\n",
              "3      5521\n",
              "4      3522\n",
              "5      1764\n",
              "6      1291\n",
              "7       735\n",
              "8       540\n",
              "9       327\n",
              "10      266\n",
              "11      201\n",
              "12      155\n",
              "13      133\n",
              "14       93\n",
              "15       84\n",
              "16       79\n",
              "17       69\n",
              "18       51\n",
              "19       44\n",
              "20       43\n",
              "21       35\n",
              "22       23\n",
              "23       22\n",
              "25       22\n",
              "24       20\n",
              "28       16\n",
              "29       16\n",
              "26       13\n",
              "31       12\n",
              "27       10\n",
              "32        9\n",
              "30        8\n",
              "33        6\n",
              "34        5\n",
              "36        4\n",
              "35        4\n",
              "43        3\n",
              "38        3\n",
              "41        2\n",
              "50        2\n",
              "37        2\n",
              "51        1\n",
              "55        1\n",
              "46        1\n",
              "58        1\n",
              "44        1\n",
              "39        1\n",
              "63        1\n",
              "Name: campaign, dtype: int64"
            ]
          },
          "metadata": {},
          "execution_count": 40
        }
      ]
    },
    {
      "cell_type": "code",
      "metadata": {
        "colab": {
          "base_uri": "https://localhost:8080/"
        },
        "id": "YSm1TBeTcRRk",
        "outputId": "088c0326-9ade-4fd9-d0cd-78415488c6db"
      },
      "source": [
        "df.pdays.unique()"
      ],
      "execution_count": null,
      "outputs": [
        {
          "output_type": "execute_result",
          "data": {
            "text/plain": [
              "array([ -1, 151, 166,  91,  86, 143, 147,  89, 140, 176, 101, 174, 170,\n",
              "       167, 195, 165, 129, 188, 196, 172, 118, 119, 104, 171, 117, 164,\n",
              "       132, 131, 123, 159, 186, 111, 115, 116, 173, 178, 110, 152,  96,\n",
              "       103, 150, 175, 193, 181, 185, 154, 145, 138, 126, 180, 109, 158,\n",
              "       168,  97, 182, 127, 130, 194, 125, 105, 102,  26, 179,  28, 183,\n",
              "       155, 112, 120, 137, 124, 187, 190, 113, 162, 134, 169, 189,   8,\n",
              "       144, 191, 184, 177,   5,  99, 133,  93,  92,  10, 100, 156, 198,\n",
              "       106, 153, 146, 128,   7, 121, 160, 107,  90,  27, 197, 136, 139,\n",
              "       122, 157, 149, 135,  30, 114,  98, 192, 163,  34,  95, 141,  31,\n",
              "       199,  94, 108,  29, 268, 247, 253, 226, 244, 239, 245, 204, 231,\n",
              "       238, 258, 230, 254, 265,  71, 223, 246, 250, 266, 240, 205, 261,\n",
              "       259, 241, 260, 234, 251, 225, 161, 237, 262, 248, 255, 220, 227,\n",
              "       206, 224, 249, 235, 228, 263,   2, 270, 232, 252, 207, 200, 269,\n",
              "       233, 256, 273, 272, 242, 264, 208, 214, 222, 271, 203, 221, 202,\n",
              "       216, 201, 257, 229, 210, 217,  75, 213,  73,  76, 267, 211, 215,\n",
              "        77, 236,  82,   6, 209, 274,   1, 243, 212, 275,  80, 276,   9,\n",
              "       279,  12, 280,  88, 277,  85,  84, 219,  24,  21, 282,  41, 294,\n",
              "        49, 329, 307, 303, 331, 308, 300,  64, 314, 287, 330, 332, 302,\n",
              "       323, 318, 333,  60, 326, 335, 313, 312, 305, 325, 327, 336, 309,\n",
              "       328, 322,  39, 316, 292, 295, 310, 306, 320, 317, 289,  57, 321,\n",
              "       142, 339, 301, 315, 337, 334, 340, 319,  17,  74, 148, 341, 299,\n",
              "       344, 342, 324, 345, 346, 304, 281, 343, 338,  14, 347,  15, 291,\n",
              "       348, 349, 285, 350, 284,  25, 283, 278,  81,   4,  87,  83,  79,\n",
              "        70,  13, 293,  37,  78,  63,  22, 296, 355,  66,  19,  35, 360,\n",
              "       357, 354, 351, 362, 358, 365, 298, 286, 364, 363,  47, 361, 288,\n",
              "       366, 356, 352, 359, 297, 367, 353, 368,  42, 290,  67, 371, 370,\n",
              "       369,  50,  36, 373, 374, 372, 311, 375, 378,  59, 379,  40,  18,\n",
              "        43,  20,  69,  38, 385,  56,  55,  44, 391,  72, 390,  32,  62,\n",
              "       399, 393,  65, 377, 395, 388, 389, 386,  61, 412, 405, 434, 394,\n",
              "       382, 459, 440, 397, 383,  68, 461, 462, 463, 422,  51, 457, 430,\n",
              "       442, 403, 454, 428, 392, 410, 401, 474, 475, 477, 478,  54, 476,\n",
              "       380, 479,  45,  46, 495,  58,  48, 518,  52, 515, 520, 511, 536,\n",
              "       387, 218,  33, 544, 435, 436, 555, 433, 446, 558, 469, 616, 561,\n",
              "       553, 384, 592, 467, 585, 480, 421, 667, 626, 426, 595, 381, 376,\n",
              "       648, 521, 452, 449, 633, 398,  53, 460, 670, 551, 414, 557, 687,\n",
              "       404, 651, 686, 425, 504, 578, 674, 416, 586, 411, 756, 450, 745,\n",
              "       514, 417, 424, 776, 396, 683, 529, 439, 415, 456, 407, 458, 532,\n",
              "       481, 791, 701, 531, 792, 413, 445, 535, 784, 419, 455, 491, 431,\n",
              "       542, 470, 472, 717, 437,   3, 782, 728, 828, 524, 562, 761, 492,\n",
              "       775, 579, 493, 464, 760, 466, 465, 656, 831, 490, 432, 655, 427,\n",
              "       749, 838, 769, 587, 778, 854, 779, 850, 771, 594, 842, 589, 603,\n",
              "       484, 489, 486, 409, 444, 680, 808, 485, 503, 690, 772, 774, 526,\n",
              "       420, 528, 500, 826, 804, 508, 547, 805, 541, 543, 871, 550, 530])"
            ]
          },
          "metadata": {},
          "execution_count": 41
        }
      ]
    },
    {
      "cell_type": "code",
      "metadata": {
        "colab": {
          "base_uri": "https://localhost:8080/"
        },
        "id": "FVLbdXAkcXqw",
        "outputId": "8cc5fc3d-839f-4a8a-f660-adc0c7c9df20"
      },
      "source": [
        "df.pdays.value_counts()"
      ],
      "execution_count": null,
      "outputs": [
        {
          "output_type": "execute_result",
          "data": {
            "text/plain": [
              "-1      36954\n",
              " 182      167\n",
              " 92       147\n",
              " 183      126\n",
              " 91       126\n",
              "        ...  \n",
              " 749        1\n",
              " 717        1\n",
              " 589        1\n",
              " 493        1\n",
              " 32         1\n",
              "Name: pdays, Length: 559, dtype: int64"
            ]
          },
          "metadata": {},
          "execution_count": 42
        }
      ]
    },
    {
      "cell_type": "code",
      "metadata": {
        "colab": {
          "base_uri": "https://localhost:8080/"
        },
        "id": "OldFZF1VckDJ",
        "outputId": "51771d43-1b13-4b3d-f467-0e9b63d883e8"
      },
      "source": [
        "df.previous.unique()"
      ],
      "execution_count": null,
      "outputs": [
        {
          "output_type": "execute_result",
          "data": {
            "text/plain": [
              "array([  0,   3,   1,   4,   2,  11,  16,   6,   5,  10,  12,   7,  18,\n",
              "         9,  21,   8,  14,  15,  26,  37,  13,  25,  20,  27,  17,  23,\n",
              "        38,  29,  24,  51, 275,  22,  19,  30,  58,  28,  32,  40,  55,\n",
              "        35,  41])"
            ]
          },
          "metadata": {},
          "execution_count": 43
        }
      ]
    },
    {
      "cell_type": "code",
      "metadata": {
        "colab": {
          "base_uri": "https://localhost:8080/"
        },
        "id": "FEsNipVpcj1w",
        "outputId": "c5c5a2d3-1cd8-4305-c3d7-ddad04637545"
      },
      "source": [
        "df.previous.value_counts()"
      ],
      "execution_count": null,
      "outputs": [
        {
          "output_type": "execute_result",
          "data": {
            "text/plain": [
              "0      36954\n",
              "1       2772\n",
              "2       2106\n",
              "3       1142\n",
              "4        714\n",
              "5        459\n",
              "6        277\n",
              "7        205\n",
              "8        129\n",
              "9         92\n",
              "10        67\n",
              "11        65\n",
              "12        44\n",
              "13        38\n",
              "15        20\n",
              "14        19\n",
              "17        15\n",
              "16        13\n",
              "19        11\n",
              "23         8\n",
              "20         8\n",
              "22         6\n",
              "18         6\n",
              "24         5\n",
              "27         5\n",
              "29         4\n",
              "25         4\n",
              "21         4\n",
              "30         3\n",
              "28         2\n",
              "26         2\n",
              "37         2\n",
              "38         2\n",
              "55         1\n",
              "40         1\n",
              "35         1\n",
              "58         1\n",
              "51         1\n",
              "41         1\n",
              "32         1\n",
              "275        1\n",
              "Name: previous, dtype: int64"
            ]
          },
          "metadata": {},
          "execution_count": 44
        }
      ]
    },
    {
      "cell_type": "code",
      "metadata": {
        "colab": {
          "base_uri": "https://localhost:8080/"
        },
        "id": "q3g7b0pXcjqo",
        "outputId": "2861b7ea-57f2-4f8f-98e9-3876554bb575"
      },
      "source": [
        "df.poutcome.unique()"
      ],
      "execution_count": null,
      "outputs": [
        {
          "output_type": "execute_result",
          "data": {
            "text/plain": [
              "array(['unknown', 'failure', 'other', 'success'], dtype=object)"
            ]
          },
          "metadata": {},
          "execution_count": 45
        }
      ]
    },
    {
      "cell_type": "code",
      "metadata": {
        "colab": {
          "base_uri": "https://localhost:8080/"
        },
        "id": "AOG_VD9acjia",
        "outputId": "7be0cfde-c86d-4bdb-df61-4d5e9af80d62"
      },
      "source": [
        "df.poutcome.value_counts() # 82% de las observaciones con una valor de \"unknown\""
      ],
      "execution_count": null,
      "outputs": [
        {
          "output_type": "execute_result",
          "data": {
            "text/plain": [
              "unknown    36959\n",
              "failure     4901\n",
              "other       1840\n",
              "success     1511\n",
              "Name: poutcome, dtype: int64"
            ]
          },
          "metadata": {},
          "execution_count": 46
        }
      ]
    },
    {
      "cell_type": "code",
      "metadata": {
        "colab": {
          "base_uri": "https://localhost:8080/"
        },
        "id": "ONzbfiZkcjZY",
        "outputId": "368ebb46-8cd3-42b1-ce29-3ec16edd621d"
      },
      "source": [
        "df.y.unique()"
      ],
      "execution_count": null,
      "outputs": [
        {
          "output_type": "execute_result",
          "data": {
            "text/plain": [
              "array(['no', 'yes'], dtype=object)"
            ]
          },
          "metadata": {},
          "execution_count": 47
        }
      ]
    },
    {
      "cell_type": "code",
      "metadata": {
        "colab": {
          "base_uri": "https://localhost:8080/"
        },
        "id": "NcWG63vTcjP5",
        "outputId": "201cb29e-1894-494a-8591-27b70bdff6f1"
      },
      "source": [
        "df.y.value_counts()"
      ],
      "execution_count": null,
      "outputs": [
        {
          "output_type": "execute_result",
          "data": {
            "text/plain": [
              "no     39922\n",
              "yes     5289\n",
              "Name: y, dtype: int64"
            ]
          },
          "metadata": {},
          "execution_count": 48
        }
      ]
    },
    {
      "cell_type": "code",
      "metadata": {
        "colab": {
          "base_uri": "https://localhost:8080/",
          "height": 269
        },
        "id": "5g_MUG-BdxWv",
        "outputId": "4eb7dbc9-2062-4d46-e6a1-e068b4b975f0"
      },
      "source": [
        "df.describe().T"
      ],
      "execution_count": null,
      "outputs": [
        {
          "output_type": "execute_result",
          "data": {
            "text/html": [
              "<div>\n",
              "<style scoped>\n",
              "    .dataframe tbody tr th:only-of-type {\n",
              "        vertical-align: middle;\n",
              "    }\n",
              "\n",
              "    .dataframe tbody tr th {\n",
              "        vertical-align: top;\n",
              "    }\n",
              "\n",
              "    .dataframe thead th {\n",
              "        text-align: right;\n",
              "    }\n",
              "</style>\n",
              "<table border=\"1\" class=\"dataframe\">\n",
              "  <thead>\n",
              "    <tr style=\"text-align: right;\">\n",
              "      <th></th>\n",
              "      <th>count</th>\n",
              "      <th>mean</th>\n",
              "      <th>std</th>\n",
              "      <th>min</th>\n",
              "      <th>25%</th>\n",
              "      <th>50%</th>\n",
              "      <th>75%</th>\n",
              "      <th>max</th>\n",
              "    </tr>\n",
              "  </thead>\n",
              "  <tbody>\n",
              "    <tr>\n",
              "      <th>age</th>\n",
              "      <td>45211.0</td>\n",
              "      <td>40.936210</td>\n",
              "      <td>10.618762</td>\n",
              "      <td>18.0</td>\n",
              "      <td>33.0</td>\n",
              "      <td>39.0</td>\n",
              "      <td>48.0</td>\n",
              "      <td>95.0</td>\n",
              "    </tr>\n",
              "    <tr>\n",
              "      <th>balance</th>\n",
              "      <td>45211.0</td>\n",
              "      <td>1362.272058</td>\n",
              "      <td>3044.765829</td>\n",
              "      <td>-8019.0</td>\n",
              "      <td>72.0</td>\n",
              "      <td>448.0</td>\n",
              "      <td>1428.0</td>\n",
              "      <td>102127.0</td>\n",
              "    </tr>\n",
              "    <tr>\n",
              "      <th>day</th>\n",
              "      <td>45211.0</td>\n",
              "      <td>15.806419</td>\n",
              "      <td>8.322476</td>\n",
              "      <td>1.0</td>\n",
              "      <td>8.0</td>\n",
              "      <td>16.0</td>\n",
              "      <td>21.0</td>\n",
              "      <td>31.0</td>\n",
              "    </tr>\n",
              "    <tr>\n",
              "      <th>duration</th>\n",
              "      <td>45211.0</td>\n",
              "      <td>258.163080</td>\n",
              "      <td>257.527812</td>\n",
              "      <td>0.0</td>\n",
              "      <td>103.0</td>\n",
              "      <td>180.0</td>\n",
              "      <td>319.0</td>\n",
              "      <td>4918.0</td>\n",
              "    </tr>\n",
              "    <tr>\n",
              "      <th>campaign</th>\n",
              "      <td>45211.0</td>\n",
              "      <td>2.763841</td>\n",
              "      <td>3.098021</td>\n",
              "      <td>1.0</td>\n",
              "      <td>1.0</td>\n",
              "      <td>2.0</td>\n",
              "      <td>3.0</td>\n",
              "      <td>63.0</td>\n",
              "    </tr>\n",
              "    <tr>\n",
              "      <th>pdays</th>\n",
              "      <td>45211.0</td>\n",
              "      <td>40.197828</td>\n",
              "      <td>100.128746</td>\n",
              "      <td>-1.0</td>\n",
              "      <td>-1.0</td>\n",
              "      <td>-1.0</td>\n",
              "      <td>-1.0</td>\n",
              "      <td>871.0</td>\n",
              "    </tr>\n",
              "    <tr>\n",
              "      <th>previous</th>\n",
              "      <td>45211.0</td>\n",
              "      <td>0.580323</td>\n",
              "      <td>2.303441</td>\n",
              "      <td>0.0</td>\n",
              "      <td>0.0</td>\n",
              "      <td>0.0</td>\n",
              "      <td>0.0</td>\n",
              "      <td>275.0</td>\n",
              "    </tr>\n",
              "  </tbody>\n",
              "</table>\n",
              "</div>"
            ],
            "text/plain": [
              "            count         mean          std  ...    50%     75%       max\n",
              "age       45211.0    40.936210    10.618762  ...   39.0    48.0      95.0\n",
              "balance   45211.0  1362.272058  3044.765829  ...  448.0  1428.0  102127.0\n",
              "day       45211.0    15.806419     8.322476  ...   16.0    21.0      31.0\n",
              "duration  45211.0   258.163080   257.527812  ...  180.0   319.0    4918.0\n",
              "campaign  45211.0     2.763841     3.098021  ...    2.0     3.0      63.0\n",
              "pdays     45211.0    40.197828   100.128746  ...   -1.0    -1.0     871.0\n",
              "previous  45211.0     0.580323     2.303441  ...    0.0     0.0     275.0\n",
              "\n",
              "[7 rows x 8 columns]"
            ]
          },
          "metadata": {},
          "execution_count": 49
        }
      ]
    },
    {
      "cell_type": "code",
      "metadata": {
        "colab": {
          "base_uri": "https://localhost:8080/",
          "height": 363
        },
        "id": "t36VKJRElweb",
        "outputId": "4b7ded52-0b53-4252-e7ab-0e88895089f6"
      },
      "source": [
        "df.select_dtypes(include=['object']).describe().T"
      ],
      "execution_count": null,
      "outputs": [
        {
          "output_type": "execute_result",
          "data": {
            "text/html": [
              "<div>\n",
              "<style scoped>\n",
              "    .dataframe tbody tr th:only-of-type {\n",
              "        vertical-align: middle;\n",
              "    }\n",
              "\n",
              "    .dataframe tbody tr th {\n",
              "        vertical-align: top;\n",
              "    }\n",
              "\n",
              "    .dataframe thead th {\n",
              "        text-align: right;\n",
              "    }\n",
              "</style>\n",
              "<table border=\"1\" class=\"dataframe\">\n",
              "  <thead>\n",
              "    <tr style=\"text-align: right;\">\n",
              "      <th></th>\n",
              "      <th>count</th>\n",
              "      <th>unique</th>\n",
              "      <th>top</th>\n",
              "      <th>freq</th>\n",
              "    </tr>\n",
              "  </thead>\n",
              "  <tbody>\n",
              "    <tr>\n",
              "      <th>job</th>\n",
              "      <td>45211</td>\n",
              "      <td>12</td>\n",
              "      <td>blue-collar</td>\n",
              "      <td>9732</td>\n",
              "    </tr>\n",
              "    <tr>\n",
              "      <th>marital</th>\n",
              "      <td>45211</td>\n",
              "      <td>3</td>\n",
              "      <td>married</td>\n",
              "      <td>27214</td>\n",
              "    </tr>\n",
              "    <tr>\n",
              "      <th>education</th>\n",
              "      <td>45211</td>\n",
              "      <td>4</td>\n",
              "      <td>secondary</td>\n",
              "      <td>23202</td>\n",
              "    </tr>\n",
              "    <tr>\n",
              "      <th>default</th>\n",
              "      <td>45211</td>\n",
              "      <td>2</td>\n",
              "      <td>no</td>\n",
              "      <td>44396</td>\n",
              "    </tr>\n",
              "    <tr>\n",
              "      <th>housing</th>\n",
              "      <td>45211</td>\n",
              "      <td>2</td>\n",
              "      <td>yes</td>\n",
              "      <td>25130</td>\n",
              "    </tr>\n",
              "    <tr>\n",
              "      <th>loan</th>\n",
              "      <td>45211</td>\n",
              "      <td>2</td>\n",
              "      <td>no</td>\n",
              "      <td>37967</td>\n",
              "    </tr>\n",
              "    <tr>\n",
              "      <th>contact</th>\n",
              "      <td>45211</td>\n",
              "      <td>3</td>\n",
              "      <td>cellular</td>\n",
              "      <td>29285</td>\n",
              "    </tr>\n",
              "    <tr>\n",
              "      <th>month</th>\n",
              "      <td>45211</td>\n",
              "      <td>12</td>\n",
              "      <td>may</td>\n",
              "      <td>13766</td>\n",
              "    </tr>\n",
              "    <tr>\n",
              "      <th>poutcome</th>\n",
              "      <td>45211</td>\n",
              "      <td>4</td>\n",
              "      <td>unknown</td>\n",
              "      <td>36959</td>\n",
              "    </tr>\n",
              "    <tr>\n",
              "      <th>y</th>\n",
              "      <td>45211</td>\n",
              "      <td>2</td>\n",
              "      <td>no</td>\n",
              "      <td>39922</td>\n",
              "    </tr>\n",
              "  </tbody>\n",
              "</table>\n",
              "</div>"
            ],
            "text/plain": [
              "           count unique          top   freq\n",
              "job        45211     12  blue-collar   9732\n",
              "marital    45211      3      married  27214\n",
              "education  45211      4    secondary  23202\n",
              "default    45211      2           no  44396\n",
              "housing    45211      2          yes  25130\n",
              "loan       45211      2           no  37967\n",
              "contact    45211      3     cellular  29285\n",
              "month      45211     12          may  13766\n",
              "poutcome   45211      4      unknown  36959\n",
              "y          45211      2           no  39922"
            ]
          },
          "metadata": {},
          "execution_count": 50
        }
      ]
    },
    {
      "cell_type": "markdown",
      "metadata": {
        "id": "c38_HuREmKvx"
      },
      "source": [
        "Si alguno de los niveles de una **variable cualitativa** tiene **muy pocas observaciones** en comparación a los otros niveles, puede ocurrir que, durante la validación cruzada, algunas particiones no contengan ninguna observación de dicha clase (varianza cero), lo que puede dar lugar a errores. \n",
        "\n",
        "**Estrategias posibles**:\n",
        "- Eliminar las observaciones del grupo minoritario si es una variable multiclase.\n",
        "- Eliminar la variable si solo tiene dos niveles.\n",
        "- Agrupar los niveles minoritarios en un único grupo.\n",
        "- Asegurar que, en la creación de las particiones, todos los grupos estén representados en cada una de ellas.\n",
        "\n",
        "Para este caso, hay que tener precaución con la variable <font color=\"#0A66C2\"><h10> **default**. En concreto, tan solo un 2% de las observaciones de esta variable arroja un valor de si, siendo no el 98% restante. <font>"
      ]
    },
    {
      "cell_type": "markdown",
      "metadata": {
        "id": "_b6OK2GioVg5"
      },
      "source": [
        "## <font color=\"#333F49\">**Reemplazar \"unknown\"** <font>\n"
      ]
    },
    {
      "cell_type": "code",
      "metadata": {
        "id": "nvWeqp7Wob4Q"
      },
      "source": [
        "df.replace({'unknown': None}, inplace=True)"
      ],
      "execution_count": null,
      "outputs": []
    },
    {
      "cell_type": "code",
      "metadata": {
        "colab": {
          "base_uri": "https://localhost:8080/"
        },
        "id": "2ZK0f1Nso3sF",
        "outputId": "cf203486-4a4a-4302-e610-14a2f59b624a"
      },
      "source": [
        "df.info()"
      ],
      "execution_count": null,
      "outputs": [
        {
          "output_type": "stream",
          "name": "stdout",
          "text": [
            "<class 'pandas.core.frame.DataFrame'>\n",
            "RangeIndex: 45211 entries, 0 to 45210\n",
            "Data columns (total 17 columns):\n",
            " #   Column     Non-Null Count  Dtype \n",
            "---  ------     --------------  ----- \n",
            " 0   age        45211 non-null  int64 \n",
            " 1   job        44923 non-null  object\n",
            " 2   marital    45211 non-null  object\n",
            " 3   education  43354 non-null  object\n",
            " 4   default    45211 non-null  object\n",
            " 5   balance    45211 non-null  int64 \n",
            " 6   housing    45211 non-null  object\n",
            " 7   loan       45211 non-null  object\n",
            " 8   contact    32191 non-null  object\n",
            " 9   day        45211 non-null  int64 \n",
            " 10  month      45211 non-null  object\n",
            " 11  duration   45211 non-null  int64 \n",
            " 12  campaign   45211 non-null  int64 \n",
            " 13  pdays      45211 non-null  int64 \n",
            " 14  previous   45211 non-null  int64 \n",
            " 15  poutcome   8252 non-null   object\n",
            " 16  y          45211 non-null  object\n",
            "dtypes: int64(7), object(10)\n",
            "memory usage: 5.9+ MB\n"
          ]
        }
      ]
    },
    {
      "cell_type": "code",
      "metadata": {
        "colab": {
          "base_uri": "https://localhost:8080/"
        },
        "id": "9m4mDuIzo3dy",
        "outputId": "3afc4a84-9ada-4f5f-f6fc-e33a2933e754"
      },
      "source": [
        "df.isnull().sum().sort_values(ascending=False)"
      ],
      "execution_count": null,
      "outputs": [
        {
          "output_type": "execute_result",
          "data": {
            "text/plain": [
              "poutcome     36959\n",
              "contact      13020\n",
              "education     1857\n",
              "job            288\n",
              "loan             0\n",
              "marital          0\n",
              "default          0\n",
              "balance          0\n",
              "housing          0\n",
              "y                0\n",
              "day              0\n",
              "month            0\n",
              "duration         0\n",
              "campaign         0\n",
              "pdays            0\n",
              "previous         0\n",
              "age              0\n",
              "dtype: int64"
            ]
          },
          "metadata": {},
          "execution_count": 53
        }
      ]
    },
    {
      "cell_type": "markdown",
      "metadata": {
        "id": "aju6FfNv5Z57"
      },
      "source": [
        "## <font color=\"#333F49\">**Codificación** <font>\n"
      ]
    },
    {
      "cell_type": "markdown",
      "metadata": {
        "id": "drqWVguQ5owR"
      },
      "source": [
        "### Variables categóricas de tipo ordinal <font color=\"#0A66C2\"><h10>**(job)** <font>"
      ]
    },
    {
      "cell_type": "markdown",
      "metadata": {
        "id": "TDJvfRNy6JgO"
      },
      "source": [
        "Desconocemos el orden de esta variable, pero es evidente que cara a la compresión, se establecerá una lógica de mayor a menor poder adquisitivo, basado en el salario medio que percibe cada tipo de trabajo definido.\n",
        "\n",
        "Podemos establecer como criterio de ordenación, el tipo de trabajo en función del balance. A mayor balance, mayor interés para la entidad financiera, mayores recursos disponibles por parte de los y las clientas."
      ]
    },
    {
      "cell_type": "code",
      "metadata": {
        "id": "ChCuZnr271-8"
      },
      "source": [
        "df1 = df.copy(deep=False)"
      ],
      "execution_count": null,
      "outputs": []
    },
    {
      "cell_type": "code",
      "metadata": {
        "colab": {
          "base_uri": "https://localhost:8080/",
          "height": 394
        },
        "id": "Q9YMGp3aAyyX",
        "outputId": "187fa313-df82-4cf2-a86b-3c5d3e76f12e"
      },
      "source": [
        "df1.groupby(by = 'job', as_index = False).mean().sort_values(by ='balance',ascending=False)"
      ],
      "execution_count": null,
      "outputs": [
        {
          "output_type": "execute_result",
          "data": {
            "text/html": [
              "<div>\n",
              "<style scoped>\n",
              "    .dataframe tbody tr th:only-of-type {\n",
              "        vertical-align: middle;\n",
              "    }\n",
              "\n",
              "    .dataframe tbody tr th {\n",
              "        vertical-align: top;\n",
              "    }\n",
              "\n",
              "    .dataframe thead th {\n",
              "        text-align: right;\n",
              "    }\n",
              "</style>\n",
              "<table border=\"1\" class=\"dataframe\">\n",
              "  <thead>\n",
              "    <tr style=\"text-align: right;\">\n",
              "      <th></th>\n",
              "      <th>job</th>\n",
              "      <th>age</th>\n",
              "      <th>balance</th>\n",
              "      <th>day</th>\n",
              "      <th>duration</th>\n",
              "      <th>campaign</th>\n",
              "      <th>pdays</th>\n",
              "      <th>previous</th>\n",
              "    </tr>\n",
              "  </thead>\n",
              "  <tbody>\n",
              "    <tr>\n",
              "      <th>5</th>\n",
              "      <td>retired</td>\n",
              "      <td>61.626767</td>\n",
              "      <td>1984.215106</td>\n",
              "      <td>15.439488</td>\n",
              "      <td>287.361307</td>\n",
              "      <td>2.346731</td>\n",
              "      <td>37.443905</td>\n",
              "      <td>0.638693</td>\n",
              "    </tr>\n",
              "    <tr>\n",
              "      <th>4</th>\n",
              "      <td>management</td>\n",
              "      <td>40.449567</td>\n",
              "      <td>1763.616832</td>\n",
              "      <td>16.114189</td>\n",
              "      <td>253.995771</td>\n",
              "      <td>2.864348</td>\n",
              "      <td>38.665468</td>\n",
              "      <td>0.668006</td>\n",
              "    </tr>\n",
              "    <tr>\n",
              "      <th>6</th>\n",
              "      <td>self-employed</td>\n",
              "      <td>40.484484</td>\n",
              "      <td>1647.970868</td>\n",
              "      <td>16.027866</td>\n",
              "      <td>268.157061</td>\n",
              "      <td>2.853072</td>\n",
              "      <td>34.747308</td>\n",
              "      <td>0.551615</td>\n",
              "    </tr>\n",
              "    <tr>\n",
              "      <th>10</th>\n",
              "      <td>unemployed</td>\n",
              "      <td>40.961627</td>\n",
              "      <td>1521.745971</td>\n",
              "      <td>15.498081</td>\n",
              "      <td>288.543361</td>\n",
              "      <td>2.432080</td>\n",
              "      <td>34.146585</td>\n",
              "      <td>0.466616</td>\n",
              "    </tr>\n",
              "    <tr>\n",
              "      <th>2</th>\n",
              "      <td>entrepreneur</td>\n",
              "      <td>42.190989</td>\n",
              "      <td>1521.470074</td>\n",
              "      <td>15.702085</td>\n",
              "      <td>256.309348</td>\n",
              "      <td>2.799597</td>\n",
              "      <td>32.486214</td>\n",
              "      <td>0.478144</td>\n",
              "    </tr>\n",
              "    <tr>\n",
              "      <th>3</th>\n",
              "      <td>housemaid</td>\n",
              "      <td>46.415323</td>\n",
              "      <td>1392.395161</td>\n",
              "      <td>16.002419</td>\n",
              "      <td>245.825000</td>\n",
              "      <td>2.820968</td>\n",
              "      <td>21.505645</td>\n",
              "      <td>0.371774</td>\n",
              "    </tr>\n",
              "    <tr>\n",
              "      <th>8</th>\n",
              "      <td>student</td>\n",
              "      <td>26.542644</td>\n",
              "      <td>1388.060768</td>\n",
              "      <td>14.897655</td>\n",
              "      <td>246.656716</td>\n",
              "      <td>2.299574</td>\n",
              "      <td>57.041578</td>\n",
              "      <td>0.953092</td>\n",
              "    </tr>\n",
              "    <tr>\n",
              "      <th>9</th>\n",
              "      <td>technician</td>\n",
              "      <td>39.314598</td>\n",
              "      <td>1252.632092</td>\n",
              "      <td>16.408582</td>\n",
              "      <td>252.904962</td>\n",
              "      <td>2.906805</td>\n",
              "      <td>37.195077</td>\n",
              "      <td>0.574569</td>\n",
              "    </tr>\n",
              "    <tr>\n",
              "      <th>0</th>\n",
              "      <td>admin.</td>\n",
              "      <td>39.289886</td>\n",
              "      <td>1135.838909</td>\n",
              "      <td>15.564301</td>\n",
              "      <td>246.896732</td>\n",
              "      <td>2.575324</td>\n",
              "      <td>47.859021</td>\n",
              "      <td>0.671630</td>\n",
              "    </tr>\n",
              "    <tr>\n",
              "      <th>1</th>\n",
              "      <td>blue-collar</td>\n",
              "      <td>40.044081</td>\n",
              "      <td>1078.826654</td>\n",
              "      <td>15.442561</td>\n",
              "      <td>262.901562</td>\n",
              "      <td>2.816995</td>\n",
              "      <td>44.033498</td>\n",
              "      <td>0.505138</td>\n",
              "    </tr>\n",
              "    <tr>\n",
              "      <th>7</th>\n",
              "      <td>services</td>\n",
              "      <td>38.740250</td>\n",
              "      <td>997.088108</td>\n",
              "      <td>15.635532</td>\n",
              "      <td>259.318729</td>\n",
              "      <td>2.718344</td>\n",
              "      <td>41.995185</td>\n",
              "      <td>0.501204</td>\n",
              "    </tr>\n",
              "  </tbody>\n",
              "</table>\n",
              "</div>"
            ],
            "text/plain": [
              "              job        age      balance  ...  campaign      pdays  previous\n",
              "5         retired  61.626767  1984.215106  ...  2.346731  37.443905  0.638693\n",
              "4      management  40.449567  1763.616832  ...  2.864348  38.665468  0.668006\n",
              "6   self-employed  40.484484  1647.970868  ...  2.853072  34.747308  0.551615\n",
              "10     unemployed  40.961627  1521.745971  ...  2.432080  34.146585  0.466616\n",
              "2    entrepreneur  42.190989  1521.470074  ...  2.799597  32.486214  0.478144\n",
              "3       housemaid  46.415323  1392.395161  ...  2.820968  21.505645  0.371774\n",
              "8         student  26.542644  1388.060768  ...  2.299574  57.041578  0.953092\n",
              "9      technician  39.314598  1252.632092  ...  2.906805  37.195077  0.574569\n",
              "0          admin.  39.289886  1135.838909  ...  2.575324  47.859021  0.671630\n",
              "1     blue-collar  40.044081  1078.826654  ...  2.816995  44.033498  0.505138\n",
              "7        services  38.740250   997.088108  ...  2.718344  41.995185  0.501204\n",
              "\n",
              "[11 rows x 8 columns]"
            ]
          },
          "metadata": {},
          "execution_count": 55
        }
      ]
    },
    {
      "cell_type": "markdown",
      "metadata": {
        "id": "7guJpH4eCT51"
      },
      "source": [
        "Con esta primera aproximación, se decide aplicar una corrección en el orden de los tipos de ocupación recogidos en aquellas tipologías que no impliquen actividad ocupacional (student, unemployed)"
      ]
    },
    {
      "cell_type": "code",
      "metadata": {
        "id": "k64FNe8x-OJT"
      },
      "source": [
        "from sklearn.preprocessing import OrdinalEncoder"
      ],
      "execution_count": null,
      "outputs": []
    },
    {
      "cell_type": "code",
      "metadata": {
        "id": "cJ6aV7PVDepk"
      },
      "source": [
        "encoder = OrdinalEncoder(categories=[[None,'unemployed', 'student', 'housemaid',\n",
        "                                      'services','blue-collar','admin.',\n",
        "                                      'technician','entrepreneur',  \n",
        "                                      'self-employed', 'management','retired']],\n",
        "                         dtype = np.int64)"
      ],
      "execution_count": null,
      "outputs": []
    },
    {
      "cell_type": "code",
      "metadata": {
        "id": "HB5QzQQYEnpm"
      },
      "source": [
        "encoder.fit(df1[['job']])\n",
        "df1.insert(2, column ='job_encoded', \n",
        "           value = encoder.transform(df[['job']]))\n"
      ],
      "execution_count": null,
      "outputs": []
    },
    {
      "cell_type": "code",
      "metadata": {
        "colab": {
          "base_uri": "https://localhost:8080/",
          "height": 444
        },
        "id": "RE3M1mc5KgvQ",
        "outputId": "06a46f78-ab52-4084-abb0-dd7bb5cb5183"
      },
      "source": [
        "df1"
      ],
      "execution_count": null,
      "outputs": [
        {
          "output_type": "execute_result",
          "data": {
            "text/html": [
              "<div>\n",
              "<style scoped>\n",
              "    .dataframe tbody tr th:only-of-type {\n",
              "        vertical-align: middle;\n",
              "    }\n",
              "\n",
              "    .dataframe tbody tr th {\n",
              "        vertical-align: top;\n",
              "    }\n",
              "\n",
              "    .dataframe thead th {\n",
              "        text-align: right;\n",
              "    }\n",
              "</style>\n",
              "<table border=\"1\" class=\"dataframe\">\n",
              "  <thead>\n",
              "    <tr style=\"text-align: right;\">\n",
              "      <th></th>\n",
              "      <th>age</th>\n",
              "      <th>job</th>\n",
              "      <th>job_encoded</th>\n",
              "      <th>marital</th>\n",
              "      <th>education</th>\n",
              "      <th>default</th>\n",
              "      <th>balance</th>\n",
              "      <th>housing</th>\n",
              "      <th>loan</th>\n",
              "      <th>contact</th>\n",
              "      <th>day</th>\n",
              "      <th>month</th>\n",
              "      <th>duration</th>\n",
              "      <th>campaign</th>\n",
              "      <th>pdays</th>\n",
              "      <th>previous</th>\n",
              "      <th>poutcome</th>\n",
              "      <th>y</th>\n",
              "    </tr>\n",
              "  </thead>\n",
              "  <tbody>\n",
              "    <tr>\n",
              "      <th>0</th>\n",
              "      <td>58</td>\n",
              "      <td>management</td>\n",
              "      <td>10</td>\n",
              "      <td>married</td>\n",
              "      <td>tertiary</td>\n",
              "      <td>no</td>\n",
              "      <td>2143</td>\n",
              "      <td>yes</td>\n",
              "      <td>no</td>\n",
              "      <td>None</td>\n",
              "      <td>5</td>\n",
              "      <td>may</td>\n",
              "      <td>261</td>\n",
              "      <td>1</td>\n",
              "      <td>-1</td>\n",
              "      <td>0</td>\n",
              "      <td>None</td>\n",
              "      <td>no</td>\n",
              "    </tr>\n",
              "    <tr>\n",
              "      <th>1</th>\n",
              "      <td>44</td>\n",
              "      <td>technician</td>\n",
              "      <td>7</td>\n",
              "      <td>single</td>\n",
              "      <td>secondary</td>\n",
              "      <td>no</td>\n",
              "      <td>29</td>\n",
              "      <td>yes</td>\n",
              "      <td>no</td>\n",
              "      <td>None</td>\n",
              "      <td>5</td>\n",
              "      <td>may</td>\n",
              "      <td>151</td>\n",
              "      <td>1</td>\n",
              "      <td>-1</td>\n",
              "      <td>0</td>\n",
              "      <td>None</td>\n",
              "      <td>no</td>\n",
              "    </tr>\n",
              "    <tr>\n",
              "      <th>2</th>\n",
              "      <td>33</td>\n",
              "      <td>entrepreneur</td>\n",
              "      <td>8</td>\n",
              "      <td>married</td>\n",
              "      <td>secondary</td>\n",
              "      <td>no</td>\n",
              "      <td>2</td>\n",
              "      <td>yes</td>\n",
              "      <td>yes</td>\n",
              "      <td>None</td>\n",
              "      <td>5</td>\n",
              "      <td>may</td>\n",
              "      <td>76</td>\n",
              "      <td>1</td>\n",
              "      <td>-1</td>\n",
              "      <td>0</td>\n",
              "      <td>None</td>\n",
              "      <td>no</td>\n",
              "    </tr>\n",
              "    <tr>\n",
              "      <th>3</th>\n",
              "      <td>47</td>\n",
              "      <td>blue-collar</td>\n",
              "      <td>5</td>\n",
              "      <td>married</td>\n",
              "      <td>None</td>\n",
              "      <td>no</td>\n",
              "      <td>1506</td>\n",
              "      <td>yes</td>\n",
              "      <td>no</td>\n",
              "      <td>None</td>\n",
              "      <td>5</td>\n",
              "      <td>may</td>\n",
              "      <td>92</td>\n",
              "      <td>1</td>\n",
              "      <td>-1</td>\n",
              "      <td>0</td>\n",
              "      <td>None</td>\n",
              "      <td>no</td>\n",
              "    </tr>\n",
              "    <tr>\n",
              "      <th>4</th>\n",
              "      <td>33</td>\n",
              "      <td>None</td>\n",
              "      <td>0</td>\n",
              "      <td>single</td>\n",
              "      <td>None</td>\n",
              "      <td>no</td>\n",
              "      <td>1</td>\n",
              "      <td>no</td>\n",
              "      <td>no</td>\n",
              "      <td>None</td>\n",
              "      <td>5</td>\n",
              "      <td>may</td>\n",
              "      <td>198</td>\n",
              "      <td>1</td>\n",
              "      <td>-1</td>\n",
              "      <td>0</td>\n",
              "      <td>None</td>\n",
              "      <td>no</td>\n",
              "    </tr>\n",
              "    <tr>\n",
              "      <th>...</th>\n",
              "      <td>...</td>\n",
              "      <td>...</td>\n",
              "      <td>...</td>\n",
              "      <td>...</td>\n",
              "      <td>...</td>\n",
              "      <td>...</td>\n",
              "      <td>...</td>\n",
              "      <td>...</td>\n",
              "      <td>...</td>\n",
              "      <td>...</td>\n",
              "      <td>...</td>\n",
              "      <td>...</td>\n",
              "      <td>...</td>\n",
              "      <td>...</td>\n",
              "      <td>...</td>\n",
              "      <td>...</td>\n",
              "      <td>...</td>\n",
              "      <td>...</td>\n",
              "    </tr>\n",
              "    <tr>\n",
              "      <th>45206</th>\n",
              "      <td>51</td>\n",
              "      <td>technician</td>\n",
              "      <td>7</td>\n",
              "      <td>married</td>\n",
              "      <td>tertiary</td>\n",
              "      <td>no</td>\n",
              "      <td>825</td>\n",
              "      <td>no</td>\n",
              "      <td>no</td>\n",
              "      <td>cellular</td>\n",
              "      <td>17</td>\n",
              "      <td>nov</td>\n",
              "      <td>977</td>\n",
              "      <td>3</td>\n",
              "      <td>-1</td>\n",
              "      <td>0</td>\n",
              "      <td>None</td>\n",
              "      <td>yes</td>\n",
              "    </tr>\n",
              "    <tr>\n",
              "      <th>45207</th>\n",
              "      <td>71</td>\n",
              "      <td>retired</td>\n",
              "      <td>11</td>\n",
              "      <td>divorced</td>\n",
              "      <td>primary</td>\n",
              "      <td>no</td>\n",
              "      <td>1729</td>\n",
              "      <td>no</td>\n",
              "      <td>no</td>\n",
              "      <td>cellular</td>\n",
              "      <td>17</td>\n",
              "      <td>nov</td>\n",
              "      <td>456</td>\n",
              "      <td>2</td>\n",
              "      <td>-1</td>\n",
              "      <td>0</td>\n",
              "      <td>None</td>\n",
              "      <td>yes</td>\n",
              "    </tr>\n",
              "    <tr>\n",
              "      <th>45208</th>\n",
              "      <td>72</td>\n",
              "      <td>retired</td>\n",
              "      <td>11</td>\n",
              "      <td>married</td>\n",
              "      <td>secondary</td>\n",
              "      <td>no</td>\n",
              "      <td>5715</td>\n",
              "      <td>no</td>\n",
              "      <td>no</td>\n",
              "      <td>cellular</td>\n",
              "      <td>17</td>\n",
              "      <td>nov</td>\n",
              "      <td>1127</td>\n",
              "      <td>5</td>\n",
              "      <td>184</td>\n",
              "      <td>3</td>\n",
              "      <td>success</td>\n",
              "      <td>yes</td>\n",
              "    </tr>\n",
              "    <tr>\n",
              "      <th>45209</th>\n",
              "      <td>57</td>\n",
              "      <td>blue-collar</td>\n",
              "      <td>5</td>\n",
              "      <td>married</td>\n",
              "      <td>secondary</td>\n",
              "      <td>no</td>\n",
              "      <td>668</td>\n",
              "      <td>no</td>\n",
              "      <td>no</td>\n",
              "      <td>telephone</td>\n",
              "      <td>17</td>\n",
              "      <td>nov</td>\n",
              "      <td>508</td>\n",
              "      <td>4</td>\n",
              "      <td>-1</td>\n",
              "      <td>0</td>\n",
              "      <td>None</td>\n",
              "      <td>no</td>\n",
              "    </tr>\n",
              "    <tr>\n",
              "      <th>45210</th>\n",
              "      <td>37</td>\n",
              "      <td>entrepreneur</td>\n",
              "      <td>8</td>\n",
              "      <td>married</td>\n",
              "      <td>secondary</td>\n",
              "      <td>no</td>\n",
              "      <td>2971</td>\n",
              "      <td>no</td>\n",
              "      <td>no</td>\n",
              "      <td>cellular</td>\n",
              "      <td>17</td>\n",
              "      <td>nov</td>\n",
              "      <td>361</td>\n",
              "      <td>2</td>\n",
              "      <td>188</td>\n",
              "      <td>11</td>\n",
              "      <td>other</td>\n",
              "      <td>no</td>\n",
              "    </tr>\n",
              "  </tbody>\n",
              "</table>\n",
              "<p>45211 rows × 18 columns</p>\n",
              "</div>"
            ],
            "text/plain": [
              "       age           job  job_encoded   marital  ... pdays previous  poutcome    y\n",
              "0       58    management           10   married  ...    -1        0      None   no\n",
              "1       44    technician            7    single  ...    -1        0      None   no\n",
              "2       33  entrepreneur            8   married  ...    -1        0      None   no\n",
              "3       47   blue-collar            5   married  ...    -1        0      None   no\n",
              "4       33          None            0    single  ...    -1        0      None   no\n",
              "...    ...           ...          ...       ...  ...   ...      ...       ...  ...\n",
              "45206   51    technician            7   married  ...    -1        0      None  yes\n",
              "45207   71       retired           11  divorced  ...    -1        0      None  yes\n",
              "45208   72       retired           11   married  ...   184        3   success  yes\n",
              "45209   57   blue-collar            5   married  ...    -1        0      None   no\n",
              "45210   37  entrepreneur            8   married  ...   188       11     other   no\n",
              "\n",
              "[45211 rows x 18 columns]"
            ]
          },
          "metadata": {},
          "execution_count": 59
        }
      ]
    },
    {
      "cell_type": "code",
      "metadata": {
        "colab": {
          "base_uri": "https://localhost:8080/"
        },
        "id": "c4gG0yfINhcz",
        "outputId": "c3fa5219-8a20-4ebc-fb8f-ba2e7b1f6762"
      },
      "source": [
        "df1.job.value_counts(dropna= False)"
      ],
      "execution_count": null,
      "outputs": [
        {
          "output_type": "execute_result",
          "data": {
            "text/plain": [
              "blue-collar      9732\n",
              "management       9458\n",
              "technician       7597\n",
              "admin.           5171\n",
              "services         4154\n",
              "retired          2264\n",
              "self-employed    1579\n",
              "entrepreneur     1487\n",
              "unemployed       1303\n",
              "housemaid        1240\n",
              "student           938\n",
              "NaN               288\n",
              "Name: job, dtype: int64"
            ]
          },
          "metadata": {},
          "execution_count": 60
        }
      ]
    },
    {
      "cell_type": "code",
      "metadata": {
        "colab": {
          "base_uri": "https://localhost:8080/"
        },
        "id": "yCnhFpWDNAV3",
        "outputId": "fd9b2fb2-1149-4f24-fc05-73045d89c0a5"
      },
      "source": [
        "df1.job_encoded.value_counts()"
      ],
      "execution_count": null,
      "outputs": [
        {
          "output_type": "execute_result",
          "data": {
            "text/plain": [
              "5     9732\n",
              "10    9458\n",
              "7     7597\n",
              "6     5171\n",
              "4     4154\n",
              "11    2264\n",
              "9     1579\n",
              "8     1487\n",
              "1     1303\n",
              "3     1240\n",
              "2      938\n",
              "0      288\n",
              "Name: job_encoded, dtype: int64"
            ]
          },
          "metadata": {},
          "execution_count": 61
        }
      ]
    },
    {
      "cell_type": "markdown",
      "metadata": {
        "id": "g92McDgPMvo3"
      },
      "source": [
        "### Variables categóricas de tipo ordinal <font color=\"#0A66C2\"><h10>**(education)** <font>"
      ]
    },
    {
      "cell_type": "code",
      "metadata": {
        "id": "am6XYbwuM6Uv"
      },
      "source": [
        "encoder2 = OrdinalEncoder(categories=[[None,'primary', 'secondary', 'tertiary']],\n",
        "                         dtype = np.int64)"
      ],
      "execution_count": null,
      "outputs": []
    },
    {
      "cell_type": "code",
      "metadata": {
        "id": "9xF1lclLN5FG"
      },
      "source": [
        "encoder2.fit(df1[['education']])\n",
        "df1.insert(5, column ='education_encoded', \n",
        "           value = encoder2.transform(df[['education']]))"
      ],
      "execution_count": null,
      "outputs": []
    },
    {
      "cell_type": "code",
      "metadata": {
        "colab": {
          "base_uri": "https://localhost:8080/",
          "height": 444
        },
        "id": "Uorh7lTzOT9G",
        "outputId": "51e36689-c36d-4b27-a8cc-8d9991acb67e"
      },
      "source": [
        "df1"
      ],
      "execution_count": null,
      "outputs": [
        {
          "output_type": "execute_result",
          "data": {
            "text/html": [
              "<div>\n",
              "<style scoped>\n",
              "    .dataframe tbody tr th:only-of-type {\n",
              "        vertical-align: middle;\n",
              "    }\n",
              "\n",
              "    .dataframe tbody tr th {\n",
              "        vertical-align: top;\n",
              "    }\n",
              "\n",
              "    .dataframe thead th {\n",
              "        text-align: right;\n",
              "    }\n",
              "</style>\n",
              "<table border=\"1\" class=\"dataframe\">\n",
              "  <thead>\n",
              "    <tr style=\"text-align: right;\">\n",
              "      <th></th>\n",
              "      <th>age</th>\n",
              "      <th>job</th>\n",
              "      <th>job_encoded</th>\n",
              "      <th>marital</th>\n",
              "      <th>education</th>\n",
              "      <th>education_encoded</th>\n",
              "      <th>default</th>\n",
              "      <th>balance</th>\n",
              "      <th>housing</th>\n",
              "      <th>loan</th>\n",
              "      <th>contact</th>\n",
              "      <th>day</th>\n",
              "      <th>month</th>\n",
              "      <th>duration</th>\n",
              "      <th>campaign</th>\n",
              "      <th>pdays</th>\n",
              "      <th>previous</th>\n",
              "      <th>poutcome</th>\n",
              "      <th>y</th>\n",
              "    </tr>\n",
              "  </thead>\n",
              "  <tbody>\n",
              "    <tr>\n",
              "      <th>0</th>\n",
              "      <td>58</td>\n",
              "      <td>management</td>\n",
              "      <td>10</td>\n",
              "      <td>married</td>\n",
              "      <td>tertiary</td>\n",
              "      <td>3</td>\n",
              "      <td>no</td>\n",
              "      <td>2143</td>\n",
              "      <td>yes</td>\n",
              "      <td>no</td>\n",
              "      <td>None</td>\n",
              "      <td>5</td>\n",
              "      <td>may</td>\n",
              "      <td>261</td>\n",
              "      <td>1</td>\n",
              "      <td>-1</td>\n",
              "      <td>0</td>\n",
              "      <td>None</td>\n",
              "      <td>no</td>\n",
              "    </tr>\n",
              "    <tr>\n",
              "      <th>1</th>\n",
              "      <td>44</td>\n",
              "      <td>technician</td>\n",
              "      <td>7</td>\n",
              "      <td>single</td>\n",
              "      <td>secondary</td>\n",
              "      <td>2</td>\n",
              "      <td>no</td>\n",
              "      <td>29</td>\n",
              "      <td>yes</td>\n",
              "      <td>no</td>\n",
              "      <td>None</td>\n",
              "      <td>5</td>\n",
              "      <td>may</td>\n",
              "      <td>151</td>\n",
              "      <td>1</td>\n",
              "      <td>-1</td>\n",
              "      <td>0</td>\n",
              "      <td>None</td>\n",
              "      <td>no</td>\n",
              "    </tr>\n",
              "    <tr>\n",
              "      <th>2</th>\n",
              "      <td>33</td>\n",
              "      <td>entrepreneur</td>\n",
              "      <td>8</td>\n",
              "      <td>married</td>\n",
              "      <td>secondary</td>\n",
              "      <td>2</td>\n",
              "      <td>no</td>\n",
              "      <td>2</td>\n",
              "      <td>yes</td>\n",
              "      <td>yes</td>\n",
              "      <td>None</td>\n",
              "      <td>5</td>\n",
              "      <td>may</td>\n",
              "      <td>76</td>\n",
              "      <td>1</td>\n",
              "      <td>-1</td>\n",
              "      <td>0</td>\n",
              "      <td>None</td>\n",
              "      <td>no</td>\n",
              "    </tr>\n",
              "    <tr>\n",
              "      <th>3</th>\n",
              "      <td>47</td>\n",
              "      <td>blue-collar</td>\n",
              "      <td>5</td>\n",
              "      <td>married</td>\n",
              "      <td>None</td>\n",
              "      <td>0</td>\n",
              "      <td>no</td>\n",
              "      <td>1506</td>\n",
              "      <td>yes</td>\n",
              "      <td>no</td>\n",
              "      <td>None</td>\n",
              "      <td>5</td>\n",
              "      <td>may</td>\n",
              "      <td>92</td>\n",
              "      <td>1</td>\n",
              "      <td>-1</td>\n",
              "      <td>0</td>\n",
              "      <td>None</td>\n",
              "      <td>no</td>\n",
              "    </tr>\n",
              "    <tr>\n",
              "      <th>4</th>\n",
              "      <td>33</td>\n",
              "      <td>None</td>\n",
              "      <td>0</td>\n",
              "      <td>single</td>\n",
              "      <td>None</td>\n",
              "      <td>0</td>\n",
              "      <td>no</td>\n",
              "      <td>1</td>\n",
              "      <td>no</td>\n",
              "      <td>no</td>\n",
              "      <td>None</td>\n",
              "      <td>5</td>\n",
              "      <td>may</td>\n",
              "      <td>198</td>\n",
              "      <td>1</td>\n",
              "      <td>-1</td>\n",
              "      <td>0</td>\n",
              "      <td>None</td>\n",
              "      <td>no</td>\n",
              "    </tr>\n",
              "    <tr>\n",
              "      <th>...</th>\n",
              "      <td>...</td>\n",
              "      <td>...</td>\n",
              "      <td>...</td>\n",
              "      <td>...</td>\n",
              "      <td>...</td>\n",
              "      <td>...</td>\n",
              "      <td>...</td>\n",
              "      <td>...</td>\n",
              "      <td>...</td>\n",
              "      <td>...</td>\n",
              "      <td>...</td>\n",
              "      <td>...</td>\n",
              "      <td>...</td>\n",
              "      <td>...</td>\n",
              "      <td>...</td>\n",
              "      <td>...</td>\n",
              "      <td>...</td>\n",
              "      <td>...</td>\n",
              "      <td>...</td>\n",
              "    </tr>\n",
              "    <tr>\n",
              "      <th>45206</th>\n",
              "      <td>51</td>\n",
              "      <td>technician</td>\n",
              "      <td>7</td>\n",
              "      <td>married</td>\n",
              "      <td>tertiary</td>\n",
              "      <td>3</td>\n",
              "      <td>no</td>\n",
              "      <td>825</td>\n",
              "      <td>no</td>\n",
              "      <td>no</td>\n",
              "      <td>cellular</td>\n",
              "      <td>17</td>\n",
              "      <td>nov</td>\n",
              "      <td>977</td>\n",
              "      <td>3</td>\n",
              "      <td>-1</td>\n",
              "      <td>0</td>\n",
              "      <td>None</td>\n",
              "      <td>yes</td>\n",
              "    </tr>\n",
              "    <tr>\n",
              "      <th>45207</th>\n",
              "      <td>71</td>\n",
              "      <td>retired</td>\n",
              "      <td>11</td>\n",
              "      <td>divorced</td>\n",
              "      <td>primary</td>\n",
              "      <td>1</td>\n",
              "      <td>no</td>\n",
              "      <td>1729</td>\n",
              "      <td>no</td>\n",
              "      <td>no</td>\n",
              "      <td>cellular</td>\n",
              "      <td>17</td>\n",
              "      <td>nov</td>\n",
              "      <td>456</td>\n",
              "      <td>2</td>\n",
              "      <td>-1</td>\n",
              "      <td>0</td>\n",
              "      <td>None</td>\n",
              "      <td>yes</td>\n",
              "    </tr>\n",
              "    <tr>\n",
              "      <th>45208</th>\n",
              "      <td>72</td>\n",
              "      <td>retired</td>\n",
              "      <td>11</td>\n",
              "      <td>married</td>\n",
              "      <td>secondary</td>\n",
              "      <td>2</td>\n",
              "      <td>no</td>\n",
              "      <td>5715</td>\n",
              "      <td>no</td>\n",
              "      <td>no</td>\n",
              "      <td>cellular</td>\n",
              "      <td>17</td>\n",
              "      <td>nov</td>\n",
              "      <td>1127</td>\n",
              "      <td>5</td>\n",
              "      <td>184</td>\n",
              "      <td>3</td>\n",
              "      <td>success</td>\n",
              "      <td>yes</td>\n",
              "    </tr>\n",
              "    <tr>\n",
              "      <th>45209</th>\n",
              "      <td>57</td>\n",
              "      <td>blue-collar</td>\n",
              "      <td>5</td>\n",
              "      <td>married</td>\n",
              "      <td>secondary</td>\n",
              "      <td>2</td>\n",
              "      <td>no</td>\n",
              "      <td>668</td>\n",
              "      <td>no</td>\n",
              "      <td>no</td>\n",
              "      <td>telephone</td>\n",
              "      <td>17</td>\n",
              "      <td>nov</td>\n",
              "      <td>508</td>\n",
              "      <td>4</td>\n",
              "      <td>-1</td>\n",
              "      <td>0</td>\n",
              "      <td>None</td>\n",
              "      <td>no</td>\n",
              "    </tr>\n",
              "    <tr>\n",
              "      <th>45210</th>\n",
              "      <td>37</td>\n",
              "      <td>entrepreneur</td>\n",
              "      <td>8</td>\n",
              "      <td>married</td>\n",
              "      <td>secondary</td>\n",
              "      <td>2</td>\n",
              "      <td>no</td>\n",
              "      <td>2971</td>\n",
              "      <td>no</td>\n",
              "      <td>no</td>\n",
              "      <td>cellular</td>\n",
              "      <td>17</td>\n",
              "      <td>nov</td>\n",
              "      <td>361</td>\n",
              "      <td>2</td>\n",
              "      <td>188</td>\n",
              "      <td>11</td>\n",
              "      <td>other</td>\n",
              "      <td>no</td>\n",
              "    </tr>\n",
              "  </tbody>\n",
              "</table>\n",
              "<p>45211 rows × 19 columns</p>\n",
              "</div>"
            ],
            "text/plain": [
              "       age           job  job_encoded   marital  ... pdays  previous poutcome    y\n",
              "0       58    management           10   married  ...    -1         0     None   no\n",
              "1       44    technician            7    single  ...    -1         0     None   no\n",
              "2       33  entrepreneur            8   married  ...    -1         0     None   no\n",
              "3       47   blue-collar            5   married  ...    -1         0     None   no\n",
              "4       33          None            0    single  ...    -1         0     None   no\n",
              "...    ...           ...          ...       ...  ...   ...       ...      ...  ...\n",
              "45206   51    technician            7   married  ...    -1         0     None  yes\n",
              "45207   71       retired           11  divorced  ...    -1         0     None  yes\n",
              "45208   72       retired           11   married  ...   184         3  success  yes\n",
              "45209   57   blue-collar            5   married  ...    -1         0     None   no\n",
              "45210   37  entrepreneur            8   married  ...   188        11    other   no\n",
              "\n",
              "[45211 rows x 19 columns]"
            ]
          },
          "metadata": {},
          "execution_count": 64
        }
      ]
    },
    {
      "cell_type": "code",
      "metadata": {
        "colab": {
          "base_uri": "https://localhost:8080/"
        },
        "id": "LLuUByILOW-m",
        "outputId": "a1c89aaa-87b1-4999-9f0f-4967fd1b078a"
      },
      "source": [
        "df1.education.value_counts(dropna=False)"
      ],
      "execution_count": null,
      "outputs": [
        {
          "output_type": "execute_result",
          "data": {
            "text/plain": [
              "secondary    23202\n",
              "tertiary     13301\n",
              "primary       6851\n",
              "NaN           1857\n",
              "Name: education, dtype: int64"
            ]
          },
          "metadata": {},
          "execution_count": 65
        }
      ]
    },
    {
      "cell_type": "code",
      "metadata": {
        "colab": {
          "base_uri": "https://localhost:8080/"
        },
        "id": "ZmdRiMzAOue_",
        "outputId": "e2e54194-9ab5-4e8c-da57-2eda023b0e56"
      },
      "source": [
        "df1.education_encoded.value_counts(dropna = False)"
      ],
      "execution_count": null,
      "outputs": [
        {
          "output_type": "execute_result",
          "data": {
            "text/plain": [
              "2    23202\n",
              "3    13301\n",
              "1     6851\n",
              "0     1857\n",
              "Name: education_encoded, dtype: int64"
            ]
          },
          "metadata": {},
          "execution_count": 66
        }
      ]
    },
    {
      "cell_type": "markdown",
      "metadata": {
        "id": "Xf0mjkXdTj5i"
      },
      "source": [
        "### Variable categórica <font color=\"#0A66C2\"><h10>**(contact)** <font>"
      ]
    },
    {
      "cell_type": "markdown",
      "metadata": {
        "id": "XOKkn5_lTr0y"
      },
      "source": [
        "El objetivo de implementar un modelo de aprendizaje supervisado de **clasificación** es predecir el éxito de un contacto, es decir, si el o la clienta suscribe el depósito. Por lo tanto, podemos concluir que todos los y las clientas del set datos han sido contactados por la entidad financiera. \n",
        "\n",
        "En este sentido, a modo de conclusión incial, teniendo en cuenta el número de observaciones que no cuentan con tipo de contacto asignado, sería conveniente cara a futuras campañas chequear cómo se recoge este aspecto, pudiendo abrir otras altenativas de canales telemáticos, presenciales (oficina), etc...\n",
        "\n",
        "Es por ello, que consideramos o, mejor dicho, codificaremos esas observaciones que vienen marcadas con un \"unknown\" en esta variable como otros canales de contacto (others)"
      ]
    },
    {
      "cell_type": "code",
      "metadata": {
        "id": "B8EMxc6ITbI7"
      },
      "source": [
        "df1['contact'].replace({None: 'others'}, inplace = True)"
      ],
      "execution_count": null,
      "outputs": []
    },
    {
      "cell_type": "code",
      "metadata": {
        "colab": {
          "base_uri": "https://localhost:8080/"
        },
        "id": "ddlSEZulVuNL",
        "outputId": "fdd07d5f-b36a-4ae7-c7c7-b97cbb06686f"
      },
      "source": [
        "df1['contact'].value_counts()"
      ],
      "execution_count": null,
      "outputs": [
        {
          "output_type": "execute_result",
          "data": {
            "text/plain": [
              "cellular     29285\n",
              "others       13020\n",
              "telephone     2906\n",
              "Name: contact, dtype: int64"
            ]
          },
          "metadata": {},
          "execution_count": 68
        }
      ]
    },
    {
      "cell_type": "markdown",
      "metadata": {
        "id": "EnEXMVZ-PSKd"
      },
      "source": [
        "### Variables categóricas a numéricas <font color=\"#0A66C2\"><h10>**(LabelEncoder)** <font>"
      ]
    },
    {
      "cell_type": "markdown",
      "metadata": {
        "id": "Fz3-pv-gPt3S"
      },
      "source": [
        "Convertiremos a string las columnas necesarias para poder aplicar LabelEncoder( ).\n",
        "\n",
        "Las variables categóricas sobre las que implementaremos la codificación:\n",
        "\n",
        "- **default**\n",
        "- **housing**\n",
        "- **loan**\n",
        "- **y** <font color=\"#0A66C2\"><h10> **(varibale objetivo)** <font>"
      ]
    },
    {
      "cell_type": "code",
      "metadata": {
        "id": "a9x3hhx3RVH9"
      },
      "source": [
        "df1.default = df1.default.apply(str)\n",
        "df1.housing = df1.housing.apply(str)\n",
        "df1.loan = df1.loan.apply(str)\n",
        "df1.y = df1.y.apply(str)"
      ],
      "execution_count": null,
      "outputs": []
    },
    {
      "cell_type": "code",
      "metadata": {
        "colab": {
          "base_uri": "https://localhost:8080/",
          "height": 444
        },
        "id": "UagiEh3BR-Te",
        "outputId": "5eab8ad3-4cb9-4665-d967-5c19dbc29aa3"
      },
      "source": [
        "df1"
      ],
      "execution_count": null,
      "outputs": [
        {
          "output_type": "execute_result",
          "data": {
            "text/html": [
              "<div>\n",
              "<style scoped>\n",
              "    .dataframe tbody tr th:only-of-type {\n",
              "        vertical-align: middle;\n",
              "    }\n",
              "\n",
              "    .dataframe tbody tr th {\n",
              "        vertical-align: top;\n",
              "    }\n",
              "\n",
              "    .dataframe thead th {\n",
              "        text-align: right;\n",
              "    }\n",
              "</style>\n",
              "<table border=\"1\" class=\"dataframe\">\n",
              "  <thead>\n",
              "    <tr style=\"text-align: right;\">\n",
              "      <th></th>\n",
              "      <th>age</th>\n",
              "      <th>job</th>\n",
              "      <th>job_encoded</th>\n",
              "      <th>marital</th>\n",
              "      <th>education</th>\n",
              "      <th>education_encoded</th>\n",
              "      <th>default</th>\n",
              "      <th>balance</th>\n",
              "      <th>housing</th>\n",
              "      <th>loan</th>\n",
              "      <th>contact</th>\n",
              "      <th>day</th>\n",
              "      <th>month</th>\n",
              "      <th>duration</th>\n",
              "      <th>campaign</th>\n",
              "      <th>pdays</th>\n",
              "      <th>previous</th>\n",
              "      <th>poutcome</th>\n",
              "      <th>y</th>\n",
              "    </tr>\n",
              "  </thead>\n",
              "  <tbody>\n",
              "    <tr>\n",
              "      <th>0</th>\n",
              "      <td>58</td>\n",
              "      <td>management</td>\n",
              "      <td>10</td>\n",
              "      <td>married</td>\n",
              "      <td>tertiary</td>\n",
              "      <td>3</td>\n",
              "      <td>no</td>\n",
              "      <td>2143</td>\n",
              "      <td>yes</td>\n",
              "      <td>no</td>\n",
              "      <td>others</td>\n",
              "      <td>5</td>\n",
              "      <td>may</td>\n",
              "      <td>261</td>\n",
              "      <td>1</td>\n",
              "      <td>-1</td>\n",
              "      <td>0</td>\n",
              "      <td>None</td>\n",
              "      <td>no</td>\n",
              "    </tr>\n",
              "    <tr>\n",
              "      <th>1</th>\n",
              "      <td>44</td>\n",
              "      <td>technician</td>\n",
              "      <td>7</td>\n",
              "      <td>single</td>\n",
              "      <td>secondary</td>\n",
              "      <td>2</td>\n",
              "      <td>no</td>\n",
              "      <td>29</td>\n",
              "      <td>yes</td>\n",
              "      <td>no</td>\n",
              "      <td>others</td>\n",
              "      <td>5</td>\n",
              "      <td>may</td>\n",
              "      <td>151</td>\n",
              "      <td>1</td>\n",
              "      <td>-1</td>\n",
              "      <td>0</td>\n",
              "      <td>None</td>\n",
              "      <td>no</td>\n",
              "    </tr>\n",
              "    <tr>\n",
              "      <th>2</th>\n",
              "      <td>33</td>\n",
              "      <td>entrepreneur</td>\n",
              "      <td>8</td>\n",
              "      <td>married</td>\n",
              "      <td>secondary</td>\n",
              "      <td>2</td>\n",
              "      <td>no</td>\n",
              "      <td>2</td>\n",
              "      <td>yes</td>\n",
              "      <td>yes</td>\n",
              "      <td>others</td>\n",
              "      <td>5</td>\n",
              "      <td>may</td>\n",
              "      <td>76</td>\n",
              "      <td>1</td>\n",
              "      <td>-1</td>\n",
              "      <td>0</td>\n",
              "      <td>None</td>\n",
              "      <td>no</td>\n",
              "    </tr>\n",
              "    <tr>\n",
              "      <th>3</th>\n",
              "      <td>47</td>\n",
              "      <td>blue-collar</td>\n",
              "      <td>5</td>\n",
              "      <td>married</td>\n",
              "      <td>None</td>\n",
              "      <td>0</td>\n",
              "      <td>no</td>\n",
              "      <td>1506</td>\n",
              "      <td>yes</td>\n",
              "      <td>no</td>\n",
              "      <td>others</td>\n",
              "      <td>5</td>\n",
              "      <td>may</td>\n",
              "      <td>92</td>\n",
              "      <td>1</td>\n",
              "      <td>-1</td>\n",
              "      <td>0</td>\n",
              "      <td>None</td>\n",
              "      <td>no</td>\n",
              "    </tr>\n",
              "    <tr>\n",
              "      <th>4</th>\n",
              "      <td>33</td>\n",
              "      <td>None</td>\n",
              "      <td>0</td>\n",
              "      <td>single</td>\n",
              "      <td>None</td>\n",
              "      <td>0</td>\n",
              "      <td>no</td>\n",
              "      <td>1</td>\n",
              "      <td>no</td>\n",
              "      <td>no</td>\n",
              "      <td>others</td>\n",
              "      <td>5</td>\n",
              "      <td>may</td>\n",
              "      <td>198</td>\n",
              "      <td>1</td>\n",
              "      <td>-1</td>\n",
              "      <td>0</td>\n",
              "      <td>None</td>\n",
              "      <td>no</td>\n",
              "    </tr>\n",
              "    <tr>\n",
              "      <th>...</th>\n",
              "      <td>...</td>\n",
              "      <td>...</td>\n",
              "      <td>...</td>\n",
              "      <td>...</td>\n",
              "      <td>...</td>\n",
              "      <td>...</td>\n",
              "      <td>...</td>\n",
              "      <td>...</td>\n",
              "      <td>...</td>\n",
              "      <td>...</td>\n",
              "      <td>...</td>\n",
              "      <td>...</td>\n",
              "      <td>...</td>\n",
              "      <td>...</td>\n",
              "      <td>...</td>\n",
              "      <td>...</td>\n",
              "      <td>...</td>\n",
              "      <td>...</td>\n",
              "      <td>...</td>\n",
              "    </tr>\n",
              "    <tr>\n",
              "      <th>45206</th>\n",
              "      <td>51</td>\n",
              "      <td>technician</td>\n",
              "      <td>7</td>\n",
              "      <td>married</td>\n",
              "      <td>tertiary</td>\n",
              "      <td>3</td>\n",
              "      <td>no</td>\n",
              "      <td>825</td>\n",
              "      <td>no</td>\n",
              "      <td>no</td>\n",
              "      <td>cellular</td>\n",
              "      <td>17</td>\n",
              "      <td>nov</td>\n",
              "      <td>977</td>\n",
              "      <td>3</td>\n",
              "      <td>-1</td>\n",
              "      <td>0</td>\n",
              "      <td>None</td>\n",
              "      <td>yes</td>\n",
              "    </tr>\n",
              "    <tr>\n",
              "      <th>45207</th>\n",
              "      <td>71</td>\n",
              "      <td>retired</td>\n",
              "      <td>11</td>\n",
              "      <td>divorced</td>\n",
              "      <td>primary</td>\n",
              "      <td>1</td>\n",
              "      <td>no</td>\n",
              "      <td>1729</td>\n",
              "      <td>no</td>\n",
              "      <td>no</td>\n",
              "      <td>cellular</td>\n",
              "      <td>17</td>\n",
              "      <td>nov</td>\n",
              "      <td>456</td>\n",
              "      <td>2</td>\n",
              "      <td>-1</td>\n",
              "      <td>0</td>\n",
              "      <td>None</td>\n",
              "      <td>yes</td>\n",
              "    </tr>\n",
              "    <tr>\n",
              "      <th>45208</th>\n",
              "      <td>72</td>\n",
              "      <td>retired</td>\n",
              "      <td>11</td>\n",
              "      <td>married</td>\n",
              "      <td>secondary</td>\n",
              "      <td>2</td>\n",
              "      <td>no</td>\n",
              "      <td>5715</td>\n",
              "      <td>no</td>\n",
              "      <td>no</td>\n",
              "      <td>cellular</td>\n",
              "      <td>17</td>\n",
              "      <td>nov</td>\n",
              "      <td>1127</td>\n",
              "      <td>5</td>\n",
              "      <td>184</td>\n",
              "      <td>3</td>\n",
              "      <td>success</td>\n",
              "      <td>yes</td>\n",
              "    </tr>\n",
              "    <tr>\n",
              "      <th>45209</th>\n",
              "      <td>57</td>\n",
              "      <td>blue-collar</td>\n",
              "      <td>5</td>\n",
              "      <td>married</td>\n",
              "      <td>secondary</td>\n",
              "      <td>2</td>\n",
              "      <td>no</td>\n",
              "      <td>668</td>\n",
              "      <td>no</td>\n",
              "      <td>no</td>\n",
              "      <td>telephone</td>\n",
              "      <td>17</td>\n",
              "      <td>nov</td>\n",
              "      <td>508</td>\n",
              "      <td>4</td>\n",
              "      <td>-1</td>\n",
              "      <td>0</td>\n",
              "      <td>None</td>\n",
              "      <td>no</td>\n",
              "    </tr>\n",
              "    <tr>\n",
              "      <th>45210</th>\n",
              "      <td>37</td>\n",
              "      <td>entrepreneur</td>\n",
              "      <td>8</td>\n",
              "      <td>married</td>\n",
              "      <td>secondary</td>\n",
              "      <td>2</td>\n",
              "      <td>no</td>\n",
              "      <td>2971</td>\n",
              "      <td>no</td>\n",
              "      <td>no</td>\n",
              "      <td>cellular</td>\n",
              "      <td>17</td>\n",
              "      <td>nov</td>\n",
              "      <td>361</td>\n",
              "      <td>2</td>\n",
              "      <td>188</td>\n",
              "      <td>11</td>\n",
              "      <td>other</td>\n",
              "      <td>no</td>\n",
              "    </tr>\n",
              "  </tbody>\n",
              "</table>\n",
              "<p>45211 rows × 19 columns</p>\n",
              "</div>"
            ],
            "text/plain": [
              "       age           job  job_encoded   marital  ... pdays  previous poutcome    y\n",
              "0       58    management           10   married  ...    -1         0     None   no\n",
              "1       44    technician            7    single  ...    -1         0     None   no\n",
              "2       33  entrepreneur            8   married  ...    -1         0     None   no\n",
              "3       47   blue-collar            5   married  ...    -1         0     None   no\n",
              "4       33          None            0    single  ...    -1         0     None   no\n",
              "...    ...           ...          ...       ...  ...   ...       ...      ...  ...\n",
              "45206   51    technician            7   married  ...    -1         0     None  yes\n",
              "45207   71       retired           11  divorced  ...    -1         0     None  yes\n",
              "45208   72       retired           11   married  ...   184         3  success  yes\n",
              "45209   57   blue-collar            5   married  ...    -1         0     None   no\n",
              "45210   37  entrepreneur            8   married  ...   188        11    other   no\n",
              "\n",
              "[45211 rows x 19 columns]"
            ]
          },
          "metadata": {},
          "execution_count": 70
        }
      ]
    },
    {
      "cell_type": "code",
      "metadata": {
        "id": "ySmBPWc2XHdo"
      },
      "source": [
        "import sklearn \n",
        "from sklearn.preprocessing import LabelEncoder"
      ],
      "execution_count": null,
      "outputs": []
    },
    {
      "cell_type": "code",
      "metadata": {
        "id": "wQWSPibHXAOQ"
      },
      "source": [
        "convertir = LabelEncoder()"
      ],
      "execution_count": null,
      "outputs": []
    },
    {
      "cell_type": "code",
      "metadata": {
        "id": "5YR9vTQHWLN5"
      },
      "source": [
        "df1.insert(7,column='numdefault',value=convertir.fit_transform(df1.default))\n",
        "df1.insert(10,column='numhousing',value=convertir.fit_transform(df1.housing))\n",
        "df1.insert(12,column='numloan',value=convertir.fit_transform(df1.loan))\n",
        "df1.insert(22,column='numy',value=convertir.fit_transform(df1.y))"
      ],
      "execution_count": null,
      "outputs": []
    },
    {
      "cell_type": "code",
      "metadata": {
        "colab": {
          "base_uri": "https://localhost:8080/"
        },
        "id": "H7OYkfjRX7yB",
        "outputId": "95936d79-a45d-4ffd-ea83-84e7529f39d6"
      },
      "source": [
        "df1.info()"
      ],
      "execution_count": null,
      "outputs": [
        {
          "output_type": "stream",
          "name": "stdout",
          "text": [
            "<class 'pandas.core.frame.DataFrame'>\n",
            "RangeIndex: 45211 entries, 0 to 45210\n",
            "Data columns (total 23 columns):\n",
            " #   Column             Non-Null Count  Dtype \n",
            "---  ------             --------------  ----- \n",
            " 0   age                45211 non-null  int64 \n",
            " 1   job                44923 non-null  object\n",
            " 2   job_encoded        45211 non-null  int64 \n",
            " 3   marital            45211 non-null  object\n",
            " 4   education          43354 non-null  object\n",
            " 5   education_encoded  45211 non-null  int64 \n",
            " 6   default            45211 non-null  object\n",
            " 7   numdefault         45211 non-null  int64 \n",
            " 8   balance            45211 non-null  int64 \n",
            " 9   housing            45211 non-null  object\n",
            " 10  numhousing         45211 non-null  int64 \n",
            " 11  loan               45211 non-null  object\n",
            " 12  numloan            45211 non-null  int64 \n",
            " 13  contact            45211 non-null  object\n",
            " 14  day                45211 non-null  int64 \n",
            " 15  month              45211 non-null  object\n",
            " 16  duration           45211 non-null  int64 \n",
            " 17  campaign           45211 non-null  int64 \n",
            " 18  pdays              45211 non-null  int64 \n",
            " 19  previous           45211 non-null  int64 \n",
            " 20  poutcome           8252 non-null   object\n",
            " 21  y                  45211 non-null  object\n",
            " 22  numy               45211 non-null  int64 \n",
            "dtypes: int64(13), object(10)\n",
            "memory usage: 7.9+ MB\n"
          ]
        }
      ]
    },
    {
      "cell_type": "markdown",
      "metadata": {
        "id": "x12-Z437ZdRw"
      },
      "source": [
        "## <font color=\"#333F49\"> **Imputaciones (el vecino más cercano)** <font>"
      ]
    },
    {
      "cell_type": "code",
      "metadata": {
        "colab": {
          "base_uri": "https://localhost:8080/"
        },
        "id": "AVzUJq90ZioP",
        "outputId": "2dfb48cc-c9cd-41e2-ea10-2d12bd8e9c0f"
      },
      "source": [
        "!pip install missingpy"
      ],
      "execution_count": null,
      "outputs": [
        {
          "output_type": "stream",
          "name": "stdout",
          "text": [
            "Requirement already satisfied: missingpy in /usr/local/lib/python3.7/dist-packages (0.2.0)\n"
          ]
        }
      ]
    },
    {
      "cell_type": "code",
      "metadata": {
        "id": "14kYCCUFZlrQ"
      },
      "source": [
        "from missingpy import KNNImputer"
      ],
      "execution_count": null,
      "outputs": []
    },
    {
      "cell_type": "code",
      "metadata": {
        "id": "b2Jf3dkuZqO-"
      },
      "source": [
        "imputacion = KNNImputer(n_neighbors=2, missing_values=0, weights='uniform')"
      ],
      "execution_count": null,
      "outputs": []
    },
    {
      "cell_type": "markdown",
      "metadata": {
        "id": "oFwSY5WSufsS"
      },
      "source": [
        "### Imputación de NaN de la variable job (n=288)"
      ]
    },
    {
      "cell_type": "code",
      "metadata": {
        "id": "phxqu7Pc1Ch6"
      },
      "source": [
        "df1.job_encoded = imputacion.fit_transform(df1[['job_encoded']])"
      ],
      "execution_count": null,
      "outputs": []
    },
    {
      "cell_type": "code",
      "metadata": {
        "colab": {
          "base_uri": "https://localhost:8080/"
        },
        "id": "_6HihAoo1P_v",
        "outputId": "be5d1856-6e96-454b-e954-11c897dfe90f"
      },
      "source": [
        "df1.job_encoded.value_counts()"
      ],
      "execution_count": null,
      "outputs": [
        {
          "output_type": "execute_result",
          "data": {
            "text/plain": [
              "5.000000     9732\n",
              "10.000000    9458\n",
              "7.000000     7597\n",
              "6.000000     5171\n",
              "4.000000     4154\n",
              "11.000000    2264\n",
              "9.000000     1579\n",
              "8.000000     1487\n",
              "1.000000     1303\n",
              "3.000000     1240\n",
              "2.000000      938\n",
              "6.721969      288\n",
              "Name: job_encoded, dtype: int64"
            ]
          },
          "metadata": {},
          "execution_count": 79
        }
      ]
    },
    {
      "cell_type": "code",
      "metadata": {
        "id": "jWRp-3Pj3KC8"
      },
      "source": [
        "df1['job'][(df1['job_encoded']>6) & \n",
        "           (df1['job_encoded']<7)]='technician'"
      ],
      "execution_count": null,
      "outputs": []
    },
    {
      "cell_type": "code",
      "metadata": {
        "colab": {
          "base_uri": "https://localhost:8080/"
        },
        "id": "JjUmREdI4Lkj",
        "outputId": "7872a16d-0d30-44af-90d1-6d79895afbe2"
      },
      "source": [
        "df1.job.value_counts()"
      ],
      "execution_count": null,
      "outputs": [
        {
          "output_type": "execute_result",
          "data": {
            "text/plain": [
              "blue-collar      9732\n",
              "management       9458\n",
              "technician       7885\n",
              "admin.           5171\n",
              "services         4154\n",
              "retired          2264\n",
              "self-employed    1579\n",
              "entrepreneur     1487\n",
              "unemployed       1303\n",
              "housemaid        1240\n",
              "student           938\n",
              "Name: job, dtype: int64"
            ]
          },
          "metadata": {},
          "execution_count": 81
        }
      ]
    },
    {
      "cell_type": "code",
      "metadata": {
        "id": "SD5JZbu24Zcz"
      },
      "source": [
        "df1['job_encoded'][(df1['job_encoded']>6) & \n",
        "                   (df1['job_encoded']<7)]=7"
      ],
      "execution_count": null,
      "outputs": []
    },
    {
      "cell_type": "code",
      "metadata": {
        "colab": {
          "base_uri": "https://localhost:8080/"
        },
        "id": "kdbTpm6i4fkk",
        "outputId": "9c74a7d9-044d-4276-fa33-b1bc69b3499b"
      },
      "source": [
        "df1.job_encoded.value_counts()"
      ],
      "execution_count": null,
      "outputs": [
        {
          "output_type": "execute_result",
          "data": {
            "text/plain": [
              "5.0     9732\n",
              "10.0    9458\n",
              "7.0     7885\n",
              "6.0     5171\n",
              "4.0     4154\n",
              "11.0    2264\n",
              "9.0     1579\n",
              "8.0     1487\n",
              "1.0     1303\n",
              "3.0     1240\n",
              "2.0      938\n",
              "Name: job_encoded, dtype: int64"
            ]
          },
          "metadata": {},
          "execution_count": 83
        }
      ]
    },
    {
      "cell_type": "markdown",
      "metadata": {
        "id": "lNfRe62649TC"
      },
      "source": [
        "### Imputación de NaN de la variable education (n=1857)"
      ]
    },
    {
      "cell_type": "code",
      "metadata": {
        "id": "_nf-LHb75E9j"
      },
      "source": [
        "df1.education_encoded = imputacion.fit_transform(df1[['education_encoded']])"
      ],
      "execution_count": null,
      "outputs": []
    },
    {
      "cell_type": "code",
      "metadata": {
        "colab": {
          "base_uri": "https://localhost:8080/"
        },
        "id": "DFUNEDQl5QOb",
        "outputId": "c5aa67b0-987a-4475-90ac-52f449d98677"
      },
      "source": [
        "df1.education_encoded.value_counts()"
      ],
      "execution_count": null,
      "outputs": [
        {
          "output_type": "execute_result",
          "data": {
            "text/plain": [
              "2.000000    23202\n",
              "3.000000    13301\n",
              "1.000000     6851\n",
              "2.148775     1857\n",
              "Name: education_encoded, dtype: int64"
            ]
          },
          "metadata": {},
          "execution_count": 85
        }
      ]
    },
    {
      "cell_type": "code",
      "metadata": {
        "id": "9Hbr14Hj5hIT"
      },
      "source": [
        "df1['education'][(df1['education_encoded']>2) & \n",
        "                 (df1['education_encoded']<3)]='secondary'"
      ],
      "execution_count": null,
      "outputs": []
    },
    {
      "cell_type": "code",
      "metadata": {
        "colab": {
          "base_uri": "https://localhost:8080/"
        },
        "id": "s7hbuaLj6Ed-",
        "outputId": "956a22fe-fbdd-4852-883b-7df1f97ae79a"
      },
      "source": [
        "df1.education.value_counts()"
      ],
      "execution_count": null,
      "outputs": [
        {
          "output_type": "execute_result",
          "data": {
            "text/plain": [
              "secondary    25059\n",
              "tertiary     13301\n",
              "primary       6851\n",
              "Name: education, dtype: int64"
            ]
          },
          "metadata": {},
          "execution_count": 87
        }
      ]
    },
    {
      "cell_type": "code",
      "metadata": {
        "id": "z0lcgk3_6PXV"
      },
      "source": [
        "df1['education_encoded'][(df1['education_encoded']>2) & \n",
        "                         (df1['education_encoded']<3)]= 2"
      ],
      "execution_count": null,
      "outputs": []
    },
    {
      "cell_type": "code",
      "metadata": {
        "colab": {
          "base_uri": "https://localhost:8080/"
        },
        "id": "RKu4ahEx6W1C",
        "outputId": "b9c7a9ff-7784-441d-ffb1-86314f2f8e13"
      },
      "source": [
        "df1.education_encoded.value_counts()"
      ],
      "execution_count": null,
      "outputs": [
        {
          "output_type": "execute_result",
          "data": {
            "text/plain": [
              "2.0    25059\n",
              "3.0    13301\n",
              "1.0     6851\n",
              "Name: education_encoded, dtype: int64"
            ]
          },
          "metadata": {},
          "execution_count": 89
        }
      ]
    },
    {
      "cell_type": "markdown",
      "metadata": {
        "id": "in1A2CrV6pHK"
      },
      "source": [
        "## <font color=\"#333F49\">**Eliminar columnas del set de datos** <font>"
      ]
    },
    {
      "cell_type": "code",
      "metadata": {
        "colab": {
          "base_uri": "https://localhost:8080/"
        },
        "id": "nfbJYWtj7h0z",
        "outputId": "e984216e-0c42-4077-ad08-c8dfcb318c95"
      },
      "source": [
        "df1.info()"
      ],
      "execution_count": null,
      "outputs": [
        {
          "output_type": "stream",
          "name": "stdout",
          "text": [
            "<class 'pandas.core.frame.DataFrame'>\n",
            "RangeIndex: 45211 entries, 0 to 45210\n",
            "Data columns (total 23 columns):\n",
            " #   Column             Non-Null Count  Dtype  \n",
            "---  ------             --------------  -----  \n",
            " 0   age                45211 non-null  int64  \n",
            " 1   job                45211 non-null  object \n",
            " 2   job_encoded        45211 non-null  float64\n",
            " 3   marital            45211 non-null  object \n",
            " 4   education          45211 non-null  object \n",
            " 5   education_encoded  45211 non-null  float64\n",
            " 6   default            45211 non-null  object \n",
            " 7   numdefault         45211 non-null  int64  \n",
            " 8   balance            45211 non-null  int64  \n",
            " 9   housing            45211 non-null  object \n",
            " 10  numhousing         45211 non-null  int64  \n",
            " 11  loan               45211 non-null  object \n",
            " 12  numloan            45211 non-null  int64  \n",
            " 13  contact            45211 non-null  object \n",
            " 14  day                45211 non-null  int64  \n",
            " 15  month              45211 non-null  object \n",
            " 16  duration           45211 non-null  int64  \n",
            " 17  campaign           45211 non-null  int64  \n",
            " 18  pdays              45211 non-null  int64  \n",
            " 19  previous           45211 non-null  int64  \n",
            " 20  poutcome           8252 non-null   object \n",
            " 21  y                  45211 non-null  object \n",
            " 22  numy               45211 non-null  int64  \n",
            "dtypes: float64(2), int64(11), object(10)\n",
            "memory usage: 7.9+ MB\n"
          ]
        }
      ]
    },
    {
      "cell_type": "code",
      "metadata": {
        "colab": {
          "base_uri": "https://localhost:8080/"
        },
        "id": "gXkQ1C6m75La",
        "outputId": "eebc724e-94b0-457b-fa4e-9dd55279b476"
      },
      "source": [
        "df1.drop(['job', 'education', 'default','housing',\n",
        "          'loan','poutcome'],axis = 1, inplace = True)\n",
        "df1.info()"
      ],
      "execution_count": null,
      "outputs": [
        {
          "output_type": "stream",
          "name": "stdout",
          "text": [
            "<class 'pandas.core.frame.DataFrame'>\n",
            "RangeIndex: 45211 entries, 0 to 45210\n",
            "Data columns (total 17 columns):\n",
            " #   Column             Non-Null Count  Dtype  \n",
            "---  ------             --------------  -----  \n",
            " 0   age                45211 non-null  int64  \n",
            " 1   job_encoded        45211 non-null  float64\n",
            " 2   marital            45211 non-null  object \n",
            " 3   education_encoded  45211 non-null  float64\n",
            " 4   numdefault         45211 non-null  int64  \n",
            " 5   balance            45211 non-null  int64  \n",
            " 6   numhousing         45211 non-null  int64  \n",
            " 7   numloan            45211 non-null  int64  \n",
            " 8   contact            45211 non-null  object \n",
            " 9   day                45211 non-null  int64  \n",
            " 10  month              45211 non-null  object \n",
            " 11  duration           45211 non-null  int64  \n",
            " 12  campaign           45211 non-null  int64  \n",
            " 13  pdays              45211 non-null  int64  \n",
            " 14  previous           45211 non-null  int64  \n",
            " 15  y                  45211 non-null  object \n",
            " 16  numy               45211 non-null  int64  \n",
            "dtypes: float64(2), int64(11), object(4)\n",
            "memory usage: 5.9+ MB\n"
          ]
        }
      ]
    },
    {
      "cell_type": "markdown",
      "metadata": {
        "id": "8TCqyioeNduI"
      },
      "source": [
        "## <font color=\"#333F49\">**Cambio de nombres de las columnas** <font>"
      ]
    },
    {
      "cell_type": "markdown",
      "metadata": {
        "id": "bCfOYnnCOCJv"
      },
      "source": [
        "El objetivo es facilitar la lectura de los datos, mejorando la experiencia del cliente, clienta final."
      ]
    },
    {
      "cell_type": "code",
      "metadata": {
        "id": "Zrma5_UMNu0S"
      },
      "source": [
        "df1.columns=['edad', 'ocupacion', 'estadocivil', 'estudios', 'descubierto', 'saldoanual',\n",
        "            'hipoteca', 'prestamo', 'canalcontacto', 'dia', 'mes', 'duracion', 'contactosactuales',\n",
        "            'contactoanterior', 'contactosprevios', 'contrata', 'contratanum']"
      ],
      "execution_count": null,
      "outputs": []
    },
    {
      "cell_type": "markdown",
      "metadata": {
        "id": "IcglyMArHYlK"
      },
      "source": [
        "## <font color=\"#333F49\">**División del set de datos** <font>"
      ]
    },
    {
      "cell_type": "markdown",
      "metadata": {
        "id": "OcEY3umAHoZJ"
      },
      "source": [
        "#### <font color=\"#0A66C2\"><h10>Variable objetivo <font>"
      ]
    },
    {
      "cell_type": "code",
      "metadata": {
        "id": "LQuFx7CuIAjp"
      },
      "source": [
        "y = df1['contratanum']"
      ],
      "execution_count": null,
      "outputs": []
    },
    {
      "cell_type": "markdown",
      "metadata": {
        "id": "XiJlGLDFIUDc"
      },
      "source": [
        "#### <font color=\"#0A66C2\"><h10>Variable de entrada <font>"
      ]
    },
    {
      "cell_type": "code",
      "metadata": {
        "id": "cExk9RbPIa7B"
      },
      "source": [
        "X = df1.drop(columns=['contratanum', 'contrata'])"
      ],
      "execution_count": null,
      "outputs": []
    },
    {
      "cell_type": "code",
      "metadata": {
        "id": "AtzEwTB7FDjr"
      },
      "source": [
        "X_train, X_test, y_train, y_test = train_test_split(X, y, \n",
        "                                                    random_state = 123,\n",
        "                                                    test_size = 0.30)"
      ],
      "execution_count": null,
      "outputs": []
    },
    {
      "cell_type": "code",
      "metadata": {
        "colab": {
          "base_uri": "https://localhost:8080/"
        },
        "id": "RyJYobhSKyqT",
        "outputId": "45f7f27b-15fa-4008-e775-2da7f259da9f"
      },
      "source": [
        "X_train.shape"
      ],
      "execution_count": null,
      "outputs": [
        {
          "output_type": "execute_result",
          "data": {
            "text/plain": [
              "(31647, 15)"
            ]
          },
          "metadata": {},
          "execution_count": 96
        }
      ]
    },
    {
      "cell_type": "code",
      "metadata": {
        "colab": {
          "base_uri": "https://localhost:8080/"
        },
        "id": "mkFgHHIFLbiI",
        "outputId": "2a961aac-2e6f-4355-d289-53a026b77afb"
      },
      "source": [
        "X_test.shape"
      ],
      "execution_count": null,
      "outputs": [
        {
          "output_type": "execute_result",
          "data": {
            "text/plain": [
              "(13564, 15)"
            ]
          },
          "metadata": {},
          "execution_count": 97
        }
      ]
    },
    {
      "cell_type": "code",
      "metadata": {
        "colab": {
          "base_uri": "https://localhost:8080/"
        },
        "id": "9v8p2lKNL5Sw",
        "outputId": "6a7c7379-266a-4e71-ce9c-01229fea0aa4"
      },
      "source": [
        "y_train.shape"
      ],
      "execution_count": null,
      "outputs": [
        {
          "output_type": "execute_result",
          "data": {
            "text/plain": [
              "(31647,)"
            ]
          },
          "metadata": {},
          "execution_count": 98
        }
      ]
    },
    {
      "cell_type": "code",
      "metadata": {
        "colab": {
          "base_uri": "https://localhost:8080/"
        },
        "id": "_-tgLuWaL8xX",
        "outputId": "0131fafa-9ba5-4ff0-9b65-401f181cc269"
      },
      "source": [
        "y_test.shape"
      ],
      "execution_count": null,
      "outputs": [
        {
          "output_type": "execute_result",
          "data": {
            "text/plain": [
              "(13564,)"
            ]
          },
          "metadata": {},
          "execution_count": 99
        }
      ]
    },
    {
      "cell_type": "markdown",
      "metadata": {
        "id": "VZXQy3LoE5CD"
      },
      "source": [
        "## <font color=\"#333F49\">**One-hot-encoding de las variables categóricas** <font>"
      ]
    },
    {
      "cell_type": "markdown",
      "metadata": {
        "id": "3meskpiJFLh7"
      },
      "source": [
        "Se aplica **one-hot-encoding** a las variables categóricas"
      ]
    },
    {
      "cell_type": "code",
      "metadata": {
        "colab": {
          "base_uri": "https://localhost:8080/"
        },
        "id": "F4Rz-FJ2MCLw",
        "outputId": "1e706789-1d05-42c8-db83-8c176eda2283"
      },
      "source": [
        "X_train.info()"
      ],
      "execution_count": null,
      "outputs": [
        {
          "output_type": "stream",
          "name": "stdout",
          "text": [
            "<class 'pandas.core.frame.DataFrame'>\n",
            "Int64Index: 31647 entries, 19100 to 15725\n",
            "Data columns (total 15 columns):\n",
            " #   Column             Non-Null Count  Dtype  \n",
            "---  ------             --------------  -----  \n",
            " 0   edad               31647 non-null  int64  \n",
            " 1   ocupacion          31647 non-null  float64\n",
            " 2   estadocivil        31647 non-null  object \n",
            " 3   estudios           31647 non-null  float64\n",
            " 4   descubierto        31647 non-null  int64  \n",
            " 5   saldoanual         31647 non-null  int64  \n",
            " 6   hipoteca           31647 non-null  int64  \n",
            " 7   prestamo           31647 non-null  int64  \n",
            " 8   canalcontacto      31647 non-null  object \n",
            " 9   dia                31647 non-null  int64  \n",
            " 10  mes                31647 non-null  object \n",
            " 11  duracion           31647 non-null  int64  \n",
            " 12  contactosactuales  31647 non-null  int64  \n",
            " 13  contactoanterior   31647 non-null  int64  \n",
            " 14  contactosprevios   31647 non-null  int64  \n",
            "dtypes: float64(2), int64(10), object(3)\n",
            "memory usage: 3.9+ MB\n"
          ]
        }
      ]
    },
    {
      "cell_type": "code",
      "metadata": {
        "colab": {
          "base_uri": "https://localhost:8080/"
        },
        "id": "vd1ODxtFPWFX",
        "outputId": "6b152ce0-209e-4e91-f568-410a1e67ca96"
      },
      "source": [
        "cat_cols = X_train.select_dtypes(include=\"object\").columns.to_list()\n",
        "cat_cols"
      ],
      "execution_count": null,
      "outputs": [
        {
          "output_type": "execute_result",
          "data": {
            "text/plain": [
              "['estadocivil', 'canalcontacto', 'mes']"
            ]
          },
          "metadata": {},
          "execution_count": 101
        }
      ]
    },
    {
      "cell_type": "code",
      "metadata": {
        "colab": {
          "base_uri": "https://localhost:8080/"
        },
        "id": "uMG0Qb1iPftL",
        "outputId": "3729a9fe-0083-4e31-d3d8-62cf981eed70"
      },
      "source": [
        "numeric_cols = X_train.select_dtypes(include=[\"float64\", \"int64\"]).columns.to_list()\n",
        "numeric_cols"
      ],
      "execution_count": null,
      "outputs": [
        {
          "output_type": "execute_result",
          "data": {
            "text/plain": [
              "['edad',\n",
              " 'ocupacion',\n",
              " 'estudios',\n",
              " 'descubierto',\n",
              " 'saldoanual',\n",
              " 'hipoteca',\n",
              " 'prestamo',\n",
              " 'dia',\n",
              " 'duracion',\n",
              " 'contactosactuales',\n",
              " 'contactoanterior',\n",
              " 'contactosprevios']"
            ]
          },
          "metadata": {},
          "execution_count": 102
        }
      ]
    },
    {
      "cell_type": "markdown",
      "metadata": {
        "id": "slOrLle0PmXn"
      },
      "source": [
        "Se aplica one-hot-encoding solo a las variables categóricas"
      ]
    },
    {
      "cell_type": "code",
      "metadata": {
        "id": "FGiL_IviPjBv"
      },
      "source": [
        "preprocessor = ColumnTransformer([(\"onehot\", OneHotEncoder(handle_unknown=\"ignore\"), \n",
        "                                   cat_cols)],remainder=\"passthrough\")\n"
      ],
      "execution_count": null,
      "outputs": []
    },
    {
      "cell_type": "code",
      "metadata": {
        "id": "PpiPyZAkP3wW"
      },
      "source": [
        "X_train_prep = preprocessor.fit_transform(X_train)\n",
        "X_test_prep  = preprocessor.fit_transform(X_test)"
      ],
      "execution_count": null,
      "outputs": []
    },
    {
      "cell_type": "code",
      "metadata": {
        "colab": {
          "base_uri": "https://localhost:8080/"
        },
        "id": "xBSMWRFzP-Pp",
        "outputId": "63fda69d-5289-4c6e-eba6-9f461ac9a8b7"
      },
      "source": [
        "X_train_prep"
      ],
      "execution_count": null,
      "outputs": [
        {
          "output_type": "execute_result",
          "data": {
            "text/plain": [
              "array([[  0.,   1.,   0., ...,   1.,  -1.,   0.],\n",
              "       [  1.,   0.,   0., ...,   2., 289.,  19.],\n",
              "       [  0.,   1.,   0., ...,   3.,  -1.,   0.],\n",
              "       ...,\n",
              "       [  0.,   1.,   0., ...,   1.,  -1.,   0.],\n",
              "       [  0.,   1.,   0., ...,   2.,  -1.,   0.],\n",
              "       [  0.,   0.,   1., ...,   4.,  -1.,   0.]])"
            ]
          },
          "metadata": {},
          "execution_count": 105
        }
      ]
    },
    {
      "cell_type": "markdown",
      "metadata": {
        "id": "VYXFgCWIR7BX"
      },
      "source": [
        "Se convierte el output del ColumnTransformer en dataframe y se añade el nombre de las columnas"
      ]
    },
    {
      "cell_type": "code",
      "metadata": {
        "colab": {
          "base_uri": "https://localhost:8080/"
        },
        "id": "xmMVnOSvP-Lo",
        "outputId": "2f83795c-8def-4fa4-bb7f-8f805e3f68c7"
      },
      "source": [
        "encoded_cat = preprocessor.named_transformers_[\"onehot\"].get_feature_names(cat_cols)\n",
        "labels = np.concatenate([encoded_cat,numeric_cols])\n",
        "labels"
      ],
      "execution_count": null,
      "outputs": [
        {
          "output_type": "execute_result",
          "data": {
            "text/plain": [
              "array(['estadocivil_divorced', 'estadocivil_married',\n",
              "       'estadocivil_single', 'canalcontacto_cellular',\n",
              "       'canalcontacto_others', 'canalcontacto_telephone', 'mes_apr',\n",
              "       'mes_aug', 'mes_dec', 'mes_feb', 'mes_jan', 'mes_jul', 'mes_jun',\n",
              "       'mes_mar', 'mes_may', 'mes_nov', 'mes_oct', 'mes_sep', 'edad',\n",
              "       'ocupacion', 'estudios', 'descubierto', 'saldoanual', 'hipoteca',\n",
              "       'prestamo', 'dia', 'duracion', 'contactosactuales',\n",
              "       'contactoanterior', 'contactosprevios'], dtype=object)"
            ]
          },
          "metadata": {},
          "execution_count": 106
        }
      ]
    },
    {
      "cell_type": "markdown",
      "metadata": {
        "id": "AXjaxNyeS7f9"
      },
      "source": [
        "## <font color=\"#333F49\">**Escala del vector de entrada** <font>"
      ]
    },
    {
      "cell_type": "code",
      "metadata": {
        "id": "vt1akytfP-Hu"
      },
      "source": [
        "from sklearn.preprocessing import StandardScaler"
      ],
      "execution_count": null,
      "outputs": []
    },
    {
      "cell_type": "code",
      "metadata": {
        "id": "oA8G7lO5P-EG"
      },
      "source": [
        "normalizacion = StandardScaler()"
      ],
      "execution_count": null,
      "outputs": []
    },
    {
      "cell_type": "code",
      "metadata": {
        "id": "pcb0NVEZU5cK"
      },
      "source": [
        "X_train_prep = normalizacion.fit_transform(X_train_prep)\n",
        "X_test_prep = normalizacion.transform(X_test_prep)"
      ],
      "execution_count": null,
      "outputs": []
    },
    {
      "cell_type": "code",
      "metadata": {
        "colab": {
          "base_uri": "https://localhost:8080/"
        },
        "id": "F4SVJCJgYFZc",
        "outputId": "5ba66f6f-8420-47ef-fc8f-a14434b43018"
      },
      "source": [
        "X_train_prep = pd.DataFrame(X_train_prep, columns=labels)\n",
        "X_test_prep  = pd.DataFrame(X_test_prep, columns=labels)\n",
        "X_train_prep.info()"
      ],
      "execution_count": null,
      "outputs": [
        {
          "output_type": "stream",
          "name": "stdout",
          "text": [
            "<class 'pandas.core.frame.DataFrame'>\n",
            "RangeIndex: 31647 entries, 0 to 31646\n",
            "Data columns (total 30 columns):\n",
            " #   Column                   Non-Null Count  Dtype  \n",
            "---  ------                   --------------  -----  \n",
            " 0   estadocivil_divorced     31647 non-null  float64\n",
            " 1   estadocivil_married      31647 non-null  float64\n",
            " 2   estadocivil_single       31647 non-null  float64\n",
            " 3   canalcontacto_cellular   31647 non-null  float64\n",
            " 4   canalcontacto_others     31647 non-null  float64\n",
            " 5   canalcontacto_telephone  31647 non-null  float64\n",
            " 6   mes_apr                  31647 non-null  float64\n",
            " 7   mes_aug                  31647 non-null  float64\n",
            " 8   mes_dec                  31647 non-null  float64\n",
            " 9   mes_feb                  31647 non-null  float64\n",
            " 10  mes_jan                  31647 non-null  float64\n",
            " 11  mes_jul                  31647 non-null  float64\n",
            " 12  mes_jun                  31647 non-null  float64\n",
            " 13  mes_mar                  31647 non-null  float64\n",
            " 14  mes_may                  31647 non-null  float64\n",
            " 15  mes_nov                  31647 non-null  float64\n",
            " 16  mes_oct                  31647 non-null  float64\n",
            " 17  mes_sep                  31647 non-null  float64\n",
            " 18  edad                     31647 non-null  float64\n",
            " 19  ocupacion                31647 non-null  float64\n",
            " 20  estudios                 31647 non-null  float64\n",
            " 21  descubierto              31647 non-null  float64\n",
            " 22  saldoanual               31647 non-null  float64\n",
            " 23  hipoteca                 31647 non-null  float64\n",
            " 24  prestamo                 31647 non-null  float64\n",
            " 25  dia                      31647 non-null  float64\n",
            " 26  duracion                 31647 non-null  float64\n",
            " 27  contactosactuales        31647 non-null  float64\n",
            " 28  contactoanterior         31647 non-null  float64\n",
            " 29  contactosprevios         31647 non-null  float64\n",
            "dtypes: float64(30)\n",
            "memory usage: 7.2 MB\n"
          ]
        }
      ]
    },
    {
      "cell_type": "code",
      "metadata": {
        "colab": {
          "base_uri": "https://localhost:8080/",
          "height": 444
        },
        "id": "YqafnU8MYYe8",
        "outputId": "552c3f1d-2d8a-4b58-b304-4ced0878959e"
      },
      "source": [
        "X_train_prep"
      ],
      "execution_count": null,
      "outputs": [
        {
          "output_type": "execute_result",
          "data": {
            "text/html": [
              "<div>\n",
              "<style scoped>\n",
              "    .dataframe tbody tr th:only-of-type {\n",
              "        vertical-align: middle;\n",
              "    }\n",
              "\n",
              "    .dataframe tbody tr th {\n",
              "        vertical-align: top;\n",
              "    }\n",
              "\n",
              "    .dataframe thead th {\n",
              "        text-align: right;\n",
              "    }\n",
              "</style>\n",
              "<table border=\"1\" class=\"dataframe\">\n",
              "  <thead>\n",
              "    <tr style=\"text-align: right;\">\n",
              "      <th></th>\n",
              "      <th>estadocivil_divorced</th>\n",
              "      <th>estadocivil_married</th>\n",
              "      <th>estadocivil_single</th>\n",
              "      <th>canalcontacto_cellular</th>\n",
              "      <th>canalcontacto_others</th>\n",
              "      <th>canalcontacto_telephone</th>\n",
              "      <th>mes_apr</th>\n",
              "      <th>mes_aug</th>\n",
              "      <th>mes_dec</th>\n",
              "      <th>mes_feb</th>\n",
              "      <th>mes_jan</th>\n",
              "      <th>mes_jul</th>\n",
              "      <th>mes_jun</th>\n",
              "      <th>mes_mar</th>\n",
              "      <th>mes_may</th>\n",
              "      <th>mes_nov</th>\n",
              "      <th>mes_oct</th>\n",
              "      <th>mes_sep</th>\n",
              "      <th>edad</th>\n",
              "      <th>ocupacion</th>\n",
              "      <th>estudios</th>\n",
              "      <th>descubierto</th>\n",
              "      <th>saldoanual</th>\n",
              "      <th>hipoteca</th>\n",
              "      <th>prestamo</th>\n",
              "      <th>dia</th>\n",
              "      <th>duracion</th>\n",
              "      <th>contactosactuales</th>\n",
              "      <th>contactoanterior</th>\n",
              "      <th>contactosprevios</th>\n",
              "    </tr>\n",
              "  </thead>\n",
              "  <tbody>\n",
              "    <tr>\n",
              "      <th>0</th>\n",
              "      <td>-0.363525</td>\n",
              "      <td>0.809270</td>\n",
              "      <td>-0.622087</td>\n",
              "      <td>0.740260</td>\n",
              "      <td>-0.637796</td>\n",
              "      <td>-0.263317</td>\n",
              "      <td>-0.264892</td>\n",
              "      <td>2.516780</td>\n",
              "      <td>-0.067609</td>\n",
              "      <td>-0.247882</td>\n",
              "      <td>-0.180263</td>\n",
              "      <td>-0.427293</td>\n",
              "      <td>-0.366416</td>\n",
              "      <td>-0.105138</td>\n",
              "      <td>-0.663033</td>\n",
              "      <td>-0.306828</td>\n",
              "      <td>-0.129251</td>\n",
              "      <td>-0.113143</td>\n",
              "      <td>0.944048</td>\n",
              "      <td>-0.280614</td>\n",
              "      <td>-0.216419</td>\n",
              "      <td>-0.135189</td>\n",
              "      <td>-0.381470</td>\n",
              "      <td>-1.117200</td>\n",
              "      <td>-0.435434</td>\n",
              "      <td>-1.299551</td>\n",
              "      <td>-0.107920</td>\n",
              "      <td>-0.569261</td>\n",
              "      <td>-0.411752</td>\n",
              "      <td>-0.239683</td>\n",
              "    </tr>\n",
              "    <tr>\n",
              "      <th>1</th>\n",
              "      <td>2.750843</td>\n",
              "      <td>-1.235681</td>\n",
              "      <td>-0.622087</td>\n",
              "      <td>0.740260</td>\n",
              "      <td>-0.637796</td>\n",
              "      <td>-0.263317</td>\n",
              "      <td>-0.264892</td>\n",
              "      <td>-0.397333</td>\n",
              "      <td>-0.067609</td>\n",
              "      <td>-0.247882</td>\n",
              "      <td>-0.180263</td>\n",
              "      <td>-0.427293</td>\n",
              "      <td>-0.366416</td>\n",
              "      <td>-0.105138</td>\n",
              "      <td>1.508221</td>\n",
              "      <td>-0.306828</td>\n",
              "      <td>-0.129251</td>\n",
              "      <td>-0.113143</td>\n",
              "      <td>0.849863</td>\n",
              "      <td>-0.280614</td>\n",
              "      <td>-0.216419</td>\n",
              "      <td>-0.135189</td>\n",
              "      <td>-0.415590</td>\n",
              "      <td>0.895095</td>\n",
              "      <td>2.296560</td>\n",
              "      <td>-0.217397</td>\n",
              "      <td>0.415751</td>\n",
              "      <td>-0.245906</td>\n",
              "      <td>2.480854</td>\n",
              "      <td>7.592472</td>\n",
              "    </tr>\n",
              "    <tr>\n",
              "      <th>2</th>\n",
              "      <td>-0.363525</td>\n",
              "      <td>0.809270</td>\n",
              "      <td>-0.622087</td>\n",
              "      <td>-1.350877</td>\n",
              "      <td>1.567900</td>\n",
              "      <td>-0.263317</td>\n",
              "      <td>-0.264892</td>\n",
              "      <td>-0.397333</td>\n",
              "      <td>-0.067609</td>\n",
              "      <td>-0.247882</td>\n",
              "      <td>-0.180263</td>\n",
              "      <td>2.340316</td>\n",
              "      <td>-0.366416</td>\n",
              "      <td>-0.105138</td>\n",
              "      <td>-0.663033</td>\n",
              "      <td>-0.306828</td>\n",
              "      <td>-0.129251</td>\n",
              "      <td>-0.113143</td>\n",
              "      <td>-0.186163</td>\n",
              "      <td>-0.669993</td>\n",
              "      <td>-0.216419</td>\n",
              "      <td>-0.135189</td>\n",
              "      <td>-0.135006</td>\n",
              "      <td>0.895095</td>\n",
              "      <td>2.296560</td>\n",
              "      <td>-1.780508</td>\n",
              "      <td>0.816204</td>\n",
              "      <td>0.077449</td>\n",
              "      <td>-0.411752</td>\n",
              "      <td>-0.239683</td>\n",
              "    </tr>\n",
              "    <tr>\n",
              "      <th>3</th>\n",
              "      <td>2.750843</td>\n",
              "      <td>-1.235681</td>\n",
              "      <td>-0.622087</td>\n",
              "      <td>0.740260</td>\n",
              "      <td>-0.637796</td>\n",
              "      <td>-0.263317</td>\n",
              "      <td>-0.264892</td>\n",
              "      <td>-0.397333</td>\n",
              "      <td>-0.067609</td>\n",
              "      <td>-0.247882</td>\n",
              "      <td>-0.180263</td>\n",
              "      <td>2.340316</td>\n",
              "      <td>-0.366416</td>\n",
              "      <td>-0.105138</td>\n",
              "      <td>-0.663033</td>\n",
              "      <td>-0.306828</td>\n",
              "      <td>-0.129251</td>\n",
              "      <td>-0.113143</td>\n",
              "      <td>1.697522</td>\n",
              "      <td>1.276904</td>\n",
              "      <td>1.314087</td>\n",
              "      <td>-0.135189</td>\n",
              "      <td>-0.456668</td>\n",
              "      <td>0.895095</td>\n",
              "      <td>-0.435434</td>\n",
              "      <td>1.826670</td>\n",
              "      <td>-0.797163</td>\n",
              "      <td>1.694225</td>\n",
              "      <td>-0.411752</td>\n",
              "      <td>-0.239683</td>\n",
              "    </tr>\n",
              "    <tr>\n",
              "      <th>4</th>\n",
              "      <td>-0.363525</td>\n",
              "      <td>0.809270</td>\n",
              "      <td>-0.622087</td>\n",
              "      <td>-1.350877</td>\n",
              "      <td>1.567900</td>\n",
              "      <td>-0.263317</td>\n",
              "      <td>-0.264892</td>\n",
              "      <td>-0.397333</td>\n",
              "      <td>-0.067609</td>\n",
              "      <td>-0.247882</td>\n",
              "      <td>-0.180263</td>\n",
              "      <td>-0.427293</td>\n",
              "      <td>-0.366416</td>\n",
              "      <td>-0.105138</td>\n",
              "      <td>1.508221</td>\n",
              "      <td>-0.306828</td>\n",
              "      <td>-0.129251</td>\n",
              "      <td>-0.113143</td>\n",
              "      <td>-0.845453</td>\n",
              "      <td>-1.059373</td>\n",
              "      <td>-0.216419</td>\n",
              "      <td>-0.135189</td>\n",
              "      <td>-0.372194</td>\n",
              "      <td>0.895095</td>\n",
              "      <td>2.296560</td>\n",
              "      <td>0.624278</td>\n",
              "      <td>-0.666245</td>\n",
              "      <td>-0.245906</td>\n",
              "      <td>-0.411752</td>\n",
              "      <td>-0.239683</td>\n",
              "    </tr>\n",
              "    <tr>\n",
              "      <th>...</th>\n",
              "      <td>...</td>\n",
              "      <td>...</td>\n",
              "      <td>...</td>\n",
              "      <td>...</td>\n",
              "      <td>...</td>\n",
              "      <td>...</td>\n",
              "      <td>...</td>\n",
              "      <td>...</td>\n",
              "      <td>...</td>\n",
              "      <td>...</td>\n",
              "      <td>...</td>\n",
              "      <td>...</td>\n",
              "      <td>...</td>\n",
              "      <td>...</td>\n",
              "      <td>...</td>\n",
              "      <td>...</td>\n",
              "      <td>...</td>\n",
              "      <td>...</td>\n",
              "      <td>...</td>\n",
              "      <td>...</td>\n",
              "      <td>...</td>\n",
              "      <td>...</td>\n",
              "      <td>...</td>\n",
              "      <td>...</td>\n",
              "      <td>...</td>\n",
              "      <td>...</td>\n",
              "      <td>...</td>\n",
              "      <td>...</td>\n",
              "      <td>...</td>\n",
              "      <td>...</td>\n",
              "    </tr>\n",
              "    <tr>\n",
              "      <th>31642</th>\n",
              "      <td>-0.363525</td>\n",
              "      <td>0.809270</td>\n",
              "      <td>-0.622087</td>\n",
              "      <td>-1.350877</td>\n",
              "      <td>1.567900</td>\n",
              "      <td>-0.263317</td>\n",
              "      <td>-0.264892</td>\n",
              "      <td>-0.397333</td>\n",
              "      <td>-0.067609</td>\n",
              "      <td>-0.247882</td>\n",
              "      <td>-0.180263</td>\n",
              "      <td>-0.427293</td>\n",
              "      <td>-0.366416</td>\n",
              "      <td>-0.105138</td>\n",
              "      <td>1.508221</td>\n",
              "      <td>-0.306828</td>\n",
              "      <td>-0.129251</td>\n",
              "      <td>-0.113143</td>\n",
              "      <td>0.849863</td>\n",
              "      <td>-2.227511</td>\n",
              "      <td>-0.216419</td>\n",
              "      <td>-0.135189</td>\n",
              "      <td>0.760413</td>\n",
              "      <td>0.895095</td>\n",
              "      <td>-0.435434</td>\n",
              "      <td>1.706431</td>\n",
              "      <td>2.414169</td>\n",
              "      <td>0.077449</td>\n",
              "      <td>-0.411752</td>\n",
              "      <td>-0.239683</td>\n",
              "    </tr>\n",
              "    <tr>\n",
              "      <th>31643</th>\n",
              "      <td>-0.363525</td>\n",
              "      <td>0.809270</td>\n",
              "      <td>-0.622087</td>\n",
              "      <td>0.740260</td>\n",
              "      <td>-0.637796</td>\n",
              "      <td>-0.263317</td>\n",
              "      <td>-0.264892</td>\n",
              "      <td>-0.397333</td>\n",
              "      <td>-0.067609</td>\n",
              "      <td>-0.247882</td>\n",
              "      <td>-0.180263</td>\n",
              "      <td>2.340316</td>\n",
              "      <td>-0.366416</td>\n",
              "      <td>-0.105138</td>\n",
              "      <td>-0.663033</td>\n",
              "      <td>-0.306828</td>\n",
              "      <td>-0.129251</td>\n",
              "      <td>-0.113143</td>\n",
              "      <td>-0.468716</td>\n",
              "      <td>1.276904</td>\n",
              "      <td>1.314087</td>\n",
              "      <td>-0.135189</td>\n",
              "      <td>-0.246312</td>\n",
              "      <td>0.895095</td>\n",
              "      <td>-0.435434</td>\n",
              "      <td>0.263560</td>\n",
              "      <td>0.384946</td>\n",
              "      <td>-0.569261</td>\n",
              "      <td>-0.411752</td>\n",
              "      <td>-0.239683</td>\n",
              "    </tr>\n",
              "    <tr>\n",
              "      <th>31644</th>\n",
              "      <td>-0.363525</td>\n",
              "      <td>0.809270</td>\n",
              "      <td>-0.622087</td>\n",
              "      <td>-1.350877</td>\n",
              "      <td>-0.637796</td>\n",
              "      <td>3.797699</td>\n",
              "      <td>-0.264892</td>\n",
              "      <td>-0.397333</td>\n",
              "      <td>-0.067609</td>\n",
              "      <td>-0.247882</td>\n",
              "      <td>-0.180263</td>\n",
              "      <td>2.340316</td>\n",
              "      <td>-0.366416</td>\n",
              "      <td>-0.105138</td>\n",
              "      <td>-0.663033</td>\n",
              "      <td>-0.306828</td>\n",
              "      <td>-0.129251</td>\n",
              "      <td>-0.113143</td>\n",
              "      <td>0.190574</td>\n",
              "      <td>-0.669993</td>\n",
              "      <td>-1.746925</td>\n",
              "      <td>-0.135189</td>\n",
              "      <td>0.757100</td>\n",
              "      <td>-1.117200</td>\n",
              "      <td>-0.435434</td>\n",
              "      <td>1.586192</td>\n",
              "      <td>0.057652</td>\n",
              "      <td>-0.569261</td>\n",
              "      <td>-0.411752</td>\n",
              "      <td>-0.239683</td>\n",
              "    </tr>\n",
              "    <tr>\n",
              "      <th>31645</th>\n",
              "      <td>-0.363525</td>\n",
              "      <td>0.809270</td>\n",
              "      <td>-0.622087</td>\n",
              "      <td>-1.350877</td>\n",
              "      <td>-0.637796</td>\n",
              "      <td>3.797699</td>\n",
              "      <td>-0.264892</td>\n",
              "      <td>-0.397333</td>\n",
              "      <td>-0.067609</td>\n",
              "      <td>-0.247882</td>\n",
              "      <td>5.547441</td>\n",
              "      <td>-0.427293</td>\n",
              "      <td>-0.366416</td>\n",
              "      <td>-0.105138</td>\n",
              "      <td>-0.663033</td>\n",
              "      <td>-0.306828</td>\n",
              "      <td>-0.129251</td>\n",
              "      <td>-0.113143</td>\n",
              "      <td>1.320785</td>\n",
              "      <td>-2.227511</td>\n",
              "      <td>-1.746925</td>\n",
              "      <td>-0.135189</td>\n",
              "      <td>2.387273</td>\n",
              "      <td>-1.117200</td>\n",
              "      <td>-0.435434</td>\n",
              "      <td>1.465952</td>\n",
              "      <td>-0.223435</td>\n",
              "      <td>-0.245906</td>\n",
              "      <td>-0.411752</td>\n",
              "      <td>-0.239683</td>\n",
              "    </tr>\n",
              "    <tr>\n",
              "      <th>31646</th>\n",
              "      <td>-0.363525</td>\n",
              "      <td>-1.235681</td>\n",
              "      <td>1.607492</td>\n",
              "      <td>0.740260</td>\n",
              "      <td>-0.637796</td>\n",
              "      <td>-0.263317</td>\n",
              "      <td>-0.264892</td>\n",
              "      <td>-0.397333</td>\n",
              "      <td>-0.067609</td>\n",
              "      <td>-0.247882</td>\n",
              "      <td>-0.180263</td>\n",
              "      <td>2.340316</td>\n",
              "      <td>-0.366416</td>\n",
              "      <td>-0.105138</td>\n",
              "      <td>-0.663033</td>\n",
              "      <td>-0.306828</td>\n",
              "      <td>-0.129251</td>\n",
              "      <td>-0.113143</td>\n",
              "      <td>0.473126</td>\n",
              "      <td>1.276904</td>\n",
              "      <td>1.314087</td>\n",
              "      <td>-0.135189</td>\n",
              "      <td>0.256885</td>\n",
              "      <td>0.895095</td>\n",
              "      <td>-0.435434</td>\n",
              "      <td>0.624278</td>\n",
              "      <td>-0.662394</td>\n",
              "      <td>0.400804</td>\n",
              "      <td>-0.411752</td>\n",
              "      <td>-0.239683</td>\n",
              "    </tr>\n",
              "  </tbody>\n",
              "</table>\n",
              "<p>31647 rows × 30 columns</p>\n",
              "</div>"
            ],
            "text/plain": [
              "       estadocivil_divorced  ...  contactosprevios\n",
              "0                 -0.363525  ...         -0.239683\n",
              "1                  2.750843  ...          7.592472\n",
              "2                 -0.363525  ...         -0.239683\n",
              "3                  2.750843  ...         -0.239683\n",
              "4                 -0.363525  ...         -0.239683\n",
              "...                     ...  ...               ...\n",
              "31642             -0.363525  ...         -0.239683\n",
              "31643             -0.363525  ...         -0.239683\n",
              "31644             -0.363525  ...         -0.239683\n",
              "31645             -0.363525  ...         -0.239683\n",
              "31646             -0.363525  ...         -0.239683\n",
              "\n",
              "[31647 rows x 30 columns]"
            ]
          },
          "metadata": {},
          "execution_count": 111
        }
      ]
    },
    {
      "cell_type": "markdown",
      "metadata": {
        "id": "y9c3DEH-ZG5T"
      },
      "source": [
        "#<font color=\"#f89938\"><h10>**Random Forest Classifier** <font>\n"
      ]
    },
    {
      "cell_type": "markdown",
      "metadata": {
        "id": "zoxNYcwjZmca"
      },
      "source": [
        "Es un metaestimador que se ajusta a una serie de clasificadores de árboles de decisión en varias submuestras del conjunto de datos y utiliza promedios para mejorar la precisión predictiva y controlar el sobreajuste"
      ]
    },
    {
      "cell_type": "markdown",
      "metadata": {
        "id": "ER-xmtBZaCcU"
      },
      "source": [
        "## <font color=\"#333F49\">**Parametrización del algoritmo** <font>"
      ]
    },
    {
      "cell_type": "code",
      "metadata": {
        "id": "UcfR0g2yZ-Ls"
      },
      "source": [
        "modelo = RandomForestClassifier(bootstrap=False, ccp_alpha=0.0,\n",
        "                                class_weight='balanced_subsample',\n",
        "                                criterion='gini', max_depth=4,\n",
        "                                max_features='sqrt',\n",
        "                                max_leaf_nodes=None, max_samples=None,\n",
        "                                min_impurity_decrease=0.0005,\n",
        "                                min_impurity_split=None,\n",
        "                                min_samples_leaf=3, min_samples_split=5,\n",
        "                                min_weight_fraction_leaf=0.0,\n",
        "                                n_estimators=260, n_jobs=-1,\n",
        "                                oob_score=False, random_state=123,\n",
        "                                verbose=0, warm_start=False)"
      ],
      "execution_count": null,
      "outputs": []
    },
    {
      "cell_type": "markdown",
      "metadata": {
        "id": "of3wScqJdUvK"
      },
      "source": [
        "## <font color=\"#333F49\">**Entrenamiento del modelo** <font>"
      ]
    },
    {
      "cell_type": "code",
      "metadata": {
        "colab": {
          "base_uri": "https://localhost:8080/"
        },
        "id": "s5u5ofFQbgOl",
        "outputId": "3da64228-b7f9-41e5-9fa1-d9f6d9dc6859"
      },
      "source": [
        "modelo.fit(X_train_prep, y_train)"
      ],
      "execution_count": null,
      "outputs": [
        {
          "output_type": "execute_result",
          "data": {
            "text/plain": [
              "RandomForestClassifier(bootstrap=False, class_weight='balanced_subsample',\n",
              "                       max_depth=4, max_features='sqrt',\n",
              "                       min_impurity_decrease=0.0005, min_samples_leaf=3,\n",
              "                       min_samples_split=5, n_estimators=260, n_jobs=-1,\n",
              "                       random_state=123)"
            ]
          },
          "metadata": {},
          "execution_count": 113
        }
      ]
    },
    {
      "cell_type": "markdown",
      "metadata": {
        "id": "wS83XS4Vdg8P"
      },
      "source": [
        "## <font color=\"#333F49\">**Predicción** <font>"
      ]
    },
    {
      "cell_type": "code",
      "metadata": {
        "id": "pKfwX8r1drN4"
      },
      "source": [
        "y_pred = modelo.predict(X_test_prep)"
      ],
      "execution_count": null,
      "outputs": []
    },
    {
      "cell_type": "markdown",
      "metadata": {
        "id": "1sKpXbiQdzC3"
      },
      "source": [
        "## <font color=\"#333F49\">**Matriz de confusión** <font>"
      ]
    },
    {
      "cell_type": "code",
      "metadata": {
        "colab": {
          "base_uri": "https://localhost:8080/",
          "height": 280
        },
        "id": "TwDV_6UqeB7F",
        "outputId": "4532c582-4e13-4a36-b4e5-e4029665e574"
      },
      "source": [
        "metrics.plot_confusion_matrix(modelo, X_test_prep, y_test);"
      ],
      "execution_count": null,
      "outputs": [
        {
          "output_type": "display_data",
          "data": {
            "image/png": "[encoded data removed]",
            "text/plain": [
              "<Figure size 432x288 with 2 Axes>"
            ]
          },
          "metadata": {
            "needs_background": "light"
          }
        }
      ]
    },
    {
      "cell_type": "markdown",
      "metadata": {
        "id": "2mxTrDDxeYfQ"
      },
      "source": [
        "## <font color=\"#333F49\">**Matriz de confusión** <font>"
      ]
    },
    {
      "cell_type": "code",
      "metadata": {
        "colab": {
          "base_uri": "https://localhost:8080/",
          "height": 279
        },
        "id": "fXHHyZOjeU2g",
        "outputId": "6dfc4962-319c-4efb-a55b-2488cb040d99"
      },
      "source": [
        "metrics.plot_roc_curve(modelo, X_test_prep, y_test);"
      ],
      "execution_count": null,
      "outputs": [
        {
          "output_type": "display_data",
          "data": {
            "image/png": "[encoded data removed]",
            "text/plain": [
              "<Figure size 432x288 with 1 Axes>"
            ]
          },
          "metadata": {
            "needs_background": "light"
          }
        }
      ]
    },
    {
      "cell_type": "markdown",
      "metadata": {
        "id": "eeA0TbGBe6Mv"
      },
      "source": [
        "## <font color=\"#333F49\">**Métricas** <font>"
      ]
    },
    {
      "cell_type": "code",
      "metadata": {
        "colab": {
          "base_uri": "https://localhost:8080/"
        },
        "id": "CE6_LxlNea_I",
        "outputId": "0ab8bedd-a37d-47f5-cbf8-8f79be77bacd"
      },
      "source": [
        "reporte = metrics.classification_report(y_test, y_pred)\n",
        "print(reporte)"
      ],
      "execution_count": null,
      "outputs": [
        {
          "output_type": "stream",
          "name": "stdout",
          "text": [
            "              precision    recall  f1-score   support\n",
            "\n",
            "           0       0.97      0.76      0.85     11998\n",
            "           1       0.31      0.83      0.45      1566\n",
            "\n",
            "    accuracy                           0.77     13564\n",
            "   macro avg       0.64      0.79      0.65     13564\n",
            "weighted avg       0.90      0.77      0.81     13564\n",
            "\n"
          ]
        }
      ]
    },
    {
      "cell_type": "markdown",
      "metadata": {
        "id": "LdWmxFujfK5f"
      },
      "source": [
        "**El modelo inicial es capaz de predecir correctamente un 77% de las observaciones del conjunto de datos de prueba**"
      ]
    },
    {
      "cell_type": "markdown",
      "metadata": {
        "id": "JNDG2wMMfbtI"
      },
      "source": [
        "## <font color=\"#333F49\">**Podado del árbol - pruning** <font>"
      ]
    },
    {
      "cell_type": "markdown",
      "metadata": {
        "id": "rBLgP1zsfx8e"
      },
      "source": [
        "### ¿En qué consiste el pruning?\n",
        "\n",
        "Identificar la profundidad óptima en la que se consigue reducir la varianza y aumentar la capacidad predictiva del modelo"
      ]
    },
    {
      "cell_type": "code",
      "metadata": {
        "id": "bV2T3gIOfADz"
      },
      "source": [
        "param_grid = {\"ccp_alpha\":np.linspace(0, 5, 10)}"
      ],
      "execution_count": null,
      "outputs": []
    },
    {
      "cell_type": "markdown",
      "metadata": {
        "id": "0278cSKwhG6O"
      },
      "source": [
        "### Búsqueda por validación cruzada"
      ]
    },
    {
      "cell_type": "code",
      "metadata": {
        "id": "qK5F598de_-i"
      },
      "source": [
        "grid = GridSearchCV(estimator = RandomForestClassifier(max_depth = None,\n",
        "                                                       min_samples_split = 2,\n",
        "                                                       min_samples_leaf  = 1,\n",
        "                                                       random_state      = 123),\n",
        "                    param_grid = param_grid,\n",
        "                    scoring    = 'recall',\n",
        "                    cv         = 10,\n",
        "                    refit      = True,\n",
        "                    return_train_score = True)"
      ],
      "execution_count": null,
      "outputs": []
    },
    {
      "cell_type": "code",
      "metadata": {
        "colab": {
          "base_uri": "https://localhost:8080/"
        },
        "id": "F6xgrq21e_5g",
        "outputId": "4da1b79b-460a-4bba-c1b5-79acec3b551b"
      },
      "source": [
        "grid.fit(X_train_prep, y_train)"
      ],
      "execution_count": null,
      "outputs": [
        {
          "output_type": "execute_result",
          "data": {
            "text/plain": [
              "GridSearchCV(cv=10, estimator=RandomForestClassifier(random_state=123),\n",
              "             param_grid={'ccp_alpha': array([0.        , 0.55555556, 1.11111111, 1.66666667, 2.22222222,\n",
              "       2.77777778, 3.33333333, 3.88888889, 4.44444444, 5.        ])},\n",
              "             return_train_score=True, scoring='recall')"
            ]
          },
          "metadata": {},
          "execution_count": 130
        }
      ]
    },
    {
      "cell_type": "markdown",
      "metadata": {
        "id": "btb7gNYWhrkH"
      },
      "source": [
        "### Graficando el resultado "
      ]
    },
    {
      "cell_type": "code",
      "metadata": {
        "colab": {
          "base_uri": "https://localhost:8080/",
          "height": 288
        },
        "id": "4EpttNQ9e_1t",
        "outputId": "0401a3b6-078e-4d18-d55e-9418acfe14df"
      },
      "source": [
        "fig, ax = plt.subplots(figsize=(6, 3.84))\n",
        "scores = pd.DataFrame(grid.cv_results_)\n",
        "scores.plot(x='param_ccp_alpha', y='mean_train_score', yerr='std_train_score', ax=ax)\n",
        "scores.plot(x='param_ccp_alpha', y='mean_test_score', yerr='std_test_score', ax=ax)\n",
        "ax.set_title(\"Error de validacion cruzada vs hiperparámetro ccp_alpha\");"
      ],
      "execution_count": null,
      "outputs": [
        {
          "output_type": "display_data",
          "data": {
            "image/png": "[encoded data removed]",
            "text/plain": [
              "<Figure size 432x276.48 with 1 Axes>"
            ]
          },
          "metadata": {
            "needs_background": "light"
          }
        }
      ]
    },
    {
      "cell_type": "markdown",
      "metadata": {
        "id": "IvGocFoTh6W-"
      },
      "source": [
        "### Mejor valor encontrado"
      ]
    },
    {
      "cell_type": "code",
      "metadata": {
        "colab": {
          "base_uri": "https://localhost:8080/"
        },
        "id": "xwscSdcbe_x5",
        "outputId": "66d2ba9d-13d2-4614-be60-518a4185c4d4"
      },
      "source": [
        "grid.best_params_"
      ],
      "execution_count": null,
      "outputs": [
        {
          "output_type": "execute_result",
          "data": {
            "text/plain": [
              "{'ccp_alpha': 0.0}"
            ]
          },
          "metadata": {},
          "execution_count": 132
        }
      ]
    },
    {
      "cell_type": "markdown",
      "metadata": {
        "id": "rgqIi2m9iK7O"
      },
      "source": [
        "### Modelo final"
      ]
    },
    {
      "cell_type": "code",
      "metadata": {
        "id": "qN7SbnPCe_tz"
      },
      "source": [
        "modelo_final = grid.best_estimator_\n"
      ],
      "execution_count": null,
      "outputs": []
    },
    {
      "cell_type": "markdown",
      "metadata": {
        "id": "jXUMYk6oiP0l"
      },
      "source": [
        "### Predicción y evaluación del modelo final"
      ]
    },
    {
      "cell_type": "code",
      "metadata": {
        "id": "zXQvZHK5e_p_"
      },
      "source": [
        "y_pred_final = modelo_final.predict(X_test_prep)"
      ],
      "execution_count": null,
      "outputs": []
    },
    {
      "cell_type": "markdown",
      "metadata": {
        "id": "_CyiGnJtiemF"
      },
      "source": [
        "### Matriz de confusión"
      ]
    },
    {
      "cell_type": "code",
      "metadata": {
        "colab": {
          "base_uri": "https://localhost:8080/",
          "height": 279
        },
        "id": "jVxRS7Tbiojm",
        "outputId": "b0343747-2777-4b87-ee53-2ce2fc41a8a0"
      },
      "source": [
        "metrics.plot_confusion_matrix(modelo_final, X_test_prep, y_test);"
      ],
      "execution_count": null,
      "outputs": [
        {
          "output_type": "display_data",
          "data": {
            "image/png": "[encoded data removed]",
            "text/plain": [
              "<Figure size 432x288 with 2 Axes>"
            ]
          },
          "metadata": {
            "needs_background": "light"
          }
        }
      ]
    },
    {
      "cell_type": "markdown",
      "metadata": {
        "id": "QS3evEkJix0-"
      },
      "source": [
        "### Métricas"
      ]
    },
    {
      "cell_type": "code",
      "metadata": {
        "colab": {
          "base_uri": "https://localhost:8080/"
        },
        "id": "E3YxBxlgi4i4",
        "outputId": "d80000f9-c54e-4918-e4c9-69e684ad49ca"
      },
      "source": [
        "reporte = metrics.classification_report(y_test, y_pred_final)\n",
        "print(reporte)"
      ],
      "execution_count": null,
      "outputs": [
        {
          "output_type": "stream",
          "name": "stdout",
          "text": [
            "              precision    recall  f1-score   support\n",
            "\n",
            "           0       0.92      0.97      0.95     11998\n",
            "           1       0.61      0.39      0.47      1566\n",
            "\n",
            "    accuracy                           0.90     13564\n",
            "   macro avg       0.77      0.68      0.71     13564\n",
            "weighted avg       0.89      0.90      0.89     13564\n",
            "\n"
          ]
        }
      ]
    },
    {
      "cell_type": "markdown",
      "metadata": {
        "id": "G1HJZxRHjDi1"
      },
      "source": [
        "Con el **pruning** hemos ganado en exactitud, pasado de un 77% a un 90%, **pero**, no es menos cierto que, con este proceso, **perdemos bastante en exhaustividad**. "
      ]
    },
    {
      "cell_type": "markdown",
      "metadata": {
        "id": "L3CtWELwkmLN"
      },
      "source": [
        "## <font color=\"#333F49\">**Importancia de las variables del vector de entrada** <font> "
      ]
    },
    {
      "cell_type": "markdown",
      "metadata": {
        "id": "4Wz_bTPFli7k"
      },
      "source": [
        "Dado el descenso en la **exhaustividad** del modelo implementado a partir del proceso de pruning, nos centramos en la importancia del modelo inicial"
      ]
    },
    {
      "cell_type": "code",
      "metadata": {
        "colab": {
          "base_uri": "https://localhost:8080/",
          "height": 1000
        },
        "id": "jll_G6jvk6dl",
        "outputId": "1d5ff2be-8175-421e-a2d9-b3f5fcce60f9"
      },
      "source": [
        "print(\"Importancia de las variables en el modelo\")\n",
        "print(\"-----------------------------------------\")\n",
        "importancia_variables = pd.DataFrame({'variable': labels.tolist(),\n",
        "                                      'importancia': modelo.feature_importances_})\n",
        "\n",
        "importancia_variables.sort_values('importancia', ascending=False)"
      ],
      "execution_count": null,
      "outputs": [
        {
          "output_type": "stream",
          "name": "stdout",
          "text": [
            "Importancia de las variables en el modelo\n",
            "-----------------------------------------\n"
          ]
        },
        {
          "output_type": "execute_result",
          "data": {
            "text/html": [
              "<div>\n",
              "<style scoped>\n",
              "    .dataframe tbody tr th:only-of-type {\n",
              "        vertical-align: middle;\n",
              "    }\n",
              "\n",
              "    .dataframe tbody tr th {\n",
              "        vertical-align: top;\n",
              "    }\n",
              "\n",
              "    .dataframe thead th {\n",
              "        text-align: right;\n",
              "    }\n",
              "</style>\n",
              "<table border=\"1\" class=\"dataframe\">\n",
              "  <thead>\n",
              "    <tr style=\"text-align: right;\">\n",
              "      <th></th>\n",
              "      <th>variable</th>\n",
              "      <th>importancia</th>\n",
              "    </tr>\n",
              "  </thead>\n",
              "  <tbody>\n",
              "    <tr>\n",
              "      <th>26</th>\n",
              "      <td>duracion</td>\n",
              "      <td>0.439651</td>\n",
              "    </tr>\n",
              "    <tr>\n",
              "      <th>4</th>\n",
              "      <td>canalcontacto_others</td>\n",
              "      <td>0.112068</td>\n",
              "    </tr>\n",
              "    <tr>\n",
              "      <th>28</th>\n",
              "      <td>contactoanterior</td>\n",
              "      <td>0.081802</td>\n",
              "    </tr>\n",
              "    <tr>\n",
              "      <th>29</th>\n",
              "      <td>contactosprevios</td>\n",
              "      <td>0.072259</td>\n",
              "    </tr>\n",
              "    <tr>\n",
              "      <th>23</th>\n",
              "      <td>hipoteca</td>\n",
              "      <td>0.059385</td>\n",
              "    </tr>\n",
              "    <tr>\n",
              "      <th>3</th>\n",
              "      <td>canalcontacto_cellular</td>\n",
              "      <td>0.054511</td>\n",
              "    </tr>\n",
              "    <tr>\n",
              "      <th>18</th>\n",
              "      <td>edad</td>\n",
              "      <td>0.039810</td>\n",
              "    </tr>\n",
              "    <tr>\n",
              "      <th>22</th>\n",
              "      <td>saldoanual</td>\n",
              "      <td>0.020781</td>\n",
              "    </tr>\n",
              "    <tr>\n",
              "      <th>14</th>\n",
              "      <td>mes_may</td>\n",
              "      <td>0.019660</td>\n",
              "    </tr>\n",
              "    <tr>\n",
              "      <th>13</th>\n",
              "      <td>mes_mar</td>\n",
              "      <td>0.016347</td>\n",
              "    </tr>\n",
              "    <tr>\n",
              "      <th>16</th>\n",
              "      <td>mes_oct</td>\n",
              "      <td>0.016182</td>\n",
              "    </tr>\n",
              "    <tr>\n",
              "      <th>27</th>\n",
              "      <td>contactosactuales</td>\n",
              "      <td>0.008827</td>\n",
              "    </tr>\n",
              "    <tr>\n",
              "      <th>17</th>\n",
              "      <td>mes_sep</td>\n",
              "      <td>0.008345</td>\n",
              "    </tr>\n",
              "    <tr>\n",
              "      <th>6</th>\n",
              "      <td>mes_apr</td>\n",
              "      <td>0.007119</td>\n",
              "    </tr>\n",
              "    <tr>\n",
              "      <th>24</th>\n",
              "      <td>prestamo</td>\n",
              "      <td>0.005986</td>\n",
              "    </tr>\n",
              "    <tr>\n",
              "      <th>12</th>\n",
              "      <td>mes_jun</td>\n",
              "      <td>0.005567</td>\n",
              "    </tr>\n",
              "    <tr>\n",
              "      <th>25</th>\n",
              "      <td>dia</td>\n",
              "      <td>0.004966</td>\n",
              "    </tr>\n",
              "    <tr>\n",
              "      <th>5</th>\n",
              "      <td>canalcontacto_telephone</td>\n",
              "      <td>0.004476</td>\n",
              "    </tr>\n",
              "    <tr>\n",
              "      <th>11</th>\n",
              "      <td>mes_jul</td>\n",
              "      <td>0.004381</td>\n",
              "    </tr>\n",
              "    <tr>\n",
              "      <th>2</th>\n",
              "      <td>estadocivil_single</td>\n",
              "      <td>0.004004</td>\n",
              "    </tr>\n",
              "    <tr>\n",
              "      <th>19</th>\n",
              "      <td>ocupacion</td>\n",
              "      <td>0.003441</td>\n",
              "    </tr>\n",
              "    <tr>\n",
              "      <th>1</th>\n",
              "      <td>estadocivil_married</td>\n",
              "      <td>0.002894</td>\n",
              "    </tr>\n",
              "    <tr>\n",
              "      <th>20</th>\n",
              "      <td>estudios</td>\n",
              "      <td>0.002309</td>\n",
              "    </tr>\n",
              "    <tr>\n",
              "      <th>7</th>\n",
              "      <td>mes_aug</td>\n",
              "      <td>0.002280</td>\n",
              "    </tr>\n",
              "    <tr>\n",
              "      <th>15</th>\n",
              "      <td>mes_nov</td>\n",
              "      <td>0.001949</td>\n",
              "    </tr>\n",
              "    <tr>\n",
              "      <th>10</th>\n",
              "      <td>mes_jan</td>\n",
              "      <td>0.000582</td>\n",
              "    </tr>\n",
              "    <tr>\n",
              "      <th>9</th>\n",
              "      <td>mes_feb</td>\n",
              "      <td>0.000299</td>\n",
              "    </tr>\n",
              "    <tr>\n",
              "      <th>8</th>\n",
              "      <td>mes_dec</td>\n",
              "      <td>0.000103</td>\n",
              "    </tr>\n",
              "    <tr>\n",
              "      <th>21</th>\n",
              "      <td>descubierto</td>\n",
              "      <td>0.000014</td>\n",
              "    </tr>\n",
              "    <tr>\n",
              "      <th>0</th>\n",
              "      <td>estadocivil_divorced</td>\n",
              "      <td>0.000000</td>\n",
              "    </tr>\n",
              "  </tbody>\n",
              "</table>\n",
              "</div>"
            ],
            "text/plain": [
              "                   variable  importancia\n",
              "26                 duracion     0.439651\n",
              "4      canalcontacto_others     0.112068\n",
              "28         contactoanterior     0.081802\n",
              "29         contactosprevios     0.072259\n",
              "23                 hipoteca     0.059385\n",
              "3    canalcontacto_cellular     0.054511\n",
              "18                     edad     0.039810\n",
              "22               saldoanual     0.020781\n",
              "14                  mes_may     0.019660\n",
              "13                  mes_mar     0.016347\n",
              "16                  mes_oct     0.016182\n",
              "27        contactosactuales     0.008827\n",
              "17                  mes_sep     0.008345\n",
              "6                   mes_apr     0.007119\n",
              "24                 prestamo     0.005986\n",
              "12                  mes_jun     0.005567\n",
              "25                      dia     0.004966\n",
              "5   canalcontacto_telephone     0.004476\n",
              "11                  mes_jul     0.004381\n",
              "2        estadocivil_single     0.004004\n",
              "19                ocupacion     0.003441\n",
              "1       estadocivil_married     0.002894\n",
              "20                 estudios     0.002309\n",
              "7                   mes_aug     0.002280\n",
              "15                  mes_nov     0.001949\n",
              "10                  mes_jan     0.000582\n",
              "9                   mes_feb     0.000299\n",
              "8                   mes_dec     0.000103\n",
              "21              descubierto     0.000014\n",
              "0      estadocivil_divorced     0.000000"
            ]
          },
          "metadata": {},
          "execution_count": 137
        }
      ]
    },
    {
      "cell_type": "markdown",
      "metadata": {
        "id": "fcXOnevW6fI2"
      },
      "source": [
        "# **Conclusiones**: <font color=\"#0A66C2\"><h10>**Detalles** <font> "
      ]
    },
    {
      "cell_type": "markdown",
      "metadata": {
        "id": "9JwkU_r17FGH"
      },
      "source": [
        "El modelo de Randon Forest Classifier implementado con scikit - learn, nos marca como la variable duración tiene una gran importancia en el éxito de la campaña.\n",
        "\n",
        "<font color=\"#0A66C2\"><h10>**Destacamos a nivel de negocio las siguientes** <font>:\n",
        "- **No logramos mejorar la Exhaustividad .** \n",
        "\n",
        "\n",
        "- **Relevancia de la variable duración del contacto.** \n",
        "Formar al equipo de ventas en aspectos que tengan que ver con los tiempos y ritmos de contacto, así como el impacto del mismo en la contratación.\n",
        "\n",
        "- **Mejorar la calidad de los datos.** \n",
        "La categoría que hemos definido como \"otros\" (ni móvil ni teléfono) es la segunda variable con mayor relavancia en la predicción de la contratación. Se hace necesario trabajar una clara segmentación de los y las clientas en función de los canales de relación y, sobre todo, de contratación de productos\n",
        "\n",
        "\n"
      ]
    }
  ]
}